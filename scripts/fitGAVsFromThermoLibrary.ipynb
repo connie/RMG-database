{
 "cells": [
  {
   "cell_type": "code",
   "execution_count": 1,
   "metadata": {
    "collapsed": false
   },
   "outputs": [],
   "source": [
    "import os\n",
    "from rmgpy.data.thermo import ThermoLibrary\n",
    "from rmgpy.data.rmg import RMGDatabase\n",
    "from rmgpy import settings\n",
    "from rmgpy.species import Species\n",
    "from rmgpy.molecule import Molecule"
   ]
  },
  {
   "cell_type": "code",
   "execution_count": 10,
   "metadata": {
    "collapsed": true
   },
   "outputs": [],
   "source": [
    "def addThermoData(thermoData1, thermoData2):\n",
    "    \"\"\"\n",
    "    Add the thermodynamic data `thermoData2` to the data `thermoData1`,\n",
    "    and return `thermoData1`.\n",
    "    \"\"\"\n",
    "    if len(thermoData1.Tdata.value_si) != len(thermoData2.Tdata.value_si) or any([T1 != T2 for T1, T2 in zip(thermoData1.Tdata.value_si, thermoData2.Tdata.value_si)]):\n",
    "        raise Exception('Cannot add these ThermoData objects due to their having different temperature points.')\n",
    "\n",
    "    for i in range(thermoData1.Tdata.value_si.shape[0]):\n",
    "        thermoData1.Cpdata.value_si[i] += thermoData2.Cpdata.value_si[i]\n",
    "    thermoData1.H298.value_si += thermoData2.H298.value_si\n",
    "    thermoData1.S298.value_si += thermoData2.S298.value_si\n",
    "\n",
    "    #if thermoData1.comment:\n",
    "    #    thermoData1.comment += ' + {0}'.format(thermoData2.comment)\n",
    "    #else:\n",
    "    #    thermoData1.comment = 'Thermo group additivity estimation: ' + thermoData2.comment\n",
    "\n",
    "    return thermoData1\n",
    "\n",
    "def removeThermoData(thermoData1, thermoData2):\n",
    "    \"\"\"\n",
    "    Remove the thermodynamic data `thermoData2` from the data `thermoData1`,\n",
    "    and return `thermoData1`.\n",
    "    \"\"\"\n",
    "    if len(thermoData1.Tdata.value_si) != len(thermoData2.Tdata.value_si) or any([T1 != T2 for T1, T2 in zip(thermoData1.Tdata.value_si, thermoData2.Tdata.value_si)]):\n",
    "        raise Exception('Cannot add these ThermoData objects due to their having different temperature points.')\n",
    "\n",
    "    for i in range(thermoData1.Tdata.value_si.shape[0]):\n",
    "        thermoData1.Cpdata.value_si[i] -= thermoData2.Cpdata.value_si[i]\n",
    "    thermoData1.H298.value_si -= thermoData2.H298.value_si\n",
    "    thermoData1.S298.value_si -= thermoData2.S298.value_si\n",
    "\n",
    "    #if thermoData1.comment:\n",
    "    #    thermoData1.comment += ' + {0}'.format(thermoData2.comment)\n",
    "    #else:\n",
    "    #    thermoData1.comment = 'Thermo group additivity estimation: ' + thermoData2.comment\n",
    "\n",
    "    return thermoData1"
   ]
  },
  {
   "cell_type": "code",
   "execution_count": 3,
   "metadata": {
    "collapsed": true
   },
   "outputs": [],
   "source": [
    "libraryName = 'C10H11'\n",
    "database = RMGDatabase()\n",
    "database.load(settings['database.directory'], thermoLibraries = [libraryName], kineticsFamilies='none', kineticsDepositories='none', reactionLibraries=[])\n",
    "\n",
    "thermoDatabase = database.thermo\n",
    "thermoLibrary = database.thermo.libraries[libraryName]"
   ]
  },
  {
   "cell_type": "code",
   "execution_count": 4,
   "metadata": {
    "collapsed": false
   },
   "outputs": [],
   "source": [
    "for label, entry in thermoLibrary.entries.iteritems():\n",
    "    molecule = entry.item\n",
    "    thermoData = entry.data\n",
    "    #print molecule\n",
    "    #print thermoData"
   ]
  },
  {
   "cell_type": "code",
   "execution_count": 5,
   "metadata": {
    "collapsed": true
   },
   "outputs": [],
   "source": [
    "m = Molecule().fromInChI('InChI=1S/C9H8/c1-2-5-9-7-3-6-8(9)4-1/h1-6H,7H2')\n",
    "s = Species(molecule=[m])\n",
    "s.generateResonanceIsomers()"
   ]
  },
  {
   "cell_type": "code",
   "execution_count": 6,
   "metadata": {
    "collapsed": false
   },
   "outputs": [
    {
     "name": "stdout",
     "output_type": "stream",
     "text": [
      "ThermoData(Tdata=([300,400,500,600,800,1000,1500],'K'), Cpdata=([119.118,159.661,197.401,230.287,278.403,306.813,353.171],'J/(mol*K)'), H298=(157.235,'kJ/mol'), S298=(334.971,'J/(mol*K)'), Cp0=(33.2579,'J/(mol*K)'), CpInf=(407.409,'J/(mol*K)'), comment=\"\"\"Thermo group additivity estimation: group(Cb-Cs) + other(R) + group(Cb-(Cds-Cds)) + other(R) + group(Cs-(Cds-Cds)CbHH) + other(R) + group(Cds-CdsCsH) + other(R) + group(Cds-CdsCbH) + other(R) + group(Cb-H) + other(R) + group(Cb-H) + other(R) + group(Cb-H) + other(R) + group(Cb-H) + other(R) + polycyclic(indene)\"\"\")\n"
     ]
    }
   ],
   "source": [
    "estimatedThermo = thermoDatabase.getThermoDataFromGroups(s)\n",
    "print estimatedThermo"
   ]
  },
  {
   "cell_type": "code",
   "execution_count": 7,
   "metadata": {
    "collapsed": false
   },
   "outputs": [
    {
     "name": "stdout",
     "output_type": "stream",
     "text": [
      "ThermoData(Tdata=([300,400,500,600,800,1000,1500],'K'), Cpdata=([-3.88,-4.29,-3.89,-2.96,-1.83,-2.2,-1.31],'cal/(mol*K)'), H298=(2.1,'kcal/mol'), S298=(33.08,'cal/(mol*K)'), comment=\"\"\"polycyclic(indene)\"\"\")\n"
     ]
    }
   ],
   "source": [
    "polycyclicGroup = thermoDatabase.groups['polycyclic'].entries['indene']\n",
    "print polycyclicGroup.data\n"
   ]
  },
  {
   "cell_type": "code",
   "execution_count": 13,
   "metadata": {
    "collapsed": false
   },
   "outputs": [
    {
     "name": "stdout",
     "output_type": "stream",
     "text": [
      "ThermoData(Tdata=([300,400,500,600,800,1000,1500],'K'), Cpdata=([151.586,195.56,229.953,255.057,293.717,325.222,364.134],'J/(mol*K)'), H298=(139.662,'kJ/mol'), S298=(58.1576,'J/(mol*K)'), Cp0=(33.2579,'J/(mol*K)'), CpInf=(407.409,'J/(mol*K)'), comment=\"\"\"Thermo group additivity estimation: group(Cb-Cs) + other(R) + group(Cb-(Cds-Cds)) + other(R) + group(Cs-(Cds-Cds)CbHH) + other(R) + group(Cds-CdsCsH) + other(R) + group(Cds-CdsCbH) + other(R) + group(Cb-H) + other(R) + group(Cb-H) + other(R) + group(Cb-H) + other(R) + group(Cb-H) + other(R) + polycyclic(indene)\"\"\")\n"
     ]
    }
   ],
   "source": [
    "withoutPolycyclicGroupThermo = removeThermoData(estimatedThermo, polycyclicGroup.data)\n",
    "print withoutPolycyclicGroupThermo"
   ]
  },
  {
   "cell_type": "code",
   "execution_count": 16,
   "metadata": {
    "collapsed": false
   },
   "outputs": [],
   "source": [
    "libraryThermoData = thermoLibrary.entries['INDENE'].data"
   ]
  },
  {
   "cell_type": "code",
   "execution_count": 17,
   "metadata": {
    "collapsed": true
   },
   "outputs": [],
   "source": [
    "newPolycyclicGroupThermo = removeThermoData(libraryThermoData, withoutPolycyclicGroupThermo)"
   ]
  },
  {
   "cell_type": "code",
   "execution_count": 20,
   "metadata": {
    "collapsed": false
   },
   "outputs": [
    {
     "name": "stdout",
     "output_type": "stream",
     "text": [
      "ThermoData(\n",
      "    Tdata = ([300, 400, 500, 600, 800, 1000, 1500], 'K'),\n",
      "    Cpdata = ([-6.95, -6.96, -6.31, -5.18, -4.03, -4.43, -3.35], 'cal/(mol*K)'),\n",
      "    H298 = (7.11, 'kcal/mol'),\n",
      "    S298 = (65.92, 'cal/(mol*K)'),\n",
      ")\n",
      "ThermoData(\n",
      "    Tdata = ([300, 400, 500, 600, 800, 1000, 1500], 'K'),\n",
      "    Cpdata = ([-3.88, -4.29, -3.89, -2.96, -1.83, -2.2, -1.31], 'cal/(mol*K)'),\n",
      "    H298 = (2.1, 'kcal/mol'),\n",
      "    S298 = (33.08, 'cal/(mol*K)'),\n",
      "    comment = 'polycyclic(indene)',\n",
      ")\n"
     ]
    }
   ],
   "source": [
    "from rmgpy.cantherm.output import prettify\n",
    "print prettify(repr(newPolycyclicGroupThermo))\n",
    "print prettify(repr(polycyclicGroup.data))"
   ]
  },
  {
   "cell_type": "code",
   "execution_count": 22,
   "metadata": {
    "collapsed": false
   },
   "outputs": [
    {
     "name": "stdout",
     "output_type": "stream",
     "text": [
      "<Entry index=11 label=\"indene\">\n"
     ]
    }
   ],
   "source": [
    "print repr(polycyclicGroup)"
   ]
  },
  {
   "cell_type": "code",
   "execution_count": null,
   "metadata": {
    "collapsed": true
   },
   "outputs": [],
   "source": [
    "# At this point, overwrite just the thermo data of the original entry for the thermoGroup, also indicate \n",
    "# how it was fitted in the description\n",
    "polycyclicGroup.data = newPolycyclicGroupThermo\n",
    "polycyclicGroup.shortDesc = \"Fitted from thermo library values\"\n",
    "polycyclicGroup.longDesc = \"Fitted from {0} species from {1} library.\".format('blah','blahablakjs')\n",
    "\n",
    "# Then save the entry to disk by appending or rewriting the thermo polycyclic.py file."
   ]
  }
 ],
 "metadata": {
  "kernelspec": {
   "display_name": "Python 2",
   "language": "python",
   "name": "python2"
  },
  "language_info": {
   "codemirror_mode": {
    "name": "ipython",
    "version": 2
   },
   "file_extension": ".py",
   "mimetype": "text/x-python",
   "name": "python",
   "nbconvert_exporter": "python",
   "pygments_lexer": "ipython2",
   "version": "2.7.11"
  }
 },
 "nbformat": 4,
 "nbformat_minor": 0
}
