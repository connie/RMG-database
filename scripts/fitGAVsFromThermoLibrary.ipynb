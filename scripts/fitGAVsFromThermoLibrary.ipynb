{
 "cells": [
  {
   "cell_type": "code",
   "execution_count": 1,
   "metadata": {
    "collapsed": false
   },
   "outputs": [],
   "source": [
    "import os\n",
    "import re\n",
    "import copy\n",
    "import numpy\n",
    "from IPython.display import Image, display\n",
    "from rmgpy.data.thermo import ThermoLibrary\n",
    "from rmgpy.data.base import Entry\n",
    "from rmgpy.data.rmg import RMGDatabase\n",
    "from rmgpy import settings\n",
    "from rmgpy.species import Species\n",
    "from rmgpy.molecule import Molecule\n",
    "from rmgpy.cantherm.output import prettify"
   ]
  },
  {
   "cell_type": "code",
   "execution_count": 2,
   "metadata": {
    "collapsed": false
   },
   "outputs": [],
   "source": [
    "def addThermoData(thermoData1, thermoData2):\n",
    "    \"\"\"\n",
    "    Add the thermodynamic data `thermoData2` to the data `thermoData1`,\n",
    "    and return `thermoData1`.\n",
    "    \"\"\"\n",
    "    if len(thermoData1.Tdata.value_si) != len(thermoData2.Tdata.value_si) or any([T1 != T2 for T1, T2 in zip(thermoData1.Tdata.value_si, thermoData2.Tdata.value_si)]):\n",
    "        raise Exception('Cannot add these ThermoData objects due to their having different temperature points.')\n",
    "\n",
    "    for i in range(thermoData1.Tdata.value_si.shape[0]):\n",
    "        thermoData1.Cpdata.value_si[i] += thermoData2.Cpdata.value_si[i]\n",
    "    thermoData1.H298.value_si += thermoData2.H298.value_si\n",
    "    thermoData1.S298.value_si += thermoData2.S298.value_si\n",
    "\n",
    "    #if thermoData1.comment:\n",
    "    #    thermoData1.comment += ' + {0}'.format(thermoData2.comment)\n",
    "    #else:\n",
    "    #    thermoData1.comment = 'Thermo group additivity estimation: ' + thermoData2.comment\n",
    "\n",
    "    return thermoData1\n",
    "\n",
    "def removeThermoData(thermoData1, thermoData2):\n",
    "    \"\"\"\n",
    "    Remove the thermodynamic data `thermoData2` from the data `thermoData1`,\n",
    "    and return `thermoData1`.\n",
    "    \"\"\"\n",
    "    if len(thermoData1.Tdata.value_si) != len(thermoData2.Tdata.value_si) or any([T1 != T2 for T1, T2 in zip(thermoData1.Tdata.value_si, thermoData2.Tdata.value_si)]):\n",
    "        raise Exception('Cannot add these ThermoData objects due to their having different temperature points.')\n",
    "\n",
    "    for i in range(thermoData1.Tdata.value_si.shape[0]):\n",
    "        thermoData1.Cpdata.value_si[i] -= thermoData2.Cpdata.value_si[i]\n",
    "    thermoData1.H298.value_si -= thermoData2.H298.value_si\n",
    "    thermoData1.S298.value_si -= thermoData2.S298.value_si\n",
    "\n",
    "    #if thermoData1.comment:\n",
    "    #    thermoData1.comment += ' + {0}'.format(thermoData2.comment)\n",
    "    #else:\n",
    "    #    thermoData1.comment = 'Thermo group additivity estimation: ' + thermoData2.comment\n",
    "\n",
    "    return thermoData1\n",
    "\n",
    "def averageThermoData(thermoDataset=[]):\n",
    "    \"\"\"\n",
    "    Average a list of thermoData values together.\n",
    "    Sets uncertainty values to be the approximately the 95% confidence interval, equivalent to\n",
    "    2 standard deviations calculated using the sample standard variance:\n",
    "    \n",
    "    Uncertainty = 2s\n",
    "    s = sqrt( sum(abs(x - x.mean())^2) / N - 1) where N is the number of values averaged\n",
    "    \n",
    "    Note that uncertainties are only computed when number of values is greater than 1.\n",
    "    \"\"\"\n",
    "    \n",
    "    numValues = len(thermoDataset)\n",
    "        \n",
    "    if numValues == 0:\n",
    "        raise Exception('No thermo data values were inputted to be averaged.')\n",
    "    else:\n",
    "        print 'Averaging thermo data over {0} value(s).'.format(numValues)\n",
    "        \n",
    "        if numValues == 1:\n",
    "            return copy.deepcopy(thermoDataset[0])\n",
    "        \n",
    "        else:\n",
    "            averagedThermoData = copy.deepcopy(thermoDataset[0])\n",
    "            for thermoData in thermoDataset[1:]:\n",
    "                averagedThermoData = addThermoData(averagedThermoData, thermoData)\n",
    "\n",
    "\n",
    "            for i in range(averagedThermoData.Tdata.value_si.shape[0]):\n",
    "                averagedThermoData.Cpdata.value_si[i] /= numValues\n",
    "                #print averagedThermoData.Cpdata.uncertainty\n",
    "                cpData = [thermoData.Cpdata.value_si[i] for thermoData in thermoDataset]\n",
    "                averagedThermoData.Cpdata.uncertainty[i] = 2*numpy.std(cpData, ddof=1)\n",
    "\n",
    "            HData = [thermoData.H298.value_si for themoData in thermoDataset]\n",
    "            averagedThermoData.H298.value_si /= numValues\n",
    "            #print averagedThermoData.H298.getUncertainty()\n",
    "            #print averagedThermoData.H298.uncertainty\n",
    "            #print averagedThermoData.H298.uncertainty_si\n",
    "            averagedThermoData.H298.uncertainty_si = 2*numpy.std(HData, ddof=1)\n",
    "\n",
    "            SData = [thermoData.S298.value_si for themoData in thermoDataset]\n",
    "            averagedThermoData.S298.value_si /= numValues\n",
    "            averagedThermoData.S298.uncertainty_si = 2*numpy.std(SData, ddof=1)\n",
    "            return averagedThermoData\n",
    "        \n",
    "def extractPolycyclicGroups(molecule):\n",
    "    \"\"\"\n",
    "    Extract polycyclic functional groups from a real molecule\n",
    "    \"\"\"\n",
    "    struct = molecule.copy(deep=True)\n",
    "    \n",
    "    # Saturate the structure if it is a radical\n",
    "    if struct.isRadical():\n",
    "        struct.saturate()\n",
    "    struct.deleteHydrogens()\n",
    "    \n",
    "    polyRings = struct.getPolycyclicRings()\n",
    "    groups = [convertCycleToGroup(ring) for ring in polyRings]\n",
    "    \n",
    "    return groups\n",
    "                \n",
    "def convertCycleToGroup(cycle):\n",
    "    \"\"\"\n",
    "    This function converts a list of atoms in a cycle to a functional Group object\n",
    "    \"\"\"\n",
    "    from rmgpy.molecule.group import GroupAtom, GroupBond, Group\n",
    "    \n",
    "    # Create GroupAtom object for each atom in the cycle, label the first one in the cycle with a *\n",
    "    groupAtoms = {}\n",
    "    bonds = []\n",
    "    for atom in cycle:\n",
    "        groupAtoms[atom] = GroupAtom(atomType=[atom.atomType],\n",
    "                                     radicalElectrons=[0],\n",
    "                                     label='*' if cycle.index(atom)==0 else '')\n",
    "                \n",
    "    group = Group(atoms=groupAtoms.values())            \n",
    "    \n",
    "    # Create GroupBond for each bond between atoms in the cycle, but not outside of the cycle\n",
    "    for atom in cycle:\n",
    "        for bondedAtom, bond in atom.edges.iteritems():\n",
    "            if bondedAtom in cycle:\n",
    "                # create a group bond with the same bond order as in the original molecule,\n",
    "                # if it hasn't already been created\n",
    "                if not group.hasBond(groupAtoms[atom],groupAtoms[bondedAtom]):\n",
    "                    group.addBond(GroupBond(groupAtoms[atom],groupAtoms[bondedAtom],order=[bond.order]))\n",
    "            else:\n",
    "                pass\n",
    "        \n",
    "    group.update()\n",
    "    \n",
    "    return group"
   ]
  },
  {
   "cell_type": "code",
   "execution_count": 3,
   "metadata": {
    "collapsed": false
   },
   "outputs": [
    {
     "name": "stdout",
     "output_type": "stream",
     "text": [
      "1 * Cs u0 {6,S} {7,S}\n",
      "2   Cs u0 {4,S} {7,S}\n",
      "3   Cs u0 {5,S} {6,S}\n",
      "4   Cs u0 {2,S} {6,S}\n",
      "5   Cs u0 {3,S} {7,S}\n",
      "6   Cs u0 {1,S} {3,S} {4,S}\n",
      "7   Cs u0 {1,S} {2,S} {5,S}\n",
      "\n"
     ]
    }
   ],
   "source": [
    "m = Molecule(SMILES='C1CC2CCC1C2')\n",
    "groups = extractPolycyclicGroups(m)\n",
    "print groups[0].toAdjacencyList()\n"
   ]
  },
  {
   "cell_type": "code",
   "execution_count": 4,
   "metadata": {
    "collapsed": false
   },
   "outputs": [],
   "source": [
    "# Fill in the list of thermo libraries to be used for fitting polycyclic thermo groups\n",
    "thermoLibraries = ['C10H11']\n",
    "database = RMGDatabase()\n",
    "database.load(settings['database.directory'], thermoLibraries = thermoLibraries, kineticsFamilies='none', kineticsDepositories='none', reactionLibraries=[])\n",
    "\n",
    "thermoDatabase = database.thermo"
   ]
  },
  {
   "cell_type": "code",
   "execution_count": 5,
   "metadata": {
    "collapsed": true
   },
   "outputs": [],
   "source": [
    "fittingDictionary={}\n",
    "for libraryName in thermoLibraries:\n",
    "    thermoLibrary = database.thermo.libraries[libraryName]"
   ]
  },
  {
   "cell_type": "code",
   "execution_count": 6,
   "metadata": {
    "collapsed": false
   },
   "outputs": [
    {
     "name": "stdout",
     "output_type": "stream",
     "text": [
      "Species pdt7 has a single polycyclic group match in thermo estimate.\n"
     ]
    },
    {
     "data": {
      "image/png": "[encoded data removed]",
      "text/plain": [
       "Molecule(SMILES=\"[CH]1C=CC2C1C1CC=CC21\")"
      ]
     },
     "metadata": {},
     "output_type": "display_data"
    },
    {
     "name": "stdout",
     "output_type": "stream",
     "text": [
      "Polycyclic group was found to be generic \"PolycyclicRing\", creating new entry for pdt7.\n",
      "=====================\n",
      "Species pdt8 has a single polycyclic group match in thermo estimate.\n"
     ]
    },
    {
     "data": {
      "image/png": "[encoded data removed]",
      "text/plain": [
       "Molecule(SMILES=\"[CH]1C=CC=CC2CC=CC12\")"
      ]
     },
     "metadata": {},
     "output_type": "display_data"
    },
    {
     "name": "stdout",
     "output_type": "stream",
     "text": [
      "Polycyclic group was found to be generic \"PolycyclicRing\", creating new entry for pdt8.\n",
      "=====================\n",
      "Species pdt10bis has a single polycyclic group match in thermo estimate.\n"
     ]
    },
    {
     "data": {
      "image/png": "[encoded data removed]",
      "text/plain": [
       "Molecule(SMILES=\"[CH]1C=CCC2C=CC=CC12\")"
      ]
     },
     "metadata": {},
     "output_type": "display_data"
    },
    {
     "name": "stdout",
     "output_type": "stream",
     "text": [
      "Polycyclic group was found to be generic \"PolycyclicRing\", creating new entry for pdt10bis.\n",
      "=====================\n",
      "Species pdt11 has a single polycyclic group match in thermo estimate.\n"
     ]
    },
    {
     "data": {
      "image/png": "[encoded data removed]",
      "text/plain": [
       "Molecule(SMILES=\"C1=CCC2C=CC=CC2=C1\")"
      ]
     },
     "metadata": {},
     "output_type": "display_data"
    },
    {
     "name": "stdout",
     "output_type": "stream",
     "text": [
      "Polycyclic group was found to be generic \"PolycyclicRing\", creating new entry for pdt11.\n",
      "=====================\n",
      "Species pdt17 has a single polycyclic group match in thermo estimate.\n"
     ]
    },
    {
     "data": {
      "image/png": "[encoded data removed]",
      "text/plain": [
       "Molecule(SMILES=\"[CH]1C=CCC12C=CC=CC2\")"
      ]
     },
     "metadata": {},
     "output_type": "display_data"
    },
    {
     "name": "stdout",
     "output_type": "stream",
     "text": [
      "Polycyclic group was found to be generic \"PolycyclicRing\", creating new entry for pdt17.\n",
      "=====================\n",
      "Species pdt19 has a single polycyclic group match in thermo estimate.\n"
     ]
    },
    {
     "data": {
      "image/png": "[encoded data removed]",
      "text/plain": [
       "Molecule(SMILES=\"[CH]1C=CCC2=CC=CCC12\")"
      ]
     },
     "metadata": {},
     "output_type": "display_data"
    },
    {
     "name": "stdout",
     "output_type": "stream",
     "text": [
      "Polycyclic group was found to be generic \"PolycyclicRing\", creating new entry for pdt19.\n",
      "=====================\n",
      "Species pdt21 has a single polycyclic group match in thermo estimate.\n"
     ]
    },
    {
     "data": {
      "image/png": "[encoded data removed]",
      "text/plain": [
       "Molecule(SMILES=\"CC1C=CC=C2C=C[CH]C21\")"
      ]
     },
     "metadata": {},
     "output_type": "display_data"
    },
    {
     "name": "stdout",
     "output_type": "stream",
     "text": [
      "Polycyclic group was found to be generic \"PolycyclicRing\", creating new entry for pdt21.\n",
      "=====================\n",
      "Species pdt22 has a single polycyclic group match in thermo estimate.\n"
     ]
    },
    {
     "data": {
      "image/png": "[encoded data removed]",
      "text/plain": [
       "Molecule(SMILES=\"C1C=CC2C=CC=C2C=1\")"
      ]
     },
     "metadata": {},
     "output_type": "display_data"
    },
    {
     "name": "stdout",
     "output_type": "stream",
     "text": [
      "Polycyclic group was found to be generic \"PolycyclicRing\", creating new entry for pdt22.\n",
      "=====================\n",
      "Species pdt23 has a single polycyclic group match in thermo estimate.\n"
     ]
    },
    {
     "data": {
      "image/png": "[encoded data removed]",
      "text/plain": [
       "Molecule(SMILES=\"[CH]1C=CC2C=CC=CCC12\")"
      ]
     },
     "metadata": {},
     "output_type": "display_data"
    },
    {
     "name": "stdout",
     "output_type": "stream",
     "text": [
      "Polycyclic group was found to be generic \"PolycyclicRing\", creating new entry for pdt23.\n",
      "=====================\n",
      "Species pdt24 has a single polycyclic group match in thermo estimate.\n"
     ]
    },
    {
     "data": {
      "image/png": "[encoded data removed]",
      "text/plain": [
       "Molecule(SMILES=\"[CH]1C=CCC23CC=CC2C13\")"
      ]
     },
     "metadata": {},
     "output_type": "display_data"
    },
    {
     "name": "stdout",
     "output_type": "stream",
     "text": [
      "Polycyclic group was found to be generic \"PolycyclicRing\", creating new entry for pdt24.\n",
      "=====================\n",
      "Species pdt26 has a single polycyclic group match in thermo estimate.\n"
     ]
    },
    {
     "data": {
      "image/png": "[encoded data removed]",
      "text/plain": [
       "Molecule(SMILES=\"C1=CCC2=CC=CCC2=C1\")"
      ]
     },
     "metadata": {},
     "output_type": "display_data"
    },
    {
     "name": "stdout",
     "output_type": "stream",
     "text": [
      "Polycyclic group was found to be generic \"PolycyclicRing\", creating new entry for pdt26.\n",
      "=====================\n",
      "Species pdt27 has a single polycyclic group match in thermo estimate.\n"
     ]
    },
    {
     "data": {
      "image/png": "[encoded data removed]",
      "text/plain": [
       "Molecule(SMILES=\"CC1C=CC=C2C=CC[C]21\")"
      ]
     },
     "metadata": {},
     "output_type": "display_data"
    },
    {
     "name": "stdout",
     "output_type": "stream",
     "text": [
      "Matched polycyclic group \"pdt21\"\n",
      "=====================\n",
      "Species pdt28 has a single polycyclic group match in thermo estimate.\n"
     ]
    },
    {
     "data": {
      "image/png": "[encoded data removed]",
      "text/plain": [
       "Molecule(SMILES=\"C1C=CC2C=CC[C]2CC=1\")"
      ]
     },
     "metadata": {},
     "output_type": "display_data"
    },
    {
     "name": "stdout",
     "output_type": "stream",
     "text": [
      "Matched polycyclic group \"pdt23\"\n",
      "=====================\n",
      "Species pdt29 has a single polycyclic group match in thermo estimate.\n"
     ]
    },
    {
     "data": {
      "image/png": "[encoded data removed]",
      "text/plain": [
       "Molecule(SMILES=\"[CH]1C=CC=C2C=CCC2C1\")"
      ]
     },
     "metadata": {},
     "output_type": "display_data"
    },
    {
     "name": "stdout",
     "output_type": "stream",
     "text": [
      "Polycyclic group was found to be generic \"PolycyclicRing\", creating new entry for pdt29.\n",
      "=====================\n",
      "Species pdt30 has a single polycyclic group match in thermo estimate.\n"
     ]
    },
    {
     "data": {
      "image/png": "[encoded data removed]",
      "text/plain": [
       "Molecule(SMILES=\"C1C=CC2=CC=CC2CC=1\")"
      ]
     },
     "metadata": {},
     "output_type": "display_data"
    },
    {
     "name": "stdout",
     "output_type": "stream",
     "text": [
      "Polycyclic group was found to be generic \"PolycyclicRing\", creating new entry for pdt30.\n",
      "=====================\n",
      "Species pdt31 has a single polycyclic group match in thermo estimate.\n"
     ]
    },
    {
     "data": {
      "image/png": "[encoded data removed]",
      "text/plain": [
       "Molecule(SMILES=\"C1=CC=C2C=CCC2C=C1\")"
      ]
     },
     "metadata": {},
     "output_type": "display_data"
    },
    {
     "name": "stdout",
     "output_type": "stream",
     "text": [
      "Polycyclic group was found to be generic \"PolycyclicRing\", creating new entry for pdt31.\n",
      "=====================\n",
      "Species pdt32 has a single polycyclic group match in thermo estimate.\n"
     ]
    },
    {
     "data": {
      "image/png": "[encoded data removed]",
      "text/plain": [
       "Molecule(SMILES=\"CC1C=CC2=CC=C[CH]C21\")"
      ]
     },
     "metadata": {},
     "output_type": "display_data"
    },
    {
     "name": "stdout",
     "output_type": "stream",
     "text": [
      "Matched polycyclic group \"pdt21\"\n",
      "=====================\n",
      "Species pdt35 has a single polycyclic group match in thermo estimate.\n"
     ]
    },
    {
     "data": {
      "image/png": "[encoded data removed]",
      "text/plain": [
       "Molecule(SMILES=\"C1C=CC2C=CCC=2CC=1\")"
      ]
     },
     "metadata": {},
     "output_type": "display_data"
    },
    {
     "name": "stdout",
     "output_type": "stream",
     "text": [
      "Polycyclic group was found to be generic \"PolycyclicRing\", creating new entry for pdt35.\n",
      "=====================\n",
      "Species pdt37 has a single polycyclic group match in thermo estimate.\n"
     ]
    },
    {
     "data": {
      "image/png": "[encoded data removed]",
      "text/plain": [
       "Molecule(SMILES=\"[CH]1C=CC=C2CC=CCC12\")"
      ]
     },
     "metadata": {},
     "output_type": "display_data"
    },
    {
     "name": "stdout",
     "output_type": "stream",
     "text": [
      "Matched polycyclic group \"pdt19\"\n",
      "=====================\n",
      "Species pdt38 has a single polycyclic group match in thermo estimate.\n"
     ]
    },
    {
     "data": {
      "image/png": "[encoded data removed]",
      "text/plain": [
       "Molecule(SMILES=\"C1=CC=C2CC=CCC2=C1\")"
      ]
     },
     "metadata": {},
     "output_type": "display_data"
    },
    {
     "name": "stdout",
     "output_type": "stream",
     "text": [
      "Polycyclic group was found to be generic \"PolycyclicRing\", creating new entry for pdt38.\n",
      "=====================\n",
      "Species INDENE has a single polycyclic group match in thermo estimate.\n"
     ]
    },
    {
     "data": {
      "image/png": "[encoded data removed]",
      "text/plain": [
       "Molecule(SMILES=\"C1=CC=C2CC=CC2=C1\")"
      ]
     },
     "metadata": {},
     "output_type": "display_data"
    },
    {
     "name": "stdout",
     "output_type": "stream",
     "text": [
      "Polycyclic group was found to be generic \"PolycyclicRing\", creating new entry for INDENE.\n",
      "=====================\n",
      "Species pdt57 has a single polycyclic group match in thermo estimate.\n"
     ]
    },
    {
     "data": {
      "image/png": "[encoded data removed]",
      "text/plain": [
       "Molecule(SMILES=\"C=CC=CC1C2[CH]C=CC21\")"
      ]
     },
     "metadata": {},
     "output_type": "display_data"
    },
    {
     "name": "stdout",
     "output_type": "stream",
     "text": [
      "Polycyclic group was found to be generic \"PolycyclicRing\", creating new entry for pdt57.\n",
      "=====================\n",
      "Species 2HINDENE has a single polycyclic group match in thermo estimate.\n"
     ]
    },
    {
     "data": {
      "image/png": "[encoded data removed]",
      "text/plain": [
       "Molecule(SMILES=\"C1C=CC2=CCC=C2C=1\")"
      ]
     },
     "metadata": {},
     "output_type": "display_data"
    },
    {
     "name": "stdout",
     "output_type": "stream",
     "text": [
      "Polycyclic group was found to be generic \"PolycyclicRing\", creating new entry for 2HINDENE.\n",
      "=====================\n"
     ]
    }
   ],
   "source": [
    "for label, entry in thermoLibrary.entries.iteritems():\n",
    "    molecule = entry.item\n",
    "    libraryThermoData = entry.data\n",
    "    if molecule.getAllPolycyclicVertices():\n",
    "        species = Species(molecule=[molecule])\n",
    "        #species.generateResonanceIsomers() \n",
    "        estimatedThermo = thermoDatabase.getThermoDataFromGroups(species)\n",
    "        \n",
    "        tokens = estimatedThermo.comment.split()\n",
    "        polycyclicGroups = []\n",
    "        for token in tokens:\n",
    "            if 'polycyclic' in token:\n",
    "                splitTokens = re.split(\"\\(|\\)\",token)\n",
    "                assert len(splitTokens) == 3\n",
    "                groupLabel = splitTokens[1]\n",
    "                polycyclicGroups.append(thermoDatabase.groups['polycyclic'].entries[groupLabel])\n",
    "\n",
    "        if len(polycyclicGroups) == 0:\n",
    "            raise Exception('Species {0} detected as polycyclic but estimated thermo contained no polycyclic groups: \\\n",
    "                    you need to create a new polycyclic group'.format(label))\n",
    "            \n",
    "        elif len(polycyclicGroups) == 1:\n",
    "            polycyclicGroup = polycyclicGroups[0]\n",
    "            print 'Species {0} has a single polycyclic group match in thermo estimate.'.format(label)\n",
    "            # Draw the molecule in ipython notebook\n",
    "            display(molecule)\n",
    "            \n",
    "            withoutPolycyclicGroupThermo = removeThermoData(copy.deepcopy(estimatedThermo), polycyclicGroup.data)\n",
    "            newPolycyclicGroupThermo = removeThermoData(copy.deepcopy(libraryThermoData), withoutPolycyclicGroupThermo)\n",
    "            \n",
    "            \n",
    "            # Check to make sure that the polycyclic group is not generic\n",
    "            # If it is, create a new polycyclicGroup as the child\n",
    "            if polycyclicGroup.label == 'PolycyclicRing':\n",
    "                print 'Polycyclic group was found to be generic \"PolycyclicRing\", creating new entry for {0}.'.format(label)\n",
    "                groups = extractPolycyclicGroups(molecule)\n",
    "                assert len(groups) == 1\n",
    "                # Create a new entry in the polycyclic groups with the same name as the thermo library entry\n",
    "                thermoDatabase.groups['polycyclic'].entries[label] = Entry(index = len(thermoDatabase.groups['polycyclic'].entries)+1,\n",
    "                                                                          label = label,\n",
    "                                                                           item = groups[0],\n",
    "                                                                           data = polycyclicGroup.data, # Use dummy thermo here so other estimates can find this group\n",
    "                                                                           parent = polycyclicGroup,\n",
    "                                                                          )\n",
    "                \n",
    "                # Set the new entry as the polycyclicGroup and make it a child of the generic group\n",
    "                polycyclicGroup = thermoDatabase.groups['polycyclic'].entries[label] \n",
    "                thermoDatabase.groups['polycyclic'].entries['PolycyclicRing'].children.append(polycyclicGroup)\n",
    "\n",
    "            else:\n",
    "                print 'Matched polycyclic group \"{0}\"'.format(polycyclicGroup.label)\n",
    "            \n",
    "            \n",
    "            \n",
    "            \n",
    "            \n",
    "            # Add the new group value to the fitting dictionary\n",
    "            if polycyclicGroup not in fittingDictionary:\n",
    "                # Add a tuple containing fitted group data, the original library entry, and thermo library\n",
    "                fittingDictionary[polycyclicGroup]=[(newPolycyclicGroupThermo, entry, thermoLibrary)]\n",
    "            else:\n",
    "                fittingDictionary[polycyclicGroup].append((newPolycyclicGroupThermo, entry, thermoLibrary))\n",
    "                \n",
    "        elif len(polycyclicGroups) > 1:\n",
    "            print 'Species {0} has matched multiple polycyclic groups. \\\n",
    "                    This cannot be fitted with a single molecule\\'s thermo data.'.format(label)\n",
    "            raise Exception\n",
    "        print '====================='"
   ]
  },
  {
   "cell_type": "code",
   "execution_count": 7,
   "metadata": {
    "collapsed": false
   },
   "outputs": [
    {
     "name": "stdout",
     "output_type": "stream",
     "text": [
      "Original thermo data for polycyclic group: pdt10bis\n",
      "ThermoData(\n",
      "    Tdata = ([300, 400, 500, 600, 800, 1000, 1500], 'K'),\n",
      "    Cpdata = ([0, 0, 0, 0, 0, 0, 0], 'cal/(mol*K)'),\n",
      "    H298 = (0, 'kcal/mol'),\n",
      "    S298 = (0, 'cal/(mol*K)'),\n",
      "    comment = 'polycyclic(PolycyclicRing)',\n",
      ")\n",
      "Averaging thermo data over 1 value(s).\n",
      "Fitted thermo data for polycyclic group: pdt10bis\n",
      "ThermoData(\n",
      "    Tdata = ([300, 400, 500, 600, 800, 1000, 1500], 'K'),\n",
      "    Cpdata = ([-6.41, -6.54, -6.28, -5.42, -4.51, -3.58, -2.22], 'cal/(mol*K)'),\n",
      "    H298 = (7.943, 'kcal/mol'),\n",
      "    S298 = (52.87, 'cal/(mol*K)'),\n",
      ")\n",
      "Fitted from species pdt10bis from C10H11 library.\n",
      "====================================================================\n",
      "Original thermo data for polycyclic group: pdt26\n",
      "ThermoData(\n",
      "    Tdata = ([300, 400, 500, 600, 800, 1000, 1500], 'K'),\n",
      "    Cpdata = ([0, 0, 0, 0, 0, 0, 0], 'cal/(mol*K)'),\n",
      "    H298 = (0, 'kcal/mol'),\n",
      "    S298 = (0, 'cal/(mol*K)'),\n",
      "    comment = 'polycyclic(PolycyclicRing)',\n",
      ")\n",
      "Averaging thermo data over 1 value(s).\n",
      "Fitted thermo data for polycyclic group: pdt26\n",
      "ThermoData(\n",
      "    Tdata = ([300, 400, 500, 600, 800, 1000, 1500], 'K'),\n",
      "    Cpdata = ([-9.51, -10.83, -10.38, -9.04, -6.78, -5.2, -2.72], 'cal/(mol*K)'),\n",
      "    H298 = (10.33, 'kcal/mol'),\n",
      "    S298 = (53.47, 'cal/(mol*K)'),\n",
      ")\n",
      "Fitted from species pdt26 from C10H11 library.\n",
      "====================================================================\n",
      "Original thermo data for polycyclic group: 2HINDENE\n",
      "ThermoData(\n",
      "    Tdata = ([300, 400, 500, 600, 800, 1000, 1500], 'K'),\n",
      "    Cpdata = ([0, 0, 0, 0, 0, 0, 0], 'cal/(mol*K)'),\n",
      "    H298 = (0, 'kcal/mol'),\n",
      "    S298 = (0, 'cal/(mol*K)'),\n",
      "    comment = 'polycyclic(PolycyclicRing)',\n",
      ")\n",
      "Averaging thermo data over 1 value(s).\n",
      "Fitted thermo data for polycyclic group: 2HINDENE\n",
      "ThermoData(\n",
      "    Tdata = ([300, 400, 500, 600, 800, 1000, 1500], 'K'),\n",
      "    Cpdata = ([-4.49, -4.75, -4.62, -4.45, -4.55, -4.28, -4.48], 'cal/(mol*K)'),\n",
      "    H298 = (-0.61, 'kcal/mol'),\n",
      "    S298 = (58.88, 'cal/(mol*K)'),\n",
      ")\n",
      "Fitted from species 2HINDENE from C10H11 library.\n",
      "====================================================================\n",
      "Original thermo data for polycyclic group: pdt23\n",
      "ThermoData(\n",
      "    Tdata = ([300, 400, 500, 600, 800, 1000, 1500], 'K'),\n",
      "    Cpdata = ([0, 0, 0, 0, 0, 0, 0], 'cal/(mol*K)'),\n",
      "    H298 = (0, 'kcal/mol'),\n",
      "    S298 = (0, 'cal/(mol*K)'),\n",
      "    comment = 'polycyclic(PolycyclicRing)',\n",
      ")\n",
      "Averaging thermo data over 2 value(s).\n",
      "Fitted thermo data for polycyclic group: pdt23\n",
      "ThermoData(\n",
      "    Tdata = ([300, 400, 500, 600, 800, 1000, 1500], 'K'),\n",
      "    Cpdata = ([-8.065, -6.825, -5.66, -4.64, -3.35, -2.48, -1.285], 'cal/(mol*K)', '+|-', [3.49107, 3.13605, 7.33717, 9.46731, 11.2424, 11.2424, 9.88151]),\n",
      "    H298 = (16.143, 'kcal/mol'),\n",
      "    S298 = (52.45, 'cal/(mol*K)'),\n",
      ")\n",
      "Fitted from species pdt23 from C10H11 library.\n",
      "Fitted from species pdt28 from C10H11 library.\n",
      "====================================================================\n",
      "Original thermo data for polycyclic group: pdt31\n",
      "ThermoData(\n",
      "    Tdata = ([300, 400, 500, 600, 800, 1000, 1500], 'K'),\n",
      "    Cpdata = ([0, 0, 0, 0, 0, 0, 0], 'cal/(mol*K)'),\n",
      "    H298 = (0, 'kcal/mol'),\n",
      "    S298 = (0, 'cal/(mol*K)'),\n",
      "    comment = 'polycyclic(PolycyclicRing)',\n",
      ")\n",
      "Averaging thermo data over 1 value(s).\n",
      "Fitted thermo data for polycyclic group: pdt31\n",
      "ThermoData(\n",
      "    Tdata = ([300, 400, 500, 600, 800, 1000, 1500], 'K'),\n",
      "    Cpdata = ([-10.94, -11.19, -10.38, -8.99, -6.63, -5, -2.79], 'cal/(mol*K)'),\n",
      "    H298 = (11.73, 'kcal/mol'),\n",
      "    S298 = (57.98, 'cal/(mol*K)'),\n",
      ")\n",
      "Fitted from species pdt31 from C10H11 library.\n",
      "====================================================================\n",
      "Original thermo data for polycyclic group: pdt19\n",
      "ThermoData(\n",
      "    Tdata = ([300, 400, 500, 600, 800, 1000, 1500], 'K'),\n",
      "    Cpdata = ([0, 0, 0, 0, 0, 0, 0], 'cal/(mol*K)'),\n",
      "    H298 = (0, 'kcal/mol'),\n",
      "    S298 = (0, 'cal/(mol*K)'),\n",
      "    comment = 'polycyclic(PolycyclicRing)',\n",
      ")\n",
      "Averaging thermo data over 2 value(s).\n",
      "Fitted thermo data for polycyclic group: pdt19\n",
      "ThermoData(\n",
      "    Tdata = ([300, 400, 500, 600, 800, 1000, 1500], 'K'),\n",
      "    Cpdata = ([-6.98, -7.21, -6.77, -5.84, -4.695, -3.755, -2.135], 'cal/(mol*K)', '+|-', [2.95853, 2.36683, 1.77512, 1.4201, 0.88756, 0.650878, 0.295853]),\n",
      "    H298 = (2.333, 'kcal/mol'),\n",
      "    S298 = (51.955, 'cal/(mol*K)'),\n",
      ")\n",
      "Fitted from species pdt19 from C10H11 library.\n",
      "Fitted from species pdt37 from C10H11 library.\n",
      "====================================================================\n",
      "Original thermo data for polycyclic group: INDENE\n",
      "ThermoData(\n",
      "    Tdata = ([300, 400, 500, 600, 800, 1000, 1500], 'K'),\n",
      "    Cpdata = ([0, 0, 0, 0, 0, 0, 0], 'cal/(mol*K)'),\n",
      "    H298 = (0, 'kcal/mol'),\n",
      "    S298 = (0, 'cal/(mol*K)'),\n",
      "    comment = 'polycyclic(PolycyclicRing)',\n",
      ")\n",
      "Averaging thermo data over 1 value(s).\n",
      "Fitted thermo data for polycyclic group: INDENE\n",
      "ThermoData(\n",
      "    Tdata = ([300, 400, 500, 600, 800, 1000, 1500], 'K'),\n",
      "    Cpdata = ([-8.18, -9.06, -8.74, -7.88, -6.6, -5.53, -4.33], 'cal/(mol*K)'),\n",
      "    H298 = (-18.19, 'kcal/mol'),\n",
      "    S298 = (60.02, 'cal/(mol*K)'),\n",
      ")\n",
      "Fitted from species INDENE from C10H11 library.\n",
      "====================================================================\n",
      "Original thermo data for polycyclic group: pdt21\n",
      "ThermoData(\n",
      "    Tdata = ([300, 400, 500, 600, 800, 1000, 1500], 'K'),\n",
      "    Cpdata = ([0, 0, 0, 0, 0, 0, 0], 'cal/(mol*K)'),\n",
      "    H298 = (0, 'kcal/mol'),\n",
      "    S298 = (0, 'cal/(mol*K)'),\n",
      "    comment = 'polycyclic(PolycyclicRing)',\n",
      ")\n",
      "Averaging thermo data over 3 value(s).\n",
      "Fitted thermo data for polycyclic group: pdt21\n",
      "ThermoData(\n",
      "    Tdata = ([300, 400, 500, 600, 800, 1000, 1500], 'K'),\n",
      "    Cpdata = ([-7.07, -7.77333, -7.70333, -6.73333, -5.47333, -4.32333, -2.97333], 'cal/(mol*K)', '+|-', [3.26137, 4.03866, 3.95722, 3.57416, 2.7068, 2.08753, 1.35534]),\n",
      "    H298 = (2.643, 'kcal/mol'),\n",
      "    S298 = (60.4632, 'cal/(mol*K)'),\n",
      ")\n",
      "Fitted from species pdt21 from C10H11 library.\n",
      "Fitted from species pdt27 from C10H11 library.\n",
      "Fitted from species pdt32 from C10H11 library.\n",
      "====================================================================\n",
      "Original thermo data for polycyclic group: pdt22\n",
      "ThermoData(\n",
      "    Tdata = ([300, 400, 500, 600, 800, 1000, 1500], 'K'),\n",
      "    Cpdata = ([0, 0, 0, 0, 0, 0, 0], 'cal/(mol*K)'),\n",
      "    H298 = (0, 'kcal/mol'),\n",
      "    S298 = (0, 'cal/(mol*K)'),\n",
      "    comment = 'polycyclic(PolycyclicRing)',\n",
      ")\n",
      "Averaging thermo data over 1 value(s).\n",
      "Fitted thermo data for polycyclic group: pdt22\n",
      "ThermoData(\n",
      "    Tdata = ([300, 400, 500, 600, 800, 1000, 1500], 'K'),\n",
      "    Cpdata = ([-9.63, -9.81, -9.04, -7.82, -5.95, -4.71, -3.23], 'cal/(mol*K)'),\n",
      "    H298 = (14.05, 'kcal/mol'),\n",
      "    S298 = (60.39, 'cal/(mol*K)'),\n",
      ")\n",
      "Fitted from species pdt22 from C10H11 library.\n",
      "====================================================================\n",
      "Original thermo data for polycyclic group: pdt29\n",
      "ThermoData(\n",
      "    Tdata = ([300, 400, 500, 600, 800, 1000, 1500], 'K'),\n",
      "    Cpdata = ([0, 0, 0, 0, 0, 0, 0], 'cal/(mol*K)'),\n",
      "    H298 = (0, 'kcal/mol'),\n",
      "    S298 = (0, 'cal/(mol*K)'),\n",
      "    comment = 'polycyclic(PolycyclicRing)',\n",
      ")\n",
      "Averaging thermo data over 1 value(s).\n",
      "Fitted thermo data for polycyclic group: pdt29\n",
      "ThermoData(\n",
      "    Tdata = ([300, 400, 500, 600, 800, 1000, 1500], 'K'),\n",
      "    Cpdata = ([-8.56, -9.04, -8.6, -7.5, -5.91, -4.62, -2.75], 'cal/(mol*K)'),\n",
      "    H298 = (0.693, 'kcal/mol'),\n",
      "    S298 = (56.96, 'cal/(mol*K)'),\n",
      ")\n",
      "Fitted from species pdt29 from C10H11 library.\n",
      "====================================================================\n",
      "Original thermo data for polycyclic group: pdt35\n",
      "ThermoData(\n",
      "    Tdata = ([300, 400, 500, 600, 800, 1000, 1500], 'K'),\n",
      "    Cpdata = ([0, 0, 0, 0, 0, 0, 0], 'cal/(mol*K)'),\n",
      "    H298 = (0, 'kcal/mol'),\n",
      "    S298 = (0, 'cal/(mol*K)'),\n",
      "    comment = 'polycyclic(PolycyclicRing)',\n",
      ")\n",
      "Averaging thermo data over 1 value(s).\n",
      "Fitted thermo data for polycyclic group: pdt35\n",
      "ThermoData(\n",
      "    Tdata = ([300, 400, 500, 600, 800, 1000, 1500], 'K'),\n",
      "    Cpdata = ([-6.52, -7.11, -6.7, -5.92, -4.93, -4.1, -2.95], 'cal/(mol*K)'),\n",
      "    H298 = (8.12, 'kcal/mol'),\n",
      "    S298 = (54.6, 'cal/(mol*K)'),\n",
      ")\n",
      "Fitted from species pdt35 from C10H11 library.\n",
      "====================================================================\n",
      "Original thermo data for polycyclic group: pdt57\n",
      "ThermoData(\n",
      "    Tdata = ([300, 400, 500, 600, 800, 1000, 1500], 'K'),\n",
      "    Cpdata = ([0, 0, 0, 0, 0, 0, 0], 'cal/(mol*K)'),\n",
      "    H298 = (0, 'kcal/mol'),\n",
      "    S298 = (0, 'cal/(mol*K)'),\n",
      "    comment = 'polycyclic(PolycyclicRing)',\n",
      ")\n",
      "Averaging thermo data over 1 value(s).\n",
      "Fitted thermo data for polycyclic group: pdt57\n",
      "ThermoData(\n",
      "    Tdata = ([300, 400, 500, 600, 800, 1000, 1500], 'K'),\n",
      "    Cpdata = ([-3.92, -4.38, -4.56, -4.12, -3.89, -3.32, -2.47], 'cal/(mol*K)'),\n",
      "    H298 = (34.373, 'kcal/mol'),\n",
      "    S298 = (61.17, 'cal/(mol*K)'),\n",
      ")\n",
      "Fitted from species pdt57 from C10H11 library.\n",
      "====================================================================\n",
      "Original thermo data for polycyclic group: pdt17\n",
      "ThermoData(\n",
      "    Tdata = ([300, 400, 500, 600, 800, 1000, 1500], 'K'),\n",
      "    Cpdata = ([0, 0, 0, 0, 0, 0, 0], 'cal/(mol*K)'),\n",
      "    H298 = (0, 'kcal/mol'),\n",
      "    S298 = (0, 'cal/(mol*K)'),\n",
      "    comment = 'polycyclic(PolycyclicRing)',\n",
      ")\n",
      "Averaging thermo data over 1 value(s).\n",
      "Fitted thermo data for polycyclic group: pdt17\n",
      "ThermoData(\n",
      "    Tdata = ([300, 400, 500, 600, 800, 1000, 1500], 'K'),\n",
      "    Cpdata = ([-6.34, -6.73, -6.55, -6.13, -5.34, -4.43, -2.23], 'cal/(mol*K)'),\n",
      "    H298 = (14.573, 'kcal/mol'),\n",
      "    S298 = (57.37, 'cal/(mol*K)'),\n",
      ")\n",
      "Fitted from species pdt17 from C10H11 library.\n",
      "====================================================================\n",
      "Original thermo data for polycyclic group: pdt8\n",
      "ThermoData(\n",
      "    Tdata = ([300, 400, 500, 600, 800, 1000, 1500], 'K'),\n",
      "    Cpdata = ([0, 0, 0, 0, 0, 0, 0], 'cal/(mol*K)'),\n",
      "    H298 = (0, 'kcal/mol'),\n",
      "    S298 = (0, 'cal/(mol*K)'),\n",
      "    comment = 'polycyclic(PolycyclicRing)',\n",
      ")\n",
      "Averaging thermo data over 1 value(s).\n",
      "Fitted thermo data for polycyclic group: pdt8\n",
      "ThermoData(\n",
      "    Tdata = ([300, 400, 500, 600, 800, 1000, 1500], 'K'),\n",
      "    Cpdata = ([-6.8, -6.9, -6.6, -5.7, -4.75, -3.78, -2.35], 'cal/(mol*K)'),\n",
      "    H298 = (9.843, 'kcal/mol'),\n",
      "    S298 = (54.13, 'cal/(mol*K)'),\n",
      ")\n",
      "Fitted from species pdt8 from C10H11 library.\n",
      "====================================================================\n",
      "Original thermo data for polycyclic group: pdt11\n",
      "ThermoData(\n",
      "    Tdata = ([300, 400, 500, 600, 800, 1000, 1500], 'K'),\n",
      "    Cpdata = ([0, 0, 0, 0, 0, 0, 0], 'cal/(mol*K)'),\n",
      "    H298 = (0, 'kcal/mol'),\n",
      "    S298 = (0, 'cal/(mol*K)'),\n",
      "    comment = 'polycyclic(PolycyclicRing)',\n",
      ")\n",
      "Averaging thermo data over 1 value(s).\n",
      "Fitted thermo data for polycyclic group: pdt11\n",
      "ThermoData(\n",
      "    Tdata = ([300, 400, 500, 600, 800, 1000, 1500], 'K'),\n",
      "    Cpdata = ([-11, -11.28, -10.49, -9.09, -6.7, -5.03, -2.79], 'cal/(mol*K)'),\n",
      "    H298 = (9.09, 'kcal/mol'),\n",
      "    S298 = (57.26, 'cal/(mol*K)'),\n",
      ")\n",
      "Fitted from species pdt11 from C10H11 library.\n",
      "====================================================================\n",
      "Original thermo data for polycyclic group: pdt24\n",
      "ThermoData(\n",
      "    Tdata = ([300, 400, 500, 600, 800, 1000, 1500], 'K'),\n",
      "    Cpdata = ([0, 0, 0, 0, 0, 0, 0], 'cal/(mol*K)'),\n",
      "    H298 = (0, 'kcal/mol'),\n",
      "    S298 = (0, 'cal/(mol*K)'),\n",
      "    comment = 'polycyclic(PolycyclicRing)',\n",
      ")\n",
      "Averaging thermo data over 1 value(s).\n",
      "Fitted thermo data for polycyclic group: pdt24\n",
      "ThermoData(\n",
      "    Tdata = ([300, 400, 500, 600, 800, 1000, 1500], 'K'),\n",
      "    Cpdata = ([-7.63, -8.02, -8.12, -7.83, -7.46, -6.57, -4.59], 'cal/(mol*K)'),\n",
      "    H298 = (31.943, 'kcal/mol'),\n",
      "    S298 = (90.35, 'cal/(mol*K)'),\n",
      ")\n",
      "Fitted from species pdt24 from C10H11 library.\n",
      "====================================================================\n",
      "Original thermo data for polycyclic group: pdt38\n",
      "ThermoData(\n",
      "    Tdata = ([300, 400, 500, 600, 800, 1000, 1500], 'K'),\n",
      "    Cpdata = ([0, 0, 0, 0, 0, 0, 0], 'cal/(mol*K)'),\n",
      "    H298 = (0, 'kcal/mol'),\n",
      "    S298 = (0, 'cal/(mol*K)'),\n",
      "    comment = 'polycyclic(PolycyclicRing)',\n",
      ")\n",
      "Averaging thermo data over 1 value(s).\n",
      "Fitted thermo data for polycyclic group: pdt38\n",
      "ThermoData(\n",
      "    Tdata = ([300, 400, 500, 600, 800, 1000, 1500], 'K'),\n",
      "    Cpdata = ([-10.4, -11.67, -11.09, -9.63, -7.17, -5.47, -2.85], 'cal/(mol*K)'),\n",
      "    H298 = (-17.82, 'kcal/mol'),\n",
      "    S298 = (53.93, 'cal/(mol*K)'),\n",
      ")\n",
      "Fitted from species pdt38 from C10H11 library.\n",
      "====================================================================\n",
      "Original thermo data for polycyclic group: pdt30\n",
      "ThermoData(\n",
      "    Tdata = ([300, 400, 500, 600, 800, 1000, 1500], 'K'),\n",
      "    Cpdata = ([0, 0, 0, 0, 0, 0, 0], 'cal/(mol*K)'),\n",
      "    H298 = (0, 'kcal/mol'),\n",
      "    S298 = (0, 'cal/(mol*K)'),\n",
      "    comment = 'polycyclic(PolycyclicRing)',\n",
      ")\n",
      "Averaging thermo data over 1 value(s).\n",
      "Fitted thermo data for polycyclic group: pdt30\n",
      "ThermoData(\n",
      "    Tdata = ([300, 400, 500, 600, 800, 1000, 1500], 'K'),\n",
      "    Cpdata = ([-10.84, -11.12, -10.33, -8.95, -6.62, -4.99, -2.8], 'cal/(mol*K)'),\n",
      "    H298 = (14.29, 'kcal/mol'),\n",
      "    S298 = (58.23, 'cal/(mol*K)'),\n",
      ")\n",
      "Fitted from species pdt30 from C10H11 library.\n",
      "====================================================================\n",
      "Original thermo data for polycyclic group: pdt7\n",
      "ThermoData(\n",
      "    Tdata = ([300, 400, 500, 600, 800, 1000, 1500], 'K'),\n",
      "    Cpdata = ([0, 0, 0, 0, 0, 0, 0], 'cal/(mol*K)'),\n",
      "    H298 = (0, 'kcal/mol'),\n",
      "    S298 = (0, 'cal/(mol*K)'),\n",
      "    comment = 'polycyclic(PolycyclicRing)',\n",
      ")\n",
      "Averaging thermo data over 1 value(s).\n",
      "Fitted thermo data for polycyclic group: pdt7\n",
      "ThermoData(\n",
      "    Tdata = ([300, 400, 500, 600, 800, 1000, 1500], 'K'),\n",
      "    Cpdata = ([-7.96, -7.63, -7.28, -6.59, -6.22, -5.52, -4.52], 'cal/(mol*K)'),\n",
      "    H298 = (37.503, 'kcal/mol'),\n",
      "    S298 = (88.92, 'cal/(mol*K)'),\n",
      ")\n",
      "Fitted from species pdt7 from C10H11 library.\n",
      "====================================================================\n"
     ]
    }
   ],
   "source": [
    "for polycyclicGroup, fittingGroups in fittingDictionary.iteritems():\n",
    "    print 'Original thermo data for polycyclic group: {0}'.format(polycyclicGroup.label)\n",
    "    if polycyclicGroup.data:\n",
    "        print prettify(repr(polycyclicGroup.data))\n",
    "    else:\n",
    "        print 'No data found. Was created as a new group.'\n",
    "    \n",
    "    thermoDataset = [fitTuple[0] for fitTuple in fittingGroups]\n",
    "    labels = [fitTuple[1].label for fitTuple in fittingGroups]\n",
    "    libraryLabels = [fitTuple[2].name for fitTuple in fittingGroups]\n",
    "    # Average the new group values to fit the original polycyclic group\n",
    "    fittedGroupData = averageThermoData([fitTuple[0] for fitTuple in fittingGroups])\n",
    "    #print fittedGroupData\n",
    "    #print fittingGroups\n",
    "    polycyclicGroup.data = fittedGroupData\n",
    "    polycyclicGroup.shortDesc = \"Fitted from thermo library values\"\n",
    "    \n",
    "    comment = ''\n",
    "    for i in range(len(labels)):\n",
    "        comment += \"Fitted from species {0} from {1} library.\\n\".format(labels[i],libraryLabels[i])\n",
    "    polycyclicGroup.longDesc = comment.strip()\n",
    "    \n",
    "    print 'Fitted thermo data for polycyclic group: {0}'.format(polycyclicGroup.label)\n",
    "    print prettify(repr(polycyclicGroup.data))\n",
    "    print polycyclicGroup.longDesc\n",
    "    print '===================================================================='\n",
    "    # At this point, save and overwrite the entire polycyclic thermo library\n",
    "\n",
    "thermoDatabase.groups['polycyclic'].save('new_polycyclic.py')"
   ]
  },
  {
   "cell_type": "code",
   "execution_count": 8,
   "metadata": {
    "collapsed": true
   },
   "outputs": [],
   "source": [
    "def compareThermoData(thermoData1, thermoData2):\n",
    "    delH = thermoData1.H298.value_si - thermoData2.H298.value_si\n",
    "    print 'Difference in H298 = {0} kcal/mol'.format(delH/4184)\n",
    "    delS = thermoData1.S298.value_si - thermoData2.S298.value_si\n",
    "    print 'Difference S298 = {0} cal/mol*K'.format(delS/4.184)\n",
    "    Tdata = [300,500,1000,2000]\n",
    "    for T in Tdata:\n",
    "        delCp = thermoData1.getHeatCapacity(T) - thermoData2.getHeatCapacity(T)\n",
    "        print 'Difference in Cp at {0} = {1} cal/mol*K'.format(T, delCp/4.184)"
   ]
  },
  {
   "cell_type": "code",
   "execution_count": 11,
   "metadata": {
    "collapsed": false
   },
   "outputs": [
    {
     "name": "stdout",
     "output_type": "stream",
     "text": [
      "Library thermo data for species pdt7 matches the estimate from group additivity.\n",
      "=======================\n",
      "Library thermo data for species pdt8 matches the estimate from group additivity.\n",
      "=======================\n",
      "Library thermo data for species pdt10bis matches the estimate from group additivity.\n",
      "=======================\n",
      "Library thermo data for species pdt11 matches the estimate from group additivity.\n",
      "=======================\n",
      "Library thermo data for species pdt17 matches the estimate from group additivity.\n",
      "=======================\n",
      "Library thermo data for species pdt19 does not match the estimate from group additivity\n",
      "Library thermo data:\n",
      "ThermoData(\n",
      "    Tdata = ([300, 400, 500, 600, 800, 1000, 1500], 'K'),\n",
      "    Cpdata = ([36.33, 48.88, 59.6, 68.33, 81.28, 90.32, 103.62], 'cal/(mol*K)'),\n",
      "    H298 = (74.88, 'kcal/mol'),\n",
      "    S298 = (91.27, 'cal/(mol*K)'),\n",
      "    Cp0 = (33.2579, 'J/(mol*K)'),\n",
      "    CpInf = (507.183, 'J/(mol*K)'),\n",
      ")\n",
      "Estimated thermo data:\n",
      "ThermoData(\n",
      "    Tdata = ([300, 400, 500, 600, 800, 1000, 1500], 'K'),\n",
      "    Cpdata = ([150.959, 203.677, 248.739, 285.391, 339.762, 377.669, 433.441], 'J/(mol*K)'),\n",
      "    H298 = (291.248, 'kJ/mol'),\n",
      "    S298 = (377.501, 'J/(mol*K)'),\n",
      "    Cp0 = (33.2579, 'J/(mol*K)'),\n",
      "    CpInf = (507.183, 'J/(mol*K)'),\n",
      "    comment = 'Thermo group additivity estimation: group(Cs-(Cds-Cds)CsCsH) + other(R) + group(Cs-(Cds-Cds)CsHH) + other(R) + group(Cs-(Cds-Cds)CsHH) + other(R) + group(Cs-(Cds-Cds)(Cds-Cds)HH) + other(R) + group(Cds-CdsCsCs) + other(R) + group(Cds-CdsCsH) + other(R) + group(Cds-CdsCsH) + other(R) + group(Cds-CdsCsH) + other(R) + group(Cds-Cds(Cds-Cds)H) + other(R) + group(Cds-Cds(Cds-Cds)H) + other(R) + polycyclic(pdt19) + radical(cyclohexene-allyl)',\n",
      ")\n",
      "Difference in H298 = 5.27 kcal/mol\n",
      "Difference S298 = 1.045 cal/mol*K\n",
      "Difference in Cp at 300 = 0.25 cal/mol*K\n",
      "Difference in Cp at 500 = 0.15 cal/mol*K\n",
      "Difference in Cp at 1000 = 0.055 cal/mol*K\n",
      "Difference in Cp at 2000 = -0.00500000000001 cal/mol*K\n",
      "=======================\n",
      "Library thermo data for species pdt21 does not match the estimate from group additivity\n",
      "Library thermo data:\n",
      "ThermoData(\n",
      "    Tdata = ([300, 400, 500, 600, 800, 1000, 1500], 'K'),\n",
      "    Cpdata = ([37.02, 49.6, 60.29, 68.93, 81.68, 90.56, 103.68], 'cal/(mol*K)'),\n",
      "    H298 = (63.36, 'kcal/mol'),\n",
      "    S298 = (91.32, 'cal/(mol*K)'),\n",
      "    Cp0 = (33.2579, 'J/(mol*K)'),\n",
      "    CpInf = (503.026, 'J/(mol*K)'),\n",
      ")\n",
      "Estimated thermo data:\n",
      "ThermoData(\n",
      "    Tdata = ([300, 400, 500, 600, 800, 1000, 1500], 'K'),\n",
      "    Cpdata = ([155.31, 208.056, 252.783, 288.891, 342.195, 379.307, 433.365], 'J/(mol*K)'),\n",
      "    H298 = (256.563, 'kJ/mol'),\n",
      "    S298 = (384.008, 'J/(mol*K)'),\n",
      "    Cp0 = (33.2579, 'J/(mol*K)'),\n",
      "    CpInf = (503.026, 'J/(mol*K)'),\n",
      "    comment = 'Thermo group additivity estimation: group(Cs-(Cds-Cds)CsCsH) + other(R) + group(Cs-(Cds-Cds)CsCsH) + other(R) + group(Cs-(Cds-Cds)CsHH) + other(R) + group(Cs-CsHHH) + other(R) + group(Cds-Cds(Cds-Cds)Cs) + other(R) + group(Cds-CdsCsH) + other(R) + group(Cds-CdsCsH) + other(R) + group(Cds-Cds(Cds-Cds)H) + other(R) + group(Cds-Cds(Cds-Cds)H) + other(R) + group(Cds-Cds(Cds-Cds)H) + other(R) + polycyclic(pdt21) + radical(cyclopentene-allyl)',\n",
      ")\n",
      "Difference in H298 = 2.04 kcal/mol\n",
      "Difference S298 = -0.46 cal/mol*K\n",
      "Difference in Cp at 300 = -0.1 cal/mol*K\n",
      "Difference in Cp at 500 = -0.126666666667 cal/mol*K\n",
      "Difference in Cp at 1000 = -0.0966666666667 cal/mol*K\n",
      "Difference in Cp at 2000 = 0.303333333333 cal/mol*K\n",
      "=======================\n",
      "Library thermo data for species pdt22 matches the estimate from group additivity.\n",
      "=======================\n",
      "Library thermo data for species pdt23 does not match the estimate from group additivity\n",
      "Library thermo data:\n",
      "ThermoData(\n",
      "    Tdata = ([300, 400, 500, 600, 800, 1000, 1500], 'K'),\n",
      "    Cpdata = ([36.31, 49.05, 59.86, 68.59, 81.45, 90.4, 103.6], 'cal/(mol*K)'),\n",
      "    H298 = (83.25, 'kcal/mol'),\n",
      "    S298 = (91.39, 'cal/(mol*K)'),\n",
      "    Cp0 = (33.2579, 'J/(mol*K)'),\n",
      "    CpInf = (507.183, 'J/(mol*K)'),\n",
      ")\n",
      "Estimated thermo data:\n",
      "ThermoData(\n",
      "    Tdata = ([300, 400, 500, 600, 800, 1000, 1500], 'K'),\n",
      "    Cpdata = ([150.687, 206.334, 253.048, 290.328, 344.762, 382.208, 436.956], 'J/(mol*K)'),\n",
      "    H298 = (342, 'kJ/mol'),\n",
      "    S298 = (367.272, 'J/(mol*K)'),\n",
      "    Cp0 = (33.2579, 'J/(mol*K)'),\n",
      "    CpInf = (507.183, 'J/(mol*K)'),\n",
      "    comment = 'Thermo group additivity estimation: group(Cs-CsCsCsH) + other(R) + group(Cs-(Cds-Cds)(Cds-Cds)CsH) + other(R) + group(Cs-(Cds-Cds)CsHH) + other(R) + group(Cs-(Cds-Cds)CsHH) + other(R) + group(Cds-CdsCsH) + other(R) + group(Cds-CdsCsH) + other(R) + group(Cds-CdsCsH) + other(R) + group(Cds-CdsCsH) + other(R) + group(Cds-Cds(Cds-Cds)H) + other(R) + group(Cds-Cds(Cds-Cds)H) + other(R) + polycyclic(pdt23) + radical(cyclopentene-allyl)',\n",
      ")\n",
      "Difference in H298 = 1.51 kcal/mol\n",
      "Difference S298 = 3.61 cal/mol*K\n",
      "Difference in Cp at 300 = 0.295 cal/mol*K\n",
      "Difference in Cp at 500 = -0.62 cal/mol*K\n",
      "Difference in Cp at 1000 = -0.95 cal/mol*K\n",
      "Difference in Cp at 2000 = -0.72 cal/mol*K\n",
      "=======================\n",
      "Library thermo data for species pdt24 matches the estimate from group additivity.\n",
      "=======================\n",
      "Library thermo data for species pdt26 matches the estimate from group additivity.\n",
      "=======================\n",
      "Library thermo data for species pdt27 does not match the estimate from group additivity\n",
      "Library thermo data:\n",
      "ThermoData(\n",
      "    Tdata = ([300, 400, 500, 600, 800, 1000, 1500], 'K'),\n",
      "    Cpdata = ([37.3, 49.7, 60.28, 68.87, 81.62, 90.53, 103.69], 'cal/(mol*K)'),\n",
      "    H298 = (62.67, 'kcal/mol'),\n",
      "    S298 = (92.61, 'cal/(mol*K)'),\n",
      "    Cp0 = (33.2579, 'J/(mol*K)'),\n",
      "    CpInf = (503.026, 'J/(mol*K)'),\n",
      ")\n",
      "Estimated thermo data:\n",
      "ThermoData(\n",
      "    Tdata = ([300, 400, 500, 600, 800, 1000, 1500], 'K'),\n",
      "    Cpdata = ([154.264, 205.713, 250.022, 286.172, 339.978, 377.592, 434.62], 'J/(mol*K)'),\n",
      "    H298 = (261.165, 'kJ/mol'),\n",
      "    S298 = (384.51, 'J/(mol*K)'),\n",
      "    Cp0 = (33.2579, 'J/(mol*K)'),\n",
      "    CpInf = (503.026, 'J/(mol*K)'),\n",
      "    comment = 'Thermo group additivity estimation: group(Cs-(Cds-Cds)CsCsH) + other(R) + group(Cs-(Cds-Cds)CsCsH) + other(R) + group(Cs-(Cds-Cds)CsHH) + other(R) + group(Cs-CsHHH) + other(R) + group(Cds-Cds(Cds-Cds)Cs) + other(R) + group(Cds-CdsCsH) + other(R) + group(Cds-CdsCsH) + other(R) + group(Cds-Cds(Cds-Cds)H) + other(R) + group(Cds-Cds(Cds-Cds)H) + other(R) + group(Cds-Cds(Cds-Cds)H) + other(R) + polycyclic(pdt21) + radical(Allyl_T)',\n",
      ")\n",
      "Difference in H298 = 0.25 kcal/mol\n",
      "Difference S298 = 0.71 cal/mol*K\n",
      "Difference in Cp at 300 = 0.43 cal/mol*K\n",
      "Difference in Cp at 500 = 0.523333333333 cal/mol*K\n",
      "Difference in Cp at 1000 = 0.283333333333 cal/mol*K\n",
      "Difference in Cp at 2000 = -0.656666666667 cal/mol*K\n",
      "=======================\n",
      "Library thermo data for species pdt28 does not match the estimate from group additivity\n",
      "Library thermo data:\n",
      "ThermoData(\n",
      "    Tdata = ([300, 400, 500, 600, 800, 1000, 1500], 'K'),\n",
      "    Cpdata = ([36.48, 48.92, 59.63, 68.36, 81.35, 90.42, 103.73], 'cal/(mol*K)'),\n",
      "    H298 = (94.43, 'kcal/mol'),\n",
      "    S298 = (93.22, 'cal/(mol*K)'),\n",
      "    Cp0 = (33.2579, 'J/(mol*K)'),\n",
      "    CpInf = (507.183, 'J/(mol*K)'),\n",
      ")\n",
      "Estimated thermo data:\n",
      "ThermoData(\n",
      "    Tdata = ([300, 400, 500, 600, 800, 1000, 1500], 'K'),\n",
      "    Cpdata = ([153.867, 203.573, 246.898, 282.671, 336.394, 374.342, 430.513], 'J/(mol*K)'),\n",
      "    H298 = (401.413, 'kJ/mol'),\n",
      "    S298 = (405.137, 'J/(mol*K)'),\n",
      "    Cp0 = (33.2579, 'J/(mol*K)'),\n",
      "    CpInf = (507.183, 'J/(mol*K)'),\n",
      "    comment = 'Thermo group additivity estimation: group(Cs-CsCsCsH) + other(R) + group(Cs-(Cds-Cds)(Cds-Cds)CsH) + other(R) + group(Cs-(Cds-Cds)CsHH) + other(R) + group(Cs-(Cds-Cds)CsHH) + other(R) + group(Cds-CdsCsH) + other(R) + group(Cds-CdsCsH) + other(R) + group(Cds-CdsCsH) + other(R) + group(Cds-CdsCsH) + other(R) + group(Cds-Cds(Cds-Cds)H) + other(R) + group(Cds-Cds(Cds-Cds)H) + other(R) + polycyclic(pdt23) + radical(Tertalkyl)',\n",
      ")\n",
      "Difference in H298 = -1.51 kcal/mol\n",
      "Difference S298 = -3.61 cal/mol*K\n",
      "Difference in Cp at 300 = -0.295 cal/mol*K\n",
      "Difference in Cp at 500 = 0.62 cal/mol*K\n",
      "Difference in Cp at 1000 = 0.95 cal/mol*K\n",
      "Difference in Cp at 2000 = 0.72 cal/mol*K\n",
      "=======================\n",
      "Library thermo data for species pdt29 matches the estimate from group additivity.\n",
      "=======================\n",
      "Library thermo data for species pdt30 matches the estimate from group additivity.\n",
      "=======================\n",
      "Library thermo data for species pdt31 matches the estimate from group additivity.\n",
      "=======================\n",
      "Library thermo data for species pdt32 does not match the estimate from group additivity\n",
      "Library thermo data:\n",
      "ThermoData(\n",
      "    Tdata = ([300, 400, 500, 600, 800, 1000, 1500], 'K'),\n",
      "    Cpdata = ([36.79, 49.32, 60.02, 68.69, 81.53, 90.47, 103.66], 'cal/(mol*K)'),\n",
      "    H298 = (62.33, 'kcal/mol'),\n",
      "    S298 = (91.53, 'cal/(mol*K)'),\n",
      "    Cp0 = (33.2579, 'J/(mol*K)'),\n",
      "    CpInf = (503.026, 'J/(mol*K)'),\n",
      ")\n",
      "Estimated thermo data:\n",
      "ThermoData(\n",
      "    Tdata = ([300, 400, 500, 600, 800, 1000, 1500], 'K'),\n",
      "    Cpdata = ([155.31, 208.056, 252.783, 288.891, 342.195, 379.307, 433.365], 'J/(mol*K)'),\n",
      "    H298 = (270.37, 'kJ/mol'),\n",
      "    S298 = (384.008, 'J/(mol*K)'),\n",
      "    Cp0 = (33.2579, 'J/(mol*K)'),\n",
      "    CpInf = (503.026, 'J/(mol*K)'),\n",
      "    comment = 'Thermo group additivity estimation: group(Cs-(Cds-Cds)CsCsH) + other(R) + group(Cs-(Cds-Cds)CsCsH) + other(R) + group(Cs-(Cds-Cds)CsHH) + other(R) + group(Cs-CsHHH) + other(R) + group(Cds-Cds(Cds-Cds)Cs) + other(R) + group(Cds-CdsCsH) + other(R) + group(Cds-CdsCsH) + other(R) + group(Cds-Cds(Cds-Cds)H) + other(R) + group(Cds-Cds(Cds-Cds)H) + other(R) + group(Cds-Cds(Cds-Cds)H) + other(R) + polycyclic(pdt21) + radical(Allyl_S)',\n",
      ")\n",
      "Difference in H298 = -2.29 kcal/mol\n",
      "Difference S298 = -0.25 cal/mol*K\n",
      "Difference in Cp at 300 = -0.33 cal/mol*K\n",
      "Difference in Cp at 500 = -0.396666666667 cal/mol*K\n",
      "Difference in Cp at 1000 = -0.186666666667 cal/mol*K\n",
      "Difference in Cp at 2000 = 0.353333333333 cal/mol*K\n",
      "=======================\n",
      "Library thermo data for species pdt35 matches the estimate from group additivity.\n",
      "=======================\n",
      "Library thermo data for species pdt37 does not match the estimate from group additivity\n",
      "Library thermo data:\n",
      "ThermoData(\n",
      "    Tdata = ([300, 400, 500, 600, 800, 1000, 1500], 'K'),\n",
      "    Cpdata = ([35.83, 48.48, 59.3, 68.09, 81.13, 90.21, 103.57], 'cal/(mol*K)'),\n",
      "    H298 = (64.94, 'kcal/mol'),\n",
      "    S298 = (89.18, 'cal/(mol*K)'),\n",
      "    Cp0 = (33.2579, 'J/(mol*K)'),\n",
      "    CpInf = (507.183, 'J/(mol*K)'),\n",
      ")\n",
      "Estimated thermo data:\n",
      "ThermoData(\n",
      "    Tdata = ([300, 400, 500, 600, 800, 1000, 1500], 'K'),\n",
      "    Cpdata = ([150.959, 203.677, 248.739, 285.391, 339.762, 377.669, 433.441], 'J/(mol*K)'),\n",
      "    H298 = (293.759, 'kJ/mol'),\n",
      "    S298 = (377.501, 'J/(mol*K)'),\n",
      "    Cp0 = (33.2579, 'J/(mol*K)'),\n",
      "    CpInf = (507.183, 'J/(mol*K)'),\n",
      "    comment = 'Thermo group additivity estimation: group(Cs-(Cds-Cds)CsCsH) + other(R) + group(Cs-(Cds-Cds)CsHH) + other(R) + group(Cs-(Cds-Cds)CsHH) + other(R) + group(Cs-(Cds-Cds)(Cds-Cds)HH) + other(R) + group(Cds-CdsCsCs) + other(R) + group(Cds-CdsCsH) + other(R) + group(Cds-CdsCsH) + other(R) + group(Cds-CdsCsH) + other(R) + group(Cds-Cds(Cds-Cds)H) + other(R) + group(Cds-Cds(Cds-Cds)H) + other(R) + polycyclic(pdt19) + radical(Allyl_S)',\n",
      ")\n",
      "Difference in H298 = -5.27 kcal/mol\n",
      "Difference S298 = -1.045 cal/mol*K\n",
      "Difference in Cp at 300 = -0.25 cal/mol*K\n",
      "Difference in Cp at 500 = -0.15 cal/mol*K\n",
      "Difference in Cp at 1000 = -0.055 cal/mol*K\n",
      "Difference in Cp at 2000 = 0.00499999999998 cal/mol*K\n",
      "=======================\n",
      "Library thermo data for species pdt38 matches the estimate from group additivity.\n",
      "=======================\n",
      "Library thermo data for species INDENE matches the estimate from group additivity.\n",
      "=======================\n",
      "Library thermo data for species pdt57 matches the estimate from group additivity.\n",
      "=======================\n",
      "Library thermo data for species 2HINDENE matches the estimate from group additivity.\n",
      "=======================\n"
     ]
    }
   ],
   "source": [
    "# Test that the new group additivity values can estimate the old library ones exactly.\n",
    "\n",
    "for label, entry in thermoLibrary.entries.iteritems():\n",
    "    molecule = entry.item\n",
    "    libraryThermoData = entry.data\n",
    "    species = Species(molecule=[molecule])\n",
    "    #species.generateResonanceIsomers()\n",
    "    thermoDatabase.findCp0andCpInf(species, libraryThermoData)\n",
    "    \n",
    "    if molecule.getAllPolycyclicVertices():\n",
    "        estimatedThermo = thermoDatabase.getThermoDataFromGroups(species)\n",
    "        if libraryThermoData.isIdenticalTo(estimatedThermo):\n",
    "            print 'Library thermo data for species {0} matches the estimate from group additivity.'.format(label)\n",
    "            #print prettify(repr(estimatedThermo))\n",
    "        else:\n",
    "            print 'Library thermo data for species {0} does not match the estimate from group additivity'.format(label)\n",
    "            print 'Library thermo data:'\n",
    "            print prettify(repr(libraryThermoData))\n",
    "            print 'Estimated thermo data:'\n",
    "            print prettify(repr(estimatedThermo))\n",
    "            compareThermoData(libraryThermoData,estimatedThermo)\n",
    "        print '======================='"
   ]
  },
  {
   "cell_type": "code",
   "execution_count": 10,
   "metadata": {
    "collapsed": false
   },
   "outputs": [
    {
     "name": "stdout",
     "output_type": "stream",
     "text": [
      "[Molecule(SMILES=\"CC1C=CC2=CC=CCC21\")]\n"
     ]
    },
    {
     "data": {
      "text/plain": [
       "<Entry index=80 label=\"pdt21\">"
      ]
     },
     "execution_count": 10,
     "metadata": {},
     "output_type": "execute_result"
    }
   ],
   "source": [
    "# pdt32 debug\n",
    "m = Molecule(SMILES='CC1C=CC2=CC=CCC21')\n",
    "s = Species(molecule=[m])\n",
    "s.generateResonanceIsomers()\n",
    "print s.molecule\n",
    "thermoDatabase.groups['polycyclic'].descendTree(m,{},None)"
   ]
  },
  {
   "cell_type": "code",
   "execution_count": null,
   "metadata": {
    "collapsed": true
   },
   "outputs": [],
   "source": []
  }
 ],
 "metadata": {
  "kernelspec": {
   "display_name": "Python 2",
   "language": "python",
   "name": "python2"
  },
  "language_info": {
   "codemirror_mode": {
    "name": "ipython",
    "version": 2
   },
   "file_extension": ".py",
   "mimetype": "text/x-python",
   "name": "python",
   "nbconvert_exporter": "python",
   "pygments_lexer": "ipython2",
   "version": "2.7.11"
  }
 },
 "nbformat": 4,
 "nbformat_minor": 0
}
