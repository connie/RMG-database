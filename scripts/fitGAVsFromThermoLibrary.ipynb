{
 "cells": [
  {
   "cell_type": "code",
   "execution_count": 1,
   "metadata": {
    "collapsed": false
   },
   "outputs": [],
   "source": [
    "import os\n",
    "import re\n",
    "import copy\n",
    "import numpy\n",
    "from IPython.display import Image, display\n",
    "from rmgpy.data.thermo import ThermoLibrary\n",
    "from rmgpy.data.base import Entry\n",
    "from rmgpy.data.rmg import RMGDatabase\n",
    "from rmgpy import settings\n",
    "from rmgpy.species import Species\n",
    "from rmgpy.molecule import Molecule\n",
    "from rmgpy.cantherm.output import prettify"
   ]
  },
  {
   "cell_type": "markdown",
   "metadata": {},
   "source": [
    "## Variety of helper functions"
   ]
  },
  {
   "cell_type": "code",
   "execution_count": 2,
   "metadata": {
    "collapsed": false
   },
   "outputs": [],
   "source": [
    "def addThermoData(thermoData1, thermoData2):\n",
    "    \"\"\"\n",
    "    Add the thermodynamic data `thermoData2` to the data `thermoData1`,\n",
    "    and return `thermoData1`.\n",
    "    \"\"\"\n",
    "    if len(thermoData1.Tdata.value_si) != len(thermoData2.Tdata.value_si) or any([T1 != T2 for T1, T2 in zip(thermoData1.Tdata.value_si, thermoData2.Tdata.value_si)]):\n",
    "        raise Exception('Cannot add these ThermoData objects due to their having different temperature points.')\n",
    "\n",
    "    for i in range(thermoData1.Tdata.value_si.shape[0]):\n",
    "        thermoData1.Cpdata.value_si[i] += thermoData2.Cpdata.value_si[i]\n",
    "    thermoData1.H298.value_si += thermoData2.H298.value_si\n",
    "    thermoData1.S298.value_si += thermoData2.S298.value_si\n",
    "\n",
    "    #if thermoData1.comment:\n",
    "    #    thermoData1.comment += ' + {0}'.format(thermoData2.comment)\n",
    "    #else:\n",
    "    #    thermoData1.comment = 'Thermo group additivity estimation: ' + thermoData2.comment\n",
    "\n",
    "    return thermoData1\n",
    "\n",
    "def removeThermoData(thermoData1, thermoData2):\n",
    "    \"\"\"\n",
    "    Remove the thermodynamic data `thermoData2` from the data `thermoData1`,\n",
    "    and return `thermoData1`.\n",
    "    \"\"\"\n",
    "    if len(thermoData1.Tdata.value_si) != len(thermoData2.Tdata.value_si) or any([T1 != T2 for T1, T2 in zip(thermoData1.Tdata.value_si, thermoData2.Tdata.value_si)]):\n",
    "        raise Exception('Cannot add these ThermoData objects due to their having different temperature points.')\n",
    "\n",
    "    for i in range(thermoData1.Tdata.value_si.shape[0]):\n",
    "        thermoData1.Cpdata.value_si[i] -= thermoData2.Cpdata.value_si[i]\n",
    "    thermoData1.H298.value_si -= thermoData2.H298.value_si\n",
    "    thermoData1.S298.value_si -= thermoData2.S298.value_si\n",
    "\n",
    "    #if thermoData1.comment:\n",
    "    #    thermoData1.comment += ' + {0}'.format(thermoData2.comment)\n",
    "    #else:\n",
    "    #    thermoData1.comment = 'Thermo group additivity estimation: ' + thermoData2.comment\n",
    "\n",
    "    return thermoData1\n",
    "\n",
    "def averageThermoData(thermoDataset=[]):\n",
    "    \"\"\"\n",
    "    Average a list of thermoData values together.\n",
    "    Sets uncertainty values to be the approximately the 95% confidence interval, equivalent to\n",
    "    2 standard deviations calculated using the sample standard variance:\n",
    "    \n",
    "    Uncertainty = 2s\n",
    "    s = sqrt( sum(abs(x - x.mean())^2) / N - 1) where N is the number of values averaged\n",
    "    \n",
    "    Note that uncertainties are only computed when number of values is greater than 1.\n",
    "    \"\"\"\n",
    "    \n",
    "    numValues = len(thermoDataset)\n",
    "        \n",
    "    if numValues == 0:\n",
    "        raise Exception('No thermo data values were inputted to be averaged.')\n",
    "    else:\n",
    "        print 'Averaging thermo data over {0} value(s).'.format(numValues)\n",
    "        \n",
    "        if numValues == 1:\n",
    "            return copy.deepcopy(thermoDataset[0])\n",
    "        \n",
    "        else:\n",
    "            averagedThermoData = copy.deepcopy(thermoDataset[0])\n",
    "            for thermoData in thermoDataset[1:]:\n",
    "                averagedThermoData = addThermoData(averagedThermoData, thermoData)\n",
    "\n",
    "\n",
    "            for i in range(averagedThermoData.Tdata.value_si.shape[0]):\n",
    "                averagedThermoData.Cpdata.value_si[i] /= numValues\n",
    "                #print averagedThermoData.Cpdata.uncertainty\n",
    "                cpData = [thermoData.Cpdata.value_si[i] for thermoData in thermoDataset]\n",
    "                averagedThermoData.Cpdata.uncertainty[i] = 2*numpy.std(cpData, ddof=1)\n",
    "\n",
    "            HData = [thermoData.H298.value_si for thermoData in thermoDataset]\n",
    "            averagedThermoData.H298.value_si /= numValues\n",
    "            averagedThermoData.H298.uncertainty_si = 2*numpy.std(HData, ddof=1)\n",
    "\n",
    "            SData = [thermoData.S298.value_si for thermoData in thermoDataset]\n",
    "            averagedThermoData.S298.value_si /= numValues\n",
    "            averagedThermoData.S298.uncertainty_si = 2*numpy.std(SData, ddof=1)\n",
    "            return averagedThermoData\n",
    "        \n",
    "def extractPolycyclicGroups(molecule):\n",
    "    \"\"\"\n",
    "    Extract polycyclic functional groups from a real molecule\n",
    "    \"\"\"\n",
    "    struct = molecule.copy(deep=True)\n",
    "    # Saturate the structure if it is a radical\n",
    "    if struct.isRadical():\n",
    "        struct.saturate()\n",
    "    struct.deleteHydrogens()\n",
    "    \n",
    "    polyRings = struct.getPolycyclicRings()\n",
    "    groups = [convertCycleToGroup(ring) for ring in polyRings]\n",
    "    \n",
    "    return groups\n",
    "                \n",
    "def convertCycleToGroup(cycle):\n",
    "    \"\"\"\n",
    "    This function converts a list of atoms in a cycle to a functional Group object\n",
    "    \"\"\"\n",
    "    from rmgpy.molecule.group import GroupAtom, GroupBond, Group\n",
    "    \n",
    "    # Create GroupAtom object for each atom in the cycle, label the first one in the cycle with a *\n",
    "    groupAtoms = {}\n",
    "    bonds = []\n",
    "    for atom in cycle:\n",
    "        groupAtoms[atom] = GroupAtom(atomType=[atom.atomType],\n",
    "                                     radicalElectrons=[0],\n",
    "                                     label='*' if cycle.index(atom)==0 else '')\n",
    "                \n",
    "    group = Group(atoms=groupAtoms.values())            \n",
    "    \n",
    "    # Create GroupBond for each bond between atoms in the cycle, but not outside of the cycle\n",
    "    for atom in cycle:\n",
    "        for bondedAtom, bond in atom.edges.iteritems():\n",
    "            if bondedAtom in cycle:\n",
    "                # create a group bond with the same bond order as in the original molecule,\n",
    "                # if it hasn't already been created\n",
    "                if not group.hasBond(groupAtoms[atom],groupAtoms[bondedAtom]):\n",
    "                    group.addBond(GroupBond(groupAtoms[atom],groupAtoms[bondedAtom],order=[bond.order]))\n",
    "            else:\n",
    "                pass\n",
    "        \n",
    "    group.update()\n",
    "    \n",
    "    return group\n",
    "\n",
    "def returnPolycyclicGroupStrings(thermoComment):\n",
    "    \"\"\"\n",
    "    Takes a string of comments from group additivity estimation, and extracts the polycyclic group strings out of them\n",
    "    \"\"\"\n",
    "    tokens = thermoComment.split()\n",
    "    polycyclicGroups = []\n",
    "    for token in tokens:\n",
    "        if 'polycyclic' in token:\n",
    "            splitTokens = re.split(\"\\(|\\)\",token)\n",
    "            assert len(splitTokens) == 3\n",
    "            groupLabel = splitTokens[1]\n",
    "            polycyclicGroups.append(groupLabel)\n",
    "    return polycyclicGroups"
   ]
  },
  {
   "cell_type": "markdown",
   "metadata": {},
   "source": [
    "## Thermo comparison and display functions"
   ]
  },
  {
   "cell_type": "code",
   "execution_count": 3,
   "metadata": {
    "collapsed": true
   },
   "outputs": [],
   "source": [
    "def displayThermo(thermoData):\n",
    "    print 'H298 = {0} kcal/mol'.format(thermoData.H298.value_si/4184)\n",
    "    print 'S298 = {0} cal/mol*K'.format(thermoData.S298.value_si/4.184)\n",
    "def compareThermoData(thermoData1, thermoData2):\n",
    "    delH = thermoData1.H298.value_si - thermoData2.H298.value_si\n",
    "    print 'Difference in H298 = {0} kcal/mol'.format(delH/4184)\n",
    "    delS = thermoData1.S298.value_si - thermoData2.S298.value_si\n",
    "    print 'Difference S298 = {0} cal/mol*K'.format(delS/4.184)\n",
    "    #Tdata = [300,500,1000,2000]\n",
    "    #for T in Tdata:\n",
    "    #    delCp = thermoData1.getHeatCapacity(T) - thermoData2.getHeatCapacity(T)\n",
    "    #    print 'Difference in Cp at {0} = {1} cal/mol*K'.format(T, delCp/4.184)"
   ]
  },
  {
   "cell_type": "markdown",
   "metadata": {},
   "source": [
    "## Load all the thermo libraries"
   ]
  },
  {
   "cell_type": "code",
   "execution_count": 4,
   "metadata": {
    "collapsed": false
   },
   "outputs": [],
   "source": [
    "# Fill in the list of thermo libraries to be used for fitting polycyclic thermo groups\n",
    "thermoLibraries = ['vinylCPD_H','C3','C10H11','Fulvene_H','naphthalene_H']\n",
    "database = RMGDatabase()\n",
    "database.load(settings['database.directory'], thermoLibraries = thermoLibraries, kineticsFamilies='none', kineticsDepositories='none', reactionLibraries=[])\n",
    "\n",
    "thermoDatabase = database.thermo\n",
    "thermoDatabase0 = copy.deepcopy(database.thermo)"
   ]
  },
  {
   "cell_type": "markdown",
   "metadata": {
    "collapsed": true
   },
   "source": [
    "## Extract polycyclic groups from thermo libraries and create new ones"
   ]
  },
  {
   "cell_type": "code",
   "execution_count": 5,
   "metadata": {
    "collapsed": false
   },
   "outputs": [
    {
     "name": "stdout",
     "output_type": "stream",
     "text": [
      "product1\n",
      "Species has 1 resonance isomers\n",
      "Molecule CC1C2[CH]C=CC12 has a single polycyclic group match in thermo estimate.\n"
     ]
    },
    {
     "data": {
      "image/png": "[encoded data removed]",
      "text/plain": [
       "Molecule(SMILES=\"CC1C2[CH]C=CC12\")"
      ]
     },
     "metadata": {},
     "output_type": "display_data"
    },
    {
     "name": "stdout",
     "output_type": "stream",
     "text": [
      "Molecule SMILES: CC1C2[CH]C=CC12\n",
      "Estimated thermo data:\n",
      "ThermoData(\n",
      "    Tdata = ([300, 400, 500, 600, 800, 1000, 1500], 'K'),\n",
      "    Cpdata = ([131.085, 170.916, 204.765, 231.166, 271.416, 298.319, 338.695], 'J/(mol*K)'),\n",
      "    H298 = (113.541, 'kJ/mol'),\n",
      "    S298 = (59.9435, 'J/(mol*K)'),\n",
      "    comment = 'Thermo group additivity estimation: group(Cs-CsCsCsH) + other(R) + group(Cs-CsCsCsH) + other(R) + group(Cs-(Cds-Cds)CsCsH) + other(R) + group(Cs-(Cds-Cds)CsHH) + other(R) + group(Cs-CsHHH) + other(R) + group(Cds-CdsCsH) + other(R) + group(Cds-CdsCsH) + other(R) + polycyclic(PolycyclicRing) + radical(cyclopentene-allyl)',\n",
      ")\n",
      "H298 = 27.137 kcal/mol\n",
      "S298 = 14.3268305179 cal/mol*K\n",
      "1 * Cd u0 {2,D} {5,S}\n",
      "2   Cd u0 {1,D} {4,S}\n",
      "3   Cs u0 {4,S} {5,S} {6,S}\n",
      "4   Cs u0 {2,S} {3,S} {6,S}\n",
      "5   Cs u0 {1,S} {3,S}\n",
      "6   Cs u0 {3,S} {4,S}\n",
      "\n",
      "Polycyclic group was found to be generic \"PolycyclicRing\". Creating new entry: product1.\n",
      "=====================\n",
      "product3\n",
      "Species has 1 resonance isomers\n",
      "Molecule [CH]1C=CC2CCC12 has a single polycyclic group match in thermo estimate.\n"
     ]
    },
    {
     "data": {
      "image/png": "[encoded data removed]",
      "text/plain": [
       "Molecule(SMILES=\"[CH]1C=CC2CCC12\")"
      ]
     },
     "metadata": {},
     "output_type": "display_data"
    },
    {
     "name": "stdout",
     "output_type": "stream",
     "text": [
      "Molecule SMILES: [CH]1C=CC2CCC12\n",
      "Estimated thermo data:\n",
      "ThermoData(\n",
      "    Tdata = ([300, 400, 500, 600, 800, 1000, 1500], 'K'),\n",
      "    Cpdata = ([132.214, 171.167, 204.472, 230.58, 270.621, 297.733, 337.649], 'J/(mol*K)'),\n",
      "    H298 = (122.913, 'kJ/mol'),\n",
      "    S298 = (71.1698, 'J/(mol*K)'),\n",
      "    comment = 'Thermo group additivity estimation: group(Cs-CsCsCsH) + other(R) + group(Cs-(Cds-Cds)CsCsH) + other(R) + group(Cs-CsCsHH) + other(R) + group(Cs-CsCsHH) + other(R) + group(Cs-(Cds-Cds)CsHH) + other(R) + group(Cds-CdsCsH) + other(R) + group(Cds-CdsCsH) + other(R) + polycyclic(PolycyclicRing) + radical(cyclopentene-allyl)',\n",
      ")\n",
      "H298 = 29.377 kcal/mol\n",
      "S298 = 17.01 cal/mol*K\n",
      "1 * Cs u0 {5,S} {7,S}\n",
      "2   Cs u0 {4,S} {5,S} {7,S}\n",
      "3   Cd u0 {4,S} {6,D}\n",
      "4   Cs u0 {2,S} {3,S}\n",
      "5   Cs u0 {1,S} {2,S}\n",
      "6   Cd u0 {3,D} {7,S}\n",
      "7   Cs u0 {1,S} {2,S} {6,S}\n",
      "\n",
      "Polycyclic group was found to be generic \"PolycyclicRing\". Creating new entry: product3.\n",
      "=====================\n",
      "product6\n",
      "Species has 1 resonance isomers\n",
      "Molecule [CH]1CC2C=CC1C2 has a single polycyclic group match in thermo estimate.\n"
     ]
    },
    {
     "data": {
      "image/png": "[encoded data removed]",
      "text/plain": [
       "Molecule(SMILES=\"[CH]1CC2C=CC1C2\")"
      ]
     },
     "metadata": {},
     "output_type": "display_data"
    },
    {
     "name": "stdout",
     "output_type": "stream",
     "text": [
      "Molecule SMILES: [CH]1CC2C=CC1C2\n",
      "Estimated thermo data:\n",
      "ThermoData(\n",
      "    Tdata = ([300, 400, 500, 600, 800, 1000, 1500], 'K'),\n",
      "    Cpdata = ([97.6964, 138.482, 173.423, 203.096, 247.274, 276.445, 321.089], 'J/(mol*K)'),\n",
      "    H298 = (266.006, 'kJ/mol'),\n",
      "    S298 = (330.578, 'J/(mol*K)'),\n",
      "    comment = 'Thermo group additivity estimation: group(Cs-(Cds-Cds)CsCsH) + other(R) + group(Cs-(Cds-Cds)CsCsH) + other(R) + group(Cs-CsCsHH) + other(R) + group(Cs-CsCsHH) + other(R) + group(Cs-CsCsHH) + other(R) + group(Cds-CdsCsH) + other(R) + group(Cds-CdsCsH) + other(R) + polycyclic(norbornene) + radical(Cs_S)',\n",
      ")\n",
      "H298 = 63.577 kcal/mol\n",
      "S298 = 79.01 cal/mol*K\n",
      "Matched polycyclic group \"norbornene\"\n",
      "=====================\n",
      "product8\n",
      "Species has 1 resonance isomers\n",
      "Molecule [CH]1CC2CC=CC12 has a single polycyclic group match in thermo estimate.\n"
     ]
    },
    {
     "data": {
      "image/png": "[encoded data removed]",
      "text/plain": [
       "Molecule(SMILES=\"[CH]1CC2CC=CC12\")"
      ]
     },
     "metadata": {},
     "output_type": "display_data"
    },
    {
     "name": "stdout",
     "output_type": "stream",
     "text": [
      "Molecule SMILES: [CH]1CC2CC=CC12\n",
      "Estimated thermo data:\n",
      "ThermoData(\n",
      "    Tdata = ([300, 400, 500, 600, 800, 1000, 1500], 'K'),\n",
      "    Cpdata = ([133.219, 168.908, 200.539, 225.894, 265.475, 292.629, 332.879], 'J/(mol*K)'),\n",
      "    H298 = (184, 'kJ/mol'),\n",
      "    S298 = (105.981, 'J/(mol*K)'),\n",
      "    comment = 'Thermo group additivity estimation: group(Cs-CsCsCsH) + other(R) + group(Cs-(Cds-Cds)CsCsH) + other(R) + group(Cs-CsCsHH) + other(R) + group(Cs-CsCsHH) + other(R) + group(Cs-(Cds-Cds)CsHH) + other(R) + group(Cds-CdsCsH) + other(R) + group(Cds-CdsCsH) + other(R) + polycyclic(product3) + radical(cyclobutane)',\n",
      ")\n",
      "H298 = 43.977 kcal/mol\n",
      "S298 = 25.33 cal/mol*K\n",
      "Matched polycyclic group \"product3\"\n",
      "=====================\n",
      "product17\n",
      "Species has 1 resonance isomers\n",
      "Molecule [CH]1C2C=CC1CC2 has a single polycyclic group match in thermo estimate.\n"
     ]
    },
    {
     "data": {
      "image/png": "[encoded data removed]",
      "text/plain": [
       "Molecule(SMILES=\"[CH]1C2C=CC1CC2\")"
      ]
     },
     "metadata": {},
     "output_type": "display_data"
    },
    {
     "name": "stdout",
     "output_type": "stream",
     "text": [
      "Molecule SMILES: [CH]1C2C=CC1CC2\n",
      "Estimated thermo data:\n",
      "ThermoData(\n",
      "    Tdata = ([300, 400, 500, 600, 800, 1000, 1500], 'K'),\n",
      "    Cpdata = ([98.5332, 138.357, 173.757, 202.886, 246.312, 276.822, 321.967], 'J/(mol*K)'),\n",
      "    H298 = (258.684, 'kJ/mol'),\n",
      "    S298 = (330.871, 'J/(mol*K)'),\n",
      "    comment = 'Thermo group additivity estimation: group(Cs-(Cds-Cds)CsCsH) + other(R) + group(Cs-(Cds-Cds)CsCsH) + other(R) + group(Cs-CsCsHH) + other(R) + group(Cs-CsCsHH) + other(R) + group(Cs-CsCsHH) + other(R) + group(Cds-CdsCsH) + other(R) + group(Cds-CdsCsH) + other(R) + polycyclic(norbornene) + radical(cyclopentene-4)',\n",
      ")\n",
      "H298 = 61.827 kcal/mol\n",
      "S298 = 79.08 cal/mol*K\n",
      "Matched polycyclic group \"norbornene\"\n",
      "=====================\n",
      "product19\n",
      "Species has 2 resonance isomers\n",
      "Molecule CC12[CH]C=CC1C2 has a single polycyclic group match in thermo estimate.\n"
     ]
    },
    {
     "data": {
      "image/png": "[encoded data removed]",
      "text/plain": [
       "Molecule(SMILES=\"CC12[CH]C=CC1C2\")"
      ]
     },
     "metadata": {},
     "output_type": "display_data"
    },
    {
     "name": "stdout",
     "output_type": "stream",
     "text": [
      "Molecule SMILES: CC12[CH]C=CC1C2\n",
      "Estimated thermo data:\n",
      "ThermoData(\n",
      "    Tdata = ([300, 400, 500, 600, 800, 1000, 1500], 'K'),\n",
      "    Cpdata = ([134.39, 175.435, 210.079, 236.898, 276.521, 302.503, 338.82], 'J/(mol*K)'),\n",
      "    H298 = (110.905, 'kJ/mol'),\n",
      "    S298 = (53.5001, 'J/(mol*K)'),\n",
      "    comment = 'Thermo group additivity estimation: group(Cs-CsCsCsCs) + other(R) + group(Cs-(Cds-Cds)CsCsH) + other(R) + group(Cs-CsCsHH) + other(R) + group(Cs-(Cds-Cds)CsHH) + other(R) + group(Cs-CsHHH) + other(R) + group(Cds-CdsCsH) + other(R) + group(Cds-CdsCsH) + other(R) + polycyclic(product1) + radical(cyclopentene-allyl)',\n",
      ")\n",
      "H298 = 26.507 kcal/mol\n",
      "S298 = 12.7868305179 cal/mol*K\n",
      "Matched polycyclic group \"product1\"\n",
      "Molecule CC12C=C[CH]C1C2 has a single polycyclic group match in thermo estimate.\n"
     ]
    },
    {
     "data": {
      "image/png": "[encoded data removed]",
      "text/plain": [
       "Molecule(SMILES=\"CC12C=C[CH]C1C2\")"
      ]
     },
     "metadata": {},
     "output_type": "display_data"
    },
    {
     "name": "stdout",
     "output_type": "stream",
     "text": [
      "Molecule SMILES: CC12C=C[CH]C1C2\n",
      "Estimated thermo data:\n",
      "ThermoData(\n",
      "    Tdata = ([300, 400, 500, 600, 800, 1000, 1500], 'K'),\n",
      "    Cpdata = ([134.39, 175.435, 209.66, 236.898, 276.521, 302.754, 338.82], 'J/(mol*K)'),\n",
      "    H298 = (114.085, 'kJ/mol'),\n",
      "    S298 = (53.5001, 'J/(mol*K)'),\n",
      "    comment = 'Thermo group additivity estimation: group(Cs-(Cds-Cds)CsCsCs) + other(R) + group(Cs-CsCsCsH) + other(R) + group(Cs-CsCsHH) + other(R) + group(Cs-(Cds-Cds)CsHH) + other(R) + group(Cs-CsHHH) + other(R) + group(Cds-CdsCsH) + other(R) + group(Cds-CdsCsH) + other(R) + polycyclic(product1) + radical(cyclopentene-allyl)',\n",
      ")\n",
      "H298 = 27.267 kcal/mol\n",
      "S298 = 12.7868305179 cal/mol*K\n",
      "Matched polycyclic group \"product1\"\n",
      "=====================\n",
      "product23\n",
      "Species has 2 resonance isomers\n",
      "Molecule C1=CC2CC[C]1C2 has a single polycyclic group match in thermo estimate.\n"
     ]
    },
    {
     "data": {
      "image/png": "[encoded data removed]",
      "text/plain": [
       "Molecule(SMILES=\"C1=CC2CC[C]1C2\")"
      ]
     },
     "metadata": {},
     "output_type": "display_data"
    },
    {
     "name": "stdout",
     "output_type": "stream",
     "text": [
      "Molecule SMILES: C1=CC2CC[C]1C2\n",
      "Estimated thermo data:\n",
      "ThermoData(\n",
      "    Tdata = ([300, 400, 500, 600, 800, 1000, 1500], 'K'),\n",
      "    Cpdata = ([96.483, 138.273, 174.929, 204.853, 249.241, 280.211, 327.992], 'J/(mol*K)'),\n",
      "    H298 = (203.037, 'kJ/mol'),\n",
      "    S298 = (296.562, 'J/(mol*K)'),\n",
      "    comment = 'Thermo group additivity estimation: group(Cs-(Cds-Cds)CsCsH) + other(R) + group(Cs-(Cds-Cds)CsCsH) + other(R) + group(Cs-CsCsHH) + other(R) + group(Cs-CsCsHH) + other(R) + group(Cs-CsCsHH) + other(R) + group(Cds-CdsCsH) + other(R) + group(Cds-CdsCsH) + other(R) + polycyclic(norbornene) + radical(Allyl_T)',\n",
      ")\n",
      "H298 = 48.527 kcal/mol\n",
      "S298 = 70.88 cal/mol*K\n",
      "Matched polycyclic group \"norbornene\"\n",
      "Molecule [CH]1C=C2CCC1C2 has a single polycyclic group match in thermo estimate.\n"
     ]
    },
    {
     "data": {
      "image/png": "[encoded data removed]",
      "text/plain": [
       "Molecule(SMILES=\"[CH]1C=C2CCC1C2\")"
      ]
     },
     "metadata": {},
     "output_type": "display_data"
    },
    {
     "name": "stdout",
     "output_type": "stream",
     "text": [
      "Molecule SMILES: [CH]1C=C2CCC1C2\n",
      "Estimated thermo data:\n",
      "ThermoData(\n",
      "    Tdata = ([300, 400, 500, 600, 800, 1000, 1500], 'K'),\n",
      "    Cpdata = ([134.39, 173.008, 205.434, 231.417, 270.872, 297.984, 337.356], 'J/(mol*K)'),\n",
      "    H298 = (117.223, 'kJ/mol'),\n",
      "    S298 = (76.1906, 'J/(mol*K)'),\n",
      "    comment = 'Thermo group additivity estimation: group(Cs-CsCsCsH) + other(R) + group(Cs-CsCsHH) + other(R) + group(Cs-(Cds-Cds)CsHH) + other(R) + group(Cs-(Cds-Cds)CsHH) + other(R) + group(Cs-(Cds-Cds)CsHH) + other(R) + group(Cds-CdsCsCs) + other(R) + group(Cds-CdsCsH) + other(R) + polycyclic(PolycyclicRing) + radical(cyclopentene-allyl)',\n",
      ")\n",
      "H298 = 28.017 kcal/mol\n",
      "S298 = 18.21 cal/mol*K\n",
      "1 * Cd u0 {3,S} {4,S} {6,D}\n",
      "2   Cs u0 {3,S} {5,S} {7,S}\n",
      "3   Cs u0 {1,S} {2,S}\n",
      "4   Cs u0 {1,S} {5,S}\n",
      "5   Cs u0 {2,S} {4,S}\n",
      "6   Cd u0 {1,D} {7,S}\n",
      "7   Cs u0 {2,S} {6,S}\n",
      "\n",
      "Polycyclic group was found to be generic \"PolycyclicRing\". Creating new entry: product23.\n",
      "=====================\n",
      "product25\n",
      "Species has 2 resonance isomers\n",
      "Molecule C1=C[C]2CCC2C1 has a single polycyclic group match in thermo estimate.\n"
     ]
    },
    {
     "data": {
      "image/png": "[encoded data removed]",
      "text/plain": [
       "Molecule(SMILES=\"C1=C[C]2CCC2C1\")"
      ]
     },
     "metadata": {},
     "output_type": "display_data"
    },
    {
     "name": "stdout",
     "output_type": "stream",
     "text": [
      "Molecule SMILES: C1=C[C]2CCC2C1\n",
      "Estimated thermo data:\n",
      "ThermoData(\n",
      "    Tdata = ([300, 400, 500, 600, 800, 1000, 1500], 'K'),\n",
      "    Cpdata = ([131.168, 168.824, 201.711, 227.861, 268.404, 296.018, 338.904], 'J/(mol*K)'),\n",
      "    H298 = (127.516, 'kJ/mol'),\n",
      "    S298 = (71.6719, 'J/(mol*K)'),\n",
      "    comment = 'Thermo group additivity estimation: group(Cs-CsCsCsH) + other(R) + group(Cs-(Cds-Cds)CsCsH) + other(R) + group(Cs-CsCsHH) + other(R) + group(Cs-CsCsHH) + other(R) + group(Cs-(Cds-Cds)CsHH) + other(R) + group(Cds-CdsCsH) + other(R) + group(Cds-CdsCsH) + other(R) + polycyclic(product3) + radical(Allyl_T)',\n",
      ")\n",
      "H298 = 30.477 kcal/mol\n",
      "S298 = 17.13 cal/mol*K\n",
      "Matched polycyclic group \"product3\"\n",
      "Molecule [CH]1C=C2CCC2C1 has a single polycyclic group match in thermo estimate.\n"
     ]
    },
    {
     "data": {
      "image/png": "[encoded data removed]",
      "text/plain": [
       "Molecule(SMILES=\"[CH]1C=C2CCC2C1\")"
      ]
     },
     "metadata": {},
     "output_type": "display_data"
    },
    {
     "name": "stdout",
     "output_type": "stream",
     "text": [
      "Molecule SMILES: [CH]1C=C2CCC2C1\n",
      "Estimated thermo data:\n",
      "ThermoData(\n",
      "    Tdata = ([300, 400, 500, 600, 800, 1000, 1500], 'K'),\n",
      "    Cpdata = ([134.39, 173.008, 205.853, 231.417, 270.872, 297.984, 337.356], 'J/(mol*K)'),\n",
      "    H298 = (118.269, 'kJ/mol'),\n",
      "    S298 = (76.1906, 'J/(mol*K)'),\n",
      "    comment = 'Thermo group additivity estimation: group(Cs-(Cds-Cds)CsCsH) + other(R) + group(Cs-CsCsHH) + other(R) + group(Cs-CsCsHH) + other(R) + group(Cs-(Cds-Cds)CsHH) + other(R) + group(Cs-(Cds-Cds)CsHH) + other(R) + group(Cds-CdsCsCs) + other(R) + group(Cds-CdsCsH) + other(R) + polycyclic(PolycyclicRing) + radical(cyclopentene-allyl)',\n",
      ")\n",
      "H298 = 28.267 kcal/mol\n",
      "S298 = 18.21 cal/mol*K\n",
      "1 * Cd u0 {4,S} {6,D} {7,S}\n",
      "2   Cs u0 {3,S} {4,S}\n",
      "3   Cs u0 {2,S} {6,S}\n",
      "4   Cs u0 {1,S} {2,S} {5,S}\n",
      "5   Cs u0 {4,S} {7,S}\n",
      "6   Cd u0 {1,D} {3,S}\n",
      "7   Cs u0 {1,S} {5,S}\n",
      "\n",
      "Polycyclic group was found to be generic \"PolycyclicRing\". Creating new entry: product25.\n",
      "=====================\n",
      "product29\n",
      "Species has 2 resonance isomers\n",
      "Molecule [CH]1C2=CCC1CC2 has a single polycyclic group match in thermo estimate.\n"
     ]
    },
    {
     "data": {
      "image/png": "[encoded data removed]",
      "text/plain": [
       "Molecule(SMILES=\"[CH]1C2=CCC1CC2\")"
      ]
     },
     "metadata": {},
     "output_type": "display_data"
    },
    {
     "name": "stdout",
     "output_type": "stream",
     "text": [
      "Molecule SMILES: [CH]1C2=CCC1CC2\n",
      "Estimated thermo data:\n",
      "ThermoData(\n",
      "    Tdata = ([300, 400, 500, 600, 800, 1000, 1500], 'K'),\n",
      "    Cpdata = ([134.39, 173.008, 205.434, 231.417, 270.872, 297.984, 337.356], 'J/(mol*K)'),\n",
      "    H298 = (117.223, 'kJ/mol'),\n",
      "    S298 = (76.1906, 'J/(mol*K)'),\n",
      "    comment = 'Thermo group additivity estimation: group(Cs-CsCsCsH) + other(R) + group(Cs-CsCsHH) + other(R) + group(Cs-(Cds-Cds)CsHH) + other(R) + group(Cs-(Cds-Cds)CsHH) + other(R) + group(Cs-(Cds-Cds)CsHH) + other(R) + group(Cds-CdsCsCs) + other(R) + group(Cds-CdsCsH) + other(R) + polycyclic(product23) + radical(cyclopentene-allyl)',\n",
      ")\n",
      "H298 = 28.017 kcal/mol\n",
      "S298 = 18.21 cal/mol*K\n",
      "Matched polycyclic group \"product23\"\n",
      "Molecule [CH]1CC2C=C1CC2 has a single polycyclic group match in thermo estimate.\n"
     ]
    },
    {
     "data": {
      "image/png": "[encoded data removed]",
      "text/plain": [
       "Molecule(SMILES=\"[CH]1CC2C=C1CC2\")"
      ]
     },
     "metadata": {},
     "output_type": "display_data"
    },
    {
     "name": "stdout",
     "output_type": "stream",
     "text": [
      "Molecule SMILES: [CH]1CC2C=C1CC2\n",
      "Estimated thermo data:\n",
      "ThermoData(\n",
      "    Tdata = ([300, 400, 500, 600, 800, 1000, 1500], 'K'),\n",
      "    Cpdata = ([134.39, 173.008, 205.853, 231.417, 270.872, 297.984, 337.356], 'J/(mol*K)'),\n",
      "    H298 = (118.269, 'kJ/mol'),\n",
      "    S298 = (76.1906, 'J/(mol*K)'),\n",
      "    comment = 'Thermo group additivity estimation: group(Cs-(Cds-Cds)CsCsH) + other(R) + group(Cs-CsCsHH) + other(R) + group(Cs-CsCsHH) + other(R) + group(Cs-(Cds-Cds)CsHH) + other(R) + group(Cs-(Cds-Cds)CsHH) + other(R) + group(Cds-CdsCsCs) + other(R) + group(Cds-CdsCsH) + other(R) + polycyclic(PolycyclicRing) + radical(cyclopentene-allyl)',\n",
      ")\n",
      "H298 = 28.267 kcal/mol\n",
      "S298 = 18.21 cal/mol*K\n",
      "1 * Cd u0 {3,S} {5,D} {7,S}\n",
      "2   Cs u0 {6,S} {7,S}\n",
      "3   Cs u0 {1,S} {4,S}\n",
      "4   Cs u0 {3,S} {6,S}\n",
      "5   Cd u0 {1,D} {6,S}\n",
      "6   Cs u0 {2,S} {4,S} {5,S}\n",
      "7   Cs u0 {1,S} {2,S}\n",
      "\n",
      "Polycyclic group was found to be generic \"PolycyclicRing\". Creating new entry: product29.\n",
      "=====================\n",
      "product34\n",
      "Species has 1 resonance isomers\n",
      "Molecule [CH]1C2C=CC=CC12 has a single polycyclic group match in thermo estimate.\n"
     ]
    },
    {
     "data": {
      "image/png": "[encoded data removed]",
      "text/plain": [
       "Molecule(SMILES=\"[CH]1C2C=CC=CC12\")"
      ]
     },
     "metadata": {},
     "output_type": "display_data"
    },
    {
     "name": "stdout",
     "output_type": "stream",
     "text": [
      "Molecule SMILES: [CH]1C2C=CC=CC12\n",
      "Estimated thermo data:\n",
      "ThermoData(\n",
      "    Tdata = ([300, 400, 500, 600, 800, 1000, 1500], 'K'),\n",
      "    Cpdata = ([124.516, 159.201, 188.406, 209.744, 242.714, 264.596, 297.148], 'J/(mol*K)'),\n",
      "    H298 = (321.109, 'kJ/mol'),\n",
      "    S298 = (80.542, 'J/(mol*K)'),\n",
      "    comment = 'Thermo group additivity estimation: group(Cs-(Cds-Cds)CsCsH) + other(R) + group(Cs-(Cds-Cds)CsCsH) + other(R) + group(Cs-CsCsHH) + other(R) + group(Cds-CdsCsH) + other(R) + group(Cds-CdsCsH) + other(R) + group(Cds-Cds(Cds-Cds)H) + other(R) + group(Cds-Cds(Cds-Cds)H) + other(R) + polycyclic(PolycyclicRing) + radical(cyclopropane)',\n",
      ")\n",
      "H298 = 76.747 kcal/mol\n",
      "S298 = 19.25 cal/mol*K\n",
      "1 * Cs u0 {3,S} {6,S} {7,S}\n",
      "2   Cd u0 {3,D} {5,S}\n",
      "3   Cd u0 {1,S} {2,D}\n",
      "4   Cd u0 {5,D} {7,S}\n",
      "5   Cd u0 {2,S} {4,D}\n",
      "6   Cs u0 {1,S} {7,S}\n",
      "7   Cs u0 {1,S} {4,S} {6,S}\n",
      "\n",
      "Polycyclic group was found to be generic \"PolycyclicRing\". Creating new entry: product34.\n",
      "=====================\n",
      "product36\n",
      "Species has 2 resonance isomers\n",
      "Molecule C=C1[CH]C2CC2C1 has a single polycyclic group match in thermo estimate.\n"
     ]
    },
    {
     "data": {
      "image/png": "[encoded data removed]",
      "text/plain": [
       "Molecule(SMILES=\"C=C1[CH]C2CC2C1\")"
      ]
     },
     "metadata": {},
     "output_type": "display_data"
    },
    {
     "name": "stdout",
     "output_type": "stream",
     "text": [
      "Molecule SMILES: C=C1[CH]C2CC2C1\n",
      "Estimated thermo data:\n",
      "ThermoData(\n",
      "    Tdata = ([300, 400, 500, 600, 800, 1000, 1500], 'K'),\n",
      "    Cpdata = ([135.896, 174.975, 207.736, 233.76, 273.006, 299.616, 338.946], 'J/(mol*K)'),\n",
      "    H298 = (133.248, 'kJ/mol'),\n",
      "    S298 = (61.0972, 'J/(mol*K)'),\n",
      "    comment = 'Thermo group additivity estimation: group(Cs-CsCsCsH) + other(R) + group(Cs-CsCsCsH) + other(R) + group(Cs-CsCsHH) + other(R) + group(Cs-(Cds-Cds)CsHH) + other(R) + group(Cs-(Cds-Cds)CsHH) + other(R) + group(Cds-CdsCsCs) + other(R) + group(Cds-CdsHH) + other(R) + polycyclic(PolycyclicRing) + radical(Allyl_S)',\n",
      ")\n",
      "H298 = 31.847 kcal/mol\n",
      "S298 = 14.6025734167 cal/mol*K\n",
      "1 * Cs u0 {3,S} {6,S}\n",
      "2   Cs u0 {5,S} {6,S}\n",
      "3   Cd u0 {1,S} {4,S}\n",
      "4   Cs u0 {3,S} {5,S}\n",
      "5   Cs u0 {2,S} {4,S} {6,S}\n",
      "6   Cs u0 {1,S} {2,S} {5,S}\n",
      "\n",
      "Polycyclic group was found to be generic \"PolycyclicRing\". Creating new entry: product36.\n",
      "Molecule [CH2]C1=CC2CC2C1 has a single polycyclic group match in thermo estimate.\n"
     ]
    },
    {
     "data": {
      "image/png": "[encoded data removed]",
      "text/plain": [
       "Molecule(SMILES=\"[CH2]C1=CC2CC2C1\")"
      ]
     },
     "metadata": {},
     "output_type": "display_data"
    },
    {
     "name": "stdout",
     "output_type": "stream",
     "text": [
      "Molecule SMILES: [CH2]C1=CC2CC2C1\n",
      "Estimated thermo data:\n",
      "ThermoData(\n",
      "    Tdata = ([300, 400, 500, 600, 800, 1000, 1500], 'K'),\n",
      "    Cpdata = ([138.7, 178.406, 211.292, 236.438, 274.847, 300.83, 339.448], 'J/(mol*K)'),\n",
      "    H298 = (132.871, 'kJ/mol'),\n",
      "    S298 = (71.9756, 'J/(mol*K)'),\n",
      "    comment = 'Thermo group additivity estimation: group(Cs-CsCsCsH) + other(R) + group(Cs-(Cds-Cds)CsCsH) + other(R) + group(Cs-CsCsHH) + other(R) + group(Cs-(Cds-Cds)CsHH) + other(R) + group(Cs-(Cds-Cds)HHH) + other(R) + group(Cds-CdsCsCs) + other(R) + group(Cds-CdsCsH) + other(R) + polycyclic(product1) + radical(Allyl_P)',\n",
      ")\n",
      "H298 = 31.757 kcal/mol\n",
      "S298 = 17.2025734167 cal/mol*K\n",
      "Matched polycyclic group \"product1\"\n",
      "=====================\n",
      "product39\n",
      "Species has 1 resonance isomers\n",
      "Molecule [CH2]C12C=CCC1C2 has a single polycyclic group match in thermo estimate.\n"
     ]
    },
    {
     "data": {
      "image/png": "[encoded data removed]",
      "text/plain": [
       "Molecule(SMILES=\"[CH2]C12C=CCC1C2\")"
      ]
     },
     "metadata": {},
     "output_type": "display_data"
    },
    {
     "name": "stdout",
     "output_type": "stream",
     "text": [
      "Molecule SMILES: [CH2]C12C=CCC1C2\n",
      "Estimated thermo data:\n",
      "ThermoData(\n",
      "    Tdata = ([300, 400, 500, 600, 800, 1000, 1500], 'K'),\n",
      "    Cpdata = ([138.365, 177.527, 209.786, 235.517, 273.383, 298.905, 334.553], 'J/(mol*K)'),\n",
      "    H298 = (192.744, 'kJ/mol'),\n",
      "    S298 = (85.4899, 'J/(mol*K)'),\n",
      "    comment = 'Thermo group additivity estimation: group(Cs-(Cds-Cds)CsCsCs) + other(R) + group(Cs-CsCsCsH) + other(R) + group(Cs-CsCsHH) + other(R) + group(Cs-(Cds-Cds)CsHH) + other(R) + group(Cs-CsHHH) + other(R) + group(Cds-CdsCsH) + other(R) + group(Cds-CdsCsH) + other(R) + polycyclic(product1) + radical(Neopentyl)',\n",
      ")\n",
      "H298 = 46.067 kcal/mol\n",
      "S298 = 20.4325734167 cal/mol*K\n",
      "Matched polycyclic group \"product1\"\n",
      "=====================\n",
      "product42\n",
      "Species has 1 resonance isomers\n",
      "Molecule C=C1C2[CH]C=CC12 has a single polycyclic group match in thermo estimate.\n"
     ]
    },
    {
     "data": {
      "image/png": "[encoded data removed]",
      "text/plain": [
       "Molecule(SMILES=\"C=C1C2[CH]C=CC12\")"
      ]
     },
     "metadata": {},
     "output_type": "display_data"
    },
    {
     "name": "stdout",
     "output_type": "stream",
     "text": [
      "Molecule SMILES: C=C1C2[CH]C=CC12\n",
      "Estimated thermo data:\n",
      "ThermoData(\n",
      "    Tdata = ([300, 400, 500, 600, 800, 1000, 1500], 'K'),\n",
      "    Cpdata = ([127.779, 161.168, 189.828, 211.71, 244.973, 267.609, 300.495], 'J/(mol*K)'),\n",
      "    H298 = (236.969, 'kJ/mol'),\n",
      "    S298 = (44.9469, 'J/(mol*K)'),\n",
      "    comment = 'Thermo group additivity estimation: group(Cs-(Cds-Cds)CsCsH) + other(R) + group(Cs-(Cds-Cds)(Cds-Cds)CsH) + other(R) + group(Cs-(Cds-Cds)CsHH) + other(R) + group(Cds-CdsCsCs) + other(R) + group(Cds-CdsCsH) + other(R) + group(Cds-CdsCsH) + other(R) + group(Cds-CdsHH) + other(R) + polycyclic(PolycyclicRing) + radical(cyclopentene-allyl)',\n",
      ")\n",
      "H298 = 56.637 kcal/mol\n",
      "S298 = 10.7425734167 cal/mol*K\n",
      "1 * Cd u0 {5,S} {6,S}\n",
      "2   Cd u0 {3,S} {4,D}\n",
      "3   Cs u0 {2,S} {5,S}\n",
      "4   Cd u0 {2,D} {6,S}\n",
      "5   Cs u0 {1,S} {3,S} {6,S}\n",
      "6   Cs u0 {1,S} {4,S} {5,S}\n",
      "\n",
      "Polycyclic group was found to be generic \"PolycyclicRing\". Creating new entry: product42.\n",
      "=====================\n",
      "product45\n",
      "Species has 1 resonance isomers\n",
      "Molecule [CH]1C=CC2C=CC12 has a single polycyclic group match in thermo estimate.\n"
     ]
    },
    {
     "data": {
      "image/png": "[encoded data removed]",
      "text/plain": [
       "Molecule(SMILES=\"[CH]1C=CC2C=CC12\")"
      ]
     },
     "metadata": {},
     "output_type": "display_data"
    },
    {
     "name": "stdout",
     "output_type": "stream",
     "text": [
      "Molecule SMILES: [CH]1C=CC2C=CC12\n",
      "Estimated thermo data:\n",
      "ThermoData(\n",
      "    Tdata = ([300, 400, 500, 600, 800, 1000, 1500], 'K'),\n",
      "    Cpdata = ([124.097, 157.36, 186.146, 208.531, 242.588, 265.726, 299.198], 'J/(mol*K)'),\n",
      "    H298 = (239.396, 'kJ/mol'),\n",
      "    S298 = (55.0196, 'J/(mol*K)'),\n",
      "    comment = 'Thermo group additivity estimation: group(Cs-(Cds-Cds)CsCsH) + other(R) + group(Cs-(Cds-Cds)(Cds-Cds)CsH) + other(R) + group(Cs-(Cds-Cds)CsHH) + other(R) + group(Cds-CdsCsH) + other(R) + group(Cds-CdsCsH) + other(R) + group(Cds-CdsCsH) + other(R) + group(Cds-CdsCsH) + other(R) + polycyclic(PolycyclicRing) + radical(cyclopentene-allyl)',\n",
      ")\n",
      "H298 = 57.217 kcal/mol\n",
      "S298 = 13.15 cal/mol*K\n",
      "1 * Cd u0 {2,S} {5,D}\n",
      "2   Cs u0 {1,S} {4,S} {7,S}\n",
      "3   Cd u0 {4,S} {6,D}\n",
      "4   Cs u0 {2,S} {3,S} {5,S}\n",
      "5   Cd u0 {1,D} {4,S}\n",
      "6   Cd u0 {3,D} {7,S}\n",
      "7   Cs u0 {2,S} {6,S}\n",
      "\n",
      "Polycyclic group was found to be generic \"PolycyclicRing\". Creating new entry: product45.\n",
      "=====================\n",
      "product46\n",
      "Species has 3 resonance isomers\n",
      "Molecule [CH]1C=CC=C2CC12 has a single polycyclic group match in thermo estimate.\n"
     ]
    },
    {
     "data": {
      "image/png": "[encoded data removed]",
      "text/plain": [
       "Molecule(SMILES=\"[CH]1C=CC=C2CC12\")"
      ]
     },
     "metadata": {},
     "output_type": "display_data"
    },
    {
     "name": "stdout",
     "output_type": "stream",
     "text": [
      "Molecule SMILES: [CH]1C=CC=C2CC12\n",
      "Estimated thermo data:\n",
      "ThermoData(\n",
      "    Tdata = ([300, 400, 500, 600, 800, 1000, 1500], 'K'),\n",
      "    Cpdata = ([125.687, 163.302, 193.301, 215.267, 248.111, 269.952, 301.625], 'J/(mol*K)'),\n",
      "    H298 = (230.066, 'kJ/mol'),\n",
      "    S298 = (50.7519, 'J/(mol*K)'),\n",
      "    comment = 'Thermo group additivity estimation: group(Cs-(Cds-Cds)CsCsH) + other(R) + group(Cs-(Cds-Cds)CsHH) + other(R) + group(Cs-(Cds-Cds)CsHH) + other(R) + group(Cds-CdsCsCs) + other(R) + group(Cds-CdsCsH) + other(R) + group(Cds-Cds(Cds-Cds)H) + other(R) + group(Cds-Cds(Cds-Cds)H) + other(R) + polycyclic(PolycyclicRing) + radical(Allyl_S)',\n",
      ")\n",
      "H298 = 54.987 kcal/mol\n",
      "S298 = 12.13 cal/mol*K\n",
      "1 * Cd u0 {3,D} {6,S} {7,S}\n",
      "2   Cd u0 {3,S} {5,D}\n",
      "3   Cd u0 {1,D} {2,S}\n",
      "4   Cs u0 {5,S} {6,S}\n",
      "5   Cd u0 {2,D} {4,S}\n",
      "6   Cs u0 {1,S} {4,S} {7,S}\n",
      "7   Cs u0 {1,S} {6,S}\n",
      "\n",
      "Polycyclic group was found to be generic \"PolycyclicRing\". Creating new entry: product46.\n",
      "Molecule [CH]1C=CC2CC2=C1 has a single polycyclic group match in thermo estimate.\n"
     ]
    },
    {
     "data": {
      "image/png": "[encoded data removed]",
      "text/plain": [
       "Molecule(SMILES=\"[CH]1C=CC2CC2=C1\")"
      ]
     },
     "metadata": {},
     "output_type": "display_data"
    },
    {
     "name": "stdout",
     "output_type": "stream",
     "text": [
      "Molecule SMILES: [CH]1C=CC2CC2=C1\n",
      "Estimated thermo data:\n",
      "ThermoData(\n",
      "    Tdata = ([300, 400, 500, 600, 800, 1000, 1500], 'K'),\n",
      "    Cpdata = ([123.637, 158.741, 187.987, 211.041, 244.848, 268.153, 303.842], 'J/(mol*K)'),\n",
      "    H298 = (208.602, 'kJ/mol'),\n",
      "    S298 = (59.1199, 'J/(mol*K)'),\n",
      "    comment = 'Thermo group additivity estimation: group(Cs-(Cds-Cds)(Cds-Cds)CsH) + other(R) + group(Cs-(Cds-Cds)CsHH) + other(R) + group(Cs-(Cds-Cds)(Cds-Cds)HH) + other(R) + group(Cds-CdsCsCs) + other(R) + group(Cds-CdsCsH) + other(R) + group(Cds-CdsCsH) + other(R) + group(Cds-CdsCsH) + other(R) + polycyclic(PolycyclicRing) + radical(C=CCJC=C)',\n",
      ")\n",
      "H298 = 49.857 kcal/mol\n",
      "S298 = 14.13 cal/mol*K\n",
      "1 * Cd u0 {3,S} {4,D} {6,S}\n",
      "2   Cd u0 {3,S} {7,D}\n",
      "3   Cs u0 {1,S} {2,S} {6,S}\n",
      "4   Cd u0 {1,D} {5,S}\n",
      "5   Cs u0 {4,S} {7,S}\n",
      "6   Cs u0 {1,S} {3,S}\n",
      "7   Cd u0 {2,D} {5,S}\n",
      "\n",
      "Polycyclic group was found to be generic \"PolycyclicRing\". Creating new entry: product46-1.\n",
      "Molecule C1C=CC2C[C]2C=1 has a single polycyclic group match in thermo estimate.\n"
     ]
    },
    {
     "data": {
      "image/png": "[encoded data removed]",
      "text/plain": [
       "Molecule(SMILES=\"C1C=CC2C[C]2C=1\")"
      ]
     },
     "metadata": {},
     "output_type": "display_data"
    },
    {
     "name": "stdout",
     "output_type": "stream",
     "text": [
      "Molecule SMILES: C1C=CC2C[C]2C=1\n",
      "Estimated thermo data:\n",
      "ThermoData(\n",
      "    Tdata = ([300, 400, 500, 600, 800, 1000, 1500], 'K'),\n",
      "    Cpdata = ([122.466, 159.118, 189.577, 211.71, 245.643, 267.985, 303.173], 'J/(mol*K)'),\n",
      "    H298 = (226.551, 'kJ/mol'),\n",
      "    S298 = (46.2332, 'J/(mol*K)'),\n",
      "    comment = 'Thermo group additivity estimation: group(Cs-(Cds-Cds)CsCsH) + other(R) + group(Cs-(Cds-Cds)CsCsH) + other(R) + group(Cs-CsCsHH) + other(R) + group(Cds-CdsCsH) + other(R) + group(Cds-CdsCsH) + other(R) + group(Cds-Cds(Cds-Cds)H) + other(R) + group(Cds-Cds(Cds-Cds)H) + other(R) + polycyclic(product34) + radical(Allyl_T)',\n",
      ")\n",
      "H298 = 54.147 kcal/mol\n",
      "S298 = 11.05 cal/mol*K\n",
      "Matched polycyclic group \"product34\"\n",
      "=====================\n",
      "pdt7\n",
      "Species has 2 resonance isomers\n",
      "Molecule [CH]1C=CC2C1C1CC=CC21 has a single polycyclic group match in thermo estimate.\n"
     ]
    },
    {
     "data": {
      "image/png": "[encoded data removed]",
      "text/plain": [
       "Molecule(SMILES=\"[CH]1C=CC2C1C1CC=CC21\")"
      ]
     },
     "metadata": {},
     "output_type": "display_data"
    },
    {
     "name": "stdout",
     "output_type": "stream",
     "text": [
      "Molecule SMILES: [CH]1C=CC2C1C1CC=CC21\n",
      "Estimated thermo data:\n",
      "ThermoData(\n",
      "    Tdata = ([300, 400, 500, 600, 800, 1000, 1500], 'K'),\n",
      "    Cpdata = ([178.824, 233.635, 279.575, 314.386, 367.481, 402.082, 452.918], 'J/(mol*K)'),\n",
      "    H298 = (201.991, 'kJ/mol'),\n",
      "    S298 = (0.6276, 'J/(mol*K)'),\n",
      "    comment = 'Thermo group additivity estimation: group(Cs-CsCsCsH) + other(R) + group(Cs-CsCsCsH) + other(R) + group(Cs-(Cds-Cds)CsCsH) + other(R) + group(Cs-(Cds-Cds)CsCsH) + other(R) + group(Cs-(Cds-Cds)CsHH) + other(R) + group(Cs-(Cds-Cds)CsHH) + other(R) + group(Cds-CdsCsH) + other(R) + group(Cds-CdsCsH) + other(R) + group(Cds-CdsCsH) + other(R) + group(Cds-CdsCsH) + other(R) + polycyclic(product3) + radical(cyclopentene-allyl)',\n",
      ")\n",
      "H298 = 48.277 kcal/mol\n",
      "S298 = 0.15 cal/mol*K\n",
      "Matched polycyclic group \"product3\"\n",
      "Molecule [CH]1C=CC2C1C1C=CCC21 has a single polycyclic group match in thermo estimate.\n"
     ]
    },
    {
     "data": {
      "image/png": "[encoded data removed]",
      "text/plain": [
       "Molecule(SMILES=\"[CH]1C=CC2C1C1C=CCC21\")"
      ]
     },
     "metadata": {},
     "output_type": "display_data"
    },
    {
     "name": "stdout",
     "output_type": "stream",
     "text": [
      "Molecule SMILES: [CH]1C=CC2C1C1C=CCC21\n",
      "Estimated thermo data:\n",
      "ThermoData(\n",
      "    Tdata = ([300, 400, 500, 600, 800, 1000, 1500], 'K'),\n",
      "    Cpdata = ([178.824, 233.635, 279.575, 314.386, 367.481, 402.082, 452.918], 'J/(mol*K)'),\n",
      "    H298 = (201.991, 'kJ/mol'),\n",
      "    S298 = (0.6276, 'J/(mol*K)'),\n",
      "    comment = 'Thermo group additivity estimation: group(Cs-CsCsCsH) + other(R) + group(Cs-CsCsCsH) + other(R) + group(Cs-(Cds-Cds)CsCsH) + other(R) + group(Cs-(Cds-Cds)CsCsH) + other(R) + group(Cs-(Cds-Cds)CsHH) + other(R) + group(Cs-(Cds-Cds)CsHH) + other(R) + group(Cds-CdsCsH) + other(R) + group(Cds-CdsCsH) + other(R) + group(Cds-CdsCsH) + other(R) + group(Cds-CdsCsH) + other(R) + polycyclic(product3) + radical(cyclopentene-allyl)',\n",
      ")\n",
      "H298 = 48.277 kcal/mol\n",
      "S298 = 0.15 cal/mol*K\n",
      "Matched polycyclic group \"product3\"\n",
      "=====================\n",
      "pdt8\n",
      "Species has 3 resonance isomers\n",
      "Molecule [CH]1C=CC=CC2CC=CC12 has a single polycyclic group match in thermo estimate.\n"
     ]
    },
    {
     "data": {
      "image/png": "[encoded data removed]",
      "text/plain": [
       "Molecule(SMILES=\"[CH]1C=CC=CC2CC=CC12\")"
      ]
     },
     "metadata": {},
     "output_type": "display_data"
    },
    {
     "name": "stdout",
     "output_type": "stream",
     "text": [
      "Molecule SMILES: [CH]1C=CC=CC2CC=CC12\n",
      "Estimated thermo data:\n",
      "ThermoData(\n",
      "    Tdata = ([300, 400, 500, 600, 800, 1000, 1500], 'K'),\n",
      "    Cpdata = ([178.155, 231.877, 276.06, 309.114, 359.447, 393.212, 442.96], 'J/(mol*K)'),\n",
      "    H298 = (288.432, 'kJ/mol'),\n",
      "    S298 = (155.017, 'J/(mol*K)'),\n",
      "    comment = 'Thermo group additivity estimation: group(Cs-(Cds-Cds)CsCsH) + other(R) + group(Cs-(Cds-Cds)CsCsH) + other(R) + group(Cs-(Cds-Cds)CsHH) + other(R) + group(Cs-(Cds-Cds)CsHH) + other(R) + group(Cds-CdsCsH) + other(R) + group(Cds-CdsCsH) + other(R) + group(Cds-CdsCsH) + other(R) + group(Cds-CdsCsH) + other(R) + group(Cds-Cds(Cds-Cds)H) + other(R) + group(Cds-Cds(Cds-Cds)H) + other(R) + polycyclic(PolycyclicRing) + radical(Allyl_S)',\n",
      ")\n",
      "H298 = 68.937 kcal/mol\n",
      "S298 = 37.05 cal/mol*K\n",
      "1  * Cs u0 {2,S} {4,S} {7,S}\n",
      "2    Cd u0 {1,S} {10,D}\n",
      "3    Cd u0 {8,D} {9,S}\n",
      "4    Cs u0 {1,S} {6,S}\n",
      "5    Cs u0 {7,S} {10,S}\n",
      "6    Cd u0 {4,S} {9,D}\n",
      "7    Cs u0 {1,S} {5,S} {8,S}\n",
      "8    Cd u0 {3,D} {7,S}\n",
      "9    Cd u0 {3,S} {6,D}\n",
      "10   Cd u0 {2,D} {5,S}\n",
      "\n",
      "Polycyclic group was found to be generic \"PolycyclicRing\". Creating new entry: pdt8.\n",
      "Molecule [CH]1C=CC2C=CCC2C=C1 has a single polycyclic group match in thermo estimate.\n"
     ]
    },
    {
     "data": {
      "image/png": "[encoded data removed]",
      "text/plain": [
       "Molecule(SMILES=\"[CH]1C=CC2C=CCC2C=C1\")"
      ]
     },
     "metadata": {},
     "output_type": "display_data"
    },
    {
     "name": "stdout",
     "output_type": "stream",
     "text": [
      "Molecule SMILES: [CH]1C=CC2C=CCC2C=C1\n",
      "Estimated thermo data:\n",
      "ThermoData(\n",
      "    Tdata = ([300, 400, 500, 600, 800, 1000, 1500], 'K'),\n",
      "    Cpdata = ([176.105, 227.317, 270.747, 304.888, 356.184, 391.413, 445.178], 'J/(mol*K)'),\n",
      "    H298 = (266.968, 'kJ/mol'),\n",
      "    S298 = (163.385, 'J/(mol*K)'),\n",
      "    comment = 'Thermo group additivity estimation: group(Cs-(Cds-Cds)CsCsH) + other(R) + group(Cs-(Cds-Cds)(Cds-Cds)CsH) + other(R) + group(Cs-(Cds-Cds)CsHH) + other(R) + group(Cs-(Cds-Cds)(Cds-Cds)HH) + other(R) + group(Cds-CdsCsH) + other(R) + group(Cds-CdsCsH) + other(R) + group(Cds-CdsCsH) + other(R) + group(Cds-CdsCsH) + other(R) + group(Cds-CdsCsH) + other(R) + group(Cds-CdsCsH) + other(R) + polycyclic(PolycyclicRing) + radical(C=CCJC=C)',\n",
      ")\n",
      "H298 = 63.807 kcal/mol\n",
      "S298 = 39.05 cal/mol*K\n",
      "1  * Cs u0 {8,S} {10,S}\n",
      "2    Cd u0 {5,D} {9,S}\n",
      "3    Cs u0 {4,S} {7,S} {8,S}\n",
      "4    Cd u0 {3,S} {10,D}\n",
      "5    Cd u0 {2,D} {8,S}\n",
      "6    Cd u0 {7,D} {9,S}\n",
      "7    Cd u0 {3,S} {6,D}\n",
      "8    Cs u0 {1,S} {3,S} {5,S}\n",
      "9    Cs u0 {2,S} {6,S}\n",
      "10   Cd u0 {1,S} {4,D}\n",
      "\n",
      "Polycyclic group was found to be generic \"PolycyclicRing\". Creating new entry: pdt8-1.\n",
      "Molecule [CH]1C=CC=CC2C=CCC12 has a single polycyclic group match in thermo estimate.\n"
     ]
    },
    {
     "data": {
      "image/png": "[encoded data removed]",
      "text/plain": [
       "Molecule(SMILES=\"[CH]1C=CC=CC2C=CCC12\")"
      ]
     },
     "metadata": {},
     "output_type": "display_data"
    },
    {
     "name": "stdout",
     "output_type": "stream",
     "text": [
      "Molecule SMILES: [CH]1C=CC=CC2C=CCC12\n",
      "Estimated thermo data:\n",
      "ThermoData(\n",
      "    Tdata = ([300, 400, 500, 600, 800, 1000, 1500], 'K'),\n",
      "    Cpdata = ([184.431, 234.89, 276.73, 309.742, 358.778, 392.585, 442.332], 'J/(mol*K)'),\n",
      "    H298 = (288.265, 'kJ/mol'),\n",
      "    S298 = (147.821, 'J/(mol*K)'),\n",
      "    comment = 'Thermo group additivity estimation: group(Cs-CsCsCsH) + other(R) + group(Cs-(Cds-Cds)(Cds-Cds)CsH) + other(R) + group(Cs-(Cds-Cds)CsHH) + other(R) + group(Cs-(Cds-Cds)CsHH) + other(R) + group(Cds-CdsCsH) + other(R) + group(Cds-CdsCsH) + other(R) + group(Cds-CdsCsH) + other(R) + group(Cds-CdsCsH) + other(R) + group(Cds-Cds(Cds-Cds)H) + other(R) + group(Cds-Cds(Cds-Cds)H) + other(R) + polycyclic(PolycyclicRing) + radical(Allyl_S)',\n",
      ")\n",
      "H298 = 68.897 kcal/mol\n",
      "S298 = 35.33 cal/mol*K\n",
      "1    Cs u0 {2,S} {3,S} {6,S}\n",
      "2  * Cs u0 {1,S} {4,S} {5,S}\n",
      "3    Cd u0 {1,S} {9,D}\n",
      "4    Cs u0 {2,S} {10,S}\n",
      "5    Cs u0 {2,S} {9,S}\n",
      "6    Cd u0 {1,S} {7,D}\n",
      "7    Cd u0 {6,D} {8,S}\n",
      "8    Cd u0 {7,S} {10,D}\n",
      "9    Cd u0 {3,D} {5,S}\n",
      "10   Cd u0 {4,S} {8,D}\n",
      "\n",
      "Polycyclic group was found to be generic \"PolycyclicRing\". Creating new entry: pdt8-2.\n",
      "=====================\n",
      "pdt10bis\n",
      "Species has 2 resonance isomers\n",
      "Molecule [CH]1C=CCC2C=CC=CC12 has a single polycyclic group match in thermo estimate.\n"
     ]
    },
    {
     "data": {
      "image/png": "[encoded data removed]",
      "text/plain": [
       "Molecule(SMILES=\"[CH]1C=CCC2C=CC=CC12\")"
      ]
     },
     "metadata": {},
     "output_type": "display_data"
    },
    {
     "name": "stdout",
     "output_type": "stream",
     "text": [
      "Molecule SMILES: [CH]1C=CCC2C=CC=CC12\n",
      "Estimated thermo data:\n",
      "ThermoData(\n",
      "    Tdata = ([300, 400, 500, 600, 800, 1000, 1500], 'K'),\n",
      "    Cpdata = ([178.155, 231.877, 276.06, 309.114, 359.447, 393.212, 442.96], 'J/(mol*K)'),\n",
      "    H298 = (285.922, 'kJ/mol'),\n",
      "    S298 = (155.017, 'J/(mol*K)'),\n",
      "    comment = 'Thermo group additivity estimation: group(Cs-(Cds-Cds)CsCsH) + other(R) + group(Cs-(Cds-Cds)CsCsH) + other(R) + group(Cs-(Cds-Cds)CsHH) + other(R) + group(Cs-(Cds-Cds)CsHH) + other(R) + group(Cds-CdsCsH) + other(R) + group(Cds-CdsCsH) + other(R) + group(Cds-CdsCsH) + other(R) + group(Cds-CdsCsH) + other(R) + group(Cds-Cds(Cds-Cds)H) + other(R) + group(Cds-Cds(Cds-Cds)H) + other(R) + polycyclic(PolycyclicRing) + radical(cyclohexene-allyl)',\n",
      ")\n",
      "H298 = 68.337 kcal/mol\n",
      "S298 = 37.05 cal/mol*K\n",
      "1  * Cs u0 {4,S} {7,S} {10,S}\n",
      "2    Cs u0 {3,S} {4,S}\n",
      "3    Cd u0 {2,S} {5,D}\n",
      "4    Cs u0 {1,S} {2,S} {8,S}\n",
      "5    Cd u0 {3,D} {7,S}\n",
      "6    Cd u0 {9,S} {10,D}\n",
      "7    Cs u0 {1,S} {5,S}\n",
      "8    Cd u0 {4,S} {9,D}\n",
      "9    Cd u0 {6,S} {8,D}\n",
      "10   Cd u0 {1,S} {6,D}\n",
      "\n",
      "Polycyclic group was found to be generic \"PolycyclicRing\". Creating new entry: pdt10bis.\n",
      "Molecule [CH]1C=CC2C=CC=CC2C1 has a single polycyclic group match in thermo estimate.\n"
     ]
    },
    {
     "data": {
      "image/png": "[encoded data removed]",
      "text/plain": [
       "Molecule(SMILES=\"[CH]1C=CC2C=CC=CC2C1\")"
      ]
     },
     "metadata": {},
     "output_type": "display_data"
    },
    {
     "name": "stdout",
     "output_type": "stream",
     "text": [
      "Molecule SMILES: [CH]1C=CC2C=CC=CC2C1\n",
      "Estimated thermo data:\n",
      "ThermoData(\n",
      "    Tdata = ([300, 400, 500, 600, 800, 1000, 1500], 'K'),\n",
      "    Cpdata = ([184.431, 234.89, 277.148, 309.742, 358.778, 392.585, 442.332], 'J/(mol*K)'),\n",
      "    H298 = (286.801, 'kJ/mol'),\n",
      "    S298 = (147.821, 'J/(mol*K)'),\n",
      "    comment = 'Thermo group additivity estimation: group(Cs-(Cds-Cds)CsCsH) + other(R) + group(Cs-(Cds-Cds)(Cds-Cds)CsH) + other(R) + group(Cs-CsCsHH) + other(R) + group(Cs-(Cds-Cds)CsHH) + other(R) + group(Cds-CdsCsH) + other(R) + group(Cds-CdsCsH) + other(R) + group(Cds-CdsCsH) + other(R) + group(Cds-CdsCsH) + other(R) + group(Cds-Cds(Cds-Cds)H) + other(R) + group(Cds-Cds(Cds-Cds)H) + other(R) + polycyclic(PolycyclicRing) + radical(cyclohexene-allyl)',\n",
      ")\n",
      "H298 = 68.547 kcal/mol\n",
      "S298 = 35.33 cal/mol*K\n",
      "1  * Cs u0 {2,S} {3,S} {4,S}\n",
      "2    Cs u0 {1,S} {8,S}\n",
      "3    Cs u0 {1,S} {6,S} {9,S}\n",
      "4    Cd u0 {1,S} {10,D}\n",
      "5    Cd u0 {8,S} {9,D}\n",
      "6    Cd u0 {3,S} {7,D}\n",
      "7    Cd u0 {6,D} {10,S}\n",
      "8    Cs u0 {2,S} {5,S}\n",
      "9    Cd u0 {3,S} {5,D}\n",
      "10   Cd u0 {4,D} {7,S}\n",
      "\n",
      "Polycyclic group was found to be generic \"PolycyclicRing\". Creating new entry: pdt10bis-1.\n",
      "=====================\n",
      "pdt11\n",
      "Species has 1 resonance isomers\n",
      "Molecule C1=CCC2C=CC=CC2=C1 has a single polycyclic group match in thermo estimate.\n"
     ]
    },
    {
     "data": {
      "image/png": "[encoded data removed]",
      "text/plain": [
       "Molecule(SMILES=\"C1=CCC2C=CC=CC2=C1\")"
      ]
     },
     "metadata": {},
     "output_type": "display_data"
    },
    {
     "name": "stdout",
     "output_type": "stream",
     "text": [
      "Molecule SMILES: C1=CCC2C=CC=CC2=C1\n",
      "Estimated thermo data:\n",
      "ThermoData(\n",
      "    Tdata = ([300, 400, 500, 600, 800, 1000, 1500], 'K'),\n",
      "    Cpdata = ([190.037, 241.752, 281.541, 310.662, 352.376, 381.288, 424.509], 'J/(mol*K)'),\n",
      "    H298 = (226.354, 'kJ/mol'),\n",
      "    S298 = (125.562, 'J/(mol*K)'),\n",
      "    comment = 'Thermo group additivity estimation: group(Cs-(Cds-Cds)(Cds-Cds)CsH) + other(R) + group(Cs-(Cds-Cds)CsHH) + other(R) + group(Cds-Cds(Cds-Cds)Cs) + other(R) + group(Cds-CdsCsH) + other(R) + group(Cds-CdsCsH) + other(R) + group(Cds-Cds(Cds-Cds)H) + other(R) + group(Cds-Cds(Cds-Cds)H) + other(R) + group(Cds-Cds(Cds-Cds)H) + other(R) + group(Cds-Cds(Cds-Cds)H) + other(R) + group(Cds-Cds(Cds-Cds)H) + other(R) + polycyclic(PolycyclicRing)',\n",
      ")\n",
      "H298 = 54.1 kcal/mol\n",
      "S298 = 30.01 cal/mol*K\n",
      "1    Cd u0 {5,D} {8,S}\n",
      "2    Cd u0 {6,D} {7,S}\n",
      "3    Cs u0 {4,S} {6,S} {10,S}\n",
      "4    Cd u0 {3,S} {8,D} {9,S}\n",
      "5  * Cd u0 {1,D} {10,S}\n",
      "6    Cd u0 {2,D} {3,S}\n",
      "7    Cd u0 {2,S} {9,D}\n",
      "8    Cd u0 {1,S} {4,D}\n",
      "9    Cd u0 {4,S} {7,D}\n",
      "10   Cs u0 {3,S} {5,S}\n",
      "\n",
      "Polycyclic group was found to be generic \"PolycyclicRing\". Creating new entry: pdt11.\n",
      "=====================\n",
      "pdt17\n",
      "Species has 2 resonance isomers\n",
      "Molecule [CH]1C=CCC12C=CC=CC2 has a single polycyclic group match in thermo estimate.\n"
     ]
    },
    {
     "data": {
      "image/png": "[encoded data removed]",
      "text/plain": [
       "Molecule(SMILES=\"[CH]1C=CCC12C=CC=CC2\")"
      ]
     },
     "metadata": {},
     "output_type": "display_data"
    },
    {
     "name": "stdout",
     "output_type": "stream",
     "text": [
      "Molecule SMILES: [CH]1C=CCC12C=CC=CC2\n",
      "Estimated thermo data:\n",
      "ThermoData(\n",
      "    Tdata = ([300, 400, 500, 600, 800, 1000, 1500], 'K'),\n",
      "    Cpdata = ([181.46, 236.396, 280.537, 314.846, 364.552, 397.647, 443.086], 'J/(mol*K)'),\n",
      "    H298 = (274.123, 'kJ/mol'),\n",
      "    S298 = (148.574, 'J/(mol*K)'),\n",
      "    comment = 'Thermo group additivity estimation: group(Cs-(Cds-Cds)CsCsCs) + other(R) + group(Cs-(Cds-Cds)CsHH) + other(R) + group(Cs-(Cds-Cds)CsHH) + other(R) + group(Cs-(Cds-Cds)CsHH) + other(R) + group(Cds-CdsCsH) + other(R) + group(Cds-CdsCsH) + other(R) + group(Cds-CdsCsH) + other(R) + group(Cds-CdsCsH) + other(R) + group(Cds-Cds(Cds-Cds)H) + other(R) + group(Cds-Cds(Cds-Cds)H) + other(R) + polycyclic(PolycyclicRing) + radical(cyclopentene-allyl)',\n",
      ")\n",
      "H298 = 65.517 kcal/mol\n",
      "S298 = 35.51 cal/mol*K\n",
      "1  * Cs u0 {6,S} {9,S}\n",
      "2    Cd u0 {4,S} {10,D}\n",
      "3    Cs u0 {8,S} {9,S}\n",
      "4    Cd u0 {2,S} {8,D}\n",
      "5    Cd u0 {6,D} {7,S}\n",
      "6    Cd u0 {1,S} {5,D}\n",
      "7    Cs u0 {5,S} {9,S}\n",
      "8    Cd u0 {3,S} {4,D}\n",
      "9    Cs u0 {1,S} {3,S} {7,S} {10,S}\n",
      "10   Cd u0 {2,D} {9,S}\n",
      "\n",
      "Polycyclic group was found to be generic \"PolycyclicRing\". Creating new entry: pdt17.\n",
      "Molecule [CH]1C=CC2(C=CC=CC2)C1 has a single polycyclic group match in thermo estimate.\n"
     ]
    },
    {
     "data": {
      "image/png": "[encoded data removed]",
      "text/plain": [
       "Molecule(SMILES=\"[CH]1C=CC2(C=CC=CC2)C1\")"
      ]
     },
     "metadata": {},
     "output_type": "display_data"
    },
    {
     "name": "stdout",
     "output_type": "stream",
     "text": [
      "Molecule SMILES: [CH]1C=CC2(C=CC=CC2)C1\n",
      "Estimated thermo data:\n",
      "ThermoData(\n",
      "    Tdata = ([300, 400, 500, 600, 800, 1000, 1500], 'K'),\n",
      "    Cpdata = ([183.05, 236.773, 280.244, 314.26, 363.924, 397.062, 442.625], 'J/(mol*K)'),\n",
      "    H298 = (273.412, 'kJ/mol'),\n",
      "    S298 = (146.984, 'J/(mol*K)'),\n",
      "    comment = 'Thermo group additivity estimation: group(Cs-(Cds-Cds)(Cds-Cds)CsCs) + other(R) + group(Cs-CsCsHH) + other(R) + group(Cs-(Cds-Cds)CsHH) + other(R) + group(Cs-(Cds-Cds)CsHH) + other(R) + group(Cds-CdsCsH) + other(R) + group(Cds-CdsCsH) + other(R) + group(Cds-CdsCsH) + other(R) + group(Cds-CdsCsH) + other(R) + group(Cds-Cds(Cds-Cds)H) + other(R) + group(Cds-Cds(Cds-Cds)H) + other(R) + polycyclic(PolycyclicRing) + radical(cyclopentene-allyl)',\n",
      ")\n",
      "H298 = 65.347 kcal/mol\n",
      "S298 = 35.13 cal/mol*K\n",
      "1  * Cd u0 {7,S} {9,D}\n",
      "2    Cs u0 {3,S} {5,S}\n",
      "3    Cs u0 {2,S} {8,S} {9,S} {10,S}\n",
      "4    Cd u0 {6,S} {8,D}\n",
      "5    Cd u0 {2,S} {6,D}\n",
      "6    Cd u0 {4,S} {5,D}\n",
      "7    Cs u0 {1,S} {10,S}\n",
      "8    Cd u0 {3,S} {4,D}\n",
      "9    Cd u0 {1,D} {3,S}\n",
      "10   Cs u0 {3,S} {7,S}\n",
      "\n",
      "Polycyclic group was found to be generic \"PolycyclicRing\". Creating new entry: pdt17-1.\n",
      "=====================\n",
      "pdt19\n",
      "Species has 2 resonance isomers\n",
      "Molecule [CH]1C=CCC2=CC=CCC12 has a single polycyclic group match in thermo estimate.\n"
     ]
    },
    {
     "data": {
      "image/png": "[encoded data removed]",
      "text/plain": [
       "Molecule(SMILES=\"[CH]1C=CCC2=CC=CCC12\")"
      ]
     },
     "metadata": {},
     "output_type": "display_data"
    },
    {
     "name": "stdout",
     "output_type": "stream",
     "text": [
      "Molecule SMILES: [CH]1C=CCC2=CC=CCC12\n",
      "Estimated thermo data:\n",
      "ThermoData(\n",
      "    Tdata = ([300, 400, 500, 600, 800, 1000, 1500], 'K'),\n",
      "    Cpdata = ([180.163, 233.844, 277.064, 309.825, 359.406, 393.38, 442.374], 'J/(mol*K)'),\n",
      "    H298 = (281.487, 'kJ/mol'),\n",
      "    S298 = (160.122, 'J/(mol*K)'),\n",
      "    comment = 'Thermo group additivity estimation: group(Cs-(Cds-Cds)CsCsH) + other(R) + group(Cs-(Cds-Cds)CsHH) + other(R) + group(Cs-(Cds-Cds)CsHH) + other(R) + group(Cs-(Cds-Cds)(Cds-Cds)HH) + other(R) + group(Cds-CdsCsCs) + other(R) + group(Cds-CdsCsH) + other(R) + group(Cds-CdsCsH) + other(R) + group(Cds-CdsCsH) + other(R) + group(Cds-Cds(Cds-Cds)H) + other(R) + group(Cds-Cds(Cds-Cds)H) + other(R) + polycyclic(PolycyclicRing) + radical(cyclohexene-allyl)',\n",
      ")\n",
      "H298 = 67.277 kcal/mol\n",
      "S298 = 38.27 cal/mol*K\n",
      "1  * Cd u0 {2,S} {9,D}\n",
      "2    Cd u0 {1,S} {5,D}\n",
      "3    Cd u0 {7,S} {10,D}\n",
      "4    Cs u0 {5,S} {6,S}\n",
      "5    Cd u0 {2,D} {4,S}\n",
      "6    Cs u0 {4,S} {8,S} {9,S}\n",
      "7    Cs u0 {3,S} {9,S}\n",
      "8    Cs u0 {6,S} {10,S}\n",
      "9    Cd u0 {1,D} {6,S} {7,S}\n",
      "10   Cd u0 {3,D} {8,S}\n",
      "\n",
      "Polycyclic group was found to be generic \"PolycyclicRing\". Creating new entry: pdt19.\n",
      "Molecule [CH]1C=CC2CC=CC=C2C1 has a single polycyclic group match in thermo estimate.\n"
     ]
    },
    {
     "data": {
      "image/png": "[encoded data removed]",
      "text/plain": [
       "Molecule(SMILES=\"[CH]1C=CC2CC=CC=C2C1\")"
      ]
     },
     "metadata": {},
     "output_type": "display_data"
    },
    {
     "name": "stdout",
     "output_type": "stream",
     "text": [
      "Molecule SMILES: [CH]1C=CC2CC=CC=C2C1\n",
      "Estimated thermo data:\n",
      "ThermoData(\n",
      "    Tdata = ([300, 400, 500, 600, 800, 1000, 1500], 'K'),\n",
      "    Cpdata = ([186.606, 236.731, 278.11, 310.578, 359.029, 392.836, 442.04], 'J/(mol*K)'),\n",
      "    H298 = (281.11, 'kJ/mol'),\n",
      "    S298 = (152.842, 'J/(mol*K)'),\n",
      "    comment = 'Thermo group additivity estimation: group(Cs-(Cds-Cds)(Cds-Cds)CsH) + other(R) + group(Cs-(Cds-Cds)CsHH) + other(R) + group(Cs-(Cds-Cds)CsHH) + other(R) + group(Cs-(Cds-Cds)CsHH) + other(R) + group(Cds-CdsCsCs) + other(R) + group(Cds-CdsCsH) + other(R) + group(Cds-CdsCsH) + other(R) + group(Cds-CdsCsH) + other(R) + group(Cds-Cds(Cds-Cds)H) + other(R) + group(Cds-Cds(Cds-Cds)H) + other(R) + polycyclic(PolycyclicRing) + radical(cyclohexene-allyl)',\n",
      ")\n",
      "H298 = 67.187 kcal/mol\n",
      "S298 = 36.53 cal/mol*K\n",
      "1  * Cd u0 {6,D} {10,S}\n",
      "2    Cs u0 {7,S} {10,S}\n",
      "3    Cd u0 {5,D} {8,S}\n",
      "4    Cs u0 {6,S} {7,S} {9,S}\n",
      "5    Cd u0 {3,D} {9,S}\n",
      "6    Cd u0 {1,D} {4,S}\n",
      "7    Cd u0 {2,S} {4,S} {8,D}\n",
      "8    Cd u0 {3,S} {7,D}\n",
      "9    Cs u0 {4,S} {5,S}\n",
      "10   Cs u0 {1,S} {2,S}\n",
      "\n",
      "Polycyclic group was found to be generic \"PolycyclicRing\". Creating new entry: pdt19-1.\n",
      "=====================\n",
      "pdt21\n",
      "Species has 4 resonance isomers\n",
      "Molecule CC1C=CC=C2C=C[CH]C21 has a single polycyclic group match in thermo estimate.\n"
     ]
    },
    {
     "data": {
      "image/png": "[encoded data removed]",
      "text/plain": [
       "Molecule(SMILES=\"CC1C=CC=C2C=C[CH]C21\")"
      ]
     },
     "metadata": {},
     "output_type": "display_data"
    },
    {
     "name": "stdout",
     "output_type": "stream",
     "text": [
      "Molecule SMILES: CC1C=CC=C2C=C[CH]C21\n",
      "Estimated thermo data:\n",
      "ThermoData(\n",
      "    Tdata = ([300, 400, 500, 600, 800, 1000, 1500], 'K'),\n",
      "    Cpdata = ([184.891, 240.58, 285.014, 317.064, 365.096, 397.396, 445.805], 'J/(mol*K)'),\n",
      "    H298 = (245.505, 'kJ/mol'),\n",
      "    S298 = (131.03, 'J/(mol*K)'),\n",
      "    comment = 'Thermo group additivity estimation: group(Cs-(Cds-Cds)CsCsH) + other(R) + group(Cs-(Cds-Cds)CsCsH) + other(R) + group(Cs-(Cds-Cds)CsHH) + other(R) + group(Cs-CsHHH) + other(R) + group(Cds-Cds(Cds-Cds)Cs) + other(R) + group(Cds-CdsCsH) + other(R) + group(Cds-CdsCsH) + other(R) + group(Cds-Cds(Cds-Cds)H) + other(R) + group(Cds-Cds(Cds-Cds)H) + other(R) + group(Cds-Cds(Cds-Cds)H) + other(R) + polycyclic(PolycyclicRing) + radical(cyclopentene-allyl)',\n",
      ")\n",
      "H298 = 58.677 kcal/mol\n",
      "S298 = 31.3168305179 cal/mol*K\n",
      "1 * Cd u0 {8,S} {9,D}\n",
      "2   Cd u0 {3,D} {4,S}\n",
      "3   Cd u0 {2,D} {7,S}\n",
      "4   Cd u0 {2,S} {6,D}\n",
      "5   Cs u0 {6,S} {7,S} {8,S}\n",
      "6   Cd u0 {4,D} {5,S} {9,S}\n",
      "7   Cs u0 {3,S} {5,S}\n",
      "8   Cs u0 {1,S} {5,S}\n",
      "9   Cd u0 {1,D} {6,S}\n",
      "\n",
      "Polycyclic group was found to be generic \"PolycyclicRing\". Creating new entry: pdt21.\n",
      "Molecule CC1C=CC=C2[CH]C=CC21 has a single polycyclic group match in thermo estimate.\n"
     ]
    },
    {
     "data": {
      "image/png": "[encoded data removed]",
      "text/plain": [
       "Molecule(SMILES=\"CC1C=CC=C2[CH]C=CC21\")"
      ]
     },
     "metadata": {},
     "output_type": "display_data"
    },
    {
     "name": "stdout",
     "output_type": "stream",
     "text": [
      "Molecule SMILES: CC1C=CC=C2[CH]C=CC21\n",
      "Estimated thermo data:\n",
      "ThermoData(\n",
      "    Tdata = ([300, 400, 500, 600, 800, 1000, 1500], 'K'),\n",
      "    Cpdata = ([182.841, 236.019, 279.7, 312.838, 361.832, 395.597, 448.023], 'J/(mol*K)'),\n",
      "    H298 = (236.383, 'kJ/mol'),\n",
      "    S298 = (140.695, 'J/(mol*K)'),\n",
      "    comment = 'Thermo group additivity estimation: group(Cs-(Cds-Cds)CsCsH) + other(R) + group(Cs-(Cds-Cds)(Cds-Cds)CsH) + other(R) + group(Cs-(Cds-Cds)(Cds-Cds)HH) + other(R) + group(Cs-CsHHH) + other(R) + group(Cds-CdsCsCs) + other(R) + group(Cds-CdsCsH) + other(R) + group(Cds-CdsCsH) + other(R) + group(Cds-CdsCsH) + other(R) + group(Cds-Cds(Cds-Cds)H) + other(R) + group(Cds-Cds(Cds-Cds)H) + other(R) + polycyclic(PolycyclicRing) + radical(C=CCJC=C)',\n",
      ")\n",
      "H298 = 56.497 kcal/mol\n",
      "S298 = 33.6268305179 cal/mol*K\n",
      "1 * Cs u0 {4,S} {6,S}\n",
      "2   Cs u0 {5,S} {9,S}\n",
      "3   Cd u0 {4,D} {9,S}\n",
      "4   Cd u0 {1,S} {3,D}\n",
      "5   Cd u0 {2,S} {8,D}\n",
      "6   Cd u0 {1,S} {7,D} {9,S}\n",
      "7   Cd u0 {6,D} {8,S}\n",
      "8   Cd u0 {5,D} {7,S}\n",
      "9   Cs u0 {2,S} {3,S} {6,S}\n",
      "\n",
      "Polycyclic group was found to be generic \"PolycyclicRing\". Creating new entry: pdt21-1.\n",
      "Molecule CC1C=C[CH]C2=CC=CC21 has a single polycyclic group match in thermo estimate.\n"
     ]
    },
    {
     "data": {
      "image/png": "[encoded data removed]",
      "text/plain": [
       "Molecule(SMILES=\"CC1C=C[CH]C2=CC=CC21\")"
      ]
     },
     "metadata": {},
     "output_type": "display_data"
    },
    {
     "name": "stdout",
     "output_type": "stream",
     "text": [
      "Molecule SMILES: CC1C=C[CH]C2=CC=CC21\n",
      "Estimated thermo data:\n",
      "ThermoData(\n",
      "    Tdata = ([300, 400, 500, 600, 800, 1000, 1500], 'K'),\n",
      "    Cpdata = ([182.841, 236.019, 279.7, 312.838, 361.832, 395.597, 448.023], 'J/(mol*K)'),\n",
      "    H298 = (236.383, 'kJ/mol'),\n",
      "    S298 = (140.695, 'J/(mol*K)'),\n",
      "    comment = 'Thermo group additivity estimation: group(Cs-(Cds-Cds)CsCsH) + other(R) + group(Cs-(Cds-Cds)(Cds-Cds)CsH) + other(R) + group(Cs-(Cds-Cds)(Cds-Cds)HH) + other(R) + group(Cs-CsHHH) + other(R) + group(Cds-CdsCsCs) + other(R) + group(Cds-CdsCsH) + other(R) + group(Cds-CdsCsH) + other(R) + group(Cds-CdsCsH) + other(R) + group(Cds-Cds(Cds-Cds)H) + other(R) + group(Cds-Cds(Cds-Cds)H) + other(R) + polycyclic(PolycyclicRing) + radical(C=CCJC=C)',\n",
      ")\n",
      "H298 = 56.497 kcal/mol\n",
      "S298 = 33.6268305179 cal/mol*K\n",
      "1 * Cd u0 {7,D} {8,S}\n",
      "2   Cs u0 {4,S} {5,S}\n",
      "3   Cd u0 {4,D} {9,S}\n",
      "4   Cd u0 {2,S} {3,D}\n",
      "5   Cs u0 {2,S} {6,S} {7,S}\n",
      "6   Cd u0 {5,S} {8,D} {9,S}\n",
      "7   Cd u0 {1,D} {5,S}\n",
      "8   Cd u0 {1,S} {6,D}\n",
      "9   Cs u0 {3,S} {6,S}\n",
      "\n",
      "Polycyclic group was found to be generic \"PolycyclicRing\". Creating new entry: pdt21-2.\n",
      "Molecule CC1[CH]C=CC2=CC=CC21 has a single polycyclic group match in thermo estimate.\n"
     ]
    },
    {
     "data": {
      "image/png": "[encoded data removed]",
      "text/plain": [
       "Molecule(SMILES=\"CC1[CH]C=CC2=CC=CC21\")"
      ]
     },
     "metadata": {},
     "output_type": "display_data"
    },
    {
     "name": "stdout",
     "output_type": "stream",
     "text": [
      "Molecule SMILES: CC1[CH]C=CC2=CC=CC21\n",
      "Estimated thermo data:\n",
      "ThermoData(\n",
      "    Tdata = ([300, 400, 500, 600, 800, 1000, 1500], 'K'),\n",
      "    Cpdata = ([191.167, 243.592, 285.684, 317.691, 364.426, 396.769, 445.178], 'J/(mol*K)'),\n",
      "    H298 = (256.634, 'kJ/mol'),\n",
      "    S298 = (123.833, 'J/(mol*K)'),\n",
      "    comment = 'Thermo group additivity estimation: group(Cs-CsCsCsH) + other(R) + group(Cs-(Cds-Cds)(Cds-Cds)CsH) + other(R) + group(Cs-(Cds-Cds)CsHH) + other(R) + group(Cs-CsHHH) + other(R) + group(Cds-Cds(Cds-Cds)Cs) + other(R) + group(Cds-CdsCsH) + other(R) + group(Cds-CdsCsH) + other(R) + group(Cds-Cds(Cds-Cds)H) + other(R) + group(Cds-Cds(Cds-Cds)H) + other(R) + group(Cds-Cds(Cds-Cds)H) + other(R) + polycyclic(PolycyclicRing) + radical(cyclohexene-allyl)',\n",
      ")\n",
      "H298 = 61.337 kcal/mol\n",
      "S298 = 29.5968305179 cal/mol*K\n",
      "1 * Cs u0 {3,S} {6,S}\n",
      "2   Cs u0 {3,S} {4,S} {7,S}\n",
      "3   Cs u0 {1,S} {2,S}\n",
      "4   Cd u0 {2,S} {5,D} {8,S}\n",
      "5   Cd u0 {4,D} {9,S}\n",
      "6   Cd u0 {1,S} {8,D}\n",
      "7   Cd u0 {2,S} {9,D}\n",
      "8   Cd u0 {4,S} {6,D}\n",
      "9   Cd u0 {5,S} {7,D}\n",
      "\n",
      "Polycyclic group was found to be generic \"PolycyclicRing\". Creating new entry: pdt21-3.\n",
      "=====================\n",
      "pdt22\n",
      "Species has 1 resonance isomers\n",
      "Molecule C1C=CC2C=CC=C2C=1 has a single polycyclic group match in thermo estimate.\n"
     ]
    },
    {
     "data": {
      "image/png": "[encoded data removed]",
      "text/plain": [
       "Molecule(SMILES=\"C1C=CC2C=CC=C2C=1\")"
      ]
     },
     "metadata": {},
     "output_type": "display_data"
    },
    {
     "name": "stdout",
     "output_type": "stream",
     "text": [
      "Molecule SMILES: C1C=CC2C=CC=C2C=1\n",
      "Estimated thermo data:\n",
      "ThermoData(\n",
      "    Tdata = ([300, 400, 500, 600, 800, 1000, 1500], 'K'),\n",
      "    Cpdata = ([165.394, 210.623, 244.471, 268.864, 303.8, 327.9, 364.385], 'J/(mol*K)'),\n",
      "    H298 = (252.588, 'kJ/mol'),\n",
      "    S298 = (89.6213, 'J/(mol*K)'),\n",
      "    comment = 'Thermo group additivity estimation: group(Cs-(Cds-Cds)(Cds-Cds)(Cds-Cds)H) + other(R) + group(Cds-Cds(Cds-Cds)Cs) + other(R) + group(Cds-CdsCsH) + other(R) + group(Cds-CdsCsH) + other(R) + group(Cds-Cds(Cds-Cds)H) + other(R) + group(Cds-Cds(Cds-Cds)H) + other(R) + group(Cds-Cds(Cds-Cds)H) + other(R) + group(Cds-Cds(Cds-Cds)H) + other(R) + group(Cds-Cds(Cds-Cds)H) + other(R) + polycyclic(PolycyclicRing)',\n",
      ")\n",
      "H298 = 60.37 kcal/mol\n",
      "S298 = 21.42 cal/mol*K\n",
      "1 * Cd u0 {3,D} {7,S}\n",
      "2   Cd u0 {5,S} {6,S} {8,D}\n",
      "3   Cd u0 {1,D} {5,S}\n",
      "4   Cd u0 {8,S} {9,D}\n",
      "5   Cs u0 {2,S} {3,S} {9,S}\n",
      "6   Cd u0 {2,S} {7,D}\n",
      "7   Cd u0 {1,S} {6,D}\n",
      "8   Cd u0 {2,D} {4,S}\n",
      "9   Cd u0 {4,D} {5,S}\n",
      "\n",
      "Polycyclic group was found to be generic \"PolycyclicRing\". Creating new entry: pdt22.\n",
      "=====================\n",
      "pdt23\n",
      "Species has 2 resonance isomers\n",
      "Molecule [CH]1C=CC2C=CC=CCC12 has a single polycyclic group match in thermo estimate.\n"
     ]
    },
    {
     "data": {
      "image/png": "[encoded data removed]",
      "text/plain": [
       "Molecule(SMILES=\"[CH]1C=CC2C=CC=CCC12\")"
      ]
     },
     "metadata": {},
     "output_type": "display_data"
    },
    {
     "name": "stdout",
     "output_type": "stream",
     "text": [
      "Molecule SMILES: [CH]1C=CC2C=CC=CCC12\n",
      "Estimated thermo data:\n",
      "ThermoData(\n",
      "    Tdata = ([300, 400, 500, 600, 800, 1000, 1500], 'K'),\n",
      "    Cpdata = ([184.431, 234.89, 276.73, 309.742, 358.778, 392.585, 442.332], 'J/(mol*K)'),\n",
      "    H298 = (274.458, 'kJ/mol'),\n",
      "    S298 = (147.821, 'J/(mol*K)'),\n",
      "    comment = 'Thermo group additivity estimation: group(Cs-CsCsCsH) + other(R) + group(Cs-(Cds-Cds)(Cds-Cds)CsH) + other(R) + group(Cs-(Cds-Cds)CsHH) + other(R) + group(Cs-(Cds-Cds)CsHH) + other(R) + group(Cds-CdsCsH) + other(R) + group(Cds-CdsCsH) + other(R) + group(Cds-CdsCsH) + other(R) + group(Cds-CdsCsH) + other(R) + group(Cds-Cds(Cds-Cds)H) + other(R) + group(Cds-Cds(Cds-Cds)H) + other(R) + polycyclic(pdt8-2) + radical(cyclopentene-allyl)',\n",
      ")\n",
      "H298 = 65.597 kcal/mol\n",
      "S298 = 35.33 cal/mol*K\n",
      "Matched polycyclic group \"pdt8-2\"\n",
      "Molecule [CH]1C=CC2CC=CC=CC12 has a single polycyclic group match in thermo estimate.\n"
     ]
    },
    {
     "data": {
      "image/png": "[encoded data removed]",
      "text/plain": [
       "Molecule(SMILES=\"[CH]1C=CC2CC=CC=CC12\")"
      ]
     },
     "metadata": {},
     "output_type": "display_data"
    },
    {
     "name": "stdout",
     "output_type": "stream",
     "text": [
      "Molecule SMILES: [CH]1C=CC2CC=CC=CC12\n",
      "Estimated thermo data:\n",
      "ThermoData(\n",
      "    Tdata = ([300, 400, 500, 600, 800, 1000, 1500], 'K'),\n",
      "    Cpdata = ([178.155, 231.877, 276.06, 309.114, 359.447, 393.212, 442.96], 'J/(mol*K)'),\n",
      "    H298 = (274.625, 'kJ/mol'),\n",
      "    S298 = (155.017, 'J/(mol*K)'),\n",
      "    comment = 'Thermo group additivity estimation: group(Cs-(Cds-Cds)CsCsH) + other(R) + group(Cs-(Cds-Cds)CsCsH) + other(R) + group(Cs-(Cds-Cds)CsHH) + other(R) + group(Cs-(Cds-Cds)CsHH) + other(R) + group(Cds-CdsCsH) + other(R) + group(Cds-CdsCsH) + other(R) + group(Cds-CdsCsH) + other(R) + group(Cds-CdsCsH) + other(R) + group(Cds-Cds(Cds-Cds)H) + other(R) + group(Cds-Cds(Cds-Cds)H) + other(R) + polycyclic(pdt8) + radical(cyclopentene-allyl)',\n",
      ")\n",
      "H298 = 65.637 kcal/mol\n",
      "S298 = 37.05 cal/mol*K\n",
      "Matched polycyclic group \"pdt8\"\n",
      "=====================\n",
      "pdt24\n",
      "Species has 2 resonance isomers\n",
      "Molecule [CH]1C=CCC23CC=CC2C13 has a single polycyclic group match in thermo estimate.\n"
     ]
    },
    {
     "data": {
      "image/png": "[encoded data removed]",
      "text/plain": [
       "Molecule(SMILES=\"[CH]1C=CCC23CC=CC2C13\")"
      ]
     },
     "metadata": {},
     "output_type": "display_data"
    },
    {
     "name": "stdout",
     "output_type": "stream",
     "text": [
      "Molecule SMILES: [CH]1C=CCC23CC=CC2C13\n",
      "Estimated thermo data:\n",
      "ThermoData(\n",
      "    Tdata = ([300, 400, 500, 600, 800, 1000, 1500], 'K'),\n",
      "    Cpdata = ([182.13, 238.153, 284.47, 320.118, 372.585, 406.266, 453.044], 'J/(mol*K)'),\n",
      "    H298 = (209.606, 'kJ/mol'),\n",
      "    S298 = (-5.81576, 'J/(mol*K)'),\n",
      "    comment = 'Thermo group additivity estimation: group(Cs-CsCsCsCs) + other(R) + group(Cs-CsCsCsH) + other(R) + group(Cs-(Cds-Cds)CsCsH) + other(R) + group(Cs-(Cds-Cds)CsHH) + other(R) + group(Cs-(Cds-Cds)CsHH) + other(R) + group(Cs-(Cds-Cds)CsHH) + other(R) + group(Cds-CdsCsH) + other(R) + group(Cds-CdsCsH) + other(R) + group(Cds-CdsCsH) + other(R) + group(Cds-CdsCsH) + other(R) + polycyclic(product1) + radical(cyclohexene-allyl)',\n",
      ")\n",
      "H298 = 50.097 kcal/mol\n",
      "S298 = -1.39 cal/mol*K\n",
      "Matched polycyclic group \"product1\"\n",
      "Molecule [CH]1C=CC2C3C=CCC23C1 has a single polycyclic group match in thermo estimate.\n"
     ]
    },
    {
     "data": {
      "image/png": "[encoded data removed]",
      "text/plain": [
       "Molecule(SMILES=\"[CH]1C=CC2C3C=CCC23C1\")"
      ]
     },
     "metadata": {},
     "output_type": "display_data"
    },
    {
     "name": "stdout",
     "output_type": "stream",
     "text": [
      "Molecule SMILES: [CH]1C=CC2C3C=CCC23C1\n",
      "Estimated thermo data:\n",
      "ThermoData(\n",
      "    Tdata = ([300, 400, 500, 600, 800, 1000, 1500], 'K'),\n",
      "    Cpdata = ([182.13, 238.153, 284.889, 320.118, 372.585, 406.266, 453.044], 'J/(mol*K)'),\n",
      "    H298 = (210.652, 'kJ/mol'),\n",
      "    S298 = (-5.81576, 'J/(mol*K)'),\n",
      "    comment = 'Thermo group additivity estimation: group(Cs-CsCsCsCs) + other(R) + group(Cs-(Cds-Cds)CsCsH) + other(R) + group(Cs-(Cds-Cds)CsCsH) + other(R) + group(Cs-CsCsHH) + other(R) + group(Cs-(Cds-Cds)CsHH) + other(R) + group(Cs-(Cds-Cds)CsHH) + other(R) + group(Cds-CdsCsH) + other(R) + group(Cds-CdsCsH) + other(R) + group(Cds-CdsCsH) + other(R) + group(Cds-CdsCsH) + other(R) + polycyclic(product1) + radical(cyclohexene-allyl)',\n",
      ")\n",
      "H298 = 50.347 kcal/mol\n",
      "S298 = -1.39 cal/mol*K\n",
      "Matched polycyclic group \"product1\"\n",
      "=====================\n",
      "pdt26\n",
      "Species has 1 resonance isomers\n",
      "Molecule C1=CCC2=CC=CCC2=C1 has a single polycyclic group match in thermo estimate.\n"
     ]
    },
    {
     "data": {
      "image/png": "[encoded data removed]",
      "text/plain": [
       "Molecule(SMILES=\"C1=CCC2=CC=CCC2=C1\")"
      ]
     },
     "metadata": {},
     "output_type": "display_data"
    },
    {
     "name": "stdout",
     "output_type": "stream",
     "text": [
      "Molecule SMILES: C1=CCC2=CC=CCC2=C1\n",
      "Estimated thermo data:\n",
      "ThermoData(\n",
      "    Tdata = ([300, 400, 500, 600, 800, 1000, 1500], 'K'),\n",
      "    Cpdata = ([185.602, 240.831, 281.5, 310.62, 352.711, 381.999, 424.258], 'J/(mol*K)'),\n",
      "    H298 = (223.76, 'kJ/mol'),\n",
      "    S298 = (136.649, 'J/(mol*K)'),\n",
      "    comment = 'Thermo group additivity estimation: group(Cs-(Cds-Cds)(Cds-Cds)HH) + other(R) + group(Cs-(Cds-Cds)(Cds-Cds)HH) + other(R) + group(Cds-Cds(Cds-Cds)Cs) + other(R) + group(Cds-Cds(Cds-Cds)Cs) + other(R) + group(Cds-CdsCsH) + other(R) + group(Cds-CdsCsH) + other(R) + group(Cds-Cds(Cds-Cds)H) + other(R) + group(Cds-Cds(Cds-Cds)H) + other(R) + group(Cds-Cds(Cds-Cds)H) + other(R) + group(Cds-Cds(Cds-Cds)H) + other(R) + polycyclic(PolycyclicRing)',\n",
      ")\n",
      "H298 = 53.48 kcal/mol\n",
      "S298 = 32.66 cal/mol*K\n",
      "1  * Cd u0 {4,D} {7,S}\n",
      "2    Cs u0 {6,S} {9,S}\n",
      "3    Cs u0 {4,S} {8,S}\n",
      "4    Cd u0 {1,D} {3,S} {6,S}\n",
      "5    Cd u0 {8,D} {10,S}\n",
      "6    Cd u0 {2,S} {4,S} {10,D}\n",
      "7    Cd u0 {1,S} {9,D}\n",
      "8    Cd u0 {3,S} {5,D}\n",
      "9    Cd u0 {2,S} {7,D}\n",
      "10   Cd u0 {5,S} {6,D}\n",
      "\n",
      "Polycyclic group was found to be generic \"PolycyclicRing\". Creating new entry: pdt26.\n",
      "=====================\n",
      "pdt27\n",
      "Species has 3 resonance isomers\n",
      "Molecule CC1C=CC=C2C=CC[C]21 has a single polycyclic group match in thermo estimate.\n"
     ]
    },
    {
     "data": {
      "image/png": "[encoded data removed]",
      "text/plain": [
       "Molecule(SMILES=\"CC1C=CC=C2C=CC[C]21\")"
      ]
     },
     "metadata": {},
     "output_type": "display_data"
    },
    {
     "name": "stdout",
     "output_type": "stream",
     "text": [
      "Molecule SMILES: CC1C=CC=C2C=CC[C]21\n",
      "Estimated thermo data:\n",
      "ThermoData(\n",
      "    Tdata = ([300, 400, 500, 600, 800, 1000, 1500], 'K'),\n",
      "    Cpdata = ([183.845, 238.237, 282.253, 314.344, 362.878, 395.681, 447.06], 'J/(mol*K)'),\n",
      "    H298 = (250.107, 'kJ/mol'),\n",
      "    S298 = (131.532, 'J/(mol*K)'),\n",
      "    comment = 'Thermo group additivity estimation: group(Cs-(Cds-Cds)CsCsH) + other(R) + group(Cs-(Cds-Cds)CsCsH) + other(R) + group(Cs-(Cds-Cds)CsHH) + other(R) + group(Cs-CsHHH) + other(R) + group(Cds-Cds(Cds-Cds)Cs) + other(R) + group(Cds-CdsCsH) + other(R) + group(Cds-CdsCsH) + other(R) + group(Cds-Cds(Cds-Cds)H) + other(R) + group(Cds-Cds(Cds-Cds)H) + other(R) + group(Cds-Cds(Cds-Cds)H) + other(R) + polycyclic(pdt21) + radical(Allyl_T)',\n",
      ")\n",
      "H298 = 59.777 kcal/mol\n",
      "S298 = 31.4368305179 cal/mol*K\n",
      "Matched polycyclic group \"pdt21\"\n",
      "Molecule CC1C=C[CH]C2C=CCC=21 has a single polycyclic group match in thermo estimate.\n"
     ]
    },
    {
     "data": {
      "image/png": "[encoded data removed]",
      "text/plain": [
       "Molecule(SMILES=\"CC1C=C[CH]C2C=CCC=21\")"
      ]
     },
     "metadata": {},
     "output_type": "display_data"
    },
    {
     "name": "stdout",
     "output_type": "stream",
     "text": [
      "Molecule SMILES: CC1C=C[CH]C2C=CCC=21\n",
      "Estimated thermo data:\n",
      "ThermoData(\n",
      "    Tdata = ([300, 400, 500, 600, 800, 1000, 1500], 'K'),\n",
      "    Cpdata = ([184.849, 237.986, 280.705, 313.549, 361.79, 395.765, 447.437], 'J/(mol*K)'),\n",
      "    H298 = (233.413, 'kJ/mol'),\n",
      "    S298 = (144.502, 'J/(mol*K)'),\n",
      "    comment = 'Thermo group additivity estimation: group(Cs-(Cds-Cds)(Cds-Cds)CsH) + other(R) + group(Cs-(Cds-Cds)(Cds-Cds)HH) + other(R) + group(Cs-(Cds-Cds)(Cds-Cds)HH) + other(R) + group(Cs-CsHHH) + other(R) + group(Cds-CdsCsCs) + other(R) + group(Cds-Cds(Cds-Cds)Cs) + other(R) + group(Cds-CdsCsH) + other(R) + group(Cds-CdsCsH) + other(R) + group(Cds-CdsCsH) + other(R) + group(Cds-Cds(Cds-Cds)H) + other(R) + polycyclic(PolycyclicRing) + radical(C=CCJC=C)',\n",
      ")\n",
      "H298 = 55.787 kcal/mol\n",
      "S298 = 34.5368305179 cal/mol*K\n",
      "1 * Cd u0 {4,S} {6,D}\n",
      "2   Cs u0 {5,S} {9,S}\n",
      "3   Cs u0 {4,S} {7,S}\n",
      "4   Cd u0 {1,S} {3,S} {9,D}\n",
      "5   Cd u0 {2,S} {7,D}\n",
      "6   Cd u0 {1,D} {8,S}\n",
      "7   Cd u0 {3,S} {5,D}\n",
      "8   Cs u0 {6,S} {9,S}\n",
      "9   Cd u0 {2,S} {4,D} {8,S}\n",
      "\n",
      "Polycyclic group was found to be generic \"PolycyclicRing\". Creating new entry: pdt27.\n",
      "Molecule CC1[CH]C=CC2C=CCC=21 has a single polycyclic group match in thermo estimate.\n"
     ]
    },
    {
     "data": {
      "image/png": "[encoded data removed]",
      "text/plain": [
       "Molecule(SMILES=\"CC1[CH]C=CC2C=CCC=21\")"
      ]
     },
     "metadata": {},
     "output_type": "display_data"
    },
    {
     "name": "stdout",
     "output_type": "stream",
     "text": [
      "Molecule SMILES: CC1[CH]C=CC2C=CCC=21\n",
      "Estimated thermo data:\n",
      "ThermoData(\n",
      "    Tdata = ([300, 400, 500, 600, 800, 1000, 1500], 'K'),\n",
      "    Cpdata = ([175.184, 228.154, 271.918, 305.976, 358.234, 393.589, 446.433], 'J/(mol*K)'),\n",
      "    H298 = (273.83, 'kJ/mol'),\n",
      "    S298 = (138.31, 'J/(mol*K)'),\n",
      "    comment = 'Thermo group additivity estimation: group(Cs-(Cds-Cds)CsCsH) + other(R) + group(Cs-(Cds-Cds)CsHH) + other(R) + group(Cs-(Cds-Cds)(Cds-Cds)HH) + other(R) + group(Cs-CsHHH) + other(R) + group(Cds-CdsCsCs) + other(R) + group(Cds-Cds(Cds-Cds)(Cds-Cds)) + other(R) + group(Cds-CdsCsH) + other(R) + group(Cds-CdsCsH) + other(R) + group(Cds-Cds(Cds-Cds)H) + other(R) + group(Cds-Cds(Cds-Cds)H) + other(R) + polycyclic(PolycyclicRing) + radical(Allyl_S)',\n",
      ")\n",
      "H298 = 65.447 kcal/mol\n",
      "S298 = 33.0568305179 cal/mol*K\n",
      "1 * Cd u0 {4,S} {7,D}\n",
      "2   Cd u0 {5,S} {8,D}\n",
      "3   Cs u0 {6,S} {9,S}\n",
      "4   Cs u0 {1,S} {9,S}\n",
      "5   Cd u0 {2,S} {7,S} {9,D}\n",
      "6   Cs u0 {3,S} {8,S}\n",
      "7   Cd u0 {1,D} {5,S}\n",
      "8   Cd u0 {2,D} {6,S}\n",
      "9   Cd u0 {3,S} {4,S} {5,D}\n",
      "\n",
      "Polycyclic group was found to be generic \"PolycyclicRing\". Creating new entry: pdt27-1.\n",
      "=====================\n",
      "pdt28\n",
      "Species has 1 resonance isomers\n",
      "Molecule C1C=CC2C=CC[C]2CC=1 has a single polycyclic group match in thermo estimate.\n"
     ]
    },
    {
     "data": {
      "image/png": "[encoded data removed]",
      "text/plain": [
       "Molecule(SMILES=\"C1C=CC2C=CC[C]2CC=1\")"
      ]
     },
     "metadata": {},
     "output_type": "display_data"
    },
    {
     "name": "stdout",
     "output_type": "stream",
     "text": [
      "Molecule SMILES: C1C=CC2C=CC[C]2CC=1\n",
      "Estimated thermo data:\n",
      "ThermoData(\n",
      "    Tdata = ([300, 400, 500, 600, 800, 1000, 1500], 'K'),\n",
      "    Cpdata = ([187.611, 232.128, 270.579, 302.085, 350.41, 384.719, 435.889], 'J/(mol*K)'),\n",
      "    H298 = (333.871, 'kJ/mol'),\n",
      "    S298 = (185.686, 'J/(mol*K)'),\n",
      "    comment = 'Thermo group additivity estimation: group(Cs-CsCsCsH) + other(R) + group(Cs-(Cds-Cds)(Cds-Cds)CsH) + other(R) + group(Cs-(Cds-Cds)CsHH) + other(R) + group(Cs-(Cds-Cds)CsHH) + other(R) + group(Cds-CdsCsH) + other(R) + group(Cds-CdsCsH) + other(R) + group(Cds-CdsCsH) + other(R) + group(Cds-CdsCsH) + other(R) + group(Cds-Cds(Cds-Cds)H) + other(R) + group(Cds-Cds(Cds-Cds)H) + other(R) + polycyclic(pdt8-2) + radical(Tertalkyl)',\n",
      ")\n",
      "H298 = 79.797 kcal/mol\n",
      "S298 = 44.38 cal/mol*K\n",
      "Matched polycyclic group \"pdt8-2\"\n",
      "=====================\n",
      "pdt29\n",
      "Species has 4 resonance isomers\n",
      "Molecule [CH]1C=CC=C2C=CCC2C1 has a single polycyclic group match in thermo estimate.\n"
     ]
    },
    {
     "data": {
      "image/png": "[encoded data removed]",
      "text/plain": [
       "Molecule(SMILES=\"[CH]1C=CC=C2C=CCC2C1\")"
      ]
     },
     "metadata": {},
     "output_type": "display_data"
    },
    {
     "name": "stdout",
     "output_type": "stream",
     "text": [
      "Molecule SMILES: [CH]1C=CC=C2C=CCC2C1\n",
      "Estimated thermo data:\n",
      "ThermoData(\n",
      "    Tdata = ([300, 400, 500, 600, 800, 1000, 1500], 'K'),\n",
      "    Cpdata = ([186.021, 240.831, 284.303, 316.478, 364.301, 396.811, 444.759], 'J/(mol*K)'),\n",
      "    H298 = (267.638, 'kJ/mol'),\n",
      "    S298 = (142.256, 'J/(mol*K)'),\n",
      "    comment = 'Thermo group additivity estimation: group(Cs-(Cds-Cds)CsCsH) + other(R) + group(Cs-CsCsHH) + other(R) + group(Cs-(Cds-Cds)CsHH) + other(R) + group(Cs-(Cds-Cds)CsHH) + other(R) + group(Cds-Cds(Cds-Cds)Cs) + other(R) + group(Cds-CdsCsH) + other(R) + group(Cds-CdsCsH) + other(R) + group(Cds-Cds(Cds-Cds)H) + other(R) + group(Cds-Cds(Cds-Cds)H) + other(R) + group(Cds-Cds(Cds-Cds)H) + other(R) + polycyclic(PolycyclicRing) + radical(Allyl_S)',\n",
      ")\n",
      "H298 = 63.967 kcal/mol\n",
      "S298 = 34.0 cal/mol*K\n",
      "1  * Cd u0 {4,D} {9,S} {10,S}\n",
      "2    Cd u0 {4,S} {7,D}\n",
      "3    Cs u0 {6,S} {9,S}\n",
      "4    Cd u0 {1,D} {2,S}\n",
      "5    Cs u0 {7,S} {8,S}\n",
      "6    Cd u0 {3,S} {10,D}\n",
      "7    Cd u0 {2,D} {5,S}\n",
      "8    Cs u0 {5,S} {9,S}\n",
      "9    Cs u0 {1,S} {3,S} {8,S}\n",
      "10   Cd u0 {1,S} {6,D}\n",
      "\n",
      "Polycyclic group was found to be generic \"PolycyclicRing\". Creating new entry: pdt29.\n",
      "Molecule [CH]1C=CCC2CC=CC2=C1 has a single polycyclic group match in thermo estimate.\n"
     ]
    },
    {
     "data": {
      "image/png": "[encoded data removed]",
      "text/plain": [
       "Molecule(SMILES=\"[CH]1C=CCC2CC=CC2=C1\")"
      ]
     },
     "metadata": {},
     "output_type": "display_data"
    },
    {
     "name": "stdout",
     "output_type": "stream",
     "text": [
      "Molecule SMILES: [CH]1C=CCC2CC=CC2=C1\n",
      "Estimated thermo data:\n",
      "ThermoData(\n",
      "    Tdata = ([300, 400, 500, 600, 800, 1000, 1500], 'K'),\n",
      "    Cpdata = ([177.694, 233.258, 277.901, 311.624, 361.707, 395.639, 447.604], 'J/(mol*K)'),\n",
      "    H298 = (245.295, 'kJ/mol'),\n",
      "    S298 = (157.82, 'J/(mol*K)'),\n",
      "    comment = 'Thermo group additivity estimation: group(Cs-(Cds-Cds)CsCsH) + other(R) + group(Cs-(Cds-Cds)CsHH) + other(R) + group(Cs-(Cds-Cds)CsHH) + other(R) + group(Cs-(Cds-Cds)(Cds-Cds)HH) + other(R) + group(Cds-Cds(Cds-Cds)Cs) + other(R) + group(Cds-CdsCsH) + other(R) + group(Cds-CdsCsH) + other(R) + group(Cds-CdsCsH) + other(R) + group(Cds-CdsCsH) + other(R) + group(Cds-Cds(Cds-Cds)H) + other(R) + polycyclic(PolycyclicRing) + radical(C=CCJC=C)',\n",
      ")\n",
      "H298 = 58.627 kcal/mol\n",
      "S298 = 37.72 cal/mol*K\n",
      "1  * Cs u0 {2,S} {3,S}\n",
      "2    Cd u0 {1,S} {9,D}\n",
      "3    Cd u0 {1,S} {6,D}\n",
      "4    Cs u0 {6,S} {8,S} {10,S}\n",
      "5    Cd u0 {7,D} {10,S}\n",
      "6    Cd u0 {3,D} {4,S} {7,S}\n",
      "7    Cd u0 {5,D} {6,S}\n",
      "8    Cs u0 {4,S} {9,S}\n",
      "9    Cd u0 {2,D} {8,S}\n",
      "10   Cs u0 {4,S} {5,S}\n",
      "\n",
      "Polycyclic group was found to be generic \"PolycyclicRing\". Creating new entry: pdt29-1.\n",
      "Molecule C1C=C[C]2C=CCC2CC=1 has a single polycyclic group match in thermo estimate.\n"
     ]
    },
    {
     "data": {
      "image/png": "[encoded data removed]",
      "text/plain": [
       "Molecule(SMILES=\"C1C=C[C]2C=CCC2CC=1\")"
      ]
     },
     "metadata": {},
     "output_type": "display_data"
    },
    {
     "name": "stdout",
     "output_type": "stream",
     "text": [
      "Molecule SMILES: C1C=C[C]2C=CCC2CC=1\n",
      "Estimated thermo data:\n",
      "ThermoData(\n",
      "    Tdata = ([300, 400, 500, 600, 800, 1000, 1500], 'K'),\n",
      "    Cpdata = ([187.611, 232.128, 270.579, 302.085, 350.41, 384.719, 435.889], 'J/(mol*K)'),\n",
      "    H298 = (333.871, 'kJ/mol'),\n",
      "    S298 = (185.686, 'J/(mol*K)'),\n",
      "    comment = 'Thermo group additivity estimation: group(Cs-CsCsCsH) + other(R) + group(Cs-(Cds-Cds)(Cds-Cds)CsH) + other(R) + group(Cs-(Cds-Cds)CsHH) + other(R) + group(Cs-(Cds-Cds)CsHH) + other(R) + group(Cds-CdsCsH) + other(R) + group(Cds-CdsCsH) + other(R) + group(Cds-CdsCsH) + other(R) + group(Cds-CdsCsH) + other(R) + group(Cds-Cds(Cds-Cds)H) + other(R) + group(Cds-Cds(Cds-Cds)H) + other(R) + polycyclic(pdt8-2) + radical(Tertalkyl)',\n",
      ")\n",
      "H298 = 79.797 kcal/mol\n",
      "S298 = 44.38 cal/mol*K\n",
      "Matched polycyclic group \"pdt8-2\"\n",
      "Molecule [CH]1C=C2C=CC=CCC2C1 has a single polycyclic group match in thermo estimate.\n"
     ]
    },
    {
     "data": {
      "image/png": "[encoded data removed]",
      "text/plain": [
       "Molecule(SMILES=\"[CH]1C=C2C=CC=CCC2C1\")"
      ]
     },
     "metadata": {},
     "output_type": "display_data"
    },
    {
     "name": "stdout",
     "output_type": "stream",
     "text": [
      "Molecule SMILES: [CH]1C=C2C=CC=CCC2C1\n",
      "Estimated thermo data:\n",
      "ThermoData(\n",
      "    Tdata = ([300, 400, 500, 600, 800, 1000, 1500], 'K'),\n",
      "    Cpdata = ([186.021, 240.831, 284.303, 316.478, 364.301, 396.811, 444.759], 'J/(mol*K)'),\n",
      "    H298 = (253.831, 'kJ/mol'),\n",
      "    S298 = (142.256, 'J/(mol*K)'),\n",
      "    comment = 'Thermo group additivity estimation: group(Cs-(Cds-Cds)CsCsH) + other(R) + group(Cs-CsCsHH) + other(R) + group(Cs-(Cds-Cds)CsHH) + other(R) + group(Cs-(Cds-Cds)CsHH) + other(R) + group(Cds-Cds(Cds-Cds)Cs) + other(R) + group(Cds-CdsCsH) + other(R) + group(Cds-CdsCsH) + other(R) + group(Cds-Cds(Cds-Cds)H) + other(R) + group(Cds-Cds(Cds-Cds)H) + other(R) + group(Cds-Cds(Cds-Cds)H) + other(R) + polycyclic(PolycyclicRing) + radical(cyclopentene-allyl)',\n",
      ")\n",
      "H298 = 60.667 kcal/mol\n",
      "S298 = 34.0 cal/mol*K\n",
      "1  * Cs u0 {4,S} {8,S} {10,S}\n",
      "2    Cd u0 {5,D} {7,S}\n",
      "3    Cs u0 {9,S} {10,S}\n",
      "4    Cs u0 {1,S} {5,S}\n",
      "5    Cd u0 {2,D} {4,S}\n",
      "6    Cd u0 {7,D} {8,S}\n",
      "7    Cd u0 {2,S} {6,D}\n",
      "8    Cd u0 {1,S} {6,S} {9,D}\n",
      "9    Cd u0 {3,S} {8,D}\n",
      "10   Cs u0 {1,S} {3,S}\n",
      "\n",
      "Polycyclic group was found to be generic \"PolycyclicRing\". Creating new entry: pdt29-2.\n",
      "=====================\n",
      "pdt30\n",
      "Species has 1 resonance isomers\n",
      "Molecule C1C=CC2=CC=CC2CC=1 has a single polycyclic group match in thermo estimate.\n"
     ]
    },
    {
     "data": {
      "image/png": "[encoded data removed]",
      "text/plain": [
       "Molecule(SMILES=\"C1C=CC2=CC=CC2CC=1\")"
      ]
     },
     "metadata": {},
     "output_type": "display_data"
    },
    {
     "name": "stdout",
     "output_type": "stream",
     "text": [
      "Molecule SMILES: C1C=CC2=CC=CC2CC=1\n",
      "Estimated thermo data:\n",
      "ThermoData(\n",
      "    Tdata = ([300, 400, 500, 600, 800, 1000, 1500], 'K'),\n",
      "    Cpdata = ([190.037, 241.752, 281.541, 310.662, 352.376, 381.288, 424.509], 'J/(mol*K)'),\n",
      "    H298 = (226.354, 'kJ/mol'),\n",
      "    S298 = (125.562, 'J/(mol*K)'),\n",
      "    comment = 'Thermo group additivity estimation: group(Cs-(Cds-Cds)(Cds-Cds)CsH) + other(R) + group(Cs-(Cds-Cds)CsHH) + other(R) + group(Cds-Cds(Cds-Cds)Cs) + other(R) + group(Cds-CdsCsH) + other(R) + group(Cds-CdsCsH) + other(R) + group(Cds-Cds(Cds-Cds)H) + other(R) + group(Cds-Cds(Cds-Cds)H) + other(R) + group(Cds-Cds(Cds-Cds)H) + other(R) + group(Cds-Cds(Cds-Cds)H) + other(R) + group(Cds-Cds(Cds-Cds)H) + other(R) + polycyclic(PolycyclicRing)',\n",
      ")\n",
      "H298 = 54.1 kcal/mol\n",
      "S298 = 30.01 cal/mol*K\n",
      "1  * Cd u0 {3,S} {8,D}\n",
      "2    Cd u0 {7,D} {10,S}\n",
      "3    Cs u0 {1,S} {4,S}\n",
      "4    Cs u0 {3,S} {6,S} {7,S}\n",
      "5    Cd u0 {6,S} {9,D}\n",
      "6    Cd u0 {4,S} {5,S} {10,D}\n",
      "7    Cd u0 {2,D} {4,S}\n",
      "8    Cd u0 {1,D} {9,S}\n",
      "9    Cd u0 {5,D} {8,S}\n",
      "10   Cd u0 {2,S} {6,D}\n",
      "\n",
      "Polycyclic group was found to be generic \"PolycyclicRing\". Creating new entry: pdt30.\n",
      "=====================\n",
      "pdt31\n",
      "Species has 1 resonance isomers\n",
      "Molecule C1=CC=C2C=CCC2C=C1 has a single polycyclic group match in thermo estimate.\n"
     ]
    },
    {
     "data": {
      "image/png": "[encoded data removed]",
      "text/plain": [
       "Molecule(SMILES=\"C1=CC=C2C=CCC2C=C1\")"
      ]
     },
     "metadata": {},
     "output_type": "display_data"
    },
    {
     "name": "stdout",
     "output_type": "stream",
     "text": [
      "Molecule SMILES: C1=CC=C2C=CCC2C=C1\n",
      "Estimated thermo data:\n",
      "ThermoData(\n",
      "    Tdata = ([300, 400, 500, 600, 800, 1000, 1500], 'K'),\n",
      "    Cpdata = ([190.037, 241.752, 281.541, 310.662, 352.376, 381.288, 424.509], 'J/(mol*K)'),\n",
      "    H298 = (226.354, 'kJ/mol'),\n",
      "    S298 = (125.562, 'J/(mol*K)'),\n",
      "    comment = 'Thermo group additivity estimation: group(Cs-(Cds-Cds)(Cds-Cds)CsH) + other(R) + group(Cs-(Cds-Cds)CsHH) + other(R) + group(Cds-Cds(Cds-Cds)Cs) + other(R) + group(Cds-CdsCsH) + other(R) + group(Cds-CdsCsH) + other(R) + group(Cds-Cds(Cds-Cds)H) + other(R) + group(Cds-Cds(Cds-Cds)H) + other(R) + group(Cds-Cds(Cds-Cds)H) + other(R) + group(Cds-Cds(Cds-Cds)H) + other(R) + group(Cds-Cds(Cds-Cds)H) + other(R) + polycyclic(PolycyclicRing)',\n",
      ")\n",
      "H298 = 54.1 kcal/mol\n",
      "S298 = 30.01 cal/mol*K\n",
      "1    Cs u0 {4,S} {9,S} {10,S}\n",
      "2    Cd u0 {6,S} {8,D}\n",
      "3  * Cd u0 {8,S} {9,D}\n",
      "4    Cd u0 {1,S} {6,D}\n",
      "5    Cd u0 {7,D} {9,S}\n",
      "6    Cd u0 {2,S} {4,D}\n",
      "7    Cd u0 {5,D} {10,S}\n",
      "8    Cd u0 {2,D} {3,S}\n",
      "9    Cd u0 {1,S} {3,D} {5,S}\n",
      "10   Cs u0 {1,S} {7,S}\n",
      "\n",
      "Polycyclic group was found to be generic \"PolycyclicRing\". Creating new entry: pdt31.\n",
      "=====================\n",
      "pdt32\n",
      "Species has 4 resonance isomers\n",
      "Molecule CC1C=CC2=CC=C[CH]C21 has a single polycyclic group match in thermo estimate.\n"
     ]
    },
    {
     "data": {
      "image/png": "[encoded data removed]",
      "text/plain": [
       "Molecule(SMILES=\"CC1C=CC2=CC=C[CH]C21\")"
      ]
     },
     "metadata": {},
     "output_type": "display_data"
    },
    {
     "name": "stdout",
     "output_type": "stream",
     "text": [
      "Molecule SMILES: CC1C=CC2=CC=C[CH]C21\n",
      "Estimated thermo data:\n",
      "ThermoData(\n",
      "    Tdata = ([300, 400, 500, 600, 800, 1000, 1500], 'K'),\n",
      "    Cpdata = ([184.891, 240.58, 285.014, 317.064, 365.096, 397.396, 445.805], 'J/(mol*K)'),\n",
      "    H298 = (259.312, 'kJ/mol'),\n",
      "    S298 = (131.03, 'J/(mol*K)'),\n",
      "    comment = 'Thermo group additivity estimation: group(Cs-(Cds-Cds)CsCsH) + other(R) + group(Cs-(Cds-Cds)CsCsH) + other(R) + group(Cs-(Cds-Cds)CsHH) + other(R) + group(Cs-CsHHH) + other(R) + group(Cds-Cds(Cds-Cds)Cs) + other(R) + group(Cds-CdsCsH) + other(R) + group(Cds-CdsCsH) + other(R) + group(Cds-Cds(Cds-Cds)H) + other(R) + group(Cds-Cds(Cds-Cds)H) + other(R) + group(Cds-Cds(Cds-Cds)H) + other(R) + polycyclic(pdt21) + radical(Allyl_S)',\n",
      ")\n",
      "H298 = 61.977 kcal/mol\n",
      "S298 = 31.3168305179 cal/mol*K\n",
      "Matched polycyclic group \"pdt21\"\n",
      "Molecule CC1C=CC2=C[CH]C=CC21 has a single polycyclic group match in thermo estimate.\n"
     ]
    },
    {
     "data": {
      "image/png": "[encoded data removed]",
      "text/plain": [
       "Molecule(SMILES=\"CC1C=CC2=C[CH]C=CC21\")"
      ]
     },
     "metadata": {},
     "output_type": "display_data"
    },
    {
     "name": "stdout",
     "output_type": "stream",
     "text": [
      "Molecule SMILES: CC1C=CC2=C[CH]C=CC21\n",
      "Estimated thermo data:\n",
      "ThermoData(\n",
      "    Tdata = ([300, 400, 500, 600, 800, 1000, 1500], 'K'),\n",
      "    Cpdata = ([182.841, 236.019, 279.7, 312.838, 361.832, 395.597, 448.023], 'J/(mol*K)'),\n",
      "    H298 = (237.848, 'kJ/mol'),\n",
      "    S298 = (139.398, 'J/(mol*K)'),\n",
      "    comment = 'Thermo group additivity estimation: group(Cs-(Cds-Cds)CsCsH) + other(R) + group(Cs-(Cds-Cds)(Cds-Cds)CsH) + other(R) + group(Cs-(Cds-Cds)(Cds-Cds)HH) + other(R) + group(Cs-CsHHH) + other(R) + group(Cds-Cds(Cds-Cds)Cs) + other(R) + group(Cds-CdsCsH) + other(R) + group(Cds-CdsCsH) + other(R) + group(Cds-CdsCsH) + other(R) + group(Cds-CdsCsH) + other(R) + group(Cds-Cds(Cds-Cds)H) + other(R) + polycyclic(PolycyclicRing) + radical(C=CCJC=C)',\n",
      ")\n",
      "H298 = 56.847 kcal/mol\n",
      "S298 = 33.3168305179 cal/mol*K\n",
      "1 * Cd u0 {2,S} {5,D}\n",
      "2   Cs u0 {1,S} {6,S}\n",
      "3   Cd u0 {4,D} {5,S} {6,S}\n",
      "4   Cd u0 {3,D} {7,S}\n",
      "5   Cd u0 {1,D} {3,S}\n",
      "6   Cs u0 {2,S} {3,S} {9,S}\n",
      "7   Cs u0 {4,S} {8,S}\n",
      "8   Cd u0 {7,S} {9,D}\n",
      "9   Cd u0 {6,S} {8,D}\n",
      "\n",
      "Polycyclic group was found to be generic \"PolycyclicRing\". Creating new entry: pdt32.\n",
      "Molecule CC1C=C[C]2C=CC=CC21 has a single polycyclic group match in thermo estimate.\n"
     ]
    },
    {
     "data": {
      "image/png": "[encoded data removed]",
      "text/plain": [
       "Molecule(SMILES=\"CC1C=C[C]2C=CC=CC21\")"
      ]
     },
     "metadata": {},
     "output_type": "display_data"
    },
    {
     "name": "stdout",
     "output_type": "stream",
     "text": [
      "Molecule SMILES: CC1C=C[C]2C=CC=CC21\n",
      "Estimated thermo data:\n",
      "ThermoData(\n",
      "    Tdata = ([300, 400, 500, 600, 800, 1000, 1500], 'K'),\n",
      "    Cpdata = ([186.481, 231.877, 271.709, 302.671, 351.205, 385.305, 436.935], 'J/(mol*K)'),\n",
      "    H298 = (326.59, 'kJ/mol'),\n",
      "    S298 = (174.46, 'J/(mol*K)'),\n",
      "    comment = 'Thermo group additivity estimation: group(Cs-(Cds-Cds)CsCsH) + other(R) + group(Cs-(Cds-Cds)CsCsH) + other(R) + group(Cs-(Cds-Cds)(Cds-Cds)CsH) + other(R) + group(Cs-CsHHH) + other(R) + group(Cds-CdsCsH) + other(R) + group(Cds-CdsCsH) + other(R) + group(Cds-CdsCsH) + other(R) + group(Cds-CdsCsH) + other(R) + group(Cds-Cds(Cds-Cds)H) + other(R) + group(Cds-Cds(Cds-Cds)H) + other(R) + polycyclic(PolycyclicRing) + radical(Tertalkyl)',\n",
      ")\n",
      "H298 = 78.057 kcal/mol\n",
      "S298 = 41.6968305179 cal/mol*K\n",
      "1 * Cd u0 {2,S} {7,D}\n",
      "2   Cs u0 {1,S} {3,S}\n",
      "3   Cs u0 {2,S} {8,S} {9,S}\n",
      "4   Cd u0 {5,D} {6,S}\n",
      "5   Cd u0 {4,D} {9,S}\n",
      "6   Cd u0 {4,S} {8,D}\n",
      "7   Cd u0 {1,D} {9,S}\n",
      "8   Cd u0 {3,S} {6,D}\n",
      "9   Cs u0 {3,S} {5,S} {7,S}\n",
      "\n",
      "Polycyclic group was found to be generic \"PolycyclicRing\". Creating new entry: pdt32-1.\n",
      "Molecule CC1[CH]C=C2C=CC=CC21 has a single polycyclic group match in thermo estimate.\n"
     ]
    },
    {
     "data": {
      "image/png": "[encoded data removed]",
      "text/plain": [
       "Molecule(SMILES=\"CC1[CH]C=C2C=CC=CC21\")"
      ]
     },
     "metadata": {},
     "output_type": "display_data"
    },
    {
     "name": "stdout",
     "output_type": "stream",
     "text": [
      "Molecule SMILES: CC1[CH]C=C2C=CC=CC21\n",
      "Estimated thermo data:\n",
      "ThermoData(\n",
      "    Tdata = ([300, 400, 500, 600, 800, 1000, 1500], 'K'),\n",
      "    Cpdata = ([191.167, 243.592, 285.684, 317.691, 364.426, 396.769, 445.178], 'J/(mol*K)'),\n",
      "    H298 = (245.337, 'kJ/mol'),\n",
      "    S298 = (123.833, 'J/(mol*K)'),\n",
      "    comment = 'Thermo group additivity estimation: group(Cs-CsCsCsH) + other(R) + group(Cs-(Cds-Cds)(Cds-Cds)CsH) + other(R) + group(Cs-(Cds-Cds)CsHH) + other(R) + group(Cs-CsHHH) + other(R) + group(Cds-Cds(Cds-Cds)Cs) + other(R) + group(Cds-CdsCsH) + other(R) + group(Cds-CdsCsH) + other(R) + group(Cds-Cds(Cds-Cds)H) + other(R) + group(Cds-Cds(Cds-Cds)H) + other(R) + group(Cds-Cds(Cds-Cds)H) + other(R) + polycyclic(PolycyclicRing) + radical(cyclopentene-allyl)',\n",
      ")\n",
      "H298 = 58.637 kcal/mol\n",
      "S298 = 29.5968305179 cal/mol*K\n",
      "1 * Cd u0 {5,S} {9,D}\n",
      "2   Cd u0 {3,S} {8,D}\n",
      "3   Cs u0 {2,S} {6,S}\n",
      "4   Cs u0 {6,S} {8,S} {9,S}\n",
      "5   Cd u0 {1,S} {7,D}\n",
      "6   Cs u0 {3,S} {4,S}\n",
      "7   Cd u0 {5,D} {8,S}\n",
      "8   Cd u0 {2,D} {4,S} {7,S}\n",
      "9   Cd u0 {1,D} {4,S}\n",
      "\n",
      "Polycyclic group was found to be generic \"PolycyclicRing\". Creating new entry: pdt32-2.\n",
      "=====================\n",
      "pdt35\n",
      "Species has 1 resonance isomers\n",
      "Molecule C1C=CC2C=CCC=2CC=1 has a single polycyclic group match in thermo estimate.\n"
     ]
    },
    {
     "data": {
      "image/png": "[encoded data removed]",
      "text/plain": [
       "Molecule(SMILES=\"C1C=CC2C=CCC=2CC=1\")"
      ]
     },
     "metadata": {},
     "output_type": "display_data"
    },
    {
     "name": "stdout",
     "output_type": "stream",
     "text": [
      "Molecule SMILES: C1C=CC2C=CCC=2CC=1\n",
      "Estimated thermo data:\n",
      "ThermoData(\n",
      "    Tdata = ([300, 400, 500, 600, 800, 1000, 1500], 'K'),\n",
      "    Cpdata = ([173.887, 226.438, 267.399, 298.821, 345.891, 378.024, 425.471], 'J/(mol*K)'),\n",
      "    H298 = (241.249, 'kJ/mol'),\n",
      "    S298 = (140.122, 'J/(mol*K)'),\n",
      "    comment = 'Thermo group additivity estimation: group(Cs-(Cds-Cds)(Cds-Cds)HH) + other(R) + group(Cs-(Cds-Cds)(Cds-Cds)HH) + other(R) + group(Cds-CdsCsCs) + other(R) + group(Cds-Cds(Cds-Cds)(Cds-Cds)) + other(R) + group(Cds-CdsCsH) + other(R) + group(Cds-CdsCsH) + other(R) + group(Cds-Cds(Cds-Cds)H) + other(R) + group(Cds-Cds(Cds-Cds)H) + other(R) + group(Cds-Cds(Cds-Cds)H) + other(R) + group(Cds-Cds(Cds-Cds)H) + other(R) + polycyclic(PolycyclicRing)',\n",
      ")\n",
      "H298 = 57.66 kcal/mol\n",
      "S298 = 33.49 cal/mol*K\n",
      "1  * Cs u0 {4,S} {5,S}\n",
      "2    Cd u0 {7,D} {9,S}\n",
      "3    Cd u0 {9,S} {10,D}\n",
      "4    Cd u0 {1,S} {8,D}\n",
      "5    Cd u0 {1,S} {6,S} {9,D}\n",
      "6    Cs u0 {5,S} {10,S}\n",
      "7    Cd u0 {2,D} {8,S}\n",
      "8    Cd u0 {4,D} {7,S}\n",
      "9    Cd u0 {2,S} {3,S} {5,D}\n",
      "10   Cd u0 {3,D} {6,S}\n",
      "\n",
      "Polycyclic group was found to be generic \"PolycyclicRing\". Creating new entry: pdt35.\n",
      "=====================\n",
      "pdt37\n",
      "Species has 3 resonance isomers\n",
      "Molecule [CH]1C=CC=C2CC=CCC12 has a single polycyclic group match in thermo estimate.\n"
     ]
    },
    {
     "data": {
      "image/png": "[encoded data removed]",
      "text/plain": [
       "Molecule(SMILES=\"[CH]1C=CC=C2CC=CCC12\")"
      ]
     },
     "metadata": {},
     "output_type": "display_data"
    },
    {
     "name": "stdout",
     "output_type": "stream",
     "text": [
      "Molecule SMILES: [CH]1C=CC=C2CC=CCC12\n",
      "Estimated thermo data:\n",
      "ThermoData(\n",
      "    Tdata = ([300, 400, 500, 600, 800, 1000, 1500], 'K'),\n",
      "    Cpdata = ([180.163, 233.844, 277.064, 309.825, 359.406, 393.38, 442.374], 'J/(mol*K)'),\n",
      "    H298 = (283.997, 'kJ/mol'),\n",
      "    S298 = (160.122, 'J/(mol*K)'),\n",
      "    comment = 'Thermo group additivity estimation: group(Cs-(Cds-Cds)CsCsH) + other(R) + group(Cs-(Cds-Cds)CsHH) + other(R) + group(Cs-(Cds-Cds)CsHH) + other(R) + group(Cs-(Cds-Cds)(Cds-Cds)HH) + other(R) + group(Cds-CdsCsCs) + other(R) + group(Cds-CdsCsH) + other(R) + group(Cds-CdsCsH) + other(R) + group(Cds-CdsCsH) + other(R) + group(Cds-Cds(Cds-Cds)H) + other(R) + group(Cds-Cds(Cds-Cds)H) + other(R) + polycyclic(pdt19) + radical(Allyl_S)',\n",
      ")\n",
      "H298 = 67.877 kcal/mol\n",
      "S298 = 38.27 cal/mol*K\n",
      "Matched polycyclic group \"pdt19\"\n",
      "Molecule [CH]1C=CC2CC=CCC2=C1 has a single polycyclic group match in thermo estimate.\n"
     ]
    },
    {
     "data": {
      "image/png": "[encoded data removed]",
      "text/plain": [
       "Molecule(SMILES=\"[CH]1C=CC2CC=CCC2=C1\")"
      ]
     },
     "metadata": {},
     "output_type": "display_data"
    },
    {
     "name": "stdout",
     "output_type": "stream",
     "text": [
      "Molecule SMILES: [CH]1C=CC2CC=CCC2=C1\n",
      "Estimated thermo data:\n",
      "ThermoData(\n",
      "    Tdata = ([300, 400, 500, 600, 800, 1000, 1500], 'K'),\n",
      "    Cpdata = ([178.113, 229.283, 271.751, 305.599, 356.142, 391.581, 444.592], 'J/(mol*K)'),\n",
      "    H298 = (262.533, 'kJ/mol'),\n",
      "    S298 = (168.49, 'J/(mol*K)'),\n",
      "    comment = 'Thermo group additivity estimation: group(Cs-(Cds-Cds)(Cds-Cds)CsH) + other(R) + group(Cs-(Cds-Cds)CsHH) + other(R) + group(Cs-(Cds-Cds)(Cds-Cds)HH) + other(R) + group(Cs-(Cds-Cds)(Cds-Cds)HH) + other(R) + group(Cds-CdsCsCs) + other(R) + group(Cds-CdsCsH) + other(R) + group(Cds-CdsCsH) + other(R) + group(Cds-CdsCsH) + other(R) + group(Cds-CdsCsH) + other(R) + group(Cds-CdsCsH) + other(R) + polycyclic(PolycyclicRing) + radical(C=CCJC=C)',\n",
      ")\n",
      "H298 = 62.747 kcal/mol\n",
      "S298 = 40.27 cal/mol*K\n",
      "1  * Cd u0 {8,D} {10,S}\n",
      "2    Cs u0 {4,S} {8,S}\n",
      "3    Cd u0 {5,S} {7,D}\n",
      "4    Cd u0 {2,S} {9,D}\n",
      "5    Cs u0 {3,S} {10,S}\n",
      "6    Cs u0 {7,S} {9,S}\n",
      "7    Cd u0 {3,D} {6,S}\n",
      "8    Cd u0 {1,D} {2,S}\n",
      "9    Cd u0 {4,D} {6,S} {10,S}\n",
      "10   Cs u0 {1,S} {5,S} {9,S}\n",
      "\n",
      "Polycyclic group was found to be generic \"PolycyclicRing\". Creating new entry: pdt37.\n",
      "Molecule C1C=CC2CC=CC[C]2C=1 has a single polycyclic group match in thermo estimate.\n"
     ]
    },
    {
     "data": {
      "image/png": "[encoded data removed]",
      "text/plain": [
       "Molecule(SMILES=\"C1C=CC2CC=CC[C]2C=1\")"
      ]
     },
     "metadata": {},
     "output_type": "display_data"
    },
    {
     "name": "stdout",
     "output_type": "stream",
     "text": [
      "Molecule SMILES: C1C=CC2CC=CC[C]2C=1\n",
      "Estimated thermo data:\n",
      "ThermoData(\n",
      "    Tdata = ([300, 400, 500, 600, 800, 1000, 1500], 'K'),\n",
      "    Cpdata = ([177.109, 229.534, 273.299, 306.394, 357.23, 391.497, 444.215], 'J/(mol*K)'),\n",
      "    H298 = (279.228, 'kJ/mol'),\n",
      "    S298 = (155.519, 'J/(mol*K)'),\n",
      "    comment = 'Thermo group additivity estimation: group(Cs-(Cds-Cds)CsCsH) + other(R) + group(Cs-(Cds-Cds)CsCsH) + other(R) + group(Cs-(Cds-Cds)CsHH) + other(R) + group(Cs-(Cds-Cds)CsHH) + other(R) + group(Cds-CdsCsH) + other(R) + group(Cds-CdsCsH) + other(R) + group(Cds-CdsCsH) + other(R) + group(Cds-CdsCsH) + other(R) + group(Cds-Cds(Cds-Cds)H) + other(R) + group(Cds-Cds(Cds-Cds)H) + other(R) + polycyclic(pdt10bis) + radical(Allyl_T)',\n",
      ")\n",
      "H298 = 66.737 kcal/mol\n",
      "S298 = 37.17 cal/mol*K\n",
      "Matched polycyclic group \"pdt10bis\"\n",
      "=====================\n",
      "pdt38\n",
      "Species has 2 resonance isomers\n",
      "Molecule C1=CC=C2CC=CCC2=C1 has a single polycyclic group match in thermo estimate.\n"
     ]
    },
    {
     "data": {
      "image/png": "[encoded data removed]",
      "text/plain": [
       "Molecule(SMILES=\"C1=CC=C2CC=CCC2=C1\")"
      ]
     },
     "metadata": {},
     "output_type": "display_data"
    },
    {
     "name": "stdout",
     "output_type": "stream",
     "text": [
      "Molecule SMILES: C1=CC=C2CC=CCC2=C1\n",
      "Estimated thermo data:\n",
      "ThermoData(\n",
      "    Tdata = ([300, 400, 500, 600, 800, 1000, 1500], 'K'),\n",
      "    Cpdata = ([185.602, 240.831, 281.5, 310.62, 352.711, 381.999, 424.258], 'J/(mol*K)'),\n",
      "    H298 = (223.76, 'kJ/mol'),\n",
      "    S298 = (136.649, 'J/(mol*K)'),\n",
      "    comment = 'Thermo group additivity estimation: group(Cs-(Cds-Cds)(Cds-Cds)HH) + other(R) + group(Cs-(Cds-Cds)(Cds-Cds)HH) + other(R) + group(Cds-Cds(Cds-Cds)Cs) + other(R) + group(Cds-Cds(Cds-Cds)Cs) + other(R) + group(Cds-CdsCsH) + other(R) + group(Cds-CdsCsH) + other(R) + group(Cds-Cds(Cds-Cds)H) + other(R) + group(Cds-Cds(Cds-Cds)H) + other(R) + group(Cds-Cds(Cds-Cds)H) + other(R) + group(Cds-Cds(Cds-Cds)H) + other(R) + polycyclic(PolycyclicRing)',\n",
      ")\n",
      "H298 = 53.48 kcal/mol\n",
      "S298 = 32.66 cal/mol*K\n",
      "1  * Cd u0 {2,S} {5,S} {7,D}\n",
      "2    Cs u0 {1,S} {4,S}\n",
      "3    Cd u0 {7,S} {8,D}\n",
      "4    Cd u0 {2,S} {6,D}\n",
      "5    Cd u0 {1,S} {9,D} {10,S}\n",
      "6    Cd u0 {4,D} {10,S}\n",
      "7    Cd u0 {1,D} {3,S}\n",
      "8    Cd u0 {3,D} {9,S}\n",
      "9    Cd u0 {5,D} {8,S}\n",
      "10   Cs u0 {5,S} {6,S}\n",
      "\n",
      "Polycyclic group was found to be generic \"PolycyclicRing\". Creating new entry: pdt38.\n",
      "Molecule C1=CCc2ccccc2C1 has a single polycyclic group match in thermo estimate.\n"
     ]
    },
    {
     "data": {
      "image/png": "[encoded data removed]",
      "text/plain": [
       "Molecule(SMILES=\"C1=CCc2ccccc2C1\")"
      ]
     },
     "metadata": {},
     "output_type": "display_data"
    },
    {
     "name": "stdout",
     "output_type": "stream",
     "text": [
      "Molecule SMILES: C1=CCc2ccccc2C1\n",
      "Estimated thermo data:\n",
      "ThermoData(\n",
      "    Tdata = ([300, 400, 500, 600, 800, 1000, 1500], 'K'),\n",
      "    Cpdata = ([149.118, 199.242, 242.839, 278.32, 331.875, 369.112, 422.835], 'J/(mol*K)'),\n",
      "    H298 = (137.319, 'kJ/mol'),\n",
      "    S298 = (212.045, 'J/(mol*K)'),\n",
      "    comment = 'Thermo group additivity estimation: group(Cs-(Cds-Cds)CbHH) + other(R) + group(Cs-(Cds-Cds)CbHH) + other(R) + group(Cb-Cs) + other(R) + group(Cb-Cs) + other(R) + group(Cds-CdsCsH) + other(R) + group(Cds-CdsCsH) + other(R) + group(Cb-H) + other(R) + group(Cb-H) + other(R) + group(Cb-H) + other(R) + group(Cb-H) + other(R) + polycyclic(PolycyclicRing)',\n",
      ")\n",
      "H298 = 32.82 kcal/mol\n",
      "S298 = 50.68 cal/mol*K\n",
      "1  * Cs u0 {4,S} {6,S}\n",
      "2    Cb u0 {3,B} {4,B} {7,S}\n",
      "3    Cb u0 {2,B} {10,B}\n",
      "4    Cb u0 {1,S} {2,B} {9,B}\n",
      "5    Cd u0 {6,D} {7,S}\n",
      "6    Cd u0 {1,S} {5,D}\n",
      "7    Cs u0 {2,S} {5,S}\n",
      "8    Cb u0 {9,B} {10,B}\n",
      "9    Cb u0 {4,B} {8,B}\n",
      "10   Cb u0 {3,B} {8,B}\n",
      "\n",
      "Polycyclic group was found to be generic \"PolycyclicRing\". Creating new entry: pdt38-1.\n",
      "=====================\n",
      "INDENE\n",
      "Species has 3 resonance isomers\n",
      "Molecule C1=CC=C2CC=CC2=C1 has a single polycyclic group match in thermo estimate.\n"
     ]
    },
    {
     "data": {
      "image/png": "[encoded data removed]",
      "text/plain": [
       "Molecule(SMILES=\"C1=CC=C2CC=CC2=C1\")"
      ]
     },
     "metadata": {},
     "output_type": "display_data"
    },
    {
     "name": "stdout",
     "output_type": "stream",
     "text": [
      "Molecule SMILES: C1=CC=C2CC=CC2=C1\n",
      "Estimated thermo data:\n",
      "ThermoData(\n",
      "    Tdata = ([300, 400, 500, 600, 800, 1000, 1500], 'K'),\n",
      "    Cpdata = ([156.733, 204.347, 240.12, 266.353, 304.47, 329.825, 368.234], 'J/(mol*K)'),\n",
      "    H298 = (245.517, 'kJ/mol'),\n",
      "    S298 = (82.8432, 'J/(mol*K)'),\n",
      "    comment = 'Thermo group additivity estimation: group(Cs-(Cds-Cds)(Cds-Cds)HH) + other(R) + group(Cds-Cds(Cds-Cds)Cs) + other(R) + group(Cds-Cds(Cds-Cds)(Cds-Cds)) + other(R) + group(Cds-CdsCsH) + other(R) + group(Cds-Cds(Cds-Cds)H) + other(R) + group(Cds-Cds(Cds-Cds)H) + other(R) + group(Cds-Cds(Cds-Cds)H) + other(R) + group(Cds-Cds(Cds-Cds)H) + other(R) + group(Cds-Cds(Cds-Cds)H) + other(R) + polycyclic(PolycyclicRing)',\n",
      ")\n",
      "H298 = 58.68 kcal/mol\n",
      "S298 = 19.8 cal/mol*K\n",
      "1 * Cd u0 {6,D} {7,S}\n",
      "2   Cd u0 {5,D} {9,S}\n",
      "3   Cd u0 {7,D} {8,S}\n",
      "4   Cd u0 {5,S} {6,S} {8,D}\n",
      "5   Cd u0 {2,D} {4,S}\n",
      "6   Cd u0 {1,D} {4,S} {9,S}\n",
      "7   Cd u0 {1,S} {3,D}\n",
      "8   Cd u0 {3,S} {4,D}\n",
      "9   Cs u0 {2,S} {6,S}\n",
      "\n",
      "Polycyclic group was found to be generic \"PolycyclicRing\". Creating new entry: INDENE.\n",
      "Molecule C1=Cc2ccccc2C1 has a single polycyclic group match in thermo estimate.\n"
     ]
    },
    {
     "data": {
      "image/png": "[encoded data removed]",
      "text/plain": [
       "Molecule(SMILES=\"C1=Cc2ccccc2C1\")"
      ]
     },
     "metadata": {},
     "output_type": "display_data"
    },
    {
     "name": "stdout",
     "output_type": "stream",
     "text": [
      "Molecule SMILES: C1=Cc2ccccc2C1\n",
      "Estimated thermo data:\n",
      "ThermoData(\n",
      "    Tdata = ([300, 400, 500, 600, 800, 1000, 1500], 'K'),\n",
      "    Cpdata = ([119.118, 159.661, 197.401, 230.287, 278.403, 306.813, 353.171], 'J/(mol*K)'),\n",
      "    H298 = (157.235, 'kJ/mol'),\n",
      "    S298 = (334.971, 'J/(mol*K)'),\n",
      "    comment = 'Thermo group additivity estimation: group(Cs-(Cds-Cds)CbHH) + other(R) + group(Cb-Cs) + other(R) + group(Cb-(Cds-Cds)) + other(R) + group(Cds-CdsCsH) + other(R) + group(Cb-H) + other(R) + group(Cds-CdsCbH) + other(R) + group(Cb-H) + other(R) + group(Cb-H) + other(R) + group(Cb-H) + other(R) + polycyclic(indene)',\n",
      ")\n",
      "H298 = 37.58 kcal/mol\n",
      "S298 = 80.06 cal/mol*K\n",
      "Matched polycyclic group \"indene\"\n",
      "Molecule C1C=CC2CC=CC=2C=1 has a single polycyclic group match in thermo estimate.\n"
     ]
    },
    {
     "data": {
      "image/png": "[encoded data removed]",
      "text/plain": [
       "Molecule(SMILES=\"C1C=CC2CC=CC=2C=1\")"
      ]
     },
     "metadata": {},
     "output_type": "display_data"
    },
    {
     "name": "stdout",
     "output_type": "stream",
     "text": [
      "Molecule SMILES: C1C=CC2CC=CC=2C=1\n",
      "Estimated thermo data:\n",
      "ThermoData(\n",
      "    Tdata = ([300, 400, 500, 600, 800, 1000, 1500], 'K'),\n",
      "    Cpdata = ([156.733, 204.347, 240.12, 266.353, 304.47, 329.825, 368.234], 'J/(mol*K)'),\n",
      "    H298 = (245.517, 'kJ/mol'),\n",
      "    S298 = (82.8432, 'J/(mol*K)'),\n",
      "    comment = 'Thermo group additivity estimation: group(Cs-(Cds-Cds)(Cds-Cds)HH) + other(R) + group(Cds-Cds(Cds-Cds)Cs) + other(R) + group(Cds-Cds(Cds-Cds)(Cds-Cds)) + other(R) + group(Cds-CdsCsH) + other(R) + group(Cds-Cds(Cds-Cds)H) + other(R) + group(Cds-Cds(Cds-Cds)H) + other(R) + group(Cds-Cds(Cds-Cds)H) + other(R) + group(Cds-Cds(Cds-Cds)H) + other(R) + group(Cds-Cds(Cds-Cds)H) + other(R) + polycyclic(PolycyclicRing)',\n",
      ")\n",
      "H298 = 58.68 kcal/mol\n",
      "S298 = 19.8 cal/mol*K\n",
      "1 * Cd u0 {4,D} {5,S}\n",
      "2   Cd u0 {8,D} {9,S}\n",
      "3   Cd u0 {6,S} {7,D}\n",
      "4   Cd u0 {1,D} {8,S}\n",
      "5   Cd u0 {1,S} {6,S} {9,D}\n",
      "6   Cs u0 {3,S} {5,S}\n",
      "7   Cd u0 {3,D} {9,S}\n",
      "8   Cd u0 {2,D} {4,S}\n",
      "9   Cd u0 {2,S} {5,D} {7,S}\n",
      "\n",
      "Polycyclic group was found to be generic \"PolycyclicRing\". Creating new entry: INDENE-1.\n",
      "=====================\n",
      "pdt57\n",
      "Species has 1 resonance isomers\n",
      "Molecule C=CC=CC1C2[CH]C=CC21 has a single polycyclic group match in thermo estimate.\n"
     ]
    },
    {
     "data": {
      "image/png": "[encoded data removed]",
      "text/plain": [
       "Molecule(SMILES=\"C=CC=CC1C2[CH]C=CC21\")"
      ]
     },
     "metadata": {},
     "output_type": "display_data"
    },
    {
     "name": "stdout",
     "output_type": "stream",
     "text": [
      "Molecule SMILES: C=CC=CC1C2[CH]C=CC21\n",
      "Estimated thermo data:\n",
      "ThermoData(\n",
      "    Tdata = ([300, 400, 500, 600, 800, 1000, 1500], 'K'),\n",
      "    Cpdata = ([179.661, 233.844, 278.362, 311.457, 361.581, 394.844, 444.55], 'J/(mol*K)'),\n",
      "    H298 = (276.843, 'kJ/mol'),\n",
      "    S298 = (145.687, 'J/(mol*K)'),\n",
      "    comment = 'Thermo group additivity estimation: group(Cs-CsCsCsH) + other(R) + group(Cs-(Cds-Cds)CsCsH) + other(R) + group(Cs-(Cds-Cds)CsCsH) + other(R) + group(Cs-(Cds-Cds)CsHH) + other(R) + group(Cds-CdsCsH) + other(R) + group(Cds-CdsCsH) + other(R) + group(Cds-CdsCsH) + other(R) + group(Cds-Cds(Cds-Cds)H) + other(R) + group(Cds-Cds(Cds-Cds)H) + other(R) + group(Cds-CdsHH) + other(R) + polycyclic(product1) + radical(cyclopentene-allyl)',\n",
      ")\n",
      "H298 = 66.167 kcal/mol\n",
      "S298 = 34.82 cal/mol*K\n",
      "Matched polycyclic group \"product1\"\n",
      "=====================\n",
      "2HINDENE\n",
      "Species has 1 resonance isomers\n",
      "Molecule C1C=CC2=CCC=C2C=1 has a single polycyclic group match in thermo estimate.\n"
     ]
    },
    {
     "data": {
      "image/png": "[encoded data removed]",
      "text/plain": [
       "Molecule(SMILES=\"C1C=CC2=CCC=C2C=1\")"
      ]
     },
     "metadata": {},
     "output_type": "display_data"
    },
    {
     "name": "stdout",
     "output_type": "stream",
     "text": [
      "Molecule SMILES: C1C=CC2=CCC=C2C=1\n",
      "Estimated thermo data:\n",
      "ThermoData(\n",
      "    Tdata = ([300, 400, 500, 600, 800, 1000, 1500], 'K'),\n",
      "    Cpdata = ([145.017, 189.954, 226.02, 254.555, 297.65, 325.85, 369.447], 'J/(mol*K)'),\n",
      "    H298 = (264.471, 'kJ/mol'),\n",
      "    S298 = (85.0189, 'J/(mol*K)'),\n",
      "    comment = 'Thermo group additivity estimation: group(Cs-(Cds-Cds)(Cds-Cds)HH) + other(R) + group(Cds-Cds(Cds-Cds)(Cds-Cds)) + other(R) + group(Cds-Cds(Cds-Cds)(Cds-Cds)) + other(R) + group(Cds-CdsCsH) + other(R) + group(Cds-CdsCsH) + other(R) + group(Cds-Cds(Cds-Cds)H) + other(R) + group(Cds-Cds(Cds-Cds)H) + other(R) + group(Cds-Cds(Cds-Cds)H) + other(R) + group(Cds-Cds(Cds-Cds)H) + other(R) + polycyclic(PolycyclicRing)',\n",
      ")\n",
      "H298 = 63.21 kcal/mol\n",
      "S298 = 20.32 cal/mol*K\n",
      "1 * Cd u0 {4,S} {7,D}\n",
      "2   Cd u0 {4,D} {6,S}\n",
      "3   Cd u0 {4,S} {5,S} {9,D}\n",
      "4   Cd u0 {1,S} {2,D} {3,S}\n",
      "5   Cd u0 {3,S} {8,D}\n",
      "6   Cs u0 {2,S} {9,S}\n",
      "7   Cd u0 {1,D} {8,S}\n",
      "8   Cd u0 {5,D} {7,S}\n",
      "9   Cd u0 {3,D} {6,S}\n",
      "\n",
      "Polycyclic group was found to be generic \"PolycyclicRing\". Creating new entry: 2HINDENE.\n",
      "=====================\n",
      "biring1\n",
      "Species has 1 resonance isomers\n",
      "Molecule [CH]1C=CC2CC12 has a single polycyclic group match in thermo estimate.\n"
     ]
    },
    {
     "data": {
      "image/png": "[encoded data removed]",
      "text/plain": [
       "Molecule(SMILES=\"[CH]1C=CC2CC12\")"
      ]
     },
     "metadata": {},
     "output_type": "display_data"
    },
    {
     "name": "stdout",
     "output_type": "stream",
     "text": [
      "Molecule SMILES: [CH]1C=CC2CC12\n",
      "Estimated thermo data:\n",
      "ThermoData(\n",
      "    Tdata = ([300, 400, 500, 600, 800, 1000, 1500], 'K'),\n",
      "    Cpdata = ([109.202, 142.089, 169.954, 191.46, 224.304, 246.103, 278.027], 'J/(mol*K)'),\n",
      "    H298 = (143.54, 'kJ/mol'),\n",
      "    S298 = (31.7566, 'J/(mol*K)'),\n",
      "    comment = 'Thermo group additivity estimation: group(Cs-CsCsCsH) + other(R) + group(Cs-(Cds-Cds)CsCsH) + other(R) + group(Cs-CsCsHH) + other(R) + group(Cs-(Cds-Cds)CsHH) + other(R) + group(Cds-CdsCsH) + other(R) + group(Cds-CdsCsH) + other(R) + polycyclic(product1) + radical(cyclopentene-allyl)',\n",
      ")\n",
      "H298 = 34.307 kcal/mol\n",
      "S298 = 7.59 cal/mol*K\n",
      "Matched polycyclic group \"product1\"\n",
      "=====================\n",
      "prod1\n",
      "Species has 1 resonance isomers\n",
      "Molecule [CH]1C=CC2C1C21C=CC=C1 has a single polycyclic group match in thermo estimate.\n"
     ]
    },
    {
     "data": {
      "image/png": "[encoded data removed]",
      "text/plain": [
       "Molecule(SMILES=\"[CH]1C=CC2C1C21C=CC=C1\")"
      ]
     },
     "metadata": {},
     "output_type": "display_data"
    },
    {
     "name": "stdout",
     "output_type": "stream",
     "text": [
      "Molecule SMILES: [CH]1C=CC2C1C21C=CC=C1\n",
      "Estimated thermo data:\n",
      "ThermoData(\n",
      "    Tdata = ([300, 400, 500, 600, 800, 1000, 1500], 'K'),\n",
      "    Cpdata = ([175.017, 228.823, 271.625, 303.382, 349.197, 377.899, 416.852], 'J/(mol*K)'),\n",
      "    H298 = (299.813, 'kJ/mol'),\n",
      "    S298 = (-32.8444, 'J/(mol*K)'),\n",
      "    comment = 'Thermo group additivity estimation: group(Cs-(Cds-Cds)(Cds-Cds)CsCs) + other(R) + group(Cs-CsCsCsH) + other(R) + group(Cs-(Cds-Cds)CsCsH) + other(R) + group(Cs-(Cds-Cds)CsHH) + other(R) + group(Cds-CdsCsH) + other(R) + group(Cds-CdsCsH) + other(R) + group(Cds-CdsCsH) + other(R) + group(Cds-CdsCsH) + other(R) + group(Cds-Cds(Cds-Cds)H) + other(R) + group(Cds-Cds(Cds-Cds)H) + other(R) + polycyclic(product1) + radical(cyclopentene-allyl)',\n",
      ")\n",
      "H298 = 71.657 kcal/mol\n",
      "S298 = -7.85 cal/mol*K\n",
      "Matched polycyclic group \"product1\"\n",
      "=====================\n",
      "prod2\n",
      "Species has 2 resonance isomers\n",
      "Molecule [CH]1C=CC=CC12C=CC=C2 has a single polycyclic group match in thermo estimate.\n"
     ]
    },
    {
     "data": {
      "image/png": "[encoded data removed]",
      "text/plain": [
       "Molecule(SMILES=\"[CH]1C=CC=CC12C=CC=C2\")"
      ]
     },
     "metadata": {},
     "output_type": "display_data"
    },
    {
     "name": "stdout",
     "output_type": "stream",
     "text": [
      "Molecule SMILES: [CH]1C=CC=CC12C=CC=C2\n",
      "Estimated thermo data:\n",
      "ThermoData(\n",
      "    Tdata = ([300, 400, 500, 600, 800, 1000, 1500], 'K'),\n",
      "    Cpdata = ([173.134, 226.689, 267.985, 298.696, 341.791, 370.117, 407.354], 'J/(mol*K)'),\n",
      "    H298 = (388.095, 'kJ/mol'),\n",
      "    S298 = (123.135, 'J/(mol*K)'),\n",
      "    comment = 'Thermo group additivity estimation: group(Cs-(Cds-Cds)(Cds-Cds)(Cds-Cds)Cs) + other(R) + group(Cs-(Cds-Cds)CsHH) + other(R) + group(Cds-CdsCsH) + other(R) + group(Cds-CdsCsH) + other(R) + group(Cds-CdsCsH) + other(R) + group(Cds-CdsCsH) + other(R) + group(Cds-Cds(Cds-Cds)H) + other(R) + group(Cds-Cds(Cds-Cds)H) + other(R) + group(Cds-Cds(Cds-Cds)H) + other(R) + group(Cds-Cds(Cds-Cds)H) + other(R) + polycyclic(PolycyclicRing) + radical(Allyl_S)',\n",
      ")\n",
      "H298 = 92.757 kcal/mol\n",
      "S298 = 29.43 cal/mol*K\n",
      "1  * Cs u0 {5,S} {9,S}\n",
      "2    Cd u0 {4,D} {7,S}\n",
      "3    Cd u0 {8,D} {10,S}\n",
      "4    Cd u0 {2,D} {5,S}\n",
      "5    Cs u0 {1,S} {4,S} {6,S} {8,S}\n",
      "6    Cd u0 {5,S} {10,D}\n",
      "7    Cd u0 {2,S} {9,D}\n",
      "8    Cd u0 {3,D} {5,S}\n",
      "9    Cd u0 {1,S} {7,D}\n",
      "10   Cd u0 {3,S} {6,D}\n",
      "\n",
      "Polycyclic group was found to be generic \"PolycyclicRing\". Creating new entry: prod2.\n",
      "Molecule [CH]1C=CC2(C=C1)C=CC=C2 has a single polycyclic group match in thermo estimate.\n"
     ]
    },
    {
     "data": {
      "image/png": "[encoded data removed]",
      "text/plain": [
       "Molecule(SMILES=\"[CH]1C=CC2(C=C1)C=CC=C2\")"
      ]
     },
     "metadata": {},
     "output_type": "display_data"
    },
    {
     "name": "stdout",
     "output_type": "stream",
     "text": [
      "Molecule SMILES: [CH]1C=CC2(C=C1)C=CC=C2\n",
      "Estimated thermo data:\n",
      "ThermoData(\n",
      "    Tdata = ([300, 400, 500, 600, 800, 1000, 1500], 'K'),\n",
      "    Cpdata = ([170.791, 220.622, 260.412, 291.499, 336.686, 365.849, 408.358], 'J/(mol*K)'),\n",
      "    H298 = (356.506, 'kJ/mol'),\n",
      "    S298 = (132.34, 'J/(mol*K)'),\n",
      "    comment = 'Thermo group additivity estimation: group(Cs-CsCsCsCs) + other(R) + group(Cs-(Cds-Cds)(Cds-Cds)HH) + other(R) + group(Cds-CdsCsH) + other(R) + group(Cds-CdsCsH) + other(R) + group(Cds-CdsCsH) + other(R) + group(Cds-CdsCsH) + other(R) + group(Cds-CdsCsH) + other(R) + group(Cds-CdsCsH) + other(R) + group(Cds-Cds(Cds-Cds)H) + other(R) + group(Cds-Cds(Cds-Cds)H) + other(R) + polycyclic(PolycyclicRing) + radical(C=CCJC=C)',\n",
      ")\n",
      "H298 = 85.207 kcal/mol\n",
      "S298 = 31.63 cal/mol*K\n",
      "1  * Cd u0 {5,S} {10,D}\n",
      "2    Cd u0 {4,D} {9,S}\n",
      "3    Cs u0 {4,S} {6,S}\n",
      "4    Cd u0 {2,D} {3,S}\n",
      "5    Cd u0 {1,S} {8,D}\n",
      "6    Cd u0 {3,S} {7,D}\n",
      "7    Cd u0 {6,D} {9,S}\n",
      "8    Cd u0 {5,D} {9,S}\n",
      "9    Cs u0 {2,S} {7,S} {8,S} {10,S}\n",
      "10   Cd u0 {1,D} {9,S}\n",
      "\n",
      "Polycyclic group was found to be generic \"PolycyclicRing\". Creating new entry: prod2-1.\n",
      "=====================\n",
      "prod4\n",
      "Species has 3 resonance isomers\n",
      "Molecule [CH]1C=CC=C2C=CC=CC12 has a single polycyclic group match in thermo estimate.\n"
     ]
    },
    {
     "data": {
      "image/png": "[encoded data removed]",
      "text/plain": [
       "Molecule(SMILES=\"[CH]1C=CC=C2C=CC=CC12\")"
      ]
     },
     "metadata": {},
     "output_type": "display_data"
    },
    {
     "name": "stdout",
     "output_type": "stream",
     "text": [
      "Molecule SMILES: [CH]1C=CC=C2C=CC=CC12\n",
      "Estimated thermo data:\n",
      "ThermoData(\n",
      "    Tdata = ([300, 400, 500, 600, 800, 1000, 1500], 'K'),\n",
      "    Cpdata = ([183.594, 234.137, 272.839, 300.955, 340.87, 368.15, 408.4], 'J/(mol*K)'),\n",
      "    H298 = (366.506, 'kJ/mol'),\n",
      "    S298 = (109.621, 'J/(mol*K)'),\n",
      "    comment = 'Thermo group additivity estimation: group(Cs-(Cds-Cds)(Cds-Cds)CsH) + other(R) + group(Cs-(Cds-Cds)CsHH) + other(R) + group(Cds-Cds(Cds-Cds)Cs) + other(R) + group(Cds-CdsCsH) + other(R) + group(Cds-CdsCsH) + other(R) + group(Cds-Cds(Cds-Cds)H) + other(R) + group(Cds-Cds(Cds-Cds)H) + other(R) + group(Cds-Cds(Cds-Cds)H) + other(R) + group(Cds-Cds(Cds-Cds)H) + other(R) + group(Cds-Cds(Cds-Cds)H) + other(R) + polycyclic(pdt11) + radical(Allyl_S)',\n",
      ")\n",
      "H298 = 87.597 kcal/mol\n",
      "S298 = 26.2 cal/mol*K\n",
      "Matched polycyclic group \"pdt11\"\n",
      "Molecule [CH]1C=CC2C=CC=CC2=C1 has a single polycyclic group match in thermo estimate.\n"
     ]
    },
    {
     "data": {
      "image/png": "[encoded data removed]",
      "text/plain": [
       "Molecule(SMILES=\"[CH]1C=CC2C=CC=CC2=C1\")"
      ]
     },
     "metadata": {},
     "output_type": "display_data"
    },
    {
     "name": "stdout",
     "output_type": "stream",
     "text": [
      "Molecule SMILES: [CH]1C=CC2C=CC=CC2=C1\n",
      "Estimated thermo data:\n",
      "ThermoData(\n",
      "    Tdata = ([300, 400, 500, 600, 800, 1000, 1500], 'K'),\n",
      "    Cpdata = ([173.636, 224.513, 263.885, 293.424, 336.017, 365.221, 410.743], 'J/(mol*K)'),\n",
      "    H298 = (349.77, 'kJ/mol'),\n",
      "    S298 = (128.658, 'J/(mol*K)'),\n",
      "    comment = 'Thermo group additivity estimation: group(Cs-(Cds-Cds)(Cds-Cds)(Cds-Cds)H) + other(R) + group(Cs-(Cds-Cds)(Cds-Cds)HH) + other(R) + group(Cds-Cds(Cds-Cds)Cs) + other(R) + group(Cds-CdsCsH) + other(R) + group(Cds-CdsCsH) + other(R) + group(Cds-CdsCsH) + other(R) + group(Cds-CdsCsH) + other(R) + group(Cds-Cds(Cds-Cds)H) + other(R) + group(Cds-Cds(Cds-Cds)H) + other(R) + group(Cds-Cds(Cds-Cds)H) + other(R) + polycyclic(PolycyclicRing) + radical(C=CCJC=C)',\n",
      ")\n",
      "H298 = 83.597 kcal/mol\n",
      "S298 = 30.75 cal/mol*K\n",
      "1  * Cd u0 {6,D} {8,S}\n",
      "2    Cd u0 {8,S} {10,D}\n",
      "3    Cs u0 {4,S} {6,S}\n",
      "4    Cd u0 {3,S} {5,D}\n",
      "5    Cd u0 {4,D} {8,S} {9,S}\n",
      "6    Cd u0 {1,D} {3,S}\n",
      "7    Cd u0 {9,D} {10,S}\n",
      "8    Cs u0 {1,S} {2,S} {5,S}\n",
      "9    Cd u0 {5,S} {7,D}\n",
      "10   Cd u0 {2,D} {7,S}\n",
      "\n",
      "Polycyclic group was found to be generic \"PolycyclicRing\". Creating new entry: prod4.\n",
      "Molecule C1C=CC2C=CC=C[C]2C=1 has a single polycyclic group match in thermo estimate.\n"
     ]
    },
    {
     "data": {
      "image/png": "[encoded data removed]",
      "text/plain": [
       "Molecule(SMILES=\"C1C=CC2C=CC=C[C]2C=1\")"
      ]
     },
     "metadata": {},
     "output_type": "display_data"
    },
    {
     "name": "stdout",
     "output_type": "stream",
     "text": [
      "Molecule SMILES: C1C=CC2C=CC=C[C]2C=1\n",
      "Estimated thermo data:\n",
      "ThermoData(\n",
      "    Tdata = ([300, 400, 500, 600, 800, 1000, 1500], 'K'),\n",
      "    Cpdata = ([185.184, 225.434, 259.534, 286.562, 326.98, 356.058, 399.53], 'J/(mol*K)'),\n",
      "    H298 = (433.785, 'kJ/mol'),\n",
      "    S298 = (153.051, 'J/(mol*K)'),\n",
      "    comment = 'Thermo group additivity estimation: group(Cs-(Cds-Cds)(Cds-Cds)CsH) + other(R) + group(Cs-(Cds-Cds)(Cds-Cds)CsH) + other(R) + group(Cds-CdsCsH) + other(R) + group(Cds-CdsCsH) + other(R) + group(Cds-CdsCsH) + other(R) + group(Cds-CdsCsH) + other(R) + group(Cds-Cds(Cds-Cds)H) + other(R) + group(Cds-Cds(Cds-Cds)H) + other(R) + group(Cds-Cds(Cds-Cds)H) + other(R) + group(Cds-Cds(Cds-Cds)H) + other(R) + polycyclic(PolycyclicRing) + radical(Tertalkyl)',\n",
      ")\n",
      "H298 = 103.677 kcal/mol\n",
      "S298 = 36.58 cal/mol*K\n",
      "1  * Cs u0 {3,S} {4,S} {8,S}\n",
      "2    Cd u0 {5,S} {7,D}\n",
      "3    Cd u0 {1,S} {5,D}\n",
      "4    Cd u0 {1,S} {9,D}\n",
      "5    Cd u0 {2,S} {3,D}\n",
      "6    Cd u0 {8,S} {10,D}\n",
      "7    Cd u0 {2,D} {8,S}\n",
      "8    Cs u0 {1,S} {6,S} {7,S}\n",
      "9    Cd u0 {4,D} {10,S}\n",
      "10   Cd u0 {6,D} {9,S}\n",
      "\n",
      "Polycyclic group was found to be generic \"PolycyclicRing\". Creating new entry: prod4-1.\n",
      "=====================\n",
      "naphthalene\n",
      "Species has 2 resonance isomers\n",
      "Molecule C1=CC=C2C=CC=CC2=C1 has a single polycyclic group match in thermo estimate.\n"
     ]
    },
    {
     "data": {
      "image/png": "[encoded data removed]",
      "text/plain": [
       "Molecule(SMILES=\"C1=CC=C2C=CC=CC2=C1\")"
      ]
     },
     "metadata": {},
     "output_type": "display_data"
    },
    {
     "name": "stdout",
     "output_type": "stream",
     "text": [
      "Molecule SMILES: C1=CC=C2C=CC=CC2=C1\n",
      "Estimated thermo data:\n",
      "ThermoData(\n",
      "    Tdata = ([300, 400, 500, 600, 800, 1000, 1500], 'K'),\n",
      "    Cpdata = ([165.184, 216.313, 255.224, 284.177, 326.101, 352.879, 395.723], 'J/(mol*K)'),\n",
      "    H298 = (324.009, 'kJ/mol'),\n",
      "    S298 = (82.4248, 'J/(mol*K)'),\n",
      "    comment = 'Thermo group additivity estimation: group(Cds-Cds(Cds-Cds)(Cds-Cds)) + other(R) + group(Cds-Cds(Cds-Cds)(Cds-Cds)) + other(R) + group(Cds-Cds(Cds-Cds)H) + other(R) + group(Cds-Cds(Cds-Cds)H) + other(R) + group(Cds-Cds(Cds-Cds)H) + other(R) + group(Cds-Cds(Cds-Cds)H) + other(R) + group(Cds-Cds(Cds-Cds)H) + other(R) + group(Cds-Cds(Cds-Cds)H) + other(R) + group(Cds-Cds(Cds-Cds)H) + other(R) + group(Cds-Cds(Cds-Cds)H) + other(R) + polycyclic(PolycyclicRing)',\n",
      ")\n",
      "H298 = 77.44 kcal/mol\n",
      "S298 = 19.7 cal/mol*K\n",
      "1  * Cd u0 {2,D} {9,S}\n",
      "2    Cd u0 {1,D} {10,S}\n",
      "3    Cd u0 {4,D} {6,S}\n",
      "4    Cd u0 {3,D} {5,S}\n",
      "5    Cd u0 {4,S} {7,D}\n",
      "6    Cd u0 {3,S} {10,D}\n",
      "7    Cd u0 {5,D} {8,S} {10,S}\n",
      "8    Cd u0 {7,S} {9,D}\n",
      "9    Cd u0 {1,S} {8,D}\n",
      "10   Cd u0 {2,S} {6,D} {7,S}\n",
      "\n",
      "Polycyclic group was found to be generic \"PolycyclicRing\". Creating new entry: naphthalene.\n",
      "Molecule c1ccc2ccccc2c1 has a single polycyclic group match in thermo estimate.\n"
     ]
    },
    {
     "data": {
      "image/png": "[encoded data removed]",
      "text/plain": [
       "Molecule(SMILES=\"c1ccc2ccccc2c1\")"
      ]
     },
     "metadata": {},
     "output_type": "display_data"
    },
    {
     "name": "stdout",
     "output_type": "stream",
     "text": [
      "Molecule SMILES: c1ccc2ccccc2c1\n",
      "Estimated thermo data:\n",
      "ThermoData(\n",
      "    Tdata = ([300, 400, 500, 600, 800, 1000, 1500], 'K'),\n",
      "    Cpdata = ([133.637, 179.41, 217.903, 249.45, 295.892, 329.197, 377.564], 'J/(mol*K)'),\n",
      "    H298 = (150.624, 'kJ/mol'),\n",
      "    S298 = (344.092, 'J/(mol*K)'),\n",
      "    comment = 'Thermo group additivity estimation: group(Cbf-CbCbCbf) + other(R) + group(Cbf-CbCbCbf) + other(R) + group(Cb-H) + other(R) + group(Cb-H) + other(R) + group(Cb-H) + other(R) + group(Cb-H) + other(R) + group(Cb-H) + other(R) + group(Cb-H) + other(R) + group(Cb-H) + other(R) + group(Cb-H) + other(R) + polycyclic(PolycyclicRing)',\n",
      ")\n",
      "H298 = 36.0 kcal/mol\n",
      "S298 = 82.24 cal/mol*K\n",
      "1    Cb  u0 {5,B} {8,B}\n",
      "2    Cbf u0 {3,B} {4,B} {6,B}\n",
      "3    Cbf u0 {2,B} {7,B} {8,B}\n",
      "4    Cb  u0 {2,B} {9,B}\n",
      "5    Cb  u0 {1,B} {6,B}\n",
      "6    Cb  u0 {2,B} {5,B}\n",
      "7    Cb  u0 {3,B} {10,B}\n",
      "8  * Cb  u0 {1,B} {3,B}\n",
      "9    Cb  u0 {4,B} {10,B}\n",
      "10   Cb  u0 {7,B} {9,B}\n",
      "\n",
      "Polycyclic group was found to be generic \"PolycyclicRing\". Creating new entry: naphthalene-1.\n",
      "=====================\n",
      "prod3\n",
      "Species has 2 resonance isomers\n",
      "Molecule [CH]1C=CC2C3C=CC=CC123 has a single polycyclic group match in thermo estimate.\n"
     ]
    },
    {
     "data": {
      "image/png": "[encoded data removed]",
      "text/plain": [
       "Molecule(SMILES=\"[CH]1C=CC2C3C=CC=CC123\")"
      ]
     },
     "metadata": {},
     "output_type": "display_data"
    },
    {
     "name": "stdout",
     "output_type": "stream",
     "text": [
      "Molecule SMILES: [CH]1C=CC2C3C=CC=CC123\n",
      "Estimated thermo data:\n",
      "ThermoData(\n",
      "    Tdata = ([300, 400, 500, 600, 800, 1000, 1500], 'K'),\n",
      "    Cpdata = ([173.427, 228.446, 272.337, 303.968, 349.824, 378.485, 417.312], 'J/(mol*K)'),\n",
      "    H298 = (301.57, 'kJ/mol'),\n",
      "    S298 = (-31.2545, 'J/(mol*K)'),\n",
      "    comment = 'Thermo group additivity estimation: group(Cs-(Cds-Cds)CsCsCs) + other(R) + group(Cs-(Cds-Cds)CsCsH) + other(R) + group(Cs-(Cds-Cds)CsCsH) + other(R) + group(Cs-(Cds-Cds)CsHH) + other(R) + group(Cds-CdsCsH) + other(R) + group(Cds-CdsCsH) + other(R) + group(Cds-CdsCsH) + other(R) + group(Cds-CdsCsH) + other(R) + group(Cds-Cds(Cds-Cds)H) + other(R) + group(Cds-Cds(Cds-Cds)H) + other(R) + polycyclic(product1) + radical(cyclopentene-allyl)',\n",
      ")\n",
      "H298 = 72.077 kcal/mol\n",
      "S298 = -7.47 cal/mol*K\n",
      "Matched polycyclic group \"product1\"\n",
      "Molecule [CH]1C=CC23C=CC=CC2C13 has a single polycyclic group match in thermo estimate.\n"
     ]
    },
    {
     "data": {
      "image/png": "[encoded data removed]",
      "text/plain": [
       "Molecule(SMILES=\"[CH]1C=CC23C=CC=CC2C13\")"
      ]
     },
     "metadata": {},
     "output_type": "display_data"
    },
    {
     "name": "stdout",
     "output_type": "stream",
     "text": [
      "Molecule SMILES: [CH]1C=CC23C=CC=CC2C13\n",
      "Estimated thermo data:\n",
      "ThermoData(\n",
      "    Tdata = ([300, 400, 500, 600, 800, 1000, 1500], 'K'),\n",
      "    Cpdata = ([175.017, 228.823, 271.625, 303.382, 349.197, 377.899, 416.852], 'J/(mol*K)'),\n",
      "    H298 = (299.813, 'kJ/mol'),\n",
      "    S298 = (-32.8444, 'J/(mol*K)'),\n",
      "    comment = 'Thermo group additivity estimation: group(Cs-(Cds-Cds)(Cds-Cds)CsCs) + other(R) + group(Cs-CsCsCsH) + other(R) + group(Cs-(Cds-Cds)CsCsH) + other(R) + group(Cs-(Cds-Cds)CsHH) + other(R) + group(Cds-CdsCsH) + other(R) + group(Cds-CdsCsH) + other(R) + group(Cds-CdsCsH) + other(R) + group(Cds-CdsCsH) + other(R) + group(Cds-Cds(Cds-Cds)H) + other(R) + group(Cds-Cds(Cds-Cds)H) + other(R) + polycyclic(product1) + radical(cyclopentene-allyl)',\n",
      ")\n",
      "H298 = 71.657 kcal/mol\n",
      "S298 = -7.85 cal/mol*K\n",
      "Matched polycyclic group \"product1\"\n",
      "=====================\n"
     ]
    }
   ],
   "source": [
    "fittingDictionary={}\n",
    "for libraryName in thermoLibraries:\n",
    "    thermoLibrary = database.thermo.libraries[libraryName]\n",
    "    for label, entry in thermoLibrary.entries.iteritems():\n",
    "        molecule = entry.item\n",
    "        libraryThermoData = entry.data\n",
    "        if molecule.getAllPolycyclicVertices():\n",
    "            print label\n",
    "            species = Species(molecule=[molecule])\n",
    "            species.generateResonanceIsomers() \n",
    "            print 'Species has {0} resonance isomers'.format(len(species.molecule))\n",
    "\n",
    "            estimatedThermos = [thermoDatabase.estimateThermoViaGroupAdditivity(molecule) for molecule in species.molecule]\n",
    "            for estimatedThermo in estimatedThermos:\n",
    "                index = estimatedThermos.index(estimatedThermo)\n",
    "                polycyclicGroupTokens = returnPolycyclicGroupStrings(estimatedThermo.comment)\n",
    "                polycyclicGroups = [thermoDatabase.groups['polycyclic'].entries[token] for token in polycyclicGroupTokens]\n",
    "\n",
    "                if len(polycyclicGroups) == 0:\n",
    "                    raise Exception('Species {0} detected as polycyclic but estimated thermo contained no polycyclic groups: \\\n",
    "                            you need to create a new polycyclic group'.format(label))\n",
    "\n",
    "                elif len(polycyclicGroups) == 1:\n",
    "                    polycyclicGroup = polycyclicGroups[0]\n",
    "                    print 'Molecule {0} has a single polycyclic group match in thermo estimate.'.format(species.molecule[index].toSMILES())\n",
    "                    # Draw the molecule in ipython notebook\n",
    "                    display(species.molecule[index])\n",
    "                    print 'Molecule SMILES: {0}'.format(species.molecule[index].toSMILES())\n",
    "                    print 'Estimated thermo data:'\n",
    "                    print prettify(repr(estimatedThermo))\n",
    "                    displayThermo(estimatedThermo)\n",
    "\n",
    "                    withoutPolycyclicGroupThermo = removeThermoData(copy.deepcopy(estimatedThermo), polycyclicGroup.data)\n",
    "                    newPolycyclicGroupThermo = removeThermoData(copy.deepcopy(libraryThermoData), withoutPolycyclicGroupThermo)\n",
    "\n",
    "\n",
    "                    # Check to make sure that the polycyclic group is not generic\n",
    "                    # If it is, create a new polycyclicGroup as the child\n",
    "                    if polycyclicGroup.label == 'PolycyclicRing':\n",
    "                        groups = extractPolycyclicGroups(species.molecule[index])\n",
    "                        print groups[0].toAdjacencyList()\n",
    "                        assert len(groups) == 1\n",
    "                        # Create a new entry in the polycyclic groups with the same name as the thermo library entry\n",
    "                        # Make sure it does not already exist\n",
    "                        entryLabel = label\n",
    "                        counter = 0\n",
    "                        while entryLabel in thermoDatabase.groups['polycyclic'].entries:\n",
    "                            counter += 1\n",
    "                            entryLabel = entryLabel.split('-')[0]\n",
    "                            entryLabel += '-{0}'.format(counter)\n",
    "\n",
    "\n",
    "                        print 'Polycyclic group was found to be generic \"PolycyclicRing\". Creating new entry: {0}.'.format(entryLabel)\n",
    "                        thermoDatabase.groups['polycyclic'].entries[entryLabel] = Entry(index = len(thermoDatabase.groups['polycyclic'].entries)+1,\n",
    "                                                                                  label = entryLabel,\n",
    "                                                                                   item = groups[0],\n",
    "                                                                                   data = polycyclicGroup.data, # Use dummy thermo here so other estimates can find this group\n",
    "                                                                                   parent = polycyclicGroup,\n",
    "                                                                                  )\n",
    "\n",
    "                        # Set the new entry as the polycyclicGroup and make it a child of the generic group\n",
    "                        polycyclicGroup = thermoDatabase.groups['polycyclic'].entries[entryLabel] \n",
    "                        thermoDatabase.groups['polycyclic'].entries['PolycyclicRing'].children.append(polycyclicGroup)\n",
    "\n",
    "\n",
    "                    else:\n",
    "                        print 'Matched polycyclic group \"{0}\"'.format(polycyclicGroup.label)\n",
    "\n",
    "\n",
    "\n",
    "\n",
    "\n",
    "                    # Add the new group value to the fitting dictionary\n",
    "                    if polycyclicGroup not in fittingDictionary:\n",
    "                        # Add a tuple containing fitted group data, the original library entry, and thermo library\n",
    "                        fittingDictionary[polycyclicGroup]=[(newPolycyclicGroupThermo, entry, thermoLibrary)]\n",
    "                    else:\n",
    "                        fittingDictionary[polycyclicGroup].append((newPolycyclicGroupThermo, entry, thermoLibrary))\n",
    "\n",
    "                elif len(polycyclicGroups) > 1:\n",
    "                    print 'Species {0} has matched multiple polycyclic groups. \\\n",
    "                            This cannot be fitted with a single molecule\\'s thermo data.'.format(label)\n",
    "                    raise Exception\n",
    "            print '====================='"
   ]
  },
  {
   "cell_type": "markdown",
   "metadata": {},
   "source": [
    "## Fit the polycyclic groups and write to file"
   ]
  },
  {
   "cell_type": "code",
   "execution_count": 6,
   "metadata": {
    "collapsed": false
   },
   "outputs": [
    {
     "name": "stdout",
     "output_type": "stream",
     "text": [
      "Original thermo data for polycyclic group: pdt8-1\n",
      "ThermoData(\n",
      "    Tdata = ([300, 400, 500, 600, 800, 1000, 1500], 'K'),\n",
      "    Cpdata = ([0, 0, 0, 0, 0, 0, 0], 'cal/(mol*K)'),\n",
      "    H298 = (0, 'kcal/mol'),\n",
      "    S298 = (0, 'cal/(mol*K)'),\n",
      "    comment = 'polycyclic(product1)',\n",
      ")\n",
      "Averaging thermo data over 1 value(s).\n",
      "Fitted thermo data for polycyclic group: pdt8-1\n",
      "ThermoData(\n",
      "    Tdata = ([300, 400, 500, 600, 800, 1000, 1500], 'K'),\n",
      "    Cpdata = ([-6.31, -5.81, -5.33, -4.69, -3.97, -3.35, -2.88], 'cal/(mol*K)'),\n",
      "    H298 = (14.973, 'kcal/mol'),\n",
      "    S298 = (52.13, 'cal/(mol*K)'),\n",
      ")\n",
      "Fitted from species pdt8 from C10H11 library.\n",
      "====================================================================\n",
      "Original thermo data for polycyclic group: product46-1\n",
      "ThermoData(\n",
      "    Tdata = ([300, 400, 500, 600, 800, 1000, 1500], 'K'),\n",
      "    Cpdata = ([0, 0, 0, 0, 0, 0, 0], 'cal/(mol*K)'),\n",
      "    H298 = (0, 'kcal/mol'),\n",
      "    S298 = (0, 'cal/(mol*K)'),\n",
      "    comment = 'polycyclic(product1)',\n",
      ")\n",
      "Averaging thermo data over 1 value(s).\n",
      "Fitted thermo data for polycyclic group: product46-1\n",
      "ThermoData(\n",
      "    Tdata = ([300, 400, 500, 600, 800, 1000, 1500], 'K'),\n",
      "    Cpdata = ([-4.82, -4.74, -4.65, -4.52, -4.39, -4.28, -4.42], 'cal/(mol*K)'),\n",
      "    H298 = (53.563, 'kcal/mol'),\n",
      "    S298 = (63.9, 'cal/(mol*K)'),\n",
      ")\n",
      "Fitted from species product46 from vinylCPD_H library.\n",
      "====================================================================\n",
      "Original thermo data for polycyclic group: pdt21-3\n",
      "ThermoData(\n",
      "    Tdata = ([300, 400, 500, 600, 800, 1000, 1500], 'K'),\n",
      "    Cpdata = ([0, 0, 0, 0, 0, 0, 0], 'cal/(mol*K)'),\n",
      "    H298 = (0, 'kcal/mol'),\n",
      "    S298 = (0, 'cal/(mol*K)'),\n",
      "    comment = 'polycyclic(product1)',\n",
      ")\n",
      "Averaging thermo data over 1 value(s).\n",
      "Fitted thermo data for polycyclic group: pdt21-3\n",
      "ThermoData(\n",
      "    Tdata = ([300, 400, 500, 600, 800, 1000, 1500], 'K'),\n",
      "    Cpdata = ([-8.67, -8.62, -7.99, -7, -5.42, -4.27, -2.72], 'cal/(mol*K)'),\n",
      "    H298 = (2.023, 'kcal/mol'),\n",
      "    S298 = (61.7232, 'cal/(mol*K)'),\n",
      ")\n",
      "Fitted from species pdt21 from C10H11 library.\n",
      "====================================================================\n",
      "Original thermo data for polycyclic group: pdt27-1\n",
      "ThermoData(\n",
      "    Tdata = ([300, 400, 500, 600, 800, 1000, 1500], 'K'),\n",
      "    Cpdata = ([0, 0, 0, 0, 0, 0, 0], 'cal/(mol*K)'),\n",
      "    H298 = (0, 'kcal/mol'),\n",
      "    S298 = (0, 'cal/(mol*K)'),\n",
      "    comment = 'polycyclic(product1)',\n",
      ")\n",
      "Averaging thermo data over 1 value(s).\n",
      "Fitted thermo data for polycyclic group: pdt27-1\n",
      "ThermoData(\n",
      "    Tdata = ([300, 400, 500, 600, 800, 1000, 1500], 'K'),\n",
      "    Cpdata = ([-4.57, -4.83, -4.71, -4.26, -4, -3.54, -3.01], 'cal/(mol*K)'),\n",
      "    H298 = (-2.777, 'kcal/mol'),\n",
      "    S298 = (59.5532, 'cal/(mol*K)'),\n",
      ")\n",
      "Fitted from species pdt27 from C10H11 library.\n",
      "====================================================================\n",
      "Original thermo data for polycyclic group: prod2\n",
      "ThermoData(\n",
      "    Tdata = ([300, 400, 500, 600, 800, 1000, 1500], 'K'),\n",
      "    Cpdata = ([0, 0, 0, 0, 0, 0, 0], 'cal/(mol*K)'),\n",
      "    H298 = (0, 'kcal/mol'),\n",
      "    S298 = (0, 'cal/(mol*K)'),\n",
      "    comment = 'polycyclic(product1)',\n",
      ")\n",
      "Averaging thermo data over 1 value(s).\n",
      "Fitted thermo data for polycyclic group: prod2\n",
      "ThermoData(\n",
      "    Tdata = ([300, 400, 500, 600, 800, 1000, 1500], 'K'),\n",
      "    Cpdata = ([-6.54, -7.38, -7.43, -7.04, -6.22, -5.38, -3.12], 'cal/(mol*K)'),\n",
      "    H298 = (3.583, 'kcal/mol'),\n",
      "    S298 = (59.28, 'cal/(mol*K)'),\n",
      ")\n",
      "Fitted from species prod2 from naphthalene_H library.\n",
      "====================================================================\n",
      "Original thermo data for polycyclic group: pdt26\n",
      "ThermoData(\n",
      "    Tdata = ([300, 400, 500, 600, 800, 1000, 1500], 'K'),\n",
      "    Cpdata = ([0, 0, 0, 0, 0, 0, 0], 'cal/(mol*K)'),\n",
      "    H298 = (0, 'kcal/mol'),\n",
      "    S298 = (0, 'cal/(mol*K)'),\n",
      "    comment = 'polycyclic(product1)',\n",
      ")\n",
      "Averaging thermo data over 1 value(s).\n",
      "Fitted thermo data for polycyclic group: pdt26\n",
      "ThermoData(\n",
      "    Tdata = ([300, 400, 500, 600, 800, 1000, 1500], 'K'),\n",
      "    Cpdata = ([-9.51, -10.83, -10.38, -9.04, -6.78, -5.2, -2.72], 'cal/(mol*K)'),\n",
      "    H298 = (10.33, 'kcal/mol'),\n",
      "    S298 = (53.47, 'cal/(mol*K)'),\n",
      ")\n",
      "Fitted from species pdt26 from C10H11 library.\n",
      "====================================================================\n",
      "Original thermo data for polycyclic group: product23\n",
      "ThermoData(\n",
      "    Tdata = ([300, 400, 500, 600, 800, 1000, 1500], 'K'),\n",
      "    Cpdata = ([0, 0, 0, 0, 0, 0, 0], 'cal/(mol*K)'),\n",
      "    H298 = (0, 'kcal/mol'),\n",
      "    S298 = (0, 'cal/(mol*K)'),\n",
      "    comment = 'polycyclic(product1)',\n",
      ")\n",
      "Averaging thermo data over 2 value(s).\n",
      "Fitted thermo data for polycyclic group: product23\n",
      "ThermoData(\n",
      "    Tdata = ([300, 400, 500, 600, 800, 1000, 1500], 'K'),\n",
      "    Cpdata = ([-6.785, -6.005, -5.34, -4.815, -4.35, -3.915, -3.05], 'cal/(mol*K)', '+|-', [8.69809, 7.63302, 6.62712, 5.8579, 4.61531, 3.60941, 2.13015]),\n",
      "    H298 = (71.868, 'kcal/mol', '+|-', 63.5123),\n",
      "    S298 = (58.32, 'cal/(mol*K)', '+|-', 1.69706),\n",
      ")\n",
      "Fitted from species product23 from vinylCPD_H library.\n",
      "Fitted from species product29 from vinylCPD_H library.\n",
      "====================================================================\n",
      "Original thermo data for polycyclic group: pdt30\n",
      "ThermoData(\n",
      "    Tdata = ([300, 400, 500, 600, 800, 1000, 1500], 'K'),\n",
      "    Cpdata = ([0, 0, 0, 0, 0, 0, 0], 'cal/(mol*K)'),\n",
      "    H298 = (0, 'kcal/mol'),\n",
      "    S298 = (0, 'cal/(mol*K)'),\n",
      "    comment = 'polycyclic(product1)',\n",
      ")\n",
      "Averaging thermo data over 1 value(s).\n",
      "Fitted thermo data for polycyclic group: pdt30\n",
      "ThermoData(\n",
      "    Tdata = ([300, 400, 500, 600, 800, 1000, 1500], 'K'),\n",
      "    Cpdata = ([-10.84, -11.12, -10.33, -8.95, -6.62, -4.99, -2.8], 'cal/(mol*K)'),\n",
      "    H298 = (14.29, 'kcal/mol'),\n",
      "    S298 = (58.23, 'cal/(mol*K)'),\n",
      ")\n",
      "Fitted from species pdt30 from C10H11 library.\n",
      "====================================================================\n",
      "Original thermo data for polycyclic group: pdt10bis\n",
      "ThermoData(\n",
      "    Tdata = ([300, 400, 500, 600, 800, 1000, 1500], 'K'),\n",
      "    Cpdata = ([0, 0, 0, 0, 0, 0, 0], 'cal/(mol*K)'),\n",
      "    H298 = (0, 'kcal/mol'),\n",
      "    S298 = (0, 'cal/(mol*K)'),\n",
      "    comment = 'polycyclic(product1)',\n",
      ")\n",
      "Averaging thermo data over 2 value(s).\n",
      "Fitted thermo data for polycyclic group: pdt10bis\n",
      "ThermoData(\n",
      "    Tdata = ([300, 400, 500, 600, 800, 1000, 1500], 'K'),\n",
      "    Cpdata = ([-6.455, -6.46, -6.15, -5.28, -4.38, -3.47, -2.41], 'cal/(mol*K)', '+|-', [0.532536, 0.946731, 1.53844, 1.65678, 1.53844, 1.30176, 2.24849]),\n",
      "    H298 = (3.073, 'kcal/mol', '+|-', 13.7744),\n",
      "    S298 = (52.44, 'cal/(mol*K)', '+|-', 1.21622),\n",
      ")\n",
      "Fitted from species pdt10bis from C10H11 library.\n",
      "Fitted from species pdt37 from C10H11 library.\n",
      "====================================================================\n",
      "Original thermo data for polycyclic group: prod2-1\n",
      "ThermoData(\n",
      "    Tdata = ([300, 400, 500, 600, 800, 1000, 1500], 'K'),\n",
      "    Cpdata = ([0, 0, 0, 0, 0, 0, 0], 'cal/(mol*K)'),\n",
      "    H298 = (0, 'kcal/mol'),\n",
      "    S298 = (0, 'cal/(mol*K)'),\n",
      "    comment = 'polycyclic(product1)',\n",
      ")\n",
      "Averaging thermo data over 1 value(s).\n",
      "Fitted thermo data for polycyclic group: prod2-1\n",
      "ThermoData(\n",
      "    Tdata = ([300, 400, 500, 600, 800, 1000, 1500], 'K'),\n",
      "    Cpdata = ([-5.98, -5.93, -5.62, -5.32, -5, -4.36, -3.36], 'cal/(mol*K)'),\n",
      "    H298 = (11.133, 'kcal/mol'),\n",
      "    S298 = (57.08, 'cal/(mol*K)'),\n",
      ")\n",
      "Fitted from species prod2 from naphthalene_H library.\n",
      "====================================================================\n",
      "Original thermo data for polycyclic group: pdt21\n",
      "ThermoData(\n",
      "    Tdata = ([300, 400, 500, 600, 800, 1000, 1500], 'K'),\n",
      "    Cpdata = ([0, 0, 0, 0, 0, 0, 0], 'cal/(mol*K)'),\n",
      "    H298 = (0, 'kcal/mol'),\n",
      "    S298 = (0, 'cal/(mol*K)'),\n",
      "    comment = 'polycyclic(product1)',\n",
      ")\n",
      "Averaging thermo data over 3 value(s).\n",
      "Fitted thermo data for polycyclic group: pdt21\n",
      "ThermoData(\n",
      "    Tdata = ([300, 400, 500, 600, 800, 1000, 1500], 'K'),\n",
      "    Cpdata = ([-7.07, -7.77333, -7.70333, -6.73333, -5.47333, -4.32333, -2.97333], 'cal/(mol*K)', '+|-', [3.26137, 4.03866, 3.95722, 3.57416, 2.7068, 2.08753, 1.35534]),\n",
      "    H298 = (2.643, 'kcal/mol', '+|-', 4.3516),\n",
      "    S298 = (60.4632, 'cal/(mol*K)', '+|-', 1.24756),\n",
      ")\n",
      "Fitted from species pdt21 from C10H11 library.\n",
      "Fitted from species pdt27 from C10H11 library.\n",
      "Fitted from species pdt32 from C10H11 library.\n",
      "====================================================================\n",
      "Original thermo data for polycyclic group: pdt21-2\n",
      "ThermoData(\n",
      "    Tdata = ([300, 400, 500, 600, 800, 1000, 1500], 'K'),\n",
      "    Cpdata = ([0, 0, 0, 0, 0, 0, 0], 'cal/(mol*K)'),\n",
      "    H298 = (0, 'kcal/mol'),\n",
      "    S298 = (0, 'cal/(mol*K)'),\n",
      "    comment = 'polycyclic(product1)',\n",
      ")\n",
      "Averaging thermo data over 1 value(s).\n",
      "Fitted thermo data for polycyclic group: pdt21-2\n",
      "ThermoData(\n",
      "    Tdata = ([300, 400, 500, 600, 800, 1000, 1500], 'K'),\n",
      "    Cpdata = ([-6.68, -6.81, -6.56, -5.84, -4.8, -3.99, -3.4], 'cal/(mol*K)'),\n",
      "    H298 = (6.863, 'kcal/mol'),\n",
      "    S298 = (57.6932, 'cal/(mol*K)'),\n",
      ")\n",
      "Fitted from species pdt21 from C10H11 library.\n",
      "====================================================================\n",
      "Original thermo data for polycyclic group: pdt19\n",
      "ThermoData(\n",
      "    Tdata = ([300, 400, 500, 600, 800, 1000, 1500], 'K'),\n",
      "    Cpdata = ([0, 0, 0, 0, 0, 0, 0], 'cal/(mol*K)'),\n",
      "    H298 = (0, 'kcal/mol'),\n",
      "    S298 = (0, 'cal/(mol*K)'),\n",
      "    comment = 'polycyclic(product1)',\n",
      ")\n",
      "Averaging thermo data over 2 value(s).\n",
      "Fitted thermo data for polycyclic group: pdt19\n",
      "ThermoData(\n",
      "    Tdata = ([300, 400, 500, 600, 800, 1000, 1500], 'K'),\n",
      "    Cpdata = ([-6.98, -7.21, -6.77, -5.84, -4.695, -3.755, -2.135], 'cal/(mol*K)', '+|-', [2.95853, 2.36683, 1.77512, 1.4201, 0.88756, 0.650878, 0.295853]),\n",
      "    H298 = (2.333, 'kcal/mol', '+|-', 14.9058),\n",
      "    S298 = (51.955, 'cal/(mol*K)', '+|-', 2.95571),\n",
      ")\n",
      "Fitted from species pdt19 from C10H11 library.\n",
      "Fitted from species pdt37 from C10H11 library.\n",
      "====================================================================\n",
      "Original thermo data for polycyclic group: product34\n",
      "ThermoData(\n",
      "    Tdata = ([300, 400, 500, 600, 800, 1000, 1500], 'K'),\n",
      "    Cpdata = ([0, 0, 0, 0, 0, 0, 0], 'cal/(mol*K)'),\n",
      "    H298 = (0, 'kcal/mol'),\n",
      "    S298 = (0, 'cal/(mol*K)'),\n",
      "    comment = 'polycyclic(product1)',\n",
      ")\n",
      "Averaging thermo data over 2 value(s).\n",
      "Fitted thermo data for polycyclic group: product34\n",
      "ThermoData(\n",
      "    Tdata = ([300, 400, 500, 600, 800, 1000, 1500], 'K'),\n",
      "    Cpdata = ([-4.38, -4.49, -4.61, -4.23, -4.095, -3.75, -3.51], 'cal/(mol*K)', '+|-', [1.89346, 4.02361, 4.97034, 5.32536, 5.73956, 5.79873, 8.8756]),\n",
      "    H298 = (41.913, 'kcal/mol', '+|-', 20.8172),\n",
      "    S298 = (62.305, 'cal/(mol*K)', '+|-', 13.2229),\n",
      ")\n",
      "Fitted from species product34 from vinylCPD_H library.\n",
      "Fitted from species product46 from vinylCPD_H library.\n",
      "====================================================================\n",
      "Original thermo data for polycyclic group: product46\n",
      "ThermoData(\n",
      "    Tdata = ([300, 400, 500, 600, 800, 1000, 1500], 'K'),\n",
      "    Cpdata = ([0, 0, 0, 0, 0, 0, 0], 'cal/(mol*K)'),\n",
      "    H298 = (0, 'kcal/mol'),\n",
      "    S298 = (0, 'cal/(mol*K)'),\n",
      "    comment = 'polycyclic(product1)',\n",
      ")\n",
      "Averaging thermo data over 1 value(s).\n",
      "Fitted thermo data for polycyclic group: product46\n",
      "ThermoData(\n",
      "    Tdata = ([300, 400, 500, 600, 800, 1000, 1500], 'K'),\n",
      "    Cpdata = ([-5.31, -5.83, -5.92, -5.53, -5.17, -4.71, -3.89], 'cal/(mol*K)'),\n",
      "    H298 = (48.433, 'kcal/mol'),\n",
      "    S298 = (65.9, 'cal/(mol*K)'),\n",
      ")\n",
      "Fitted from species product46 from vinylCPD_H library.\n",
      "====================================================================\n",
      "Original thermo data for polycyclic group: product3\n",
      "ThermoData(\n",
      "    Tdata = ([300, 400, 500, 600, 800, 1000, 1500], 'K'),\n",
      "    Cpdata = ([0, 0, 0, 0, 0, 0, 0], 'cal/(mol*K)'),\n",
      "    H298 = (0, 'kcal/mol'),\n",
      "    S298 = (0, 'cal/(mol*K)'),\n",
      "    comment = 'polycyclic(product1)',\n",
      ")\n",
      "Averaging thermo data over 5 value(s).\n",
      "Fitted thermo data for polycyclic group: product3\n",
      "ThermoData(\n",
      "    Tdata = ([300, 400, 500, 600, 800, 1000, 1500], 'K'),\n",
      "    Cpdata = ([-6.49, -5.912, -5.48, -4.912, -4.61, -4.122, -3.47], 'cal/(mol*K)', '+|-', [11.276, 13.3805, 14.1663, 13.3764, 12.968, 11.469, 9.42729]),\n",
      "    H298 = (37.631, 'kcal/mol', '+|-', 6.50583),\n",
      "    S298 = (71.26, 'cal/(mol*K)', '+|-', 32.7404),\n",
      ")\n",
      "Fitted from species product3 from vinylCPD_H library.\n",
      "Fitted from species product8 from vinylCPD_H library.\n",
      "Fitted from species product25 from vinylCPD_H library.\n",
      "Fitted from species pdt7 from C10H11 library.\n",
      "Fitted from species pdt7 from C10H11 library.\n",
      "====================================================================\n",
      "Original thermo data for polycyclic group: INDENE\n",
      "ThermoData(\n",
      "    Tdata = ([300, 400, 500, 600, 800, 1000, 1500], 'K'),\n",
      "    Cpdata = ([0, 0, 0, 0, 0, 0, 0], 'cal/(mol*K)'),\n",
      "    H298 = (0, 'kcal/mol'),\n",
      "    S298 = (0, 'cal/(mol*K)'),\n",
      "    comment = 'polycyclic(product1)',\n",
      ")\n",
      "Averaging thermo data over 1 value(s).\n",
      "Fitted thermo data for polycyclic group: INDENE\n",
      "ThermoData(\n",
      "    Tdata = ([300, 400, 500, 600, 800, 1000, 1500], 'K'),\n",
      "    Cpdata = ([-8.18, -9.06, -8.74, -7.88, -6.6, -5.53, -4.33], 'cal/(mol*K)'),\n",
      "    H298 = (-18.19, 'kcal/mol'),\n",
      "    S298 = (60.02, 'cal/(mol*K)'),\n",
      ")\n",
      "Fitted from species INDENE from C10H11 library.\n",
      "====================================================================\n",
      "Original thermo data for polycyclic group: indene\n",
      "ThermoData(\n",
      "    Tdata = ([300, 400, 500, 600, 800, 1000, 1500], 'K'),\n",
      "    Cpdata = ([-3.88, -4.29, -3.89, -2.96, -1.83, -2.2, -1.31], 'cal/(mol*K)'),\n",
      "    H298 = (2.1, 'kcal/mol'),\n",
      "    S298 = (33.08, 'cal/(mol*K)'),\n",
      "    comment = 'polycyclic(indene)',\n",
      ")\n",
      "Averaging thermo data over 1 value(s).\n",
      "Fitted thermo data for polycyclic group: indene\n",
      "ThermoData(\n",
      "    Tdata = ([300, 400, 500, 600, 800, 1000, 1500], 'K'),\n",
      "    Cpdata = ([-3.07, -2.67, -2.42, -2.22, -2.2, -2.23, -2.04], 'cal/(mol*K)'),\n",
      "    H298 = (5.01, 'kcal/mol'),\n",
      "    S298 = (32.84, 'cal/(mol*K)'),\n",
      ")\n",
      "Fitted from species INDENE from C10H11 library.\n",
      "====================================================================\n",
      "Original thermo data for polycyclic group: pdt29-2\n",
      "ThermoData(\n",
      "    Tdata = ([300, 400, 500, 600, 800, 1000, 1500], 'K'),\n",
      "    Cpdata = ([0, 0, 0, 0, 0, 0, 0], 'cal/(mol*K)'),\n",
      "    H298 = (0, 'kcal/mol'),\n",
      "    S298 = (0, 'cal/(mol*K)'),\n",
      "    comment = 'polycyclic(product1)',\n",
      ")\n",
      "Averaging thermo data over 1 value(s).\n",
      "Fitted thermo data for polycyclic group: pdt29-2\n",
      "ThermoData(\n",
      "    Tdata = ([300, 400, 500, 600, 800, 1000, 1500], 'K'),\n",
      "    Cpdata = ([-8.56, -9.04, -8.6, -7.5, -5.91, -4.62, -2.75], 'cal/(mol*K)'),\n",
      "    H298 = (3.993, 'kcal/mol'),\n",
      "    S298 = (56.96, 'cal/(mol*K)'),\n",
      ")\n",
      "Fitted from species pdt29 from C10H11 library.\n",
      "====================================================================\n",
      "Original thermo data for polycyclic group: pdt17\n",
      "ThermoData(\n",
      "    Tdata = ([300, 400, 500, 600, 800, 1000, 1500], 'K'),\n",
      "    Cpdata = ([0, 0, 0, 0, 0, 0, 0], 'cal/(mol*K)'),\n",
      "    H298 = (0, 'kcal/mol'),\n",
      "    S298 = (0, 'cal/(mol*K)'),\n",
      "    comment = 'polycyclic(product1)',\n",
      ")\n",
      "Averaging thermo data over 1 value(s).\n",
      "Fitted thermo data for polycyclic group: pdt17\n",
      "ThermoData(\n",
      "    Tdata = ([300, 400, 500, 600, 800, 1000, 1500], 'K'),\n",
      "    Cpdata = ([-6.34, -6.73, -6.55, -6.13, -5.34, -4.43, -2.23], 'cal/(mol*K)'),\n",
      "    H298 = (14.573, 'kcal/mol'),\n",
      "    S298 = (57.37, 'cal/(mol*K)'),\n",
      ")\n",
      "Fitted from species pdt17 from C10H11 library.\n",
      "====================================================================\n",
      "Original thermo data for polycyclic group: pdt29-1\n",
      "ThermoData(\n",
      "    Tdata = ([300, 400, 500, 600, 800, 1000, 1500], 'K'),\n",
      "    Cpdata = ([0, 0, 0, 0, 0, 0, 0], 'cal/(mol*K)'),\n",
      "    H298 = (0, 'kcal/mol'),\n",
      "    S298 = (0, 'cal/(mol*K)'),\n",
      "    comment = 'polycyclic(product1)',\n",
      ")\n",
      "Averaging thermo data over 1 value(s).\n",
      "Fitted thermo data for polycyclic group: pdt29-1\n",
      "ThermoData(\n",
      "    Tdata = ([300, 400, 500, 600, 800, 1000, 1500], 'K'),\n",
      "    Cpdata = ([-6.57, -7.23, -7.07, -6.34, -5.29, -4.34, -3.43], 'cal/(mol*K)'),\n",
      "    H298 = (6.033, 'kcal/mol'),\n",
      "    S298 = (53.24, 'cal/(mol*K)'),\n",
      ")\n",
      "Fitted from species pdt29 from C10H11 library.\n",
      "====================================================================\n",
      "Original thermo data for polycyclic group: pdt32-2\n",
      "ThermoData(\n",
      "    Tdata = ([300, 400, 500, 600, 800, 1000, 1500], 'K'),\n",
      "    Cpdata = ([0, 0, 0, 0, 0, 0, 0], 'cal/(mol*K)'),\n",
      "    H298 = (0, 'kcal/mol'),\n",
      "    S298 = (0, 'cal/(mol*K)'),\n",
      "    comment = 'polycyclic(product1)',\n",
      ")\n",
      "Averaging thermo data over 1 value(s).\n",
      "Fitted thermo data for polycyclic group: pdt32-2\n",
      "ThermoData(\n",
      "    Tdata = ([300, 400, 500, 600, 800, 1000, 1500], 'K'),\n",
      "    Cpdata = ([-8.9, -8.9, -8.26, -7.24, -5.57, -4.36, -2.74], 'cal/(mol*K)'),\n",
      "    H298 = (3.693, 'kcal/mol'),\n",
      "    S298 = (61.9332, 'cal/(mol*K)'),\n",
      ")\n",
      "Fitted from species pdt32 from C10H11 library.\n",
      "====================================================================\n",
      "Original thermo data for polycyclic group: product45\n",
      "ThermoData(\n",
      "    Tdata = ([300, 400, 500, 600, 800, 1000, 1500], 'K'),\n",
      "    Cpdata = ([0, 0, 0, 0, 0, 0, 0], 'cal/(mol*K)'),\n",
      "    H298 = (0, 'kcal/mol'),\n",
      "    S298 = (0, 'cal/(mol*K)'),\n",
      "    comment = 'polycyclic(product1)',\n",
      ")\n",
      "Averaging thermo data over 1 value(s).\n",
      "Fitted thermo data for polycyclic group: product45\n",
      "ThermoData(\n",
      "    Tdata = ([300, 400, 500, 600, 800, 1000, 1500], 'K'),\n",
      "    Cpdata = ([-5.23, -4.36, -3.97, -3.6, -3.53, -3.44, -3.16], 'cal/(mol*K)'),\n",
      "    H298 = (39.483, 'kcal/mol'),\n",
      "    S298 = (62.16, 'cal/(mol*K)'),\n",
      ")\n",
      "Fitted from species product45 from vinylCPD_H library.\n",
      "====================================================================\n",
      "Original thermo data for polycyclic group: naphthalene-1\n",
      "ThermoData(\n",
      "    Tdata = ([300, 400, 500, 600, 800, 1000, 1500], 'K'),\n",
      "    Cpdata = ([0, 0, 0, 0, 0, 0, 0], 'cal/(mol*K)'),\n",
      "    H298 = (0, 'kcal/mol'),\n",
      "    S298 = (0, 'cal/(mol*K)'),\n",
      "    comment = 'polycyclic(product1)',\n",
      ")\n",
      "Averaging thermo data over 1 value(s).\n",
      "Fitted thermo data for polycyclic group: naphthalene-1\n",
      "ThermoData(\n",
      "    Tdata = ([300, 400, 500, 600, 800, 1000, 1500], 'K'),\n",
      "    Cpdata = ([-6.79295e-15, 0, -1.35859e-14, -6.79295e-15, 0, 1.35859e-14, -1.35859e-14], 'cal/(mol*K)'),\n",
      "    H298 = (0, 'kcal/mol'),\n",
      "    S298 = (-2.75, 'cal/(mol*K)'),\n",
      ")\n",
      "Fitted from species naphthalene from naphthalene_H library.\n",
      "====================================================================\n",
      "Original thermo data for polycyclic group: pdt8-2\n",
      "ThermoData(\n",
      "    Tdata = ([300, 400, 500, 600, 800, 1000, 1500], 'K'),\n",
      "    Cpdata = ([0, 0, 0, 0, 0, 0, 0], 'cal/(mol*K)'),\n",
      "    H298 = (0, 'kcal/mol'),\n",
      "    S298 = (0, 'cal/(mol*K)'),\n",
      "    comment = 'polycyclic(product1)',\n",
      ")\n",
      "Averaging thermo data over 4 value(s).\n",
      "Fitted thermo data for polycyclic group: pdt8-2\n",
      "ThermoData(\n",
      "    Tdata = ([300, 400, 500, 600, 800, 1000, 1500], 'K'),\n",
      "    Cpdata = ([-8.3425, -7.0575, -5.85, -4.7975, -3.47, -2.58, -1.35], 'cal/(mol*K)', '+|-', [4.00405, 3.66182, 6.7465, 8.34184, 9.49513, 9.23012, 7.85553]),\n",
      "    H298 = (6.758, 'kcal/mol', '+|-', 29.8859),\n",
      "    S298 = (51.8325, 'cal/(mol*K)', '+|-', 9.6992),\n",
      ")\n",
      "Fitted from species pdt8 from C10H11 library.\n",
      "Fitted from species pdt23 from C10H11 library.\n",
      "Fitted from species pdt28 from C10H11 library.\n",
      "Fitted from species pdt29 from C10H11 library.\n",
      "====================================================================\n",
      "Original thermo data for polycyclic group: pdt38-1\n",
      "ThermoData(\n",
      "    Tdata = ([300, 400, 500, 600, 800, 1000, 1500], 'K'),\n",
      "    Cpdata = ([0, 0, 0, 0, 0, 0, 0], 'cal/(mol*K)'),\n",
      "    H298 = (0, 'kcal/mol'),\n",
      "    S298 = (0, 'cal/(mol*K)'),\n",
      "    comment = 'polycyclic(product1)',\n",
      ")\n",
      "Averaging thermo data over 1 value(s).\n",
      "Fitted thermo data for polycyclic group: pdt38-1\n",
      "ThermoData(\n",
      "    Tdata = ([300, 400, 500, 600, 800, 1000, 1500], 'K'),\n",
      "    Cpdata = ([-1.68, -1.73, -1.85, -1.91, -2.19, -2.39, -2.51], 'cal/(mol*K)'),\n",
      "    H298 = (2.84, 'kcal/mol'),\n",
      "    S298 = (35.91, 'cal/(mol*K)'),\n",
      ")\n",
      "Fitted from species pdt38 from C10H11 library.\n",
      "====================================================================\n",
      "Original thermo data for polycyclic group: prod4\n",
      "ThermoData(\n",
      "    Tdata = ([300, 400, 500, 600, 800, 1000, 1500], 'K'),\n",
      "    Cpdata = ([0, 0, 0, 0, 0, 0, 0], 'cal/(mol*K)'),\n",
      "    H298 = (0, 'kcal/mol'),\n",
      "    S298 = (0, 'cal/(mol*K)'),\n",
      "    comment = 'polycyclic(product1)',\n",
      ")\n",
      "Averaging thermo data over 1 value(s).\n",
      "Fitted thermo data for polycyclic group: prod4\n",
      "ThermoData(\n",
      "    Tdata = ([300, 400, 500, 600, 800, 1000, 1500], 'K'),\n",
      "    Cpdata = ([-7.57, -7.86, -7.37, -6.54, -5.25, -4.39, -3.88], 'cal/(mol*K)'),\n",
      "    H298 = (-1.957, 'kcal/mol'),\n",
      "    S298 = (55.67, 'cal/(mol*K)'),\n",
      ")\n",
      "Fitted from species prod4 from naphthalene_H library.\n",
      "====================================================================\n",
      "Original thermo data for polycyclic group: pdt10bis-1\n",
      "ThermoData(\n",
      "    Tdata = ([300, 400, 500, 600, 800, 1000, 1500], 'K'),\n",
      "    Cpdata = ([0, 0, 0, 0, 0, 0, 0], 'cal/(mol*K)'),\n",
      "    H298 = (0, 'kcal/mol'),\n",
      "    S298 = (0, 'cal/(mol*K)'),\n",
      "    comment = 'polycyclic(product1)',\n",
      ")\n",
      "Averaging thermo data over 1 value(s).\n",
      "Fitted thermo data for polycyclic group: pdt10bis-1\n",
      "ThermoData(\n",
      "    Tdata = ([300, 400, 500, 600, 800, 1000, 1500], 'K'),\n",
      "    Cpdata = ([-7.91, -7.26, -6.54, -5.57, -4.35, -3.43, -2.07], 'cal/(mol*K)'),\n",
      "    H298 = (7.733, 'kcal/mol'),\n",
      "    S298 = (54.59, 'cal/(mol*K)'),\n",
      ")\n",
      "Fitted from species pdt10bis from C10H11 library.\n",
      "====================================================================\n",
      "Original thermo data for polycyclic group: pdt38\n",
      "ThermoData(\n",
      "    Tdata = ([300, 400, 500, 600, 800, 1000, 1500], 'K'),\n",
      "    Cpdata = ([0, 0, 0, 0, 0, 0, 0], 'cal/(mol*K)'),\n",
      "    H298 = (0, 'kcal/mol'),\n",
      "    S298 = (0, 'cal/(mol*K)'),\n",
      "    comment = 'polycyclic(product1)',\n",
      ")\n",
      "Averaging thermo data over 1 value(s).\n",
      "Fitted thermo data for polycyclic group: pdt38\n",
      "ThermoData(\n",
      "    Tdata = ([300, 400, 500, 600, 800, 1000, 1500], 'K'),\n",
      "    Cpdata = ([-10.4, -11.67, -11.09, -9.63, -7.17, -5.47, -2.85], 'cal/(mol*K)'),\n",
      "    H298 = (-17.82, 'kcal/mol'),\n",
      "    S298 = (53.93, 'cal/(mol*K)'),\n",
      ")\n",
      "Fitted from species pdt38 from C10H11 library.\n",
      "====================================================================\n",
      "Original thermo data for polycyclic group: pdt17-1\n",
      "ThermoData(\n",
      "    Tdata = ([300, 400, 500, 600, 800, 1000, 1500], 'K'),\n",
      "    Cpdata = ([0, 0, 0, 0, 0, 0, 0], 'cal/(mol*K)'),\n",
      "    H298 = (0, 'kcal/mol'),\n",
      "    S298 = (0, 'cal/(mol*K)'),\n",
      "    comment = 'polycyclic(product1)',\n",
      ")\n",
      "Averaging thermo data over 1 value(s).\n",
      "Fitted thermo data for polycyclic group: pdt17-1\n",
      "ThermoData(\n",
      "    Tdata = ([300, 400, 500, 600, 800, 1000, 1500], 'K'),\n",
      "    Cpdata = ([-6.72, -6.82, -6.48, -5.99, -5.19, -4.29, -2.12], 'cal/(mol*K)'),\n",
      "    H298 = (14.743, 'kcal/mol'),\n",
      "    S298 = (57.75, 'cal/(mol*K)'),\n",
      ")\n",
      "Fitted from species pdt17 from C10H11 library.\n",
      "====================================================================\n",
      "Original thermo data for polycyclic group: INDENE-1\n",
      "ThermoData(\n",
      "    Tdata = ([300, 400, 500, 600, 800, 1000, 1500], 'K'),\n",
      "    Cpdata = ([0, 0, 0, 0, 0, 0, 0], 'cal/(mol*K)'),\n",
      "    H298 = (0, 'kcal/mol'),\n",
      "    S298 = (0, 'cal/(mol*K)'),\n",
      "    comment = 'polycyclic(product1)',\n",
      ")\n",
      "Averaging thermo data over 1 value(s).\n",
      "Fitted thermo data for polycyclic group: INDENE-1\n",
      "ThermoData(\n",
      "    Tdata = ([300, 400, 500, 600, 800, 1000, 1500], 'K'),\n",
      "    Cpdata = ([-8.18, -9.06, -8.74, -7.88, -6.6, -5.53, -4.33], 'cal/(mol*K)'),\n",
      "    H298 = (-18.19, 'kcal/mol'),\n",
      "    S298 = (60.02, 'cal/(mol*K)'),\n",
      ")\n",
      "Fitted from species INDENE from C10H11 library.\n",
      "====================================================================\n",
      "Original thermo data for polycyclic group: naphthalene\n",
      "ThermoData(\n",
      "    Tdata = ([300, 400, 500, 600, 800, 1000, 1500], 'K'),\n",
      "    Cpdata = ([0, 0, 0, 0, 0, 0, 0], 'cal/(mol*K)'),\n",
      "    H298 = (0, 'kcal/mol'),\n",
      "    S298 = (0, 'cal/(mol*K)'),\n",
      "    comment = 'polycyclic(product1)',\n",
      ")\n",
      "Averaging thermo data over 1 value(s).\n",
      "Fitted thermo data for polycyclic group: naphthalene\n",
      "ThermoData(\n",
      "    Tdata = ([300, 400, 500, 600, 800, 1000, 1500], 'K'),\n",
      "    Cpdata = ([-7.54, -8.82, -8.92, -8.3, -7.22, -5.66, -4.34], 'cal/(mol*K)'),\n",
      "    H298 = (-41.44, 'kcal/mol'),\n",
      "    S298 = (59.79, 'cal/(mol*K)'),\n",
      ")\n",
      "Fitted from species naphthalene from naphthalene_H library.\n",
      "====================================================================\n",
      "Original thermo data for polycyclic group: product29\n",
      "ThermoData(\n",
      "    Tdata = ([300, 400, 500, 600, 800, 1000, 1500], 'K'),\n",
      "    Cpdata = ([0, 0, 0, 0, 0, 0, 0], 'cal/(mol*K)'),\n",
      "    H298 = (0, 'kcal/mol'),\n",
      "    S298 = (0, 'cal/(mol*K)'),\n",
      "    comment = 'polycyclic(product1)',\n",
      ")\n",
      "Averaging thermo data over 1 value(s).\n",
      "Fitted thermo data for polycyclic group: product29\n",
      "ThermoData(\n",
      "    Tdata = ([300, 400, 500, 600, 800, 1000, 1500], 'K'),\n",
      "    Cpdata = ([-6.05, -5.36, -4.88, -4.32, -3.96, -3.61, -2.87], 'cal/(mol*K)'),\n",
      "    H298 = (94.073, 'kcal/mol'),\n",
      "    S298 = (58.92, 'cal/(mol*K)'),\n",
      ")\n",
      "Fitted from species product29 from vinylCPD_H library.\n",
      "====================================================================\n",
      "Original thermo data for polycyclic group: pdt32-1\n",
      "ThermoData(\n",
      "    Tdata = ([300, 400, 500, 600, 800, 1000, 1500], 'K'),\n",
      "    Cpdata = ([0, 0, 0, 0, 0, 0, 0], 'cal/(mol*K)'),\n",
      "    H298 = (0, 'kcal/mol'),\n",
      "    S298 = (0, 'cal/(mol*K)'),\n",
      "    comment = 'polycyclic(product1)',\n",
      ")\n",
      "Averaging thermo data over 1 value(s).\n",
      "Fitted thermo data for polycyclic group: pdt32-1\n",
      "ThermoData(\n",
      "    Tdata = ([300, 400, 500, 600, 800, 1000, 1500], 'K'),\n",
      "    Cpdata = ([-7.78, -6.1, -4.92, -3.65, -2.41, -1.62, -0.77], 'cal/(mol*K)'),\n",
      "    H298 = (-15.727, 'kcal/mol'),\n",
      "    S298 = (49.8332, 'cal/(mol*K)'),\n",
      ")\n",
      "Fitted from species pdt32 from C10H11 library.\n",
      "====================================================================\n",
      "Original thermo data for polycyclic group: pdt11\n",
      "ThermoData(\n",
      "    Tdata = ([300, 400, 500, 600, 800, 1000, 1500], 'K'),\n",
      "    Cpdata = ([0, 0, 0, 0, 0, 0, 0], 'cal/(mol*K)'),\n",
      "    H298 = (0, 'kcal/mol'),\n",
      "    S298 = (0, 'cal/(mol*K)'),\n",
      "    comment = 'polycyclic(product1)',\n",
      ")\n",
      "Averaging thermo data over 2 value(s).\n",
      "Fitted thermo data for polycyclic group: pdt11\n",
      "ThermoData(\n",
      "    Tdata = ([300, 400, 500, 600, 800, 1000, 1500], 'K'),\n",
      "    Cpdata = ([-10.475, -10.72, -10, -8.715, -6.555, -5.06, -3.055], 'cal/(mol*K)', '+|-', [6.21292, 6.62712, 5.79873, 4.4378, 1.71595, 0.355024, 3.13605]),\n",
      "    H298 = (1.5665, 'kcal/mol', '+|-', 21.2797),\n",
      "    S298 = (58.74, 'cal/(mol*K)', '+|-', 4.18607),\n",
      ")\n",
      "Fitted from species pdt11 from C10H11 library.\n",
      "Fitted from species prod4 from naphthalene_H library.\n",
      "====================================================================\n",
      "Original thermo data for polycyclic group: pdt35\n",
      "ThermoData(\n",
      "    Tdata = ([300, 400, 500, 600, 800, 1000, 1500], 'K'),\n",
      "    Cpdata = ([0, 0, 0, 0, 0, 0, 0], 'cal/(mol*K)'),\n",
      "    H298 = (0, 'kcal/mol'),\n",
      "    S298 = (0, 'cal/(mol*K)'),\n",
      "    comment = 'polycyclic(product1)',\n",
      ")\n",
      "Averaging thermo data over 1 value(s).\n",
      "Fitted thermo data for polycyclic group: pdt35\n",
      "ThermoData(\n",
      "    Tdata = ([300, 400, 500, 600, 800, 1000, 1500], 'K'),\n",
      "    Cpdata = ([-6.52, -7.11, -6.7, -5.92, -4.93, -4.1, -2.95], 'cal/(mol*K)'),\n",
      "    H298 = (8.12, 'kcal/mol'),\n",
      "    S298 = (54.6, 'cal/(mol*K)'),\n",
      ")\n",
      "Fitted from species pdt35 from C10H11 library.\n",
      "====================================================================\n",
      "Original thermo data for polycyclic group: pdt32\n",
      "ThermoData(\n",
      "    Tdata = ([300, 400, 500, 600, 800, 1000, 1500], 'K'),\n",
      "    Cpdata = ([0, 0, 0, 0, 0, 0, 0], 'cal/(mol*K)'),\n",
      "    H298 = (0, 'kcal/mol'),\n",
      "    S298 = (0, 'cal/(mol*K)'),\n",
      "    comment = 'polycyclic(product1)',\n",
      ")\n",
      "Averaging thermo data over 1 value(s).\n",
      "Fitted thermo data for polycyclic group: pdt32\n",
      "ThermoData(\n",
      "    Tdata = ([300, 400, 500, 600, 800, 1000, 1500], 'K'),\n",
      "    Cpdata = ([-6.91, -7.09, -6.83, -6.08, -4.95, -4.08, -3.42], 'cal/(mol*K)'),\n",
      "    H298 = (5.483, 'kcal/mol'),\n",
      "    S298 = (58.2132, 'cal/(mol*K)'),\n",
      ")\n",
      "Fitted from species pdt32 from C10H11 library.\n",
      "====================================================================\n",
      "Original thermo data for polycyclic group: product42\n",
      "ThermoData(\n",
      "    Tdata = ([300, 400, 500, 600, 800, 1000, 1500], 'K'),\n",
      "    Cpdata = ([0, 0, 0, 0, 0, 0, 0], 'cal/(mol*K)'),\n",
      "    H298 = (0, 'kcal/mol'),\n",
      "    S298 = (0, 'cal/(mol*K)'),\n",
      "    comment = 'polycyclic(product1)',\n",
      ")\n",
      "Averaging thermo data over 1 value(s).\n",
      "Fitted thermo data for polycyclic group: product42\n",
      "ThermoData(\n",
      "    Tdata = ([300, 400, 500, 600, 800, 1000, 1500], 'K'),\n",
      "    Cpdata = ([-4.48, -3.9, -3.81, -3.6, -3.7, -3.68, -3.44], 'cal/(mol*K)'),\n",
      "    H298 = (47.323, 'kcal/mol'),\n",
      "    S298 = (66.8874, 'cal/(mol*K)'),\n",
      ")\n",
      "Fitted from species product42 from vinylCPD_H library.\n",
      "====================================================================\n",
      "Original thermo data for polycyclic group: pdt29\n",
      "ThermoData(\n",
      "    Tdata = ([300, 400, 500, 600, 800, 1000, 1500], 'K'),\n",
      "    Cpdata = ([0, 0, 0, 0, 0, 0, 0], 'cal/(mol*K)'),\n",
      "    H298 = (0, 'kcal/mol'),\n",
      "    S298 = (0, 'cal/(mol*K)'),\n",
      "    comment = 'polycyclic(product1)',\n",
      ")\n",
      "Averaging thermo data over 1 value(s).\n",
      "Fitted thermo data for polycyclic group: pdt29\n",
      "ThermoData(\n",
      "    Tdata = ([300, 400, 500, 600, 800, 1000, 1500], 'K'),\n",
      "    Cpdata = ([-8.56, -9.04, -8.6, -7.5, -5.91, -4.62, -2.75], 'cal/(mol*K)'),\n",
      "    H298 = (0.693, 'kcal/mol'),\n",
      "    S298 = (56.96, 'cal/(mol*K)'),\n",
      ")\n",
      "Fitted from species pdt29 from C10H11 library.\n",
      "====================================================================\n",
      "Original thermo data for polycyclic group: norbornene\n",
      "ThermoData(\n",
      "    Tdata = ([300, 400, 500, 600, 800, 1000, 1500], 'K'),\n",
      "    Cpdata = ([-8.29, -7.302, -6.501, -5.499, -4.58, -3.778, -2.608], 'cal/(mol*K)'),\n",
      "    H298 = (17.8, 'kcal/mol'),\n",
      "    S298 = (53.75, 'cal/(mol*K)'),\n",
      "    comment = 'polycyclic(norbornene)',\n",
      ")\n",
      "Averaging thermo data over 3 value(s).\n",
      "Fitted thermo data for polycyclic group: norbornene\n",
      "ThermoData(\n",
      "    Tdata = ([300, 400, 500, 600, 800, 1000, 1500], 'K'),\n",
      "    Cpdata = ([-6.51, -5.19333, -4.47333, -3.76, -3.44333, -2.94667, -2.47], 'cal/(mol*K)', '+|-', [2.72057, 3.42407, 4.84068, 5.11681, 5.13207, 5.8757, 8.29108]),\n",
      "    H298 = (33.1097, 'kcal/mol', '+|-', 24.8344),\n",
      "    S298 = (53.2167, 'cal/(mol*K)', '+|-', 9.77287),\n",
      ")\n",
      "Fitted from species product6 from vinylCPD_H library.\n",
      "Fitted from species product17 from vinylCPD_H library.\n",
      "Fitted from species product23 from vinylCPD_H library.\n",
      "====================================================================\n",
      "Original thermo data for polycyclic group: prod4-1\n",
      "ThermoData(\n",
      "    Tdata = ([300, 400, 500, 600, 800, 1000, 1500], 'K'),\n",
      "    Cpdata = ([0, 0, 0, 0, 0, 0, 0], 'cal/(mol*K)'),\n",
      "    H298 = (0, 'kcal/mol'),\n",
      "    S298 = (0, 'cal/(mol*K)'),\n",
      "    comment = 'polycyclic(product1)',\n",
      ")\n",
      "Averaging thermo data over 1 value(s).\n",
      "Fitted thermo data for polycyclic group: prod4-1\n",
      "ThermoData(\n",
      "    Tdata = ([300, 400, 500, 600, 800, 1000, 1500], 'K'),\n",
      "    Cpdata = ([-10.33, -8.08, -6.33, -4.9, -3.09, -2.2, -1.2], 'cal/(mol*K)'),\n",
      "    H298 = (-22.037, 'kcal/mol'),\n",
      "    S298 = (49.84, 'cal/(mol*K)'),\n",
      ")\n",
      "Fitted from species prod4 from naphthalene_H library.\n",
      "====================================================================\n",
      "Original thermo data for polycyclic group: pdt22\n",
      "ThermoData(\n",
      "    Tdata = ([300, 400, 500, 600, 800, 1000, 1500], 'K'),\n",
      "    Cpdata = ([0, 0, 0, 0, 0, 0, 0], 'cal/(mol*K)'),\n",
      "    H298 = (0, 'kcal/mol'),\n",
      "    S298 = (0, 'cal/(mol*K)'),\n",
      "    comment = 'polycyclic(product1)',\n",
      ")\n",
      "Averaging thermo data over 1 value(s).\n",
      "Fitted thermo data for polycyclic group: pdt22\n",
      "ThermoData(\n",
      "    Tdata = ([300, 400, 500, 600, 800, 1000, 1500], 'K'),\n",
      "    Cpdata = ([-9.63, -9.81, -9.04, -7.82, -5.95, -4.71, -3.23], 'cal/(mol*K)'),\n",
      "    H298 = (14.05, 'kcal/mol'),\n",
      "    S298 = (60.39, 'cal/(mol*K)'),\n",
      ")\n",
      "Fitted from species pdt22 from C10H11 library.\n",
      "====================================================================\n",
      "Original thermo data for polycyclic group: product36\n",
      "ThermoData(\n",
      "    Tdata = ([300, 400, 500, 600, 800, 1000, 1500], 'K'),\n",
      "    Cpdata = ([0, 0, 0, 0, 0, 0, 0], 'cal/(mol*K)'),\n",
      "    H298 = (0, 'kcal/mol'),\n",
      "    S298 = (0, 'cal/(mol*K)'),\n",
      "    comment = 'polycyclic(product1)',\n",
      ")\n",
      "Averaging thermo data over 1 value(s).\n",
      "Fitted thermo data for polycyclic group: product36\n",
      "ThermoData(\n",
      "    Tdata = ([300, 400, 500, 600, 800, 1000, 1500], 'K'),\n",
      "    Cpdata = ([-4.97, -4.68, -4.47, -4.27, -4.21, -3.94, -3.36], 'cal/(mol*K)'),\n",
      "    H298 = (32.543, 'kcal/mol'),\n",
      "    S298 = (65.1674, 'cal/(mol*K)'),\n",
      ")\n",
      "Fitted from species product36 from vinylCPD_H library.\n",
      "====================================================================\n",
      "Original thermo data for polycyclic group: pdt21-1\n",
      "ThermoData(\n",
      "    Tdata = ([300, 400, 500, 600, 800, 1000, 1500], 'K'),\n",
      "    Cpdata = ([0, 0, 0, 0, 0, 0, 0], 'cal/(mol*K)'),\n",
      "    H298 = (0, 'kcal/mol'),\n",
      "    S298 = (0, 'cal/(mol*K)'),\n",
      "    comment = 'polycyclic(product1)',\n",
      ")\n",
      "Averaging thermo data over 1 value(s).\n",
      "Fitted thermo data for polycyclic group: pdt21-1\n",
      "ThermoData(\n",
      "    Tdata = ([300, 400, 500, 600, 800, 1000, 1500], 'K'),\n",
      "    Cpdata = ([-6.68, -6.81, -6.56, -5.84, -4.8, -3.99, -3.4], 'cal/(mol*K)'),\n",
      "    H298 = (6.863, 'kcal/mol'),\n",
      "    S298 = (57.6932, 'cal/(mol*K)'),\n",
      ")\n",
      "Fitted from species pdt21 from C10H11 library.\n",
      "====================================================================\n",
      "Original thermo data for polycyclic group: pdt37\n",
      "ThermoData(\n",
      "    Tdata = ([300, 400, 500, 600, 800, 1000, 1500], 'K'),\n",
      "    Cpdata = ([0, 0, 0, 0, 0, 0, 0], 'cal/(mol*K)'),\n",
      "    H298 = (0, 'kcal/mol'),\n",
      "    S298 = (0, 'cal/(mol*K)'),\n",
      "    comment = 'polycyclic(product1)',\n",
      ")\n",
      "Averaging thermo data over 1 value(s).\n",
      "Fitted thermo data for polycyclic group: pdt37\n",
      "ThermoData(\n",
      "    Tdata = ([300, 400, 500, 600, 800, 1000, 1500], 'K'),\n",
      "    Cpdata = ([-6.74, -6.32, -5.65, -4.95, -3.99, -3.38, -2.69], 'cal/(mol*K)'),\n",
      "    H298 = (2.193, 'kcal/mol'),\n",
      "    S298 = (48.91, 'cal/(mol*K)'),\n",
      ")\n",
      "Fitted from species pdt37 from C10H11 library.\n",
      "====================================================================\n",
      "Original thermo data for polycyclic group: pdt31\n",
      "ThermoData(\n",
      "    Tdata = ([300, 400, 500, 600, 800, 1000, 1500], 'K'),\n",
      "    Cpdata = ([0, 0, 0, 0, 0, 0, 0], 'cal/(mol*K)'),\n",
      "    H298 = (0, 'kcal/mol'),\n",
      "    S298 = (0, 'cal/(mol*K)'),\n",
      "    comment = 'polycyclic(product1)',\n",
      ")\n",
      "Averaging thermo data over 1 value(s).\n",
      "Fitted thermo data for polycyclic group: pdt31\n",
      "ThermoData(\n",
      "    Tdata = ([300, 400, 500, 600, 800, 1000, 1500], 'K'),\n",
      "    Cpdata = ([-10.94, -11.19, -10.38, -8.99, -6.63, -5, -2.79], 'cal/(mol*K)'),\n",
      "    H298 = (11.73, 'kcal/mol'),\n",
      "    S298 = (57.98, 'cal/(mol*K)'),\n",
      ")\n",
      "Fitted from species pdt31 from C10H11 library.\n",
      "====================================================================\n",
      "Original thermo data for polycyclic group: pdt19-1\n",
      "ThermoData(\n",
      "    Tdata = ([300, 400, 500, 600, 800, 1000, 1500], 'K'),\n",
      "    Cpdata = ([0, 0, 0, 0, 0, 0, 0], 'cal/(mol*K)'),\n",
      "    H298 = (0, 'kcal/mol'),\n",
      "    S298 = (0, 'cal/(mol*K)'),\n",
      "    comment = 'polycyclic(product1)',\n",
      ")\n",
      "Averaging thermo data over 1 value(s).\n",
      "Fitted thermo data for polycyclic group: pdt19-1\n",
      "ThermoData(\n",
      "    Tdata = ([300, 400, 500, 600, 800, 1000, 1500], 'K'),\n",
      "    Cpdata = ([-8.27, -7.7, -6.87, -5.9, -4.53, -3.57, -2.03], 'cal/(mol*K)'),\n",
      "    H298 = (7.693, 'kcal/mol'),\n",
      "    S298 = (54.74, 'cal/(mol*K)'),\n",
      ")\n",
      "Fitted from species pdt19 from C10H11 library.\n",
      "====================================================================\n",
      "Original thermo data for polycyclic group: product1\n",
      "ThermoData(\n",
      "    Tdata = ([300, 400, 500, 600, 800, 1000, 1500], 'K'),\n",
      "    Cpdata = ([0, 0, 0, 0, 0, 0, 0], 'cal/(mol*K)'),\n",
      "    H298 = (0, 'kcal/mol'),\n",
      "    S298 = (0, 'cal/(mol*K)'),\n",
      "    comment = 'polycyclic(product1)',\n",
      ")\n",
      "Averaging thermo data over 12 value(s).\n",
      "Fitted thermo data for polycyclic group: product1\n",
      "ThermoData(\n",
      "    Tdata = ([300, 400, 500, 600, 800, 1000, 1500], 'K'),\n",
      "    Cpdata = ([-5.53, -5.88833, -6.0675, -5.87167, -5.755, -5.22583, -3.91833], 'cal/(mol*K)', '+|-', [13.695, 15.6123, 16.4506, 15.9745, 14.9052, 13.0715, 9.23303]),\n",
      "    H298 = (33.7772, 'kcal/mol', '+|-', 4.36481),\n",
      "    S298 = (75.9204, 'cal/(mol*K)', '+|-', 29.7929),\n",
      ")\n",
      "Fitted from species product1 from vinylCPD_H library.\n",
      "Fitted from species product19 from vinylCPD_H library.\n",
      "Fitted from species product19 from vinylCPD_H library.\n",
      "Fitted from species product36 from vinylCPD_H library.\n",
      "Fitted from species product39 from vinylCPD_H library.\n",
      "Fitted from species pdt24 from C10H11 library.\n",
      "Fitted from species pdt24 from C10H11 library.\n",
      "Fitted from species pdt57 from C10H11 library.\n",
      "Fitted from species biring1 from Fulvene_H library.\n",
      "Fitted from species prod1 from naphthalene_H library.\n",
      "Fitted from species prod3 from naphthalene_H library.\n",
      "Fitted from species prod3 from naphthalene_H library.\n",
      "====================================================================\n",
      "Original thermo data for polycyclic group: pdt27\n",
      "ThermoData(\n",
      "    Tdata = ([300, 400, 500, 600, 800, 1000, 1500], 'K'),\n",
      "    Cpdata = ([0, 0, 0, 0, 0, 0, 0], 'cal/(mol*K)'),\n",
      "    H298 = (0, 'kcal/mol'),\n",
      "    S298 = (0, 'cal/(mol*K)'),\n",
      "    comment = 'polycyclic(product1)',\n",
      ")\n",
      "Averaging thermo data over 1 value(s).\n",
      "Fitted thermo data for polycyclic group: pdt27\n",
      "ThermoData(\n",
      "    Tdata = ([300, 400, 500, 600, 800, 1000, 1500], 'K'),\n",
      "    Cpdata = ([-6.88, -7.18, -6.81, -6.07, -4.85, -4.06, -3.25], 'cal/(mol*K)'),\n",
      "    H298 = (6.883, 'kcal/mol'),\n",
      "    S298 = (58.0732, 'cal/(mol*K)'),\n",
      ")\n",
      "Fitted from species pdt27 from C10H11 library.\n",
      "====================================================================\n",
      "Original thermo data for polycyclic group: pdt8\n",
      "ThermoData(\n",
      "    Tdata = ([300, 400, 500, 600, 800, 1000, 1500], 'K'),\n",
      "    Cpdata = ([0, 0, 0, 0, 0, 0, 0], 'cal/(mol*K)'),\n",
      "    H298 = (0, 'kcal/mol'),\n",
      "    S298 = (0, 'cal/(mol*K)'),\n",
      "    comment = 'polycyclic(product1)',\n",
      ")\n",
      "Averaging thermo data over 2 value(s).\n",
      "Fitted thermo data for polycyclic group: pdt8\n",
      "ThermoData(\n",
      "    Tdata = ([300, 400, 500, 600, 800, 1000, 1500], 'K'),\n",
      "    Cpdata = ([-6.535, -6.635, -6.36, -5.495, -4.605, -3.68, -2.31], 'cal/(mol*K)', '+|-', [3.13605, 3.13605, 2.84019, 2.426, 1.71595, 1.18341, 0.473366]),\n",
      "    H298 = (13.728, 'kcal/mol', '+|-', 10.9884),\n",
      "    S298 = (54.235, 'cal/(mol*K)', '+|-', 0.296985),\n",
      ")\n",
      "Fitted from species pdt8 from C10H11 library.\n",
      "Fitted from species pdt23 from C10H11 library.\n",
      "====================================================================\n",
      "Original thermo data for polycyclic group: 2HINDENE\n",
      "ThermoData(\n",
      "    Tdata = ([300, 400, 500, 600, 800, 1000, 1500], 'K'),\n",
      "    Cpdata = ([0, 0, 0, 0, 0, 0, 0], 'cal/(mol*K)'),\n",
      "    H298 = (0, 'kcal/mol'),\n",
      "    S298 = (0, 'cal/(mol*K)'),\n",
      "    comment = 'polycyclic(product1)',\n",
      ")\n",
      "Averaging thermo data over 1 value(s).\n",
      "Fitted thermo data for polycyclic group: 2HINDENE\n",
      "ThermoData(\n",
      "    Tdata = ([300, 400, 500, 600, 800, 1000, 1500], 'K'),\n",
      "    Cpdata = ([-4.49, -4.75, -4.62, -4.45, -4.55, -4.28, -4.48], 'cal/(mol*K)'),\n",
      "    H298 = (-0.61, 'kcal/mol'),\n",
      "    S298 = (58.88, 'cal/(mol*K)'),\n",
      ")\n",
      "Fitted from species 2HINDENE from C10H11 library.\n",
      "====================================================================\n",
      "Original thermo data for polycyclic group: product25\n",
      "ThermoData(\n",
      "    Tdata = ([300, 400, 500, 600, 800, 1000, 1500], 'K'),\n",
      "    Cpdata = ([0, 0, 0, 0, 0, 0, 0], 'cal/(mol*K)'),\n",
      "    H298 = (0, 'kcal/mol'),\n",
      "    S298 = (0, 'cal/(mol*K)'),\n",
      "    comment = 'polycyclic(product1)',\n",
      ")\n",
      "Averaging thermo data over 1 value(s).\n",
      "Fitted thermo data for polycyclic group: product25\n",
      "ThermoData(\n",
      "    Tdata = ([300, 400, 500, 600, 800, 1000, 1500], 'K'),\n",
      "    Cpdata = ([-6.32, -5.85, -5.4, -4.81, -4.34, -3.92, -3.03], 'cal/(mol*K)'),\n",
      "    H298 = (45.173, 'kcal/mol'),\n",
      "    S298 = (60.95, 'cal/(mol*K)'),\n",
      ")\n",
      "Fitted from species product25 from vinylCPD_H library.\n",
      "====================================================================\n"
     ]
    }
   ],
   "source": [
    "for polycyclicGroup, fittingGroups in fittingDictionary.iteritems():\n",
    "    print 'Original thermo data for polycyclic group: {0}'.format(polycyclicGroup.label)\n",
    "    if polycyclicGroup.data:\n",
    "        print prettify(repr(polycyclicGroup.data))\n",
    "    else:\n",
    "        print 'No data found. Was created as a new group.'\n",
    "    \n",
    "    thermoDataset = [fitTuple[0] for fitTuple in fittingGroups]\n",
    "    labels = [fitTuple[1].label for fitTuple in fittingGroups]\n",
    "    libraryLabels = [fitTuple[2].name for fitTuple in fittingGroups]\n",
    "    # Average the new group values to fit the original polycyclic group\n",
    "    fittedGroupData = averageThermoData([fitTuple[0] for fitTuple in fittingGroups])\n",
    "    #print fittedGroupData\n",
    "    #print fittingGroups\n",
    "    polycyclicGroup.data = fittedGroupData\n",
    "    polycyclicGroup.shortDesc = \"Fitted from thermo library values\"\n",
    "    \n",
    "    comment = ''\n",
    "    for i in range(len(labels)):\n",
    "        comment += \"Fitted from species {0} from {1} library.\\n\".format(labels[i],libraryLabels[i])\n",
    "    polycyclicGroup.longDesc = comment.strip()\n",
    "    \n",
    "    print 'Fitted thermo data for polycyclic group: {0}'.format(polycyclicGroup.label)\n",
    "    print prettify(repr(polycyclicGroup.data))\n",
    "    print polycyclicGroup.longDesc\n",
    "    print '===================================================================='\n",
    "    # At this point, save and overwrite the entire polycyclic thermo library\n",
    "\n",
    "thermoDatabase.groups['polycyclic'].save('new_polycyclic.py')"
   ]
  },
  {
   "cell_type": "markdown",
   "metadata": {},
   "source": [
    "## Benchmark the new groups by checking the estimates against library values"
   ]
  },
  {
   "cell_type": "code",
   "execution_count": 7,
   "metadata": {
    "collapsed": false
   },
   "outputs": [
    {
     "name": "stdout",
     "output_type": "stream",
     "text": [
      "product1\n"
     ]
    },
    {
     "data": {
      "image/png": "[encoded data removed]",
      "text/plain": [
       "Molecule(SMILES=\"CC1C2[CH]C=CC12\")"
      ]
     },
     "metadata": {},
     "output_type": "display_data"
    },
    {
     "name": "stdout",
     "output_type": "stream",
     "text": [
      "Species has 1 resonance isomer(s)\n",
      "Library thermo data for species product1 does not match the estimate from group additivity\n",
      "\n",
      "Library thermo data:\n",
      "H298 = 62.21 kcal/mol\n",
      "S298 = 79.16 cal/mol*K\n",
      "\n",
      "Estimated thermo data:\n",
      "Polycyclic groups: product1\n",
      "H298 = 60.9141666667 kcal/mol\n",
      "S298 = 90.2471939857 cal/mol*K\n",
      "\n",
      "Comparison of library thermo with estimated thermo\n",
      "Difference in H298 = 1.29583333333 kcal/mol\n",
      "Difference S298 = -11.0871939857 cal/mol*K\n",
      "\n",
      "Original estimated thermo data:\n",
      "Polycyclic groups: PolycyclicRing\n",
      "H298 = 27.137 kcal/mol\n",
      "S298 = 14.3268305179 cal/mol*K\n",
      "\n",
      "Comparison of library thermo with original estimated thermo\n",
      "Difference in H298 = 35.073 kcal/mol\n",
      "Difference S298 = 64.8331694821 cal/mol*K\n",
      "\n",
      "=======================\n",
      "product3\n"
     ]
    },
    {
     "data": {
      "image/png": "[encoded data removed]",
      "text/plain": [
       "Molecule(SMILES=\"[CH]1C=CC2CCC12\")"
      ]
     },
     "metadata": {},
     "output_type": "display_data"
    },
    {
     "name": "stdout",
     "output_type": "stream",
     "text": [
      "Species has 1 resonance isomer(s)\n",
      "Library thermo data for species product3 does not match the estimate from group additivity\n",
      "\n",
      "Library thermo data:\n",
      "H298 = 63.77 kcal/mol\n",
      "S298 = 78.59 cal/mol*K\n",
      "\n",
      "Estimated thermo data:\n",
      "Polycyclic groups: product3\n",
      "H298 = 67.008 kcal/mol\n",
      "S298 = 88.27 cal/mol*K\n",
      "\n",
      "Comparison of library thermo with estimated thermo\n",
      "Difference in H298 = -3.238 kcal/mol\n",
      "Difference S298 = -9.68 cal/mol*K\n",
      "\n",
      "Original estimated thermo data:\n",
      "Polycyclic groups: PolycyclicRing\n",
      "H298 = 29.377 kcal/mol\n",
      "S298 = 17.01 cal/mol*K\n",
      "\n",
      "Comparison of library thermo with original estimated thermo\n",
      "Difference in H298 = 34.393 kcal/mol\n",
      "Difference S298 = 61.58 cal/mol*K\n",
      "\n",
      "=======================\n",
      "product6\n"
     ]
    },
    {
     "data": {
      "image/png": "[encoded data removed]",
      "text/plain": [
       "Molecule(SMILES=\"[CH]1CC2C=CC1C2\")"
      ]
     },
     "metadata": {},
     "output_type": "display_data"
    },
    {
     "name": "stdout",
     "output_type": "stream",
     "text": [
      "Species has 1 resonance isomer(s)\n",
      "Library thermo data for species product6 does not match the estimate from group additivity\n",
      "\n",
      "Library thermo data:\n",
      "H298 = 68.14 kcal/mol\n",
      "S298 = 76.39 cal/mol*K\n",
      "\n",
      "Estimated thermo data:\n",
      "Polycyclic groups: norbornene\n",
      "H298 = 78.8866666667 kcal/mol\n",
      "S298 = 78.4766666667 cal/mol*K\n",
      "\n",
      "Comparison of library thermo with estimated thermo\n",
      "Difference in H298 = -10.7466666667 kcal/mol\n",
      "Difference S298 = -2.08666666667 cal/mol*K\n",
      "\n",
      "Original estimated thermo data:\n",
      "Polycyclic groups: norbornene\n",
      "H298 = 63.577 kcal/mol\n",
      "S298 = 79.01 cal/mol*K\n",
      "\n",
      "Comparison of library thermo with original estimated thermo\n",
      "Difference in H298 = 4.563 kcal/mol\n",
      "Difference S298 = -2.62 cal/mol*K\n",
      "\n",
      "=======================\n",
      "product8\n"
     ]
    },
    {
     "data": {
      "image/png": "[encoded data removed]",
      "text/plain": [
       "Molecule(SMILES=\"[CH]1CC2CC=CC12\")"
      ]
     },
     "metadata": {},
     "output_type": "display_data"
    },
    {
     "name": "stdout",
     "output_type": "stream",
     "text": [
      "Species has 1 resonance isomer(s)\n",
      "Library thermo data for species product8 does not match the estimate from group additivity\n",
      "\n",
      "Library thermo data:\n",
      "H298 = 79.77 kcal/mol\n",
      "S298 = 80.18 cal/mol*K\n",
      "\n",
      "Estimated thermo data:\n",
      "Polycyclic groups: product3\n",
      "H298 = 81.608 kcal/mol\n",
      "S298 = 96.59 cal/mol*K\n",
      "\n",
      "Comparison of library thermo with estimated thermo\n",
      "Difference in H298 = -1.838 kcal/mol\n",
      "Difference S298 = -16.41 cal/mol*K\n",
      "\n",
      "Original estimated thermo data:\n",
      "Polycyclic groups: PolycyclicRing\n",
      "H298 = 43.977 kcal/mol\n",
      "S298 = 25.33 cal/mol*K\n",
      "\n",
      "Comparison of library thermo with original estimated thermo\n",
      "Difference in H298 = 35.793 kcal/mol\n",
      "Difference S298 = 54.85 cal/mol*K\n",
      "\n",
      "=======================\n",
      "product17\n"
     ]
    },
    {
     "data": {
      "image/png": "[encoded data removed]",
      "text/plain": [
       "Molecule(SMILES=\"[CH]1C2C=CC1CC2\")"
      ]
     },
     "metadata": {},
     "output_type": "display_data"
    },
    {
     "name": "stdout",
     "output_type": "stream",
     "text": [
      "Species has 1 resonance isomer(s)\n",
      "Library thermo data for species product17 matches the estimate from group additivity.\n",
      "\n",
      "Library thermo data:\n",
      "H298 = 74.29 kcal/mol\n",
      "S298 = 75.05 cal/mol*K\n",
      "\n",
      "Original estimated thermo data:\n",
      "Polycyclic groups: norbornene\n",
      "H298 = 61.827 kcal/mol\n",
      "S298 = 79.08 cal/mol*K\n",
      "\n",
      "Comparison of library thermo with original estimated thermo\n",
      "Difference in H298 = 12.463 kcal/mol\n",
      "Difference S298 = -4.03 cal/mol*K\n",
      "\n",
      "=======================\n",
      "product19\n"
     ]
    },
    {
     "data": {
      "image/png": "[encoded data removed]",
      "text/plain": [
       "Molecule(SMILES=\"CC12[CH]C=CC1C2\")"
      ]
     },
     "metadata": {},
     "output_type": "display_data"
    },
    {
     "name": "stdout",
     "output_type": "stream",
     "text": [
      "Species has 2 resonance isomer(s)\n",
      "Library thermo data for species product19 does not match the estimate from group additivity\n",
      "\n",
      "Library thermo data:\n",
      "H298 = 61.77 kcal/mol\n",
      "S298 = 80.32 cal/mol*K\n",
      "\n",
      "Estimated thermo data:\n",
      "Polycyclic groups: product1\n",
      "H298 = 60.2841666667 kcal/mol\n",
      "S298 = 88.7071939857 cal/mol*K\n",
      "\n",
      "Comparison of library thermo with estimated thermo\n",
      "Difference in H298 = 1.48583333333 kcal/mol\n",
      "Difference S298 = -8.38719398567 cal/mol*K\n",
      "\n",
      "Original estimated thermo data:\n",
      "Polycyclic groups: PolycyclicRing\n",
      "H298 = 26.507 kcal/mol\n",
      "S298 = 12.7868305179 cal/mol*K\n",
      "\n",
      "Comparison of library thermo with original estimated thermo\n",
      "Difference in H298 = 35.263 kcal/mol\n",
      "Difference S298 = 67.5331694821 cal/mol*K\n",
      "\n",
      "=======================\n",
      "product23\n"
     ]
    },
    {
     "data": {
      "image/png": "[encoded data removed]",
      "text/plain": [
       "Molecule(SMILES=\"C1=CC2CC[C]1C2\")"
      ]
     },
     "metadata": {},
     "output_type": "display_data"
    },
    {
     "name": "stdout",
     "output_type": "stream",
     "text": [
      "Species has 2 resonance isomer(s)\n",
      "Library thermo data for species product23 does not match the estimate from group additivity\n",
      "\n",
      "Library thermo data:\n",
      "H298 = 77.43 kcal/mol\n",
      "S298 = 75.93 cal/mol*K\n",
      "\n",
      "Estimated thermo data:\n",
      "Polycyclic groups: norbornene\n",
      "H298 = 63.8366666667 kcal/mol\n",
      "S298 = 70.3466666667 cal/mol*K\n",
      "\n",
      "Comparison of library thermo with estimated thermo\n",
      "Difference in H298 = 13.5933333333 kcal/mol\n",
      "Difference S298 = 5.58333333333 cal/mol*K\n",
      "\n",
      "Original estimated thermo data:\n",
      "Polycyclic groups: PolycyclicRing\n",
      "H298 = 28.017 kcal/mol\n",
      "S298 = 18.21 cal/mol*K\n",
      "\n",
      "Comparison of library thermo with original estimated thermo\n",
      "Difference in H298 = 49.413 kcal/mol\n",
      "Difference S298 = 57.72 cal/mol*K\n",
      "\n",
      "=======================\n",
      "product25\n"
     ]
    },
    {
     "data": {
      "image/png": "[encoded data removed]",
      "text/plain": [
       "Molecule(SMILES=\"C1=C[C]2CCC2C1\")"
      ]
     },
     "metadata": {},
     "output_type": "display_data"
    },
    {
     "name": "stdout",
     "output_type": "stream",
     "text": [
      "Species has 2 resonance isomer(s)\n",
      "Library thermo data for species product25 does not match the estimate from group additivity\n",
      "\n",
      "Library thermo data:\n",
      "H298 = 73.44 kcal/mol\n",
      "S298 = 79.16 cal/mol*K\n",
      "\n",
      "Estimated thermo data:\n",
      "Polycyclic groups: product3\n",
      "H298 = 68.108 kcal/mol\n",
      "S298 = 88.39 cal/mol*K\n",
      "\n",
      "Comparison of library thermo with estimated thermo\n",
      "Difference in H298 = 5.332 kcal/mol\n",
      "Difference S298 = -9.23 cal/mol*K\n",
      "\n",
      "Original estimated thermo data:\n",
      "Polycyclic groups: PolycyclicRing\n",
      "H298 = 28.267 kcal/mol\n",
      "S298 = 18.21 cal/mol*K\n",
      "\n",
      "Comparison of library thermo with original estimated thermo\n",
      "Difference in H298 = 45.173 kcal/mol\n",
      "Difference S298 = 60.95 cal/mol*K\n",
      "\n",
      "=======================\n",
      "product29\n"
     ]
    },
    {
     "data": {
      "image/png": "[encoded data removed]",
      "text/plain": [
       "Molecule(SMILES=\"[CH]1C2=CCC1CC2\")"
      ]
     },
     "metadata": {},
     "output_type": "display_data"
    },
    {
     "name": "stdout",
     "output_type": "stream",
     "text": [
      "Species has 2 resonance isomer(s)\n",
      "Library thermo data for species product29 does not match the estimate from group additivity\n",
      "\n",
      "Library thermo data:\n",
      "H298 = 122.34 kcal/mol\n",
      "S298 = 77.13 cal/mol*K\n",
      "\n",
      "Estimated thermo data:\n",
      "Polycyclic groups: product23\n",
      "H298 = 99.885 kcal/mol\n",
      "S298 = 76.53 cal/mol*K\n",
      "\n",
      "Comparison of library thermo with estimated thermo\n",
      "Difference in H298 = 22.455 kcal/mol\n",
      "Difference S298 = 0.6 cal/mol*K\n",
      "\n",
      "Original estimated thermo data:\n",
      "Polycyclic groups: PolycyclicRing\n",
      "H298 = 28.017 kcal/mol\n",
      "S298 = 18.21 cal/mol*K\n",
      "\n",
      "Comparison of library thermo with original estimated thermo\n",
      "Difference in H298 = 94.323 kcal/mol\n",
      "Difference S298 = 58.92 cal/mol*K\n",
      "\n",
      "=======================\n",
      "product34\n"
     ]
    },
    {
     "data": {
      "image/png": "[encoded data removed]",
      "text/plain": [
       "Molecule(SMILES=\"[CH]1C2C=CC=CC12\")"
      ]
     },
     "metadata": {},
     "output_type": "display_data"
    },
    {
     "name": "stdout",
     "output_type": "stream",
     "text": [
      "Species has 1 resonance isomer(s)\n",
      "Library thermo data for species product34 does not match the estimate from group additivity\n",
      "\n",
      "Library thermo data:\n",
      "H298 = 111.3 kcal/mol\n",
      "S298 = 76.88 cal/mol*K\n",
      "\n",
      "Estimated thermo data:\n",
      "Polycyclic groups: product34\n",
      "H298 = 118.66 kcal/mol\n",
      "S298 = 81.555 cal/mol*K\n",
      "\n",
      "Comparison of library thermo with estimated thermo\n",
      "Difference in H298 = -7.36 kcal/mol\n",
      "Difference S298 = -4.675 cal/mol*K\n",
      "\n",
      "Original estimated thermo data:\n",
      "Polycyclic groups: PolycyclicRing\n",
      "H298 = 76.747 kcal/mol\n",
      "S298 = 19.25 cal/mol*K\n",
      "\n",
      "Comparison of library thermo with original estimated thermo\n",
      "Difference in H298 = 34.553 kcal/mol\n",
      "Difference S298 = 57.63 cal/mol*K\n",
      "\n",
      "=======================\n",
      "product36\n"
     ]
    },
    {
     "data": {
      "image/png": "[encoded data removed]",
      "text/plain": [
       "Molecule(SMILES=\"C=C1[CH]C2CC2C1\")"
      ]
     },
     "metadata": {},
     "output_type": "display_data"
    },
    {
     "name": "stdout",
     "output_type": "stream",
     "text": [
      "Species has 2 resonance isomer(s)\n",
      "Library thermo data for species product36 matches the estimate from group additivity.\n",
      "\n",
      "Library thermo data:\n",
      "H298 = 64.39 kcal/mol\n",
      "S298 = 79.77 cal/mol*K\n",
      "\n",
      "Original estimated thermo data:\n",
      "Polycyclic groups: PolycyclicRing\n",
      "H298 = 31.757 kcal/mol\n",
      "S298 = 17.2025734167 cal/mol*K\n",
      "\n",
      "Comparison of library thermo with original estimated thermo\n",
      "Difference in H298 = 32.633 kcal/mol\n",
      "Difference S298 = 62.5674265833 cal/mol*K\n",
      "\n",
      "=======================\n",
      "product39\n"
     ]
    },
    {
     "data": {
      "image/png": "[encoded data removed]",
      "text/plain": [
       "Molecule(SMILES=\"[CH2]C12C=CCC1C2\")"
      ]
     },
     "metadata": {},
     "output_type": "display_data"
    },
    {
     "name": "stdout",
     "output_type": "stream",
     "text": [
      "Species has 1 resonance isomer(s)\n",
      "Library thermo data for species product39 does not match the estimate from group additivity\n",
      "\n",
      "Library thermo data:\n",
      "H298 = 76.86 kcal/mol\n",
      "S298 = 80.94 cal/mol*K\n",
      "\n",
      "Estimated thermo data:\n",
      "Polycyclic groups: product1\n",
      "H298 = 79.8441666667 kcal/mol\n",
      "S298 = 96.3529368844 cal/mol*K\n",
      "\n",
      "Comparison of library thermo with estimated thermo\n",
      "Difference in H298 = -2.98416666667 kcal/mol\n",
      "Difference S298 = -15.4129368844 cal/mol*K\n",
      "\n",
      "Original estimated thermo data:\n",
      "Polycyclic groups: PolycyclicRing\n",
      "H298 = 46.067 kcal/mol\n",
      "S298 = 20.4325734167 cal/mol*K\n",
      "\n",
      "Comparison of library thermo with original estimated thermo\n",
      "Difference in H298 = 30.793 kcal/mol\n",
      "Difference S298 = 60.5074265833 cal/mol*K\n",
      "\n",
      "=======================\n",
      "product42\n"
     ]
    },
    {
     "data": {
      "image/png": "[encoded data removed]",
      "text/plain": [
       "Molecule(SMILES=\"C=C1C2[CH]C=CC12\")"
      ]
     },
     "metadata": {},
     "output_type": "display_data"
    },
    {
     "name": "stdout",
     "output_type": "stream",
     "text": [
      "Species has 1 resonance isomer(s)\n",
      "Library thermo data for species product42 matches the estimate from group additivity.\n",
      "\n",
      "Library thermo data:\n",
      "H298 = 103.96 kcal/mol\n",
      "S298 = 77.63 cal/mol*K\n",
      "\n",
      "Original estimated thermo data:\n",
      "Polycyclic groups: PolycyclicRing\n",
      "H298 = 56.637 kcal/mol\n",
      "S298 = 10.7425734167 cal/mol*K\n",
      "\n",
      "Comparison of library thermo with original estimated thermo\n",
      "Difference in H298 = 47.323 kcal/mol\n",
      "Difference S298 = 66.8874265833 cal/mol*K\n",
      "\n",
      "=======================\n",
      "product45\n"
     ]
    },
    {
     "data": {
      "image/png": "[encoded data removed]",
      "text/plain": [
       "Molecule(SMILES=\"[CH]1C=CC2C=CC12\")"
      ]
     },
     "metadata": {},
     "output_type": "display_data"
    },
    {
     "name": "stdout",
     "output_type": "stream",
     "text": [
      "Species has 1 resonance isomer(s)\n",
      "Library thermo data for species product45 matches the estimate from group additivity.\n",
      "\n",
      "Library thermo data:\n",
      "H298 = 96.7 kcal/mol\n",
      "S298 = 75.31 cal/mol*K\n",
      "\n",
      "Original estimated thermo data:\n",
      "Polycyclic groups: PolycyclicRing\n",
      "H298 = 57.217 kcal/mol\n",
      "S298 = 13.15 cal/mol*K\n",
      "\n",
      "Comparison of library thermo with original estimated thermo\n",
      "Difference in H298 = 39.483 kcal/mol\n",
      "Difference S298 = 62.16 cal/mol*K\n",
      "\n",
      "=======================\n",
      "product46\n"
     ]
    },
    {
     "data": {
      "image/png": "[encoded data removed]",
      "text/plain": [
       "Molecule(SMILES=\"[CH]1C=CC=C2CC12\")"
      ]
     },
     "metadata": {},
     "output_type": "display_data"
    },
    {
     "name": "stdout",
     "output_type": "stream",
     "text": [
      "Species has 3 resonance isomer(s)\n",
      "Library thermo data for species product46 does not match the estimate from group additivity\n",
      "\n",
      "Library thermo data:\n",
      "H298 = 103.42 kcal/mol\n",
      "S298 = 78.03 cal/mol*K\n",
      "\n",
      "Estimated thermo data:\n",
      "Polycyclic groups: product34\n",
      "H298 = 96.06 kcal/mol\n",
      "S298 = 73.355 cal/mol*K\n",
      "\n",
      "Comparison of library thermo with estimated thermo\n",
      "Difference in H298 = 7.36 kcal/mol\n",
      "Difference S298 = 4.675 cal/mol*K\n",
      "\n",
      "Original estimated thermo data:\n",
      "Polycyclic groups: PolycyclicRing\n",
      "H298 = 49.857 kcal/mol\n",
      "S298 = 14.13 cal/mol*K\n",
      "\n",
      "Comparison of library thermo with original estimated thermo\n",
      "Difference in H298 = 53.563 kcal/mol\n",
      "Difference S298 = 63.9 cal/mol*K\n",
      "\n",
      "=======================\n",
      "pdt7\n"
     ]
    },
    {
     "data": {
      "image/png": "[encoded data removed]",
      "text/plain": [
       "Molecule(SMILES=\"[CH]1C=CC2C1C1CC=CC21\")"
      ]
     },
     "metadata": {},
     "output_type": "display_data"
    },
    {
     "name": "stdout",
     "output_type": "stream",
     "text": [
      "Species has 2 resonance isomer(s)\n",
      "Library thermo data for species pdt7 does not match the estimate from group additivity\n",
      "\n",
      "Library thermo data:\n",
      "H298 = 85.78 kcal/mol\n",
      "S298 = 89.07 cal/mol*K\n",
      "\n",
      "Estimated thermo data:\n",
      "Polycyclic groups: product3\n",
      "H298 = 85.908 kcal/mol\n",
      "S298 = 71.41 cal/mol*K\n",
      "\n",
      "Comparison of library thermo with estimated thermo\n",
      "Difference in H298 = -0.128 kcal/mol\n",
      "Difference S298 = 17.66 cal/mol*K\n",
      "\n",
      "Original estimated thermo data:\n",
      "Polycyclic groups: PolycyclicRing\n",
      "H298 = 48.277 kcal/mol\n",
      "S298 = 0.15 cal/mol*K\n",
      "\n",
      "Comparison of library thermo with original estimated thermo\n",
      "Difference in H298 = 37.503 kcal/mol\n",
      "Difference S298 = 88.92 cal/mol*K\n",
      "\n",
      "=======================\n",
      "pdt8\n"
     ]
    },
    {
     "data": {
      "image/png": "[encoded data removed]",
      "text/plain": [
       "Molecule(SMILES=\"[CH]1C=CC=CC2CC=CC12\")"
      ]
     },
     "metadata": {},
     "output_type": "display_data"
    },
    {
     "name": "stdout",
     "output_type": "stream",
     "text": [
      "Species has 3 resonance isomer(s)\n",
      "Library thermo data for species pdt8 matches the estimate from group additivity.\n",
      "\n",
      "Library thermo data:\n",
      "H298 = 78.78 kcal/mol\n",
      "S298 = 91.18 cal/mol*K\n",
      "\n",
      "Original estimated thermo data:\n",
      "Polycyclic groups: PolycyclicRing\n",
      "H298 = 63.807 kcal/mol\n",
      "S298 = 39.05 cal/mol*K\n",
      "\n",
      "Comparison of library thermo with original estimated thermo\n",
      "Difference in H298 = 14.973 kcal/mol\n",
      "Difference S298 = 52.13 cal/mol*K\n",
      "\n",
      "=======================\n",
      "pdt10bis\n"
     ]
    },
    {
     "data": {
      "image/png": "[encoded data removed]",
      "text/plain": [
       "Molecule(SMILES=\"[CH]1C=CCC2C=CC=CC12\")"
      ]
     },
     "metadata": {},
     "output_type": "display_data"
    },
    {
     "name": "stdout",
     "output_type": "stream",
     "text": [
      "Species has 2 resonance isomer(s)\n",
      "Library thermo data for species pdt10bis does not match the estimate from group additivity\n",
      "\n",
      "Library thermo data:\n",
      "H298 = 76.28 kcal/mol\n",
      "S298 = 89.92 cal/mol*K\n",
      "\n",
      "Estimated thermo data:\n",
      "Polycyclic groups: pdt10bis\n",
      "H298 = 71.41 kcal/mol\n",
      "S298 = 89.49 cal/mol*K\n",
      "\n",
      "Comparison of library thermo with estimated thermo\n",
      "Difference in H298 = 4.87 kcal/mol\n",
      "Difference S298 = 0.43 cal/mol*K\n",
      "\n",
      "Original estimated thermo data:\n",
      "Polycyclic groups: PolycyclicRing\n",
      "H298 = 68.337 kcal/mol\n",
      "S298 = 37.05 cal/mol*K\n",
      "\n",
      "Comparison of library thermo with original estimated thermo\n",
      "Difference in H298 = 7.943 kcal/mol\n",
      "Difference S298 = 52.87 cal/mol*K\n",
      "\n",
      "=======================\n",
      "pdt11\n"
     ]
    },
    {
     "data": {
      "image/png": "[encoded data removed]",
      "text/plain": [
       "Molecule(SMILES=\"C1=CCC2C=CC=CC2=C1\")"
      ]
     },
     "metadata": {},
     "output_type": "display_data"
    },
    {
     "name": "stdout",
     "output_type": "stream",
     "text": [
      "Species has 1 resonance isomer(s)\n",
      "Library thermo data for species pdt11 does not match the estimate from group additivity\n",
      "\n",
      "Library thermo data:\n",
      "H298 = 63.19 kcal/mol\n",
      "S298 = 87.27 cal/mol*K\n",
      "\n",
      "Estimated thermo data:\n",
      "Polycyclic groups: pdt11\n",
      "H298 = 55.6665 kcal/mol\n",
      "S298 = 88.75 cal/mol*K\n",
      "\n",
      "Comparison of library thermo with estimated thermo\n",
      "Difference in H298 = 7.5235 kcal/mol\n",
      "Difference S298 = -1.48 cal/mol*K\n",
      "\n",
      "Original estimated thermo data:\n",
      "Polycyclic groups: PolycyclicRing\n",
      "H298 = 54.1 kcal/mol\n",
      "S298 = 30.01 cal/mol*K\n",
      "\n",
      "Comparison of library thermo with original estimated thermo\n",
      "Difference in H298 = 9.09 kcal/mol\n",
      "Difference S298 = 57.26 cal/mol*K\n",
      "\n",
      "=======================\n",
      "pdt17\n"
     ]
    },
    {
     "data": {
      "image/png": "[encoded data removed]",
      "text/plain": [
       "Molecule(SMILES=\"[CH]1C=CCC12C=CC=CC2\")"
      ]
     },
     "metadata": {},
     "output_type": "display_data"
    },
    {
     "name": "stdout",
     "output_type": "stream",
     "text": [
      "Species has 2 resonance isomer(s)\n",
      "Library thermo data for species pdt17 matches the estimate from group additivity.\n",
      "\n",
      "Library thermo data:\n",
      "H298 = 80.09 kcal/mol\n",
      "S298 = 92.88 cal/mol*K\n",
      "\n",
      "Original estimated thermo data:\n",
      "Polycyclic groups: PolycyclicRing\n",
      "H298 = 65.347 kcal/mol\n",
      "S298 = 35.13 cal/mol*K\n",
      "\n",
      "Comparison of library thermo with original estimated thermo\n",
      "Difference in H298 = 14.743 kcal/mol\n",
      "Difference S298 = 57.75 cal/mol*K\n",
      "\n",
      "=======================\n",
      "pdt19\n"
     ]
    },
    {
     "data": {
      "image/png": "[encoded data removed]",
      "text/plain": [
       "Molecule(SMILES=\"[CH]1C=CCC2=CC=CCC12\")"
      ]
     },
     "metadata": {},
     "output_type": "display_data"
    },
    {
     "name": "stdout",
     "output_type": "stream",
     "text": [
      "Species has 2 resonance isomer(s)\n",
      "Library thermo data for species pdt19 does not match the estimate from group additivity\n",
      "\n",
      "Library thermo data:\n",
      "H298 = 74.88 kcal/mol\n",
      "S298 = 91.27 cal/mol*K\n",
      "\n",
      "Estimated thermo data:\n",
      "Polycyclic groups: pdt19\n",
      "H298 = 69.61 kcal/mol\n",
      "S298 = 90.225 cal/mol*K\n",
      "\n",
      "Comparison of library thermo with estimated thermo\n",
      "Difference in H298 = 5.27 kcal/mol\n",
      "Difference S298 = 1.045 cal/mol*K\n",
      "\n",
      "Original estimated thermo data:\n",
      "Polycyclic groups: PolycyclicRing\n",
      "H298 = 67.187 kcal/mol\n",
      "S298 = 36.53 cal/mol*K\n",
      "\n",
      "Comparison of library thermo with original estimated thermo\n",
      "Difference in H298 = 7.693 kcal/mol\n",
      "Difference S298 = 54.74 cal/mol*K\n",
      "\n",
      "=======================\n",
      "pdt21\n"
     ]
    },
    {
     "data": {
      "image/png": "[encoded data removed]",
      "text/plain": [
       "Molecule(SMILES=\"CC1C=CC=C2C=C[CH]C21\")"
      ]
     },
     "metadata": {},
     "output_type": "display_data"
    },
    {
     "name": "stdout",
     "output_type": "stream",
     "text": [
      "Species has 4 resonance isomer(s)\n",
      "Library thermo data for species pdt21 does not match the estimate from group additivity\n",
      "\n",
      "Library thermo data:\n",
      "H298 = 63.36 kcal/mol\n",
      "S298 = 91.32 cal/mol*K\n",
      "\n",
      "Estimated thermo data:\n",
      "Polycyclic groups: pdt21\n",
      "H298 = 61.32 kcal/mol\n",
      "S298 = 91.78 cal/mol*K\n",
      "\n",
      "Comparison of library thermo with estimated thermo\n",
      "Difference in H298 = 2.04 kcal/mol\n",
      "Difference S298 = -0.46 cal/mol*K\n",
      "\n",
      "Original estimated thermo data:\n",
      "Polycyclic groups: PolycyclicRing\n",
      "H298 = 56.497 kcal/mol\n",
      "S298 = 33.6268305179 cal/mol*K\n",
      "\n",
      "Comparison of library thermo with original estimated thermo\n",
      "Difference in H298 = 6.863 kcal/mol\n",
      "Difference S298 = 57.6931694821 cal/mol*K\n",
      "\n",
      "=======================\n",
      "pdt22\n"
     ]
    },
    {
     "data": {
      "image/png": "[encoded data removed]",
      "text/plain": [
       "Molecule(SMILES=\"C1C=CC2C=CC=C2C=1\")"
      ]
     },
     "metadata": {},
     "output_type": "display_data"
    },
    {
     "name": "stdout",
     "output_type": "stream",
     "text": [
      "Species has 1 resonance isomer(s)\n",
      "Library thermo data for species pdt22 matches the estimate from group additivity.\n",
      "\n",
      "Library thermo data:\n",
      "H298 = 74.42 kcal/mol\n",
      "S298 = 81.81 cal/mol*K\n",
      "\n",
      "Original estimated thermo data:\n",
      "Polycyclic groups: PolycyclicRing\n",
      "H298 = 60.37 kcal/mol\n",
      "S298 = 21.42 cal/mol*K\n",
      "\n",
      "Comparison of library thermo with original estimated thermo\n",
      "Difference in H298 = 14.05 kcal/mol\n",
      "Difference S298 = 60.39 cal/mol*K\n",
      "\n",
      "=======================\n",
      "pdt23\n"
     ]
    },
    {
     "data": {
      "image/png": "[encoded data removed]",
      "text/plain": [
       "Molecule(SMILES=\"[CH]1C=CC2C=CC=CCC12\")"
      ]
     },
     "metadata": {},
     "output_type": "display_data"
    },
    {
     "name": "stdout",
     "output_type": "stream",
     "text": [
      "Species has 2 resonance isomer(s)\n",
      "Library thermo data for species pdt23 does not match the estimate from group additivity\n",
      "\n",
      "Library thermo data:\n",
      "H298 = 83.25 kcal/mol\n",
      "S298 = 91.39 cal/mol*K\n",
      "\n",
      "Estimated thermo data:\n",
      "Polycyclic groups: pdt8-2\n",
      "H298 = 72.355 kcal/mol\n",
      "S298 = 87.1625 cal/mol*K\n",
      "\n",
      "Comparison of library thermo with estimated thermo\n",
      "Difference in H298 = 10.895 kcal/mol\n",
      "Difference S298 = 4.2275 cal/mol*K\n",
      "\n",
      "Original estimated thermo data:\n",
      "Polycyclic groups: PolycyclicRing\n",
      "H298 = 65.597 kcal/mol\n",
      "S298 = 35.33 cal/mol*K\n",
      "\n",
      "Comparison of library thermo with original estimated thermo\n",
      "Difference in H298 = 17.653 kcal/mol\n",
      "Difference S298 = 56.06 cal/mol*K\n",
      "\n",
      "=======================\n",
      "pdt24\n"
     ]
    },
    {
     "data": {
      "image/png": "[encoded data removed]",
      "text/plain": [
       "Molecule(SMILES=\"[CH]1C=CCC23CC=CC2C13\")"
      ]
     },
     "metadata": {},
     "output_type": "display_data"
    },
    {
     "name": "stdout",
     "output_type": "stream",
     "text": [
      "Species has 2 resonance isomer(s)\n",
      "Library thermo data for species pdt24 does not match the estimate from group additivity\n",
      "\n",
      "Library thermo data:\n",
      "H298 = 82.04 kcal/mol\n",
      "S298 = 88.96 cal/mol*K\n",
      "\n",
      "Estimated thermo data:\n",
      "Polycyclic groups: product1\n",
      "H298 = 83.8741666667 kcal/mol\n",
      "S298 = 74.5303634677 cal/mol*K\n",
      "\n",
      "Comparison of library thermo with estimated thermo\n",
      "Difference in H298 = -1.83416666667 kcal/mol\n",
      "Difference S298 = 14.4296365323 cal/mol*K\n",
      "\n",
      "Original estimated thermo data:\n",
      "Polycyclic groups: PolycyclicRing\n",
      "H298 = 50.097 kcal/mol\n",
      "S298 = -1.39 cal/mol*K\n",
      "\n",
      "Comparison of library thermo with original estimated thermo\n",
      "Difference in H298 = 31.943 kcal/mol\n",
      "Difference S298 = 90.35 cal/mol*K\n",
      "\n",
      "=======================\n",
      "pdt26\n"
     ]
    },
    {
     "data": {
      "image/png": "[encoded data removed]",
      "text/plain": [
       "Molecule(SMILES=\"C1=CCC2=CC=CCC2=C1\")"
      ]
     },
     "metadata": {},
     "output_type": "display_data"
    },
    {
     "name": "stdout",
     "output_type": "stream",
     "text": [
      "Species has 1 resonance isomer(s)\n",
      "Library thermo data for species pdt26 matches the estimate from group additivity.\n",
      "\n",
      "Library thermo data:\n",
      "H298 = 63.81 kcal/mol\n",
      "S298 = 86.13 cal/mol*K\n",
      "\n",
      "Original estimated thermo data:\n",
      "Polycyclic groups: PolycyclicRing\n",
      "H298 = 53.48 kcal/mol\n",
      "S298 = 32.66 cal/mol*K\n",
      "\n",
      "Comparison of library thermo with original estimated thermo\n",
      "Difference in H298 = 10.33 kcal/mol\n",
      "Difference S298 = 53.47 cal/mol*K\n",
      "\n",
      "=======================\n",
      "pdt27\n"
     ]
    },
    {
     "data": {
      "image/png": "[encoded data removed]",
      "text/plain": [
       "Molecule(SMILES=\"CC1C=CC=C2C=CC[C]21\")"
      ]
     },
     "metadata": {},
     "output_type": "display_data"
    },
    {
     "name": "stdout",
     "output_type": "stream",
     "text": [
      "Species has 3 resonance isomer(s)\n",
      "Library thermo data for species pdt27 does not match the estimate from group additivity\n",
      "\n",
      "Library thermo data:\n",
      "H298 = 62.67 kcal/mol\n",
      "S298 = 92.61 cal/mol*K\n",
      "\n",
      "Estimated thermo data:\n",
      "Polycyclic groups: pdt21\n",
      "H298 = 62.42 kcal/mol\n",
      "S298 = 91.9 cal/mol*K\n",
      "\n",
      "Comparison of library thermo with estimated thermo\n",
      "Difference in H298 = 0.25 kcal/mol\n",
      "Difference S298 = 0.71 cal/mol*K\n",
      "\n",
      "Original estimated thermo data:\n",
      "Polycyclic groups: PolycyclicRing\n",
      "H298 = 55.787 kcal/mol\n",
      "S298 = 34.5368305179 cal/mol*K\n",
      "\n",
      "Comparison of library thermo with original estimated thermo\n",
      "Difference in H298 = 6.883 kcal/mol\n",
      "Difference S298 = 58.0731694821 cal/mol*K\n",
      "\n",
      "=======================\n",
      "pdt28\n"
     ]
    },
    {
     "data": {
      "image/png": "[encoded data removed]",
      "text/plain": [
       "Molecule(SMILES=\"C1C=CC2C=CC[C]2CC=1\")"
      ]
     },
     "metadata": {},
     "output_type": "display_data"
    },
    {
     "name": "stdout",
     "output_type": "stream",
     "text": [
      "Species has 1 resonance isomer(s)\n",
      "Library thermo data for species pdt28 does not match the estimate from group additivity\n",
      "\n",
      "Library thermo data:\n",
      "H298 = 94.43 kcal/mol\n",
      "S298 = 93.22 cal/mol*K\n",
      "\n",
      "Estimated thermo data:\n",
      "Polycyclic groups: pdt8-2\n",
      "H298 = 86.555 kcal/mol\n",
      "S298 = 96.2125 cal/mol*K\n",
      "\n",
      "Comparison of library thermo with estimated thermo\n",
      "Difference in H298 = 7.875 kcal/mol\n",
      "Difference S298 = -2.9925 cal/mol*K\n",
      "\n",
      "Original estimated thermo data:\n",
      "Polycyclic groups: PolycyclicRing\n",
      "H298 = 79.797 kcal/mol\n",
      "S298 = 44.38 cal/mol*K\n",
      "\n",
      "Comparison of library thermo with original estimated thermo\n",
      "Difference in H298 = 14.633 kcal/mol\n",
      "Difference S298 = 48.84 cal/mol*K\n",
      "\n",
      "=======================\n",
      "pdt29\n"
     ]
    },
    {
     "data": {
      "image/png": "[encoded data removed]",
      "text/plain": [
       "Molecule(SMILES=\"[CH]1C=CC=C2C=CCC2C1\")"
      ]
     },
     "metadata": {},
     "output_type": "display_data"
    },
    {
     "name": "stdout",
     "output_type": "stream",
     "text": [
      "Species has 4 resonance isomer(s)\n",
      "Library thermo data for species pdt29 matches the estimate from group additivity.\n",
      "\n",
      "Library thermo data:\n",
      "H298 = 64.66 kcal/mol\n",
      "S298 = 90.96 cal/mol*K\n",
      "\n",
      "Original estimated thermo data:\n",
      "Polycyclic groups: PolycyclicRing\n",
      "H298 = 58.627 kcal/mol\n",
      "S298 = 37.72 cal/mol*K\n",
      "\n",
      "Comparison of library thermo with original estimated thermo\n",
      "Difference in H298 = 6.033 kcal/mol\n",
      "Difference S298 = 53.24 cal/mol*K\n",
      "\n",
      "=======================\n",
      "pdt30\n"
     ]
    },
    {
     "data": {
      "image/png": "[encoded data removed]",
      "text/plain": [
       "Molecule(SMILES=\"C1C=CC2=CC=CC2CC=1\")"
      ]
     },
     "metadata": {},
     "output_type": "display_data"
    },
    {
     "name": "stdout",
     "output_type": "stream",
     "text": [
      "Species has 1 resonance isomer(s)\n",
      "Library thermo data for species pdt30 matches the estimate from group additivity.\n",
      "\n",
      "Library thermo data:\n",
      "H298 = 68.39 kcal/mol\n",
      "S298 = 88.24 cal/mol*K\n",
      "\n",
      "Original estimated thermo data:\n",
      "Polycyclic groups: PolycyclicRing\n",
      "H298 = 54.1 kcal/mol\n",
      "S298 = 30.01 cal/mol*K\n",
      "\n",
      "Comparison of library thermo with original estimated thermo\n",
      "Difference in H298 = 14.29 kcal/mol\n",
      "Difference S298 = 58.23 cal/mol*K\n",
      "\n",
      "=======================\n",
      "pdt31\n"
     ]
    },
    {
     "data": {
      "image/png": "[encoded data removed]",
      "text/plain": [
       "Molecule(SMILES=\"C1=CC=C2C=CCC2C=C1\")"
      ]
     },
     "metadata": {},
     "output_type": "display_data"
    },
    {
     "name": "stdout",
     "output_type": "stream",
     "text": [
      "Species has 1 resonance isomer(s)\n",
      "Library thermo data for species pdt31 matches the estimate from group additivity.\n",
      "\n",
      "Library thermo data:\n",
      "H298 = 65.83 kcal/mol\n",
      "S298 = 87.99 cal/mol*K\n",
      "\n",
      "Original estimated thermo data:\n",
      "Polycyclic groups: PolycyclicRing\n",
      "H298 = 54.1 kcal/mol\n",
      "S298 = 30.01 cal/mol*K\n",
      "\n",
      "Comparison of library thermo with original estimated thermo\n",
      "Difference in H298 = 11.73 kcal/mol\n",
      "Difference S298 = 57.98 cal/mol*K\n",
      "\n",
      "=======================\n",
      "pdt32\n"
     ]
    },
    {
     "data": {
      "image/png": "[encoded data removed]",
      "text/plain": [
       "Molecule(SMILES=\"CC1C=CC2=CC=C[CH]C21\")"
      ]
     },
     "metadata": {},
     "output_type": "display_data"
    },
    {
     "name": "stdout",
     "output_type": "stream",
     "text": [
      "Species has 4 resonance isomer(s)\n",
      "Library thermo data for species pdt32 matches the estimate from group additivity.\n",
      "\n",
      "Library thermo data:\n",
      "H298 = 62.33 kcal/mol\n",
      "S298 = 91.53 cal/mol*K\n",
      "\n",
      "Original estimated thermo data:\n",
      "Polycyclic groups: PolycyclicRing\n",
      "H298 = 56.847 kcal/mol\n",
      "S298 = 33.3168305179 cal/mol*K\n",
      "\n",
      "Comparison of library thermo with original estimated thermo\n",
      "Difference in H298 = 5.483 kcal/mol\n",
      "Difference S298 = 58.2131694821 cal/mol*K\n",
      "\n",
      "=======================\n",
      "pdt35\n"
     ]
    },
    {
     "data": {
      "image/png": "[encoded data removed]",
      "text/plain": [
       "Molecule(SMILES=\"C1C=CC2C=CCC=2CC=1\")"
      ]
     },
     "metadata": {},
     "output_type": "display_data"
    },
    {
     "name": "stdout",
     "output_type": "stream",
     "text": [
      "Species has 1 resonance isomer(s)\n",
      "Library thermo data for species pdt35 matches the estimate from group additivity.\n",
      "\n",
      "Library thermo data:\n",
      "H298 = 65.78 kcal/mol\n",
      "S298 = 88.09 cal/mol*K\n",
      "\n",
      "Original estimated thermo data:\n",
      "Polycyclic groups: PolycyclicRing\n",
      "H298 = 57.66 kcal/mol\n",
      "S298 = 33.49 cal/mol*K\n",
      "\n",
      "Comparison of library thermo with original estimated thermo\n",
      "Difference in H298 = 8.12 kcal/mol\n",
      "Difference S298 = 54.6 cal/mol*K\n",
      "\n",
      "=======================\n",
      "pdt37\n"
     ]
    },
    {
     "data": {
      "image/png": "[encoded data removed]",
      "text/plain": [
       "Molecule(SMILES=\"[CH]1C=CC=C2CC=CCC12\")"
      ]
     },
     "metadata": {},
     "output_type": "display_data"
    },
    {
     "name": "stdout",
     "output_type": "stream",
     "text": [
      "Species has 3 resonance isomer(s)\n",
      "Library thermo data for species pdt37 matches the estimate from group additivity.\n",
      "\n",
      "Library thermo data:\n",
      "H298 = 64.94 kcal/mol\n",
      "S298 = 89.18 cal/mol*K\n",
      "\n",
      "Original estimated thermo data:\n",
      "Polycyclic groups: PolycyclicRing\n",
      "H298 = 62.747 kcal/mol\n",
      "S298 = 40.27 cal/mol*K\n",
      "\n",
      "Comparison of library thermo with original estimated thermo\n",
      "Difference in H298 = 2.193 kcal/mol\n",
      "Difference S298 = 48.91 cal/mol*K\n",
      "\n",
      "=======================\n",
      "pdt38\n"
     ]
    },
    {
     "data": {
      "image/png": "[encoded data removed]",
      "text/plain": [
       "Molecule(SMILES=\"C1=CC=C2CC=CCC2=C1\")"
      ]
     },
     "metadata": {},
     "output_type": "display_data"
    },
    {
     "name": "stdout",
     "output_type": "stream",
     "text": [
      "Species has 3 resonance isomer(s)\n",
      "Library thermo data for species pdt38 matches the estimate from group additivity.\n",
      "\n",
      "Library thermo data:\n",
      "H298 = 35.66 kcal/mol\n",
      "S298 = 86.59 cal/mol*K\n",
      "\n",
      "Original estimated thermo data:\n",
      "Polycyclic groups: PolycyclicRing\n",
      "H298 = 32.82 kcal/mol\n",
      "S298 = 50.68 cal/mol*K\n",
      "\n",
      "Comparison of library thermo with original estimated thermo\n",
      "Difference in H298 = 2.84 kcal/mol\n",
      "Difference S298 = 35.91 cal/mol*K\n",
      "\n",
      "=======================\n",
      "INDENE\n"
     ]
    },
    {
     "data": {
      "image/png": "[encoded data removed]",
      "text/plain": [
       "Molecule(SMILES=\"C1=CC=C2CC=CC2=C1\")"
      ]
     },
     "metadata": {},
     "output_type": "display_data"
    },
    {
     "name": "stdout",
     "output_type": "stream",
     "text": [
      "Species has 3 resonance isomer(s)\n",
      "Library thermo data for species INDENE matches the estimate from group additivity.\n",
      "\n",
      "Library thermo data:\n",
      "H298 = 40.49 kcal/mol\n",
      "S298 = 79.82 cal/mol*K\n",
      "\n",
      "Original estimated thermo data:\n",
      "Polycyclic groups: indene\n",
      "H298 = 37.58 kcal/mol\n",
      "S298 = 80.06 cal/mol*K\n",
      "\n",
      "Comparison of library thermo with original estimated thermo\n",
      "Difference in H298 = 2.91 kcal/mol\n",
      "Difference S298 = -0.24 cal/mol*K\n",
      "\n",
      "=======================\n",
      "pdt57\n"
     ]
    },
    {
     "data": {
      "image/png": "[encoded data removed]",
      "text/plain": [
       "Molecule(SMILES=\"C=CC=CC1C2[CH]C=CC21\")"
      ]
     },
     "metadata": {},
     "output_type": "display_data"
    },
    {
     "name": "stdout",
     "output_type": "stream",
     "text": [
      "Species has 1 resonance isomer(s)\n",
      "Library thermo data for species pdt57 does not match the estimate from group additivity\n",
      "\n",
      "Library thermo data:\n",
      "H298 = 100.54 kcal/mol\n",
      "S298 = 95.99 cal/mol*K\n",
      "\n",
      "Estimated thermo data:\n",
      "Polycyclic groups: product1\n",
      "H298 = 99.9441666667 kcal/mol\n",
      "S298 = 110.740363468 cal/mol*K\n",
      "\n",
      "Comparison of library thermo with estimated thermo\n",
      "Difference in H298 = 0.595833333333 kcal/mol\n",
      "Difference S298 = -14.7503634677 cal/mol*K\n",
      "\n",
      "Original estimated thermo data:\n",
      "Polycyclic groups: PolycyclicRing\n",
      "H298 = 66.167 kcal/mol\n",
      "S298 = 34.82 cal/mol*K\n",
      "\n",
      "Comparison of library thermo with original estimated thermo\n",
      "Difference in H298 = 34.373 kcal/mol\n",
      "Difference S298 = 61.17 cal/mol*K\n",
      "\n",
      "=======================\n",
      "2HINDENE\n"
     ]
    },
    {
     "data": {
      "image/png": "[encoded data removed]",
      "text/plain": [
       "Molecule(SMILES=\"C1C=CC2=CCC=C2C=1\")"
      ]
     },
     "metadata": {},
     "output_type": "display_data"
    },
    {
     "name": "stdout",
     "output_type": "stream",
     "text": [
      "Species has 1 resonance isomer(s)\n",
      "Library thermo data for species 2HINDENE matches the estimate from group additivity.\n",
      "\n",
      "Library thermo data:\n",
      "H298 = 62.6 kcal/mol\n",
      "S298 = 79.2 cal/mol*K\n",
      "\n",
      "Original estimated thermo data:\n",
      "Polycyclic groups: PolycyclicRing\n",
      "H298 = 63.21 kcal/mol\n",
      "S298 = 20.32 cal/mol*K\n",
      "\n",
      "Comparison of library thermo with original estimated thermo\n",
      "Difference in H298 = -0.61 kcal/mol\n",
      "Difference S298 = 58.88 cal/mol*K\n",
      "\n",
      "=======================\n",
      "biring1\n"
     ]
    },
    {
     "data": {
      "image/png": "[encoded data removed]",
      "text/plain": [
       "Molecule(SMILES=\"[CH]1C=CC2CC12\")"
      ]
     },
     "metadata": {},
     "output_type": "display_data"
    },
    {
     "name": "stdout",
     "output_type": "stream",
     "text": [
      "Species has 1 resonance isomer(s)\n",
      "Library thermo data for species biring1 does not match the estimate from group additivity\n",
      "\n",
      "Library thermo data:\n",
      "H298 = 69.9 kcal/mol\n",
      "S298 = 71.66 cal/mol*K\n",
      "\n",
      "Estimated thermo data:\n",
      "Polycyclic groups: product1\n",
      "H298 = 68.0841666667 kcal/mol\n",
      "S298 = 83.5103634677 cal/mol*K\n",
      "\n",
      "Comparison of library thermo with estimated thermo\n",
      "Difference in H298 = 1.81583333333 kcal/mol\n",
      "Difference S298 = -11.8503634677 cal/mol*K\n",
      "\n",
      "Original estimated thermo data:\n",
      "Polycyclic groups: PolycyclicRing\n",
      "H298 = 34.307 kcal/mol\n",
      "S298 = 7.59 cal/mol*K\n",
      "\n",
      "Comparison of library thermo with original estimated thermo\n",
      "Difference in H298 = 35.593 kcal/mol\n",
      "Difference S298 = 64.07 cal/mol*K\n",
      "\n",
      "=======================\n",
      "prod1\n"
     ]
    },
    {
     "data": {
      "image/png": "[encoded data removed]",
      "text/plain": [
       "Molecule(SMILES=\"[CH]1C=CC2C1C21C=CC=C1\")"
      ]
     },
     "metadata": {},
     "output_type": "display_data"
    },
    {
     "name": "stdout",
     "output_type": "stream",
     "text": [
      "Species has 1 resonance isomer(s)\n",
      "Library thermo data for species prod1 does not match the estimate from group additivity\n",
      "\n",
      "Library thermo data:\n",
      "H298 = 110.21 kcal/mol\n",
      "S298 = 87.24 cal/mol*K\n",
      "\n",
      "Estimated thermo data:\n",
      "Polycyclic groups: product1\n",
      "H298 = 105.434166667 kcal/mol\n",
      "S298 = 68.0703634677 cal/mol*K\n",
      "\n",
      "Comparison of library thermo with estimated thermo\n",
      "Difference in H298 = 4.77583333333 kcal/mol\n",
      "Difference S298 = 19.1696365323 cal/mol*K\n",
      "\n",
      "Original estimated thermo data:\n",
      "Polycyclic groups: PolycyclicRing\n",
      "H298 = 71.657 kcal/mol\n",
      "S298 = -7.85 cal/mol*K\n",
      "\n",
      "Comparison of library thermo with original estimated thermo\n",
      "Difference in H298 = 38.553 kcal/mol\n",
      "Difference S298 = 95.09 cal/mol*K\n",
      "\n",
      "=======================\n",
      "prod2\n"
     ]
    },
    {
     "data": {
      "image/png": "[encoded data removed]",
      "text/plain": [
       "Molecule(SMILES=\"[CH]1C=CC=CC12C=CC=C2\")"
      ]
     },
     "metadata": {},
     "output_type": "display_data"
    },
    {
     "name": "stdout",
     "output_type": "stream",
     "text": [
      "Species has 2 resonance isomer(s)\n",
      "Library thermo data for species prod2 matches the estimate from group additivity.\n",
      "\n",
      "Library thermo data:\n",
      "H298 = 96.34 kcal/mol\n",
      "S298 = 88.71 cal/mol*K\n",
      "\n",
      "Original estimated thermo data:\n",
      "Polycyclic groups: PolycyclicRing\n",
      "H298 = 85.207 kcal/mol\n",
      "S298 = 31.63 cal/mol*K\n",
      "\n",
      "Comparison of library thermo with original estimated thermo\n",
      "Difference in H298 = 11.133 kcal/mol\n",
      "Difference S298 = 57.08 cal/mol*K\n",
      "\n",
      "=======================\n",
      "prod4\n"
     ]
    },
    {
     "data": {
      "image/png": "[encoded data removed]",
      "text/plain": [
       "Molecule(SMILES=\"[CH]1C=CC=C2C=CC=CC12\")"
      ]
     },
     "metadata": {},
     "output_type": "display_data"
    },
    {
     "name": "stdout",
     "output_type": "stream",
     "text": [
      "Species has 3 resonance isomer(s)\n",
      "Library thermo data for species prod4 matches the estimate from group additivity.\n",
      "\n",
      "Library thermo data:\n",
      "H298 = 81.64 kcal/mol\n",
      "S298 = 86.42 cal/mol*K\n",
      "\n",
      "Original estimated thermo data:\n",
      "Polycyclic groups: PolycyclicRing\n",
      "H298 = 83.597 kcal/mol\n",
      "S298 = 30.75 cal/mol*K\n",
      "\n",
      "Comparison of library thermo with original estimated thermo\n",
      "Difference in H298 = -1.957 kcal/mol\n",
      "Difference S298 = 55.67 cal/mol*K\n",
      "\n",
      "=======================\n",
      "naphthalene\n"
     ]
    },
    {
     "data": {
      "image/png": "[encoded data removed]",
      "text/plain": [
       "Molecule(SMILES=\"C1=CC=C2C=CC=CC2=C1\")"
      ]
     },
     "metadata": {},
     "output_type": "display_data"
    },
    {
     "name": "stdout",
     "output_type": "stream",
     "text": [
      "Species has 2 resonance isomer(s)\n",
      "Library thermo data for species naphthalene matches the estimate from group additivity.\n",
      "\n",
      "Library thermo data:\n",
      "H298 = 36.0 kcal/mol\n",
      "S298 = 79.49 cal/mol*K\n",
      "\n",
      "Original estimated thermo data:\n",
      "Polycyclic groups: PolycyclicRing\n",
      "H298 = 36.0 kcal/mol\n",
      "S298 = 82.24 cal/mol*K\n",
      "\n",
      "Comparison of library thermo with original estimated thermo\n",
      "Difference in H298 = 0.0 kcal/mol\n",
      "Difference S298 = -2.75 cal/mol*K\n",
      "\n",
      "=======================\n",
      "prod3\n"
     ]
    },
    {
     "data": {
      "image/png": "[encoded data removed]",
      "text/plain": [
       "Molecule(SMILES=\"[CH]1C=CC2C3C=CC=CC123\")"
      ]
     },
     "metadata": {},
     "output_type": "display_data"
    },
    {
     "name": "stdout",
     "output_type": "stream",
     "text": [
      "Species has 2 resonance isomer(s)\n",
      "Library thermo data for species prod3 does not match the estimate from group additivity\n",
      "\n",
      "Library thermo data:\n",
      "H298 = 104.32 kcal/mol\n",
      "S298 = 85.86 cal/mol*K\n",
      "\n",
      "Estimated thermo data:\n",
      "Polycyclic groups: product1\n",
      "H298 = 105.434166667 kcal/mol\n",
      "S298 = 68.0703634677 cal/mol*K\n",
      "\n",
      "Comparison of library thermo with estimated thermo\n",
      "Difference in H298 = -1.11416666667 kcal/mol\n",
      "Difference S298 = 17.7896365323 cal/mol*K\n",
      "\n",
      "Original estimated thermo data:\n",
      "Polycyclic groups: PolycyclicRing\n",
      "H298 = 71.657 kcal/mol\n",
      "S298 = -7.85 cal/mol*K\n",
      "\n",
      "Comparison of library thermo with original estimated thermo\n",
      "Difference in H298 = 32.663 kcal/mol\n",
      "Difference S298 = 93.71 cal/mol*K\n",
      "\n",
      "=======================\n"
     ]
    }
   ],
   "source": [
    "# Test that the new group additivity values can estimate the old library ones exactly.\n",
    "\n",
    "for libraryName in thermoLibraries:\n",
    "    thermoLibrary = database.thermo.libraries[libraryName]\n",
    "    for label, entry in thermoLibrary.entries.iteritems():\n",
    "        molecule = entry.item\n",
    "        libraryThermoData = entry.data\n",
    "\n",
    "        if molecule.getAllPolycyclicVertices():\n",
    "            species = Species(molecule=[molecule])\n",
    "            species.generateResonanceIsomers()\n",
    "            print label\n",
    "            display (species.molecule[0])\n",
    "            print 'Species has {0} resonance isomer(s)'.format(len(species.molecule))\n",
    "            thermoDatabase.findCp0andCpInf(species, libraryThermoData)\n",
    "            \n",
    "            estimatedThermo = thermoDatabase.getThermoDataFromGroups(species)\n",
    "            originalEstimatedThermo = thermoDatabase0.getThermoDataFromGroups(species)\n",
    "            if libraryThermoData.isIdenticalTo(estimatedThermo):\n",
    "                print 'Library thermo data for species {0} matches the estimate from group additivity.\\n'.format(label)\n",
    "                \n",
    "                print 'Library thermo data:' \n",
    "                displayThermo(libraryThermoData)\n",
    "                print  ''   \n",
    "                \n",
    "                print 'Original estimated thermo data:'                \n",
    "                polycyclicGroupTokens = returnPolycyclicGroupStrings(originalEstimatedThermo.comment)\n",
    "                print 'Polycyclic groups: {0}'.format(' '.join(polycyclicGroupTokens))\n",
    "                displayThermo(originalEstimatedThermo)\n",
    "                print ''\n",
    "                \n",
    "                print 'Comparison of library thermo with original estimated thermo'\n",
    "                compareThermoData(libraryThermoData,originalEstimatedThermo)\n",
    "                print ''\n",
    "            else:\n",
    "                print 'Library thermo data for species {0} does not match the estimate from group additivity\\n'.format(label)\n",
    "                \n",
    "                print 'Library thermo data:' \n",
    "                displayThermo(libraryThermoData)\n",
    "                print  ''                \n",
    "                \n",
    "                print 'Estimated thermo data:'                 \n",
    "                polycyclicGroupTokens = returnPolycyclicGroupStrings(estimatedThermo.comment)\n",
    "                print 'Polycyclic groups: {0}'.format(' '.join(polycyclicGroupTokens))\n",
    "                displayThermo(estimatedThermo)\n",
    "                print ''\n",
    "                \n",
    "                print 'Comparison of library thermo with estimated thermo'\n",
    "                compareThermoData(libraryThermoData,estimatedThermo)\n",
    "                print ''\n",
    "                \n",
    "                print 'Original estimated thermo data:'                \n",
    "                polycyclicGroupTokens = returnPolycyclicGroupStrings(originalEstimatedThermo.comment)\n",
    "                print 'Polycyclic groups: {0}'.format(' '.join(polycyclicGroupTokens))\n",
    "                displayThermo(originalEstimatedThermo)\n",
    "                print ''\n",
    "                \n",
    "                print 'Comparison of library thermo with original estimated thermo'\n",
    "                compareThermoData(libraryThermoData,originalEstimatedThermo)\n",
    "                print ''\n",
    "            print '======================='"
   ]
  },
  {
   "cell_type": "markdown",
   "metadata": {},
   "source": [
    "## Check if a molecule descends the tree properly"
   ]
  },
  {
   "cell_type": "code",
   "execution_count": 8,
   "metadata": {
    "collapsed": false
   },
   "outputs": [
    {
     "data": {
      "image/png": "[encoded data removed]",
      "text/plain": [
       "Molecule(SMILES=\"C1=CC2C(C1)C1C=CCC21\")"
      ]
     },
     "metadata": {},
     "output_type": "display_data"
    },
    {
     "name": "stdout",
     "output_type": "stream",
     "text": [
      "product3\n"
     ]
    },
    {
     "data": {
      "image/png": "[encoded data removed]",
      "text/plain": [
       "Molecule(SMILES=\"C1=CC2C3C=CCC3C2C1\")"
      ]
     },
     "metadata": {},
     "output_type": "display_data"
    },
    {
     "name": "stdout",
     "output_type": "stream",
     "text": [
      "product3\n"
     ]
    }
   ],
   "source": [
    "# pdt7 debug\n",
    "m = Molecule(SMILES='[CH]1C=CC2C1C1C=CCC21')\n",
    "s = Species(molecule=[m])\n",
    "s.generateResonanceIsomers()\n",
    "for isomer in s.molecule:\n",
    "    isomer.saturate()\n",
    "    display(isomer)\n",
    "    print thermoDatabase.groups['polycyclic'].descendTree(isomer,{},None)"
   ]
  }
 ],
 "metadata": {
  "kernelspec": {
   "display_name": "Python 2",
   "language": "python",
   "name": "python2"
  },
  "language_info": {
   "codemirror_mode": {
    "name": "ipython",
    "version": 2
   },
   "file_extension": ".py",
   "mimetype": "text/x-python",
   "name": "python",
   "nbconvert_exporter": "python",
   "pygments_lexer": "ipython2",
   "version": "2.7.11"
  }
 },
 "nbformat": 4,
 "nbformat_minor": 0
}
