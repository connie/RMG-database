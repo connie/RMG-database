{
 "cells": [
  {
   "cell_type": "code",
   "execution_count": 1,
   "metadata": {
    "collapsed": false
   },
   "outputs": [],
   "source": [
    "import os\n",
    "import re\n",
    "import copy\n",
    "import numpy\n",
    "from IPython.display import Image, display\n",
    "from rmgpy.data.thermo import ThermoLibrary\n",
    "from rmgpy.data.rmg import RMGDatabase\n",
    "from rmgpy import settings\n",
    "from rmgpy.species import Species\n",
    "from rmgpy.molecule import Molecule\n",
    "from rmgpy.cantherm.output import prettify"
   ]
  },
  {
   "cell_type": "code",
   "execution_count": 14,
   "metadata": {
    "collapsed": false
   },
   "outputs": [],
   "source": [
    "def addThermoData(thermoData1, thermoData2):\n",
    "    \"\"\"\n",
    "    Add the thermodynamic data `thermoData2` to the data `thermoData1`,\n",
    "    and return `thermoData1`.\n",
    "    \"\"\"\n",
    "    if len(thermoData1.Tdata.value_si) != len(thermoData2.Tdata.value_si) or any([T1 != T2 for T1, T2 in zip(thermoData1.Tdata.value_si, thermoData2.Tdata.value_si)]):\n",
    "        raise Exception('Cannot add these ThermoData objects due to their having different temperature points.')\n",
    "\n",
    "    for i in range(thermoData1.Tdata.value_si.shape[0]):\n",
    "        thermoData1.Cpdata.value_si[i] += thermoData2.Cpdata.value_si[i]\n",
    "    thermoData1.H298.value_si += thermoData2.H298.value_si\n",
    "    thermoData1.S298.value_si += thermoData2.S298.value_si\n",
    "\n",
    "    #if thermoData1.comment:\n",
    "    #    thermoData1.comment += ' + {0}'.format(thermoData2.comment)\n",
    "    #else:\n",
    "    #    thermoData1.comment = 'Thermo group additivity estimation: ' + thermoData2.comment\n",
    "\n",
    "    return thermoData1\n",
    "\n",
    "def removeThermoData(thermoData1, thermoData2):\n",
    "    \"\"\"\n",
    "    Remove the thermodynamic data `thermoData2` from the data `thermoData1`,\n",
    "    and return `thermoData1`.\n",
    "    \"\"\"\n",
    "    if len(thermoData1.Tdata.value_si) != len(thermoData2.Tdata.value_si) or any([T1 != T2 for T1, T2 in zip(thermoData1.Tdata.value_si, thermoData2.Tdata.value_si)]):\n",
    "        raise Exception('Cannot add these ThermoData objects due to their having different temperature points.')\n",
    "\n",
    "    for i in range(thermoData1.Tdata.value_si.shape[0]):\n",
    "        thermoData1.Cpdata.value_si[i] -= thermoData2.Cpdata.value_si[i]\n",
    "    thermoData1.H298.value_si -= thermoData2.H298.value_si\n",
    "    thermoData1.S298.value_si -= thermoData2.S298.value_si\n",
    "\n",
    "    #if thermoData1.comment:\n",
    "    #    thermoData1.comment += ' + {0}'.format(thermoData2.comment)\n",
    "    #else:\n",
    "    #    thermoData1.comment = 'Thermo group additivity estimation: ' + thermoData2.comment\n",
    "\n",
    "    return thermoData1\n",
    "\n",
    "def averageThermoData(thermoDataset=[]):\n",
    "    \"\"\"\n",
    "    Average a list of thermoData values together.\n",
    "    Sets uncertainty values to be the approximately the 95% confidence interval, equivalent to\n",
    "    2 standard deviations calculated using the sample standard variance:\n",
    "    \n",
    "    Uncertainty = 2s\n",
    "    s = sqrt( sum(abs(x - x.mean())^2) / N - 1) where N is the number of values averaged\n",
    "    \n",
    "    Note that uncertainties are only computed when number of values is greater than 1.\n",
    "    \"\"\"\n",
    "    \n",
    "    numValues = len(thermoDataset)\n",
    "        \n",
    "    if numValues == 0:\n",
    "        raise Exception('No thermo data values were inputted to be averaged.')\n",
    "    else:\n",
    "        print 'Averaging thermo data over {0} value(s).'.format(numValues)\n",
    "        \n",
    "        if numValues == 1:\n",
    "            return copy.deepcopy(thermoDataset[0])\n",
    "        \n",
    "        else:\n",
    "            averagedThermoData = copy.deepcopy(thermoDataset[0])\n",
    "            for thermoData in thermoDataset[1:]:\n",
    "                averagedThermoData = addThermoData(averagedThermoData, thermoData)\n",
    "\n",
    "\n",
    "            for i in range(averagedThermoData.Tdata.value_si.shape[0]):\n",
    "                averagedThermoData.Cpdata.value_si[i] /= numValues\n",
    "                #print averagedThermoData.Cpdata.uncertainty\n",
    "                cpData = [thermoData.Cpdata.value_si[i] for thermoData in thermoDataset]\n",
    "                averagedThermoData.Cpdata.uncertainty[i] = 2*numpy.std(cpData, ddof=1)\n",
    "\n",
    "            HData = [thermoData.H298.value_si for themoData in thermoDataset]\n",
    "            averagedThermoData.H298.value_si /= numValues\n",
    "            #print averagedThermoData.H298.getUncertainty()\n",
    "            #print averagedThermoData.H298.uncertainty\n",
    "            #print averagedThermoData.H298.uncertainty_si\n",
    "            averagedThermoData.H298.uncertainty_si = 2*numpy.std(HData, ddof=1)\n",
    "\n",
    "            SData = [thermoData.S298.value_si for themoData in thermoDataset]\n",
    "            averagedThermoData.S298.value_si /= numValues\n",
    "            averagedThermoData.S298.uncertainty_si = 2*numpy.std(SData, ddof=1)\n",
    "            return averagedThermoData\n",
    "        \n",
    "def isolateCyclicGroups(molecule):\n",
    "    \"\"\"\n",
    "    Isolates the cyclic groups within a saturated molecule and create a new Group object for each cycle\n",
    "    \"\"\"\n",
    "    from rmgpy.molecule.group import Group\n",
    "    \n",
    "    molecule.deleteHydrogens()\n",
    "    SSSR = molecule.getSmallestSetOfSmallestRings()\n",
    "    \n",
    "    groups = []\n",
    "    for cycle in SSSR:\n",
    "        print cycle\n",
    "        print cycle[0]\n",
    "        groups.append(Group(atoms=cycle))\n",
    "        "
   ]
  },
  {
   "cell_type": "code",
   "execution_count": 3,
   "metadata": {
    "collapsed": false
   },
   "outputs": [],
   "source": [
    "# Fill in the list of thermo libraries to be used for fitting polycyclic thermo groups\n",
    "thermoLibraries = ['C10H11']\n",
    "database = RMGDatabase()\n",
    "database.load(settings['database.directory'], thermoLibraries = thermoLibraries, kineticsFamilies='none', kineticsDepositories='none', reactionLibraries=[])\n",
    "\n",
    "thermoDatabase = database.thermo"
   ]
  },
  {
   "cell_type": "code",
   "execution_count": 4,
   "metadata": {
    "collapsed": true
   },
   "outputs": [],
   "source": [
    "fittingDictionary={}\n",
    "for libraryName in thermoLibraries:\n",
    "    thermoLibrary = database.thermo.libraries[libraryName]"
   ]
  },
  {
   "cell_type": "code",
   "execution_count": 17,
   "metadata": {
    "collapsed": false
   },
   "outputs": [
    {
     "name": "stdout",
     "output_type": "stream",
     "text": [
      "Species pdt7 has a single polycyclic group match in thermo estimate: PolycyclicRing\n"
     ]
    },
    {
     "data": {
      "image/png": "[encoded data removed]",
      "text/plain": [
       "Molecule(SMILES=\"[CH]1C=CC2C1C1CC=CC21\")"
      ]
     },
     "metadata": {},
     "output_type": "display_data"
    },
    {
     "name": "stdout",
     "output_type": "stream",
     "text": [
      "Original polycyclic group was generic, must create new polycyclic group...\n",
      "Species pdt8 has a single polycyclic group match in thermo estimate: PolycyclicRing\n"
     ]
    },
    {
     "data": {
      "image/png": "[encoded data removed]",
      "text/plain": [
       "Molecule(SMILES=\"[CH]1C=CC=CC2CC=CC12\")"
      ]
     },
     "metadata": {},
     "output_type": "display_data"
    },
    {
     "name": "stdout",
     "output_type": "stream",
     "text": [
      "Original polycyclic group was generic, must create new polycyclic group...\n",
      "Species pdt10bis has a single polycyclic group match in thermo estimate: PolycyclicRing\n"
     ]
    },
    {
     "data": {
      "image/png": "[encoded data removed]",
      "text/plain": [
       "Molecule(SMILES=\"[CH]1C=CCC2C=CC=CC12\")"
      ]
     },
     "metadata": {},
     "output_type": "display_data"
    },
    {
     "name": "stdout",
     "output_type": "stream",
     "text": [
      "Original polycyclic group was generic, must create new polycyclic group...\n",
      "Species pdt11 has a single polycyclic group match in thermo estimate: PolycyclicRing\n"
     ]
    },
    {
     "data": {
      "image/png": "[encoded data removed]",
      "text/plain": [
       "Molecule(SMILES=\"C1=CCC2C=CC=CC2=C1\")"
      ]
     },
     "metadata": {},
     "output_type": "display_data"
    },
    {
     "name": "stdout",
     "output_type": "stream",
     "text": [
      "Original polycyclic group was generic, must create new polycyclic group...\n",
      "Species pdt17 has a single polycyclic group match in thermo estimate: PolycyclicRing\n"
     ]
    },
    {
     "data": {
      "image/png": "[encoded data removed]",
      "text/plain": [
       "Molecule(SMILES=\"[CH]1C=CCC12C=CC=CC2\")"
      ]
     },
     "metadata": {},
     "output_type": "display_data"
    },
    {
     "name": "stdout",
     "output_type": "stream",
     "text": [
      "Original polycyclic group was generic, must create new polycyclic group...\n",
      "Species pdt19 has a single polycyclic group match in thermo estimate: PolycyclicRing\n"
     ]
    },
    {
     "data": {
      "image/png": "[encoded data removed]",
      "text/plain": [
       "Molecule(SMILES=\"[CH]1C=CCC2=CC=CCC12\")"
      ]
     },
     "metadata": {},
     "output_type": "display_data"
    },
    {
     "name": "stdout",
     "output_type": "stream",
     "text": [
      "Original polycyclic group was generic, must create new polycyclic group...\n",
      "Species pdt21 has a single polycyclic group match in thermo estimate: PolycyclicRing\n"
     ]
    },
    {
     "data": {
      "image/png": "[encoded data removed]",
      "text/plain": [
       "Molecule(SMILES=\"CC1C=CC=C2C=C[CH]C21\")"
      ]
     },
     "metadata": {},
     "output_type": "display_data"
    },
    {
     "name": "stdout",
     "output_type": "stream",
     "text": [
      "Original polycyclic group was generic, must create new polycyclic group...\n",
      "Species pdt22 has a single polycyclic group match in thermo estimate: PolycyclicRing\n"
     ]
    },
    {
     "data": {
      "image/png": "[encoded data removed]",
      "text/plain": [
       "Molecule(SMILES=\"C1C=CC2C=CC=C2C=1\")"
      ]
     },
     "metadata": {},
     "output_type": "display_data"
    },
    {
     "name": "stdout",
     "output_type": "stream",
     "text": [
      "Original polycyclic group was generic, must create new polycyclic group...\n",
      "Species pdt23 has a single polycyclic group match in thermo estimate: PolycyclicRing\n"
     ]
    },
    {
     "data": {
      "image/png": "[encoded data removed]",
      "text/plain": [
       "Molecule(SMILES=\"[CH]1C=CC2C=CC=CCC12\")"
      ]
     },
     "metadata": {},
     "output_type": "display_data"
    },
    {
     "name": "stdout",
     "output_type": "stream",
     "text": [
      "Original polycyclic group was generic, must create new polycyclic group...\n",
      "Species pdt24 has a single polycyclic group match in thermo estimate: PolycyclicRing\n"
     ]
    },
    {
     "data": {
      "image/png": "[encoded data removed]",
      "text/plain": [
       "Molecule(SMILES=\"[CH]1C=CCC23CC=CC2C13\")"
      ]
     },
     "metadata": {},
     "output_type": "display_data"
    },
    {
     "name": "stdout",
     "output_type": "stream",
     "text": [
      "Original polycyclic group was generic, must create new polycyclic group...\n",
      "Species pdt26 has a single polycyclic group match in thermo estimate: PolycyclicRing\n"
     ]
    },
    {
     "data": {
      "image/png": "[encoded data removed]",
      "text/plain": [
       "Molecule(SMILES=\"C1=CCC2=CC=CCC2=C1\")"
      ]
     },
     "metadata": {},
     "output_type": "display_data"
    },
    {
     "name": "stdout",
     "output_type": "stream",
     "text": [
      "Original polycyclic group was generic, must create new polycyclic group...\n",
      "Species pdt27 has a single polycyclic group match in thermo estimate: PolycyclicRing\n"
     ]
    },
    {
     "data": {
      "image/png": "[encoded data removed]",
      "text/plain": [
       "Molecule(SMILES=\"CC1C=CC=C2C=CC[C]21\")"
      ]
     },
     "metadata": {},
     "output_type": "display_data"
    },
    {
     "name": "stdout",
     "output_type": "stream",
     "text": [
      "Original polycyclic group was generic, must create new polycyclic group...\n",
      "Species pdt28 has a single polycyclic group match in thermo estimate: PolycyclicRing\n"
     ]
    },
    {
     "data": {
      "image/png": "[encoded data removed]",
      "text/plain": [
       "Molecule(SMILES=\"C1C=CC2C=CC[C]2CC=1\")"
      ]
     },
     "metadata": {},
     "output_type": "display_data"
    },
    {
     "name": "stdout",
     "output_type": "stream",
     "text": [
      "Original polycyclic group was generic, must create new polycyclic group...\n",
      "Species pdt29 has a single polycyclic group match in thermo estimate: PolycyclicRing\n"
     ]
    },
    {
     "data": {
      "image/png": "[encoded data removed]",
      "text/plain": [
       "Molecule(SMILES=\"[CH]1C=CC=C2C=CCC2C1\")"
      ]
     },
     "metadata": {},
     "output_type": "display_data"
    },
    {
     "name": "stdout",
     "output_type": "stream",
     "text": [
      "Original polycyclic group was generic, must create new polycyclic group...\n",
      "Species pdt30 has a single polycyclic group match in thermo estimate: PolycyclicRing\n"
     ]
    },
    {
     "data": {
      "image/png": "[encoded data removed]",
      "text/plain": [
       "Molecule(SMILES=\"C1C=CC2=CC=CC2CC=1\")"
      ]
     },
     "metadata": {},
     "output_type": "display_data"
    },
    {
     "name": "stdout",
     "output_type": "stream",
     "text": [
      "Original polycyclic group was generic, must create new polycyclic group...\n",
      "Species pdt31 has a single polycyclic group match in thermo estimate: PolycyclicRing\n"
     ]
    },
    {
     "data": {
      "image/png": "[encoded data removed]",
      "text/plain": [
       "Molecule(SMILES=\"C1=CC=C2C=CCC2C=C1\")"
      ]
     },
     "metadata": {},
     "output_type": "display_data"
    },
    {
     "name": "stdout",
     "output_type": "stream",
     "text": [
      "Original polycyclic group was generic, must create new polycyclic group...\n",
      "Species pdt32 has a single polycyclic group match in thermo estimate: PolycyclicRing\n"
     ]
    },
    {
     "data": {
      "image/png": "[encoded data removed]",
      "text/plain": [
       "Molecule(SMILES=\"CC1C=CC2=CC=C[CH]C21\")"
      ]
     },
     "metadata": {},
     "output_type": "display_data"
    },
    {
     "name": "stdout",
     "output_type": "stream",
     "text": [
      "Original polycyclic group was generic, must create new polycyclic group...\n",
      "Species pdt35 has a single polycyclic group match in thermo estimate: PolycyclicRing\n"
     ]
    },
    {
     "data": {
      "image/png": "[encoded data removed]",
      "text/plain": [
       "Molecule(SMILES=\"C1C=CC2C=CCC=2CC=1\")"
      ]
     },
     "metadata": {},
     "output_type": "display_data"
    },
    {
     "name": "stdout",
     "output_type": "stream",
     "text": [
      "Original polycyclic group was generic, must create new polycyclic group...\n",
      "Species pdt37 has a single polycyclic group match in thermo estimate: PolycyclicRing\n"
     ]
    },
    {
     "data": {
      "image/png": "[encoded data removed]",
      "text/plain": [
       "Molecule(SMILES=\"[CH]1C=CC=C2CC=CCC12\")"
      ]
     },
     "metadata": {},
     "output_type": "display_data"
    },
    {
     "name": "stdout",
     "output_type": "stream",
     "text": [
      "Original polycyclic group was generic, must create new polycyclic group...\n",
      "Species pdt38 has a single polycyclic group match in thermo estimate: PolycyclicRing\n"
     ]
    },
    {
     "data": {
      "image/png": "[encoded data removed]",
      "text/plain": [
       "Molecule(SMILES=\"C1=CC=C2CC=CCC2=C1\")"
      ]
     },
     "metadata": {},
     "output_type": "display_data"
    },
    {
     "name": "stdout",
     "output_type": "stream",
     "text": [
      "Original polycyclic group was generic, must create new polycyclic group...\n",
      "Species INDENE has a single polycyclic group match in thermo estimate: indene\n"
     ]
    },
    {
     "data": {
      "image/png": "[encoded data removed]",
      "text/plain": [
       "Molecule(SMILES=\"C1=CC=C2CC=CC2=C1\")"
      ]
     },
     "metadata": {},
     "output_type": "display_data"
    },
    {
     "name": "stdout",
     "output_type": "stream",
     "text": [
      "Species pdt57 has a single polycyclic group match in thermo estimate: PolycyclicRing\n"
     ]
    },
    {
     "data": {
      "image/png": "[encoded data removed]",
      "text/plain": [
       "Molecule(SMILES=\"C=CC=CC1C2[CH]C=CC21\")"
      ]
     },
     "metadata": {},
     "output_type": "display_data"
    },
    {
     "name": "stdout",
     "output_type": "stream",
     "text": [
      "Original polycyclic group was generic, must create new polycyclic group...\n",
      "Species 2HINDENE has a single polycyclic group match in thermo estimate: PolycyclicRing\n"
     ]
    },
    {
     "data": {
      "image/png": "[encoded data removed]",
      "text/plain": [
       "Molecule(SMILES=\"C1C=CC2=CCC=C2C=1\")"
      ]
     },
     "metadata": {},
     "output_type": "display_data"
    },
    {
     "name": "stdout",
     "output_type": "stream",
     "text": [
      "Original polycyclic group was generic, must create new polycyclic group...\n"
     ]
    }
   ],
   "source": [
    "for label, entry in thermoLibrary.entries.iteritems():\n",
    "    molecule = entry.item\n",
    "    libraryThermoData = entry.data\n",
    "    if molecule.getAllPolycyclicVertices():\n",
    "        species = Species(molecule=[molecule])\n",
    "        species.generateResonanceIsomers() \n",
    "        estimatedThermo = thermoDatabase.getThermoDataFromGroups(species)\n",
    "        \n",
    "        tokens = estimatedThermo.comment.split()\n",
    "        polycyclicGroups = []\n",
    "        for token in tokens:\n",
    "            if 'polycyclic' in token:\n",
    "                splitTokens = re.split(\"\\(|\\)\",token)\n",
    "                assert len(splitTokens) == 3\n",
    "                groupLabel = splitTokens[1]\n",
    "                polycyclicGroups.append(thermoDatabase.groups['polycyclic'].entries[groupLabel])\n",
    "\n",
    "        if len(polycyclicGroups) == 0:\n",
    "            print 'Species {0} detected as polycyclic but estimated thermo contained no polycyclic groups: \\\n",
    "                    you need to create a new polycyclic group'.format(label)\n",
    "            \n",
    "        elif len(polycyclicGroups) == 1:\n",
    "            polycyclicGroup = polycyclicGroups[0]\n",
    "            print 'Species {0} has a single polycyclic group match in thermo estimate: {1}'.format(label, polycyclicGroup.label)\n",
    "            # Draw the molecule in ipython notebook\n",
    "            display(molecule)\n",
    "            \n",
    "            withoutPolycyclicGroupThermo = removeThermoData(estimatedThermo, polycyclicGroup.data)\n",
    "            newPolycyclicGroupThermo = removeThermoData(libraryThermoData, withoutPolycyclicGroupThermo)\n",
    "            # At this point the estimatedThermo and librarythermoData are permanently modified and should not be reused\n",
    "            \n",
    "            \n",
    "            # Check to make sure that the polycyclic group is not generic\n",
    "            if polycyclicGroup.label == 'PolycyclicRing':\n",
    "                print 'Original polycyclic group was generic, must create new polycyclic group...'\n",
    "                struct = molecule.copy(deep=True)\n",
    "                # Saturate the structure if it is a radical\n",
    "                if struct.isRadical():\n",
    "                    struct.saturate()\n",
    "               # newGroups = isolateCyclicGroups(molecule)\n",
    "                #print len(newGroups)\n",
    "                #print newGroup[0].toAdjacencyList()\n",
    "                \n",
    "            \n",
    "            \n",
    "            \n",
    "            \n",
    "            \n",
    "            # Add the new group value to the fitting dictionary\n",
    "            if polycyclicGroup not in fittingDictionary:\n",
    "                # Add a tuple containing fitted group data, the original library entry, and thermo library\n",
    "                fittingDictionary[polycyclicGroup]=[(newPolycyclicGroupThermo, entry, thermoLibrary)]\n",
    "            else:\n",
    "                fittingDictionary[polycyclicGroup].append((newPolycyclicGroupThermo, entry, thermoLibrary))\n",
    "                \n",
    "        elif len(polycyclicGroups) > 1:\n",
    "            print 'Species {0} has matched multiple polycyclic groups. \\\n",
    "                    This cannot be fitted with a single molecule\\'s thermo data.'.format(label)\n"
   ]
  },
  {
   "cell_type": "code",
   "execution_count": 6,
   "metadata": {
    "collapsed": false
   },
   "outputs": [
    {
     "name": "stdout",
     "output_type": "stream",
     "text": [
      "Original thermo data for polycyclic group: PolycyclicRing\n",
      "ThermoData(\n",
      "    Tdata = ([300, 400, 500, 600, 800, 1000, 1500], 'K'),\n",
      "    Cpdata = ([0, 0, 0, 0, 0, 0, 0], 'cal/(mol*K)'),\n",
      "    H298 = (0, 'kcal/mol'),\n",
      "    S298 = (0, 'cal/(mol*K)'),\n",
      "    comment = 'polycyclic(PolycyclicRing)',\n",
      ")\n",
      "Averaging thermo data over 22 value(s).\n",
      "Fitted thermo data for polycyclic group: PolycyclicRing\n",
      "ThermoData(\n",
      "    Tdata = ([300, 400, 500, 600, 800, 1000, 1500], 'K'),\n",
      "    Cpdata = ([-7.35182, -7.40909, -6.95227, -6.14864, -5.03182, -4.12318, -2.90273], 'cal/(mol*K)', '+|-', [18.9537, 19.6523, 18.2452, 15.7002, 11.4143, 9.04092, 7.72542]),\n",
      "    H298 = (12.6705, 'kcal/mol'),\n",
      "    S298 = (57.9854, 'cal/(mol*K)', '+|-', 4.17168e-14),\n",
      ")\n",
      "Fitted from pdt7 species from C10H11 library.\n",
      "Fitted from pdt8 species from C10H11 library.\n",
      "Fitted from pdt10bis species from C10H11 library.\n",
      "Fitted from pdt11 species from C10H11 library.\n",
      "Fitted from pdt17 species from C10H11 library.\n",
      "Fitted from pdt19 species from C10H11 library.\n",
      "Fitted from pdt21 species from C10H11 library.\n",
      "Fitted from pdt22 species from C10H11 library.\n",
      "Fitted from pdt23 species from C10H11 library.\n",
      "Fitted from pdt24 species from C10H11 library.\n",
      "Fitted from pdt26 species from C10H11 library.\n",
      "Fitted from pdt27 species from C10H11 library.\n",
      "Fitted from pdt28 species from C10H11 library.\n",
      "Fitted from pdt29 species from C10H11 library.\n",
      "Fitted from pdt30 species from C10H11 library.\n",
      "Fitted from pdt31 species from C10H11 library.\n",
      "Fitted from pdt32 species from C10H11 library.\n",
      "Fitted from pdt35 species from C10H11 library.\n",
      "Fitted from pdt37 species from C10H11 library.\n",
      "Fitted from pdt38 species from C10H11 library.\n",
      "Fitted from pdt57 species from C10H11 library.\n",
      "Fitted from 2HINDENE species from C10H11 library.\n",
      "====================================================================\n",
      "Original thermo data for polycyclic group: indene\n",
      "ThermoData(\n",
      "    Tdata = ([300, 400, 500, 600, 800, 1000, 1500], 'K'),\n",
      "    Cpdata = ([-3.88, -4.29, -3.89, -2.96, -1.83, -2.2, -1.31], 'cal/(mol*K)'),\n",
      "    H298 = (2.1, 'kcal/mol'),\n",
      "    S298 = (33.08, 'cal/(mol*K)'),\n",
      "    comment = 'polycyclic(indene)',\n",
      ")\n",
      "Averaging thermo data over 1 value(s).\n",
      "Fitted thermo data for polycyclic group: indene\n",
      "ThermoData(\n",
      "    Tdata = ([300, 400, 500, 600, 800, 1000, 1500], 'K'),\n",
      "    Cpdata = ([-3.07, -2.67, -2.42, -2.22, -2.2, -2.23, -2.04], 'cal/(mol*K)'),\n",
      "    H298 = (5.01, 'kcal/mol'),\n",
      "    S298 = (32.84, 'cal/(mol*K)'),\n",
      ")\n",
      "Fitted from INDENE species from C10H11 library.\n",
      "====================================================================\n"
     ]
    }
   ],
   "source": [
    "molecule.isRadical(), \"Method only valid for radicals.\"\n",
    "        saturatedStruct = molecule.copy(deep=True)\n",
    "        added = saturatedStruct.saturate()for polycyclicGroup, fittingGroups in fittingDictionary.iteritems():\n",
    "    print 'Original thermo data for polycyclic group: {0}'.format(polycyclicGroup.label)\n",
    "    print prettify(repr(polycyclicGroup.data))\n",
    "    \n",
    "    thermoDataset = [fitTuple[0] for fitTuple in fittingGroups]\n",
    "    labels = [fitTuple[1].label for fitTuple in fittingGroups]\n",
    "    libraryLabels = [fitTuple[2].name for fitTuple in fittingGroups]\n",
    "    # Average the new group values to fit the original polycyclic group\n",
    "    fittedGroupData = averageThermoData([fitTuple[0] for fitTuple in fittingGroups])\n",
    "    #print fittedGroupData\n",
    "    #print fittingGroups\n",
    "    polycyclicGroup.data = fittedGroupData\n",
    "    polycyclicGroup.shortDesc = \"Fitted from thermo library values\"\n",
    "    \n",
    "    comment = ''\n",
    "    for i in range(len(labels)):\n",
    "        comment += \"Fitted from {0} species from {1} library.\\n\".format(labels[i],libraryLabels[i])\n",
    "    polycyclicGroup.longDesc = comment.strip()\n",
    "    \n",
    "    print 'Fitted thermo data for polycyclic group: {0}'.format(polycyclicGroup.label)\n",
    "    print prettify(repr(polycyclicGroup.data))\n",
    "    print polycyclicGroup.longDesc\n",
    "    print '===================================================================='\n",
    "    # At this point, save and overwrite the entire polycyclic thermo library"
   ]
  },
  {
   "cell_type": "code",
   "execution_count": 7,
   "metadata": {
    "collapsed": false
   },
   "outputs": [
    {
     "data": {
      "image/png": "[encoded data removed]",
      "text/plain": [
       "Reaction(index=1, reactants=[Species(label=\"\", molecule=[Molecule(SMILES=\"C=CC1C=CC=C1\")]), Species(label=\"\", molecule=[Molecule(SMILES=\"[H]\")])], products=[Species(label=\"\", molecule=[Molecule(SMILES=\"C[CH]C1C=CC=C1\")])], kinetics=Arrhenius(A=(3.36e+08,'cm^3/(mol*s)'), n=1.56, Ea=(0.6,'kcal/mol'), T0=(1,'K')))"
      ]
     },
     "metadata": {},
     "output_type": "display_data"
    }
   ],
   "source": [
    "from rmgpy.reaction import *\n",
    "from rmgpy.kinetics import *\n",
    "rxn = Reaction(index=1, reactants=[Species(label=\"\", molecule=[Molecule(SMILES=\"C=CC1C=CC=C1\")]), \n",
    "                                   Species(label=\"\", molecule=[Molecule(SMILES=\"[H]\")])], \n",
    "               products=[Species(label=\"\", molecule=[Molecule(SMILES=\"C[CH]C1C=CC=C1\")])], \n",
    "               kinetics=Arrhenius(A=(3.36e+08,'cm^3/(mol*s)'), n=1.56, Ea=(0.6,'kcal/mol'), T0=(1,'K')))\n",
    "display(rxn)\n"
   ]
  }
 ],
 "metadata": {
  "kernelspec": {
   "display_name": "Python 2",
   "language": "python",
   "name": "python2"
  },
  "language_info": {
   "codemirror_mode": {
    "name": "ipython",
    "version": 2
   },
   "file_extension": ".py",
   "mimetype": "text/x-python",
   "name": "python",
   "nbconvert_exporter": "python",
   "pygments_lexer": "ipython2",
   "version": "2.7.11"
  }
 },
 "nbformat": 4,
 "nbformat_minor": 0
}
