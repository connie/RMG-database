{
 "cells": [
  {
   "cell_type": "code",
   "execution_count": 1,
   "metadata": {
    "collapsed": false
   },
   "outputs": [],
   "source": [
    "import os\n",
    "import re\n",
    "import copy\n",
    "import numpy\n",
    "from IPython.display import Image, display\n",
    "from rmgpy.data.thermo import ThermoLibrary\n",
    "from rmgpy.data.base import Entry\n",
    "from rmgpy.data.rmg import RMGDatabase\n",
    "from rmgpy import settings\n",
    "from rmgpy.species import Species\n",
    "from rmgpy.molecule import Molecule\n",
    "from rmgpy.cantherm.output import prettify"
   ]
  },
  {
   "cell_type": "code",
   "execution_count": 2,
   "metadata": {
    "collapsed": false
   },
   "outputs": [],
   "source": [
    "def addThermoData(thermoData1, thermoData2):\n",
    "    \"\"\"\n",
    "    Add the thermodynamic data `thermoData2` to the data `thermoData1`,\n",
    "    and return `thermoData1`.\n",
    "    \"\"\"\n",
    "    if len(thermoData1.Tdata.value_si) != len(thermoData2.Tdata.value_si) or any([T1 != T2 for T1, T2 in zip(thermoData1.Tdata.value_si, thermoData2.Tdata.value_si)]):\n",
    "        raise Exception('Cannot add these ThermoData objects due to their having different temperature points.')\n",
    "\n",
    "    for i in range(thermoData1.Tdata.value_si.shape[0]):\n",
    "        thermoData1.Cpdata.value_si[i] += thermoData2.Cpdata.value_si[i]\n",
    "    thermoData1.H298.value_si += thermoData2.H298.value_si\n",
    "    thermoData1.S298.value_si += thermoData2.S298.value_si\n",
    "\n",
    "    #if thermoData1.comment:\n",
    "    #    thermoData1.comment += ' + {0}'.format(thermoData2.comment)\n",
    "    #else:\n",
    "    #    thermoData1.comment = 'Thermo group additivity estimation: ' + thermoData2.comment\n",
    "\n",
    "    return thermoData1\n",
    "\n",
    "def removeThermoData(thermoData1, thermoData2):\n",
    "    \"\"\"\n",
    "    Remove the thermodynamic data `thermoData2` from the data `thermoData1`,\n",
    "    and return `thermoData1`.\n",
    "    \"\"\"\n",
    "    if len(thermoData1.Tdata.value_si) != len(thermoData2.Tdata.value_si) or any([T1 != T2 for T1, T2 in zip(thermoData1.Tdata.value_si, thermoData2.Tdata.value_si)]):\n",
    "        raise Exception('Cannot add these ThermoData objects due to their having different temperature points.')\n",
    "\n",
    "    for i in range(thermoData1.Tdata.value_si.shape[0]):\n",
    "        thermoData1.Cpdata.value_si[i] -= thermoData2.Cpdata.value_si[i]\n",
    "    thermoData1.H298.value_si -= thermoData2.H298.value_si\n",
    "    thermoData1.S298.value_si -= thermoData2.S298.value_si\n",
    "\n",
    "    #if thermoData1.comment:\n",
    "    #    thermoData1.comment += ' + {0}'.format(thermoData2.comment)\n",
    "    #else:\n",
    "    #    thermoData1.comment = 'Thermo group additivity estimation: ' + thermoData2.comment\n",
    "\n",
    "    return thermoData1\n",
    "\n",
    "def averageThermoData(thermoDataset=[]):\n",
    "    \"\"\"\n",
    "    Average a list of thermoData values together.\n",
    "    Sets uncertainty values to be the approximately the 95% confidence interval, equivalent to\n",
    "    2 standard deviations calculated using the sample standard variance:\n",
    "    \n",
    "    Uncertainty = 2s\n",
    "    s = sqrt( sum(abs(x - x.mean())^2) / N - 1) where N is the number of values averaged\n",
    "    \n",
    "    Note that uncertainties are only computed when number of values is greater than 1.\n",
    "    \"\"\"\n",
    "    \n",
    "    numValues = len(thermoDataset)\n",
    "        \n",
    "    if numValues == 0:\n",
    "        raise Exception('No thermo data values were inputted to be averaged.')\n",
    "    else:\n",
    "        print 'Averaging thermo data over {0} value(s).'.format(numValues)\n",
    "        \n",
    "        if numValues == 1:\n",
    "            return copy.deepcopy(thermoDataset[0])\n",
    "        \n",
    "        else:\n",
    "            averagedThermoData = copy.deepcopy(thermoDataset[0])\n",
    "            for thermoData in thermoDataset[1:]:\n",
    "                averagedThermoData = addThermoData(averagedThermoData, thermoData)\n",
    "\n",
    "\n",
    "            for i in range(averagedThermoData.Tdata.value_si.shape[0]):\n",
    "                averagedThermoData.Cpdata.value_si[i] /= numValues\n",
    "                #print averagedThermoData.Cpdata.uncertainty\n",
    "                cpData = [thermoData.Cpdata.value_si[i] for thermoData in thermoDataset]\n",
    "                averagedThermoData.Cpdata.uncertainty[i] = 2*numpy.std(cpData, ddof=1)\n",
    "\n",
    "            HData = [thermoData.H298.value_si for themoData in thermoDataset]\n",
    "            averagedThermoData.H298.value_si /= numValues\n",
    "            #print averagedThermoData.H298.getUncertainty()\n",
    "            #print averagedThermoData.H298.uncertainty\n",
    "            #print averagedThermoData.H298.uncertainty_si\n",
    "            averagedThermoData.H298.uncertainty_si = 2*numpy.std(HData, ddof=1)\n",
    "\n",
    "            SData = [thermoData.S298.value_si for themoData in thermoDataset]\n",
    "            averagedThermoData.S298.value_si /= numValues\n",
    "            averagedThermoData.S298.uncertainty_si = 2*numpy.std(SData, ddof=1)\n",
    "            return averagedThermoData\n",
    "        \n",
    "def extractPolycyclicGroups(molecule):\n",
    "    \"\"\"\n",
    "    Extract polycyclic functional groups from a real molecule\n",
    "    \"\"\"\n",
    "    struct = molecule.copy(deep=True)\n",
    "    \n",
    "    # Saturate the structure if it is a radical\n",
    "    if struct.isRadical():\n",
    "        struct.saturate()\n",
    "    struct.deleteHydrogens()\n",
    "    \n",
    "    polyRings = struct.getPolycyclicRings()\n",
    "    groups = [convertCycleToGroup(ring) for ring in polyRings]\n",
    "    \n",
    "    return groups\n",
    "                \n",
    "def convertCycleToGroup(cycle):\n",
    "    \"\"\"\n",
    "    This function converts a list of atoms in a cycle to a functional Group object\n",
    "    \"\"\"\n",
    "    from rmgpy.molecule.group import GroupAtom, GroupBond, Group\n",
    "    \n",
    "    # Create GroupAtom object for each atom in the cycle, label the first one in the cycle with a *\n",
    "    groupAtoms = {}\n",
    "    bonds = []\n",
    "    for atom in cycle:\n",
    "        groupAtoms[atom] = GroupAtom(atomType=[atom.atomType],\n",
    "                                     radicalElectrons=[0],\n",
    "                                     label='*' if cycle.index(atom)==0 else '')\n",
    "                \n",
    "    group = Group(atoms=groupAtoms.values())            \n",
    "    \n",
    "    # Create GroupBond for each bond between atoms in the cycle, but not outside of the cycle\n",
    "    for atom in cycle:\n",
    "        for bondedAtom, bond in atom.edges.iteritems():\n",
    "            if bondedAtom in cycle:\n",
    "                # create a group bond with the same bond order as in the original molecule,\n",
    "                # if it hasn't already been created\n",
    "                if not group.hasBond(groupAtoms[atom],groupAtoms[bondedAtom]):\n",
    "                    group.addBond(GroupBond(groupAtoms[atom],groupAtoms[bondedAtom],order=[bond.order]))\n",
    "            else:\n",
    "                pass\n",
    "        \n",
    "    group.update()\n",
    "    \n",
    "    return group"
   ]
  },
  {
   "cell_type": "code",
   "execution_count": 3,
   "metadata": {
    "collapsed": true
   },
   "outputs": [],
   "source": [
    "def displayThermo(thermoData):\n",
    "    print 'H298 = {0} kcal/mol'.format(thermoData.H298.value_si/4184)\n",
    "    print 'S298 = {0} cal/mol*K'.format(thermoData.S298.value_si/4.184)"
   ]
  },
  {
   "cell_type": "code",
   "execution_count": 4,
   "metadata": {
    "collapsed": false
   },
   "outputs": [],
   "source": [
    "# Fill in the list of thermo libraries to be used for fitting polycyclic thermo groups\n",
    "thermoLibraries = ['C10H11']\n",
    "database = RMGDatabase()\n",
    "database.load(settings['database.directory'], thermoLibraries = thermoLibraries, kineticsFamilies='none', kineticsDepositories='none', reactionLibraries=[])\n",
    "\n",
    "thermoDatabase = database.thermo"
   ]
  },
  {
   "cell_type": "code",
   "execution_count": 5,
   "metadata": {
    "collapsed": true
   },
   "outputs": [],
   "source": [
    "fittingDictionary={}\n",
    "for libraryName in thermoLibraries:\n",
    "    thermoLibrary = database.thermo.libraries[libraryName]"
   ]
  },
  {
   "cell_type": "code",
   "execution_count": 6,
   "metadata": {
    "collapsed": false
   },
   "outputs": [
    {
     "name": "stdout",
     "output_type": "stream",
     "text": [
      "pdt7\n",
      "Species has 2 resonance isomers\n",
      "Molecule [CH]1C=CC2C1C1CC=CC21 has a single polycyclic group match in thermo estimate.\n"
     ]
    },
    {
     "data": {
      "image/png": "[encoded data removed]",
      "text/plain": [
       "Molecule(SMILES=\"[CH]1C=CC2C1C1CC=CC21\")"
      ]
     },
     "metadata": {},
     "output_type": "display_data"
    },
    {
     "name": "stdout",
     "output_type": "stream",
     "text": [
      "Molecule SMILES: [CH]1C=CC2C1C1CC=CC21\n",
      "Estimated thermo data:\n",
      "ThermoData(\n",
      "    Tdata = ([300, 400, 500, 600, 800, 1000, 1500], 'K'),\n",
      "    Cpdata = ([178.824, 233.635, 279.575, 314.386, 367.481, 402.082, 452.918], 'J/(mol*K)'),\n",
      "    H298 = (201.991, 'kJ/mol'),\n",
      "    S298 = (0.6276, 'J/(mol*K)'),\n",
      "    comment = 'Thermo group additivity estimation: group(Cs-CsCsCsH) + other(R) + group(Cs-CsCsCsH) + other(R) + group(Cs-(Cds-Cds)CsCsH) + other(R) + group(Cs-(Cds-Cds)CsCsH) + other(R) + group(Cs-(Cds-Cds)CsHH) + other(R) + group(Cs-(Cds-Cds)CsHH) + other(R) + group(Cds-CdsCsH) + other(R) + group(Cds-CdsCsH) + other(R) + group(Cds-CdsCsH) + other(R) + group(Cds-CdsCsH) + other(R) + polycyclic(PolycyclicRing) + radical(cyclopentene-allyl)',\n",
      ")\n",
      "H298 = 48.277 kcal/mol\n",
      "S298 = 0.15 cal/mol*K\n",
      "Polycyclic group was found to be generic \"PolycyclicRing\". Creating new entry for [CH]1C=CC2C1C1CC=CC21.\n",
      "Molecule [CH]1C=CC2C1C1C=CCC21 has a single polycyclic group match in thermo estimate.\n"
     ]
    },
    {
     "data": {
      "image/png": "[encoded data removed]",
      "text/plain": [
       "Molecule(SMILES=\"[CH]1C=CC2C1C1C=CCC21\")"
      ]
     },
     "metadata": {},
     "output_type": "display_data"
    },
    {
     "name": "stdout",
     "output_type": "stream",
     "text": [
      "Molecule SMILES: [CH]1C=CC2C1C1C=CCC21\n",
      "Estimated thermo data:\n",
      "ThermoData(\n",
      "    Tdata = ([300, 400, 500, 600, 800, 1000, 1500], 'K'),\n",
      "    Cpdata = ([178.824, 233.635, 279.575, 314.386, 367.481, 402.082, 452.918], 'J/(mol*K)'),\n",
      "    H298 = (201.991, 'kJ/mol'),\n",
      "    S298 = (0.6276, 'J/(mol*K)'),\n",
      "    comment = 'Thermo group additivity estimation: group(Cs-CsCsCsH) + other(R) + group(Cs-CsCsCsH) + other(R) + group(Cs-(Cds-Cds)CsCsH) + other(R) + group(Cs-(Cds-Cds)CsCsH) + other(R) + group(Cs-(Cds-Cds)CsHH) + other(R) + group(Cs-(Cds-Cds)CsHH) + other(R) + group(Cds-CdsCsH) + other(R) + group(Cds-CdsCsH) + other(R) + group(Cds-CdsCsH) + other(R) + group(Cds-CdsCsH) + other(R) + polycyclic(PolycyclicRing) + radical(cyclopentene-allyl)',\n",
      ")\n",
      "H298 = 48.277 kcal/mol\n",
      "S298 = 0.15 cal/mol*K\n",
      "Polycyclic group was found to be generic \"PolycyclicRing\". Creating new entry for [CH]1C=CC2C1C1C=CCC21.\n",
      "=====================\n",
      "pdt8\n",
      "Species has 3 resonance isomers\n",
      "Molecule [CH]1C=CC2C=CCC2C=C1 has a single polycyclic group match in thermo estimate.\n"
     ]
    },
    {
     "data": {
      "image/png": "[encoded data removed]",
      "text/plain": [
       "Molecule(SMILES=\"[CH]1C=CC2C=CCC2C=C1\")"
      ]
     },
     "metadata": {},
     "output_type": "display_data"
    },
    {
     "name": "stdout",
     "output_type": "stream",
     "text": [
      "Molecule SMILES: [CH]1C=CC2C=CCC2C=C1\n",
      "Estimated thermo data:\n",
      "ThermoData(\n",
      "    Tdata = ([300, 400, 500, 600, 800, 1000, 1500], 'K'),\n",
      "    Cpdata = ([176.105, 227.317, 270.747, 304.888, 356.184, 391.413, 445.178], 'J/(mol*K)'),\n",
      "    H298 = (266.968, 'kJ/mol'),\n",
      "    S298 = (163.385, 'J/(mol*K)'),\n",
      "    comment = 'Thermo group additivity estimation: group(Cs-(Cds-Cds)CsCsH) + other(R) + group(Cs-(Cds-Cds)(Cds-Cds)CsH) + other(R) + group(Cs-(Cds-Cds)CsHH) + other(R) + group(Cs-(Cds-Cds)(Cds-Cds)HH) + other(R) + group(Cds-CdsCsH) + other(R) + group(Cds-CdsCsH) + other(R) + group(Cds-CdsCsH) + other(R) + group(Cds-CdsCsH) + other(R) + group(Cds-CdsCsH) + other(R) + group(Cds-CdsCsH) + other(R) + polycyclic(PolycyclicRing) + radical(C=CCJC=C)',\n",
      ")\n",
      "H298 = 63.807 kcal/mol\n",
      "S298 = 39.05 cal/mol*K\n",
      "Polycyclic group was found to be generic \"PolycyclicRing\". Creating new entry for [CH]1C=CC2C=CCC2C=C1.\n",
      "Molecule [CH]1C=CC=CC2C=CCC12 has a single polycyclic group match in thermo estimate.\n"
     ]
    },
    {
     "data": {
      "image/png": "[encoded data removed]",
      "text/plain": [
       "Molecule(SMILES=\"[CH]1C=CC=CC2C=CCC12\")"
      ]
     },
     "metadata": {},
     "output_type": "display_data"
    },
    {
     "name": "stdout",
     "output_type": "stream",
     "text": [
      "Molecule SMILES: [CH]1C=CC=CC2C=CCC12\n",
      "Estimated thermo data:\n",
      "ThermoData(\n",
      "    Tdata = ([300, 400, 500, 600, 800, 1000, 1500], 'K'),\n",
      "    Cpdata = ([184.431, 234.89, 276.73, 309.742, 358.778, 392.585, 442.332], 'J/(mol*K)'),\n",
      "    H298 = (288.265, 'kJ/mol'),\n",
      "    S298 = (147.821, 'J/(mol*K)'),\n",
      "    comment = 'Thermo group additivity estimation: group(Cs-CsCsCsH) + other(R) + group(Cs-(Cds-Cds)(Cds-Cds)CsH) + other(R) + group(Cs-(Cds-Cds)CsHH) + other(R) + group(Cs-(Cds-Cds)CsHH) + other(R) + group(Cds-CdsCsH) + other(R) + group(Cds-CdsCsH) + other(R) + group(Cds-CdsCsH) + other(R) + group(Cds-CdsCsH) + other(R) + group(Cds-Cds(Cds-Cds)H) + other(R) + group(Cds-Cds(Cds-Cds)H) + other(R) + polycyclic(PolycyclicRing) + radical(Allyl_S)',\n",
      ")\n",
      "H298 = 68.897 kcal/mol\n",
      "S298 = 35.33 cal/mol*K\n",
      "Polycyclic group was found to be generic \"PolycyclicRing\". Creating new entry for [CH]1C=CC=CC2C=CCC12.\n",
      "Molecule [CH]1C=CC=CC2CC=CC12 has a single polycyclic group match in thermo estimate.\n"
     ]
    },
    {
     "data": {
      "image/png": "[encoded data removed]",
      "text/plain": [
       "Molecule(SMILES=\"[CH]1C=CC=CC2CC=CC12\")"
      ]
     },
     "metadata": {},
     "output_type": "display_data"
    },
    {
     "name": "stdout",
     "output_type": "stream",
     "text": [
      "Molecule SMILES: [CH]1C=CC=CC2CC=CC12\n",
      "Estimated thermo data:\n",
      "ThermoData(\n",
      "    Tdata = ([300, 400, 500, 600, 800, 1000, 1500], 'K'),\n",
      "    Cpdata = ([178.155, 231.877, 276.06, 309.114, 359.447, 393.212, 442.96], 'J/(mol*K)'),\n",
      "    H298 = (288.432, 'kJ/mol'),\n",
      "    S298 = (155.017, 'J/(mol*K)'),\n",
      "    comment = 'Thermo group additivity estimation: group(Cs-(Cds-Cds)CsCsH) + other(R) + group(Cs-(Cds-Cds)CsCsH) + other(R) + group(Cs-(Cds-Cds)CsHH) + other(R) + group(Cs-(Cds-Cds)CsHH) + other(R) + group(Cds-CdsCsH) + other(R) + group(Cds-CdsCsH) + other(R) + group(Cds-CdsCsH) + other(R) + group(Cds-CdsCsH) + other(R) + group(Cds-Cds(Cds-Cds)H) + other(R) + group(Cds-Cds(Cds-Cds)H) + other(R) + polycyclic(PolycyclicRing) + radical(Allyl_S)',\n",
      ")\n",
      "H298 = 68.937 kcal/mol\n",
      "S298 = 37.05 cal/mol*K\n",
      "Polycyclic group was found to be generic \"PolycyclicRing\". Creating new entry for [CH]1C=CC=CC2CC=CC12.\n",
      "=====================\n",
      "pdt10bis\n",
      "Species has 2 resonance isomers\n",
      "Molecule [CH]1C=CCC2C=CC=CC12 has a single polycyclic group match in thermo estimate.\n"
     ]
    },
    {
     "data": {
      "image/png": "[encoded data removed]",
      "text/plain": [
       "Molecule(SMILES=\"[CH]1C=CCC2C=CC=CC12\")"
      ]
     },
     "metadata": {},
     "output_type": "display_data"
    },
    {
     "name": "stdout",
     "output_type": "stream",
     "text": [
      "Molecule SMILES: [CH]1C=CCC2C=CC=CC12\n",
      "Estimated thermo data:\n",
      "ThermoData(\n",
      "    Tdata = ([300, 400, 500, 600, 800, 1000, 1500], 'K'),\n",
      "    Cpdata = ([178.155, 231.877, 276.06, 309.114, 359.447, 393.212, 442.96], 'J/(mol*K)'),\n",
      "    H298 = (285.922, 'kJ/mol'),\n",
      "    S298 = (155.017, 'J/(mol*K)'),\n",
      "    comment = 'Thermo group additivity estimation: group(Cs-(Cds-Cds)CsCsH) + other(R) + group(Cs-(Cds-Cds)CsCsH) + other(R) + group(Cs-(Cds-Cds)CsHH) + other(R) + group(Cs-(Cds-Cds)CsHH) + other(R) + group(Cds-CdsCsH) + other(R) + group(Cds-CdsCsH) + other(R) + group(Cds-CdsCsH) + other(R) + group(Cds-CdsCsH) + other(R) + group(Cds-Cds(Cds-Cds)H) + other(R) + group(Cds-Cds(Cds-Cds)H) + other(R) + polycyclic(PolycyclicRing) + radical(cyclohexene-allyl)',\n",
      ")\n",
      "H298 = 68.337 kcal/mol\n",
      "S298 = 37.05 cal/mol*K\n",
      "Polycyclic group was found to be generic \"PolycyclicRing\". Creating new entry for [CH]1C=CCC2C=CC=CC12.\n",
      "Molecule [CH]1C=CC2C=CC=CC2C1 has a single polycyclic group match in thermo estimate.\n"
     ]
    },
    {
     "data": {
      "image/png": "[encoded data removed]",
      "text/plain": [
       "Molecule(SMILES=\"[CH]1C=CC2C=CC=CC2C1\")"
      ]
     },
     "metadata": {},
     "output_type": "display_data"
    },
    {
     "name": "stdout",
     "output_type": "stream",
     "text": [
      "Molecule SMILES: [CH]1C=CC2C=CC=CC2C1\n",
      "Estimated thermo data:\n",
      "ThermoData(\n",
      "    Tdata = ([300, 400, 500, 600, 800, 1000, 1500], 'K'),\n",
      "    Cpdata = ([184.431, 234.89, 277.148, 309.742, 358.778, 392.585, 442.332], 'J/(mol*K)'),\n",
      "    H298 = (286.801, 'kJ/mol'),\n",
      "    S298 = (147.821, 'J/(mol*K)'),\n",
      "    comment = 'Thermo group additivity estimation: group(Cs-(Cds-Cds)CsCsH) + other(R) + group(Cs-(Cds-Cds)(Cds-Cds)CsH) + other(R) + group(Cs-CsCsHH) + other(R) + group(Cs-(Cds-Cds)CsHH) + other(R) + group(Cds-CdsCsH) + other(R) + group(Cds-CdsCsH) + other(R) + group(Cds-CdsCsH) + other(R) + group(Cds-CdsCsH) + other(R) + group(Cds-Cds(Cds-Cds)H) + other(R) + group(Cds-Cds(Cds-Cds)H) + other(R) + polycyclic(PolycyclicRing) + radical(cyclohexene-allyl)',\n",
      ")\n",
      "H298 = 68.547 kcal/mol\n",
      "S298 = 35.33 cal/mol*K\n",
      "Polycyclic group was found to be generic \"PolycyclicRing\". Creating new entry for [CH]1C=CC2C=CC=CC2C1.\n",
      "=====================\n",
      "pdt11\n",
      "Species has 1 resonance isomers\n",
      "Molecule C1=CCC2C=CC=CC2=C1 has a single polycyclic group match in thermo estimate.\n"
     ]
    },
    {
     "data": {
      "image/png": "[encoded data removed]",
      "text/plain": [
       "Molecule(SMILES=\"C1=CCC2C=CC=CC2=C1\")"
      ]
     },
     "metadata": {},
     "output_type": "display_data"
    },
    {
     "name": "stdout",
     "output_type": "stream",
     "text": [
      "Molecule SMILES: C1=CCC2C=CC=CC2=C1\n",
      "Estimated thermo data:\n",
      "ThermoData(\n",
      "    Tdata = ([300, 400, 500, 600, 800, 1000, 1500], 'K'),\n",
      "    Cpdata = ([190.037, 241.752, 281.541, 310.662, 352.376, 381.288, 424.509], 'J/(mol*K)'),\n",
      "    H298 = (226.354, 'kJ/mol'),\n",
      "    S298 = (125.562, 'J/(mol*K)'),\n",
      "    comment = 'Thermo group additivity estimation: group(Cs-(Cds-Cds)(Cds-Cds)CsH) + other(R) + group(Cs-(Cds-Cds)CsHH) + other(R) + group(Cds-Cds(Cds-Cds)Cs) + other(R) + group(Cds-CdsCsH) + other(R) + group(Cds-CdsCsH) + other(R) + group(Cds-Cds(Cds-Cds)H) + other(R) + group(Cds-Cds(Cds-Cds)H) + other(R) + group(Cds-Cds(Cds-Cds)H) + other(R) + group(Cds-Cds(Cds-Cds)H) + other(R) + group(Cds-Cds(Cds-Cds)H) + other(R) + polycyclic(PolycyclicRing)',\n",
      ")\n",
      "H298 = 54.1 kcal/mol\n",
      "S298 = 30.01 cal/mol*K\n",
      "Polycyclic group was found to be generic \"PolycyclicRing\". Creating new entry for C1=CCC2C=CC=CC2=C1.\n",
      "=====================\n",
      "pdt17\n",
      "Species has 2 resonance isomers\n",
      "Molecule [CH]1C=CC2(C=CC=CC2)C1 has a single polycyclic group match in thermo estimate.\n"
     ]
    },
    {
     "data": {
      "image/png": "[encoded data removed]",
      "text/plain": [
       "Molecule(SMILES=\"[CH]1C=CC2(C=CC=CC2)C1\")"
      ]
     },
     "metadata": {},
     "output_type": "display_data"
    },
    {
     "name": "stdout",
     "output_type": "stream",
     "text": [
      "Molecule SMILES: [CH]1C=CC2(C=CC=CC2)C1\n",
      "Estimated thermo data:\n",
      "ThermoData(\n",
      "    Tdata = ([300, 400, 500, 600, 800, 1000, 1500], 'K'),\n",
      "    Cpdata = ([183.05, 236.773, 280.244, 314.26, 363.924, 397.062, 442.625], 'J/(mol*K)'),\n",
      "    H298 = (273.412, 'kJ/mol'),\n",
      "    S298 = (146.984, 'J/(mol*K)'),\n",
      "    comment = 'Thermo group additivity estimation: group(Cs-(Cds-Cds)(Cds-Cds)CsCs) + other(R) + group(Cs-CsCsHH) + other(R) + group(Cs-(Cds-Cds)CsHH) + other(R) + group(Cs-(Cds-Cds)CsHH) + other(R) + group(Cds-CdsCsH) + other(R) + group(Cds-CdsCsH) + other(R) + group(Cds-CdsCsH) + other(R) + group(Cds-CdsCsH) + other(R) + group(Cds-Cds(Cds-Cds)H) + other(R) + group(Cds-Cds(Cds-Cds)H) + other(R) + polycyclic(PolycyclicRing) + radical(cyclopentene-allyl)',\n",
      ")\n",
      "H298 = 65.347 kcal/mol\n",
      "S298 = 35.13 cal/mol*K\n",
      "Polycyclic group was found to be generic \"PolycyclicRing\". Creating new entry for [CH]1C=CC2(C=CC=CC2)C1.\n",
      "Molecule [CH]1C=CCC12C=CC=CC2 has a single polycyclic group match in thermo estimate.\n"
     ]
    },
    {
     "data": {
      "image/png": "[encoded data removed]",
      "text/plain": [
       "Molecule(SMILES=\"[CH]1C=CCC12C=CC=CC2\")"
      ]
     },
     "metadata": {},
     "output_type": "display_data"
    },
    {
     "name": "stdout",
     "output_type": "stream",
     "text": [
      "Molecule SMILES: [CH]1C=CCC12C=CC=CC2\n",
      "Estimated thermo data:\n",
      "ThermoData(\n",
      "    Tdata = ([300, 400, 500, 600, 800, 1000, 1500], 'K'),\n",
      "    Cpdata = ([181.46, 236.396, 280.537, 314.846, 364.552, 397.647, 443.086], 'J/(mol*K)'),\n",
      "    H298 = (274.123, 'kJ/mol'),\n",
      "    S298 = (148.574, 'J/(mol*K)'),\n",
      "    comment = 'Thermo group additivity estimation: group(Cs-(Cds-Cds)CsCsCs) + other(R) + group(Cs-(Cds-Cds)CsHH) + other(R) + group(Cs-(Cds-Cds)CsHH) + other(R) + group(Cs-(Cds-Cds)CsHH) + other(R) + group(Cds-CdsCsH) + other(R) + group(Cds-CdsCsH) + other(R) + group(Cds-CdsCsH) + other(R) + group(Cds-CdsCsH) + other(R) + group(Cds-Cds(Cds-Cds)H) + other(R) + group(Cds-Cds(Cds-Cds)H) + other(R) + polycyclic(PolycyclicRing) + radical(cyclopentene-allyl)',\n",
      ")\n",
      "H298 = 65.517 kcal/mol\n",
      "S298 = 35.51 cal/mol*K\n",
      "Polycyclic group was found to be generic \"PolycyclicRing\". Creating new entry for [CH]1C=CCC12C=CC=CC2.\n",
      "=====================\n",
      "pdt19\n",
      "Species has 2 resonance isomers\n",
      "Molecule [CH]1C=CC2CC=CC=C2C1 has a single polycyclic group match in thermo estimate.\n"
     ]
    },
    {
     "data": {
      "image/png": "[encoded data removed]",
      "text/plain": [
       "Molecule(SMILES=\"[CH]1C=CC2CC=CC=C2C1\")"
      ]
     },
     "metadata": {},
     "output_type": "display_data"
    },
    {
     "name": "stdout",
     "output_type": "stream",
     "text": [
      "Molecule SMILES: [CH]1C=CC2CC=CC=C2C1\n",
      "Estimated thermo data:\n",
      "ThermoData(\n",
      "    Tdata = ([300, 400, 500, 600, 800, 1000, 1500], 'K'),\n",
      "    Cpdata = ([186.606, 236.731, 278.11, 310.578, 359.029, 392.836, 442.04], 'J/(mol*K)'),\n",
      "    H298 = (281.11, 'kJ/mol'),\n",
      "    S298 = (152.842, 'J/(mol*K)'),\n",
      "    comment = 'Thermo group additivity estimation: group(Cs-(Cds-Cds)(Cds-Cds)CsH) + other(R) + group(Cs-(Cds-Cds)CsHH) + other(R) + group(Cs-(Cds-Cds)CsHH) + other(R) + group(Cs-(Cds-Cds)CsHH) + other(R) + group(Cds-CdsCsCs) + other(R) + group(Cds-CdsCsH) + other(R) + group(Cds-CdsCsH) + other(R) + group(Cds-CdsCsH) + other(R) + group(Cds-Cds(Cds-Cds)H) + other(R) + group(Cds-Cds(Cds-Cds)H) + other(R) + polycyclic(PolycyclicRing) + radical(cyclohexene-allyl)',\n",
      ")\n",
      "H298 = 67.187 kcal/mol\n",
      "S298 = 36.53 cal/mol*K\n",
      "Polycyclic group was found to be generic \"PolycyclicRing\". Creating new entry for [CH]1C=CC2CC=CC=C2C1.\n",
      "Molecule [CH]1C=CCC2=CC=CCC12 has a single polycyclic group match in thermo estimate.\n"
     ]
    },
    {
     "data": {
      "image/png": "[encoded data removed]",
      "text/plain": [
       "Molecule(SMILES=\"[CH]1C=CCC2=CC=CCC12\")"
      ]
     },
     "metadata": {},
     "output_type": "display_data"
    },
    {
     "name": "stdout",
     "output_type": "stream",
     "text": [
      "Molecule SMILES: [CH]1C=CCC2=CC=CCC12\n",
      "Estimated thermo data:\n",
      "ThermoData(\n",
      "    Tdata = ([300, 400, 500, 600, 800, 1000, 1500], 'K'),\n",
      "    Cpdata = ([180.163, 233.844, 277.064, 309.825, 359.406, 393.38, 442.374], 'J/(mol*K)'),\n",
      "    H298 = (281.487, 'kJ/mol'),\n",
      "    S298 = (160.122, 'J/(mol*K)'),\n",
      "    comment = 'Thermo group additivity estimation: group(Cs-(Cds-Cds)CsCsH) + other(R) + group(Cs-(Cds-Cds)CsHH) + other(R) + group(Cs-(Cds-Cds)CsHH) + other(R) + group(Cs-(Cds-Cds)(Cds-Cds)HH) + other(R) + group(Cds-CdsCsCs) + other(R) + group(Cds-CdsCsH) + other(R) + group(Cds-CdsCsH) + other(R) + group(Cds-CdsCsH) + other(R) + group(Cds-Cds(Cds-Cds)H) + other(R) + group(Cds-Cds(Cds-Cds)H) + other(R) + polycyclic(PolycyclicRing) + radical(cyclohexene-allyl)',\n",
      ")\n",
      "H298 = 67.277 kcal/mol\n",
      "S298 = 38.27 cal/mol*K\n",
      "Polycyclic group was found to be generic \"PolycyclicRing\". Creating new entry for [CH]1C=CCC2=CC=CCC12.\n",
      "=====================\n",
      "pdt21\n",
      "Species has 4 resonance isomers\n",
      "Molecule CC1C=CC=C2[CH]C=CC21 has a single polycyclic group match in thermo estimate.\n"
     ]
    },
    {
     "data": {
      "image/png": "[encoded data removed]",
      "text/plain": [
       "Molecule(SMILES=\"CC1C=CC=C2[CH]C=CC21\")"
      ]
     },
     "metadata": {},
     "output_type": "display_data"
    },
    {
     "name": "stdout",
     "output_type": "stream",
     "text": [
      "Molecule SMILES: CC1C=CC=C2[CH]C=CC21\n",
      "Estimated thermo data:\n",
      "ThermoData(\n",
      "    Tdata = ([300, 400, 500, 600, 800, 1000, 1500], 'K'),\n",
      "    Cpdata = ([182.841, 236.019, 279.7, 312.838, 361.832, 395.597, 448.023], 'J/(mol*K)'),\n",
      "    H298 = (236.383, 'kJ/mol'),\n",
      "    S298 = (140.695, 'J/(mol*K)'),\n",
      "    comment = 'Thermo group additivity estimation: group(Cs-(Cds-Cds)CsCsH) + other(R) + group(Cs-(Cds-Cds)(Cds-Cds)CsH) + other(R) + group(Cs-(Cds-Cds)(Cds-Cds)HH) + other(R) + group(Cs-CsHHH) + other(R) + group(Cds-CdsCsCs) + other(R) + group(Cds-CdsCsH) + other(R) + group(Cds-CdsCsH) + other(R) + group(Cds-CdsCsH) + other(R) + group(Cds-Cds(Cds-Cds)H) + other(R) + group(Cds-Cds(Cds-Cds)H) + other(R) + polycyclic(PolycyclicRing) + radical(C=CCJC=C)',\n",
      ")\n",
      "H298 = 56.497 kcal/mol\n",
      "S298 = 33.6268305179 cal/mol*K\n",
      "Polycyclic group was found to be generic \"PolycyclicRing\". Creating new entry for CC1C=CC=C2[CH]C=CC21.\n",
      "Molecule CC1C=C[CH]C2=CC=CC21 has a single polycyclic group match in thermo estimate.\n"
     ]
    },
    {
     "data": {
      "image/png": "[encoded data removed]",
      "text/plain": [
       "Molecule(SMILES=\"CC1C=C[CH]C2=CC=CC21\")"
      ]
     },
     "metadata": {},
     "output_type": "display_data"
    },
    {
     "name": "stdout",
     "output_type": "stream",
     "text": [
      "Molecule SMILES: CC1C=C[CH]C2=CC=CC21\n",
      "Estimated thermo data:\n",
      "ThermoData(\n",
      "    Tdata = ([300, 400, 500, 600, 800, 1000, 1500], 'K'),\n",
      "    Cpdata = ([182.841, 236.019, 279.7, 312.838, 361.832, 395.597, 448.023], 'J/(mol*K)'),\n",
      "    H298 = (236.383, 'kJ/mol'),\n",
      "    S298 = (140.695, 'J/(mol*K)'),\n",
      "    comment = 'Thermo group additivity estimation: group(Cs-(Cds-Cds)CsCsH) + other(R) + group(Cs-(Cds-Cds)(Cds-Cds)CsH) + other(R) + group(Cs-(Cds-Cds)(Cds-Cds)HH) + other(R) + group(Cs-CsHHH) + other(R) + group(Cds-CdsCsCs) + other(R) + group(Cds-CdsCsH) + other(R) + group(Cds-CdsCsH) + other(R) + group(Cds-CdsCsH) + other(R) + group(Cds-Cds(Cds-Cds)H) + other(R) + group(Cds-Cds(Cds-Cds)H) + other(R) + polycyclic(PolycyclicRing) + radical(C=CCJC=C)',\n",
      ")\n",
      "H298 = 56.497 kcal/mol\n",
      "S298 = 33.6268305179 cal/mol*K\n",
      "Polycyclic group was found to be generic \"PolycyclicRing\". Creating new entry for CC1C=C[CH]C2=CC=CC21.\n",
      "Molecule CC1C=CC=C2C=C[CH]C21 has a single polycyclic group match in thermo estimate.\n"
     ]
    },
    {
     "data": {
      "image/png": "[encoded data removed]",
      "text/plain": [
       "Molecule(SMILES=\"CC1C=CC=C2C=C[CH]C21\")"
      ]
     },
     "metadata": {},
     "output_type": "display_data"
    },
    {
     "name": "stdout",
     "output_type": "stream",
     "text": [
      "Molecule SMILES: CC1C=CC=C2C=C[CH]C21\n",
      "Estimated thermo data:\n",
      "ThermoData(\n",
      "    Tdata = ([300, 400, 500, 600, 800, 1000, 1500], 'K'),\n",
      "    Cpdata = ([184.891, 240.58, 285.014, 317.064, 365.096, 397.396, 445.805], 'J/(mol*K)'),\n",
      "    H298 = (245.505, 'kJ/mol'),\n",
      "    S298 = (131.03, 'J/(mol*K)'),\n",
      "    comment = 'Thermo group additivity estimation: group(Cs-(Cds-Cds)CsCsH) + other(R) + group(Cs-(Cds-Cds)CsCsH) + other(R) + group(Cs-(Cds-Cds)CsHH) + other(R) + group(Cs-CsHHH) + other(R) + group(Cds-Cds(Cds-Cds)Cs) + other(R) + group(Cds-CdsCsH) + other(R) + group(Cds-CdsCsH) + other(R) + group(Cds-Cds(Cds-Cds)H) + other(R) + group(Cds-Cds(Cds-Cds)H) + other(R) + group(Cds-Cds(Cds-Cds)H) + other(R) + polycyclic(PolycyclicRing) + radical(cyclopentene-allyl)',\n",
      ")\n",
      "H298 = 58.677 kcal/mol\n",
      "S298 = 31.3168305179 cal/mol*K\n",
      "Polycyclic group was found to be generic \"PolycyclicRing\". Creating new entry for CC1C=CC=C2C=C[CH]C21.\n",
      "Molecule CC1[CH]C=CC2=CC=CC21 has a single polycyclic group match in thermo estimate.\n"
     ]
    },
    {
     "data": {
      "image/png": "[encoded data removed]",
      "text/plain": [
       "Molecule(SMILES=\"CC1[CH]C=CC2=CC=CC21\")"
      ]
     },
     "metadata": {},
     "output_type": "display_data"
    },
    {
     "name": "stdout",
     "output_type": "stream",
     "text": [
      "Molecule SMILES: CC1[CH]C=CC2=CC=CC21\n",
      "Estimated thermo data:\n",
      "ThermoData(\n",
      "    Tdata = ([300, 400, 500, 600, 800, 1000, 1500], 'K'),\n",
      "    Cpdata = ([191.167, 243.592, 285.684, 317.691, 364.426, 396.769, 445.178], 'J/(mol*K)'),\n",
      "    H298 = (256.634, 'kJ/mol'),\n",
      "    S298 = (123.833, 'J/(mol*K)'),\n",
      "    comment = 'Thermo group additivity estimation: group(Cs-CsCsCsH) + other(R) + group(Cs-(Cds-Cds)(Cds-Cds)CsH) + other(R) + group(Cs-(Cds-Cds)CsHH) + other(R) + group(Cs-CsHHH) + other(R) + group(Cds-Cds(Cds-Cds)Cs) + other(R) + group(Cds-CdsCsH) + other(R) + group(Cds-CdsCsH) + other(R) + group(Cds-Cds(Cds-Cds)H) + other(R) + group(Cds-Cds(Cds-Cds)H) + other(R) + group(Cds-Cds(Cds-Cds)H) + other(R) + polycyclic(PolycyclicRing) + radical(cyclohexene-allyl)',\n",
      ")\n",
      "H298 = 61.337 kcal/mol\n",
      "S298 = 29.5968305179 cal/mol*K\n",
      "Polycyclic group was found to be generic \"PolycyclicRing\". Creating new entry for CC1[CH]C=CC2=CC=CC21.\n",
      "=====================\n",
      "pdt22\n",
      "Species has 1 resonance isomers\n",
      "Molecule C1C=CC2C=CC=C2C=1 has a single polycyclic group match in thermo estimate.\n"
     ]
    },
    {
     "data": {
      "image/png": "[encoded data removed]",
      "text/plain": [
       "Molecule(SMILES=\"C1C=CC2C=CC=C2C=1\")"
      ]
     },
     "metadata": {},
     "output_type": "display_data"
    },
    {
     "name": "stdout",
     "output_type": "stream",
     "text": [
      "Molecule SMILES: C1C=CC2C=CC=C2C=1\n",
      "Estimated thermo data:\n",
      "ThermoData(\n",
      "    Tdata = ([300, 400, 500, 600, 800, 1000, 1500], 'K'),\n",
      "    Cpdata = ([165.394, 210.623, 244.471, 268.864, 303.8, 327.9, 364.385], 'J/(mol*K)'),\n",
      "    H298 = (252.588, 'kJ/mol'),\n",
      "    S298 = (89.6213, 'J/(mol*K)'),\n",
      "    comment = 'Thermo group additivity estimation: group(Cs-(Cds-Cds)(Cds-Cds)(Cds-Cds)H) + other(R) + group(Cds-Cds(Cds-Cds)Cs) + other(R) + group(Cds-CdsCsH) + other(R) + group(Cds-CdsCsH) + other(R) + group(Cds-Cds(Cds-Cds)H) + other(R) + group(Cds-Cds(Cds-Cds)H) + other(R) + group(Cds-Cds(Cds-Cds)H) + other(R) + group(Cds-Cds(Cds-Cds)H) + other(R) + group(Cds-Cds(Cds-Cds)H) + other(R) + polycyclic(PolycyclicRing)',\n",
      ")\n",
      "H298 = 60.37 kcal/mol\n",
      "S298 = 21.42 cal/mol*K\n",
      "Polycyclic group was found to be generic \"PolycyclicRing\". Creating new entry for C1C=CC2C=CC=C2C=1.\n",
      "=====================\n",
      "pdt23\n",
      "Species has 2 resonance isomers\n",
      "Molecule [CH]1C=CC2C=CC=CCC12 has a single polycyclic group match in thermo estimate.\n"
     ]
    },
    {
     "data": {
      "image/png": "[encoded data removed]",
      "text/plain": [
       "Molecule(SMILES=\"[CH]1C=CC2C=CC=CCC12\")"
      ]
     },
     "metadata": {},
     "output_type": "display_data"
    },
    {
     "name": "stdout",
     "output_type": "stream",
     "text": [
      "Molecule SMILES: [CH]1C=CC2C=CC=CCC12\n",
      "Estimated thermo data:\n",
      "ThermoData(\n",
      "    Tdata = ([300, 400, 500, 600, 800, 1000, 1500], 'K'),\n",
      "    Cpdata = ([184.431, 234.89, 276.73, 309.742, 358.778, 392.585, 442.332], 'J/(mol*K)'),\n",
      "    H298 = (274.458, 'kJ/mol'),\n",
      "    S298 = (147.821, 'J/(mol*K)'),\n",
      "    comment = 'Thermo group additivity estimation: group(Cs-CsCsCsH) + other(R) + group(Cs-(Cds-Cds)(Cds-Cds)CsH) + other(R) + group(Cs-(Cds-Cds)CsHH) + other(R) + group(Cs-(Cds-Cds)CsHH) + other(R) + group(Cds-CdsCsH) + other(R) + group(Cds-CdsCsH) + other(R) + group(Cds-CdsCsH) + other(R) + group(Cds-CdsCsH) + other(R) + group(Cds-Cds(Cds-Cds)H) + other(R) + group(Cds-Cds(Cds-Cds)H) + other(R) + polycyclic(PolycyclicRing) + radical(cyclopentene-allyl)',\n",
      ")\n",
      "H298 = 65.597 kcal/mol\n",
      "S298 = 35.33 cal/mol*K\n",
      "Polycyclic group was found to be generic \"PolycyclicRing\". Creating new entry for [CH]1C=CC2C=CC=CCC12.\n",
      "Molecule [CH]1C=CC2CC=CC=CC12 has a single polycyclic group match in thermo estimate.\n"
     ]
    },
    {
     "data": {
      "image/png": "[encoded data removed]",
      "text/plain": [
       "Molecule(SMILES=\"[CH]1C=CC2CC=CC=CC12\")"
      ]
     },
     "metadata": {},
     "output_type": "display_data"
    },
    {
     "name": "stdout",
     "output_type": "stream",
     "text": [
      "Molecule SMILES: [CH]1C=CC2CC=CC=CC12\n",
      "Estimated thermo data:\n",
      "ThermoData(\n",
      "    Tdata = ([300, 400, 500, 600, 800, 1000, 1500], 'K'),\n",
      "    Cpdata = ([178.155, 231.877, 276.06, 309.114, 359.447, 393.212, 442.96], 'J/(mol*K)'),\n",
      "    H298 = (274.625, 'kJ/mol'),\n",
      "    S298 = (155.017, 'J/(mol*K)'),\n",
      "    comment = 'Thermo group additivity estimation: group(Cs-(Cds-Cds)CsCsH) + other(R) + group(Cs-(Cds-Cds)CsCsH) + other(R) + group(Cs-(Cds-Cds)CsHH) + other(R) + group(Cs-(Cds-Cds)CsHH) + other(R) + group(Cds-CdsCsH) + other(R) + group(Cds-CdsCsH) + other(R) + group(Cds-CdsCsH) + other(R) + group(Cds-CdsCsH) + other(R) + group(Cds-Cds(Cds-Cds)H) + other(R) + group(Cds-Cds(Cds-Cds)H) + other(R) + polycyclic([CH]1C=CC2C=CCC2C=C1) + radical(cyclopentene-allyl)',\n",
      ")\n",
      "H298 = 65.637 kcal/mol\n",
      "S298 = 37.05 cal/mol*K\n",
      "Matched polycyclic group \"[CH]1C=CC2C=CCC2C=C1\"\n",
      "=====================\n",
      "pdt24\n",
      "Species has 2 resonance isomers\n",
      "Molecule [CH]1C=CCC23CC=CC2C13 has a single polycyclic group match in thermo estimate.\n"
     ]
    },
    {
     "data": {
      "image/png": "[encoded data removed]",
      "text/plain": [
       "Molecule(SMILES=\"[CH]1C=CCC23CC=CC2C13\")"
      ]
     },
     "metadata": {},
     "output_type": "display_data"
    },
    {
     "name": "stdout",
     "output_type": "stream",
     "text": [
      "Molecule SMILES: [CH]1C=CCC23CC=CC2C13\n",
      "Estimated thermo data:\n",
      "ThermoData(\n",
      "    Tdata = ([300, 400, 500, 600, 800, 1000, 1500], 'K'),\n",
      "    Cpdata = ([182.13, 238.153, 284.47, 320.118, 372.585, 406.266, 453.044], 'J/(mol*K)'),\n",
      "    H298 = (209.606, 'kJ/mol'),\n",
      "    S298 = (-5.81576, 'J/(mol*K)'),\n",
      "    comment = 'Thermo group additivity estimation: group(Cs-CsCsCsCs) + other(R) + group(Cs-CsCsCsH) + other(R) + group(Cs-(Cds-Cds)CsCsH) + other(R) + group(Cs-(Cds-Cds)CsHH) + other(R) + group(Cs-(Cds-Cds)CsHH) + other(R) + group(Cs-(Cds-Cds)CsHH) + other(R) + group(Cds-CdsCsH) + other(R) + group(Cds-CdsCsH) + other(R) + group(Cds-CdsCsH) + other(R) + group(Cds-CdsCsH) + other(R) + polycyclic(PolycyclicRing) + radical(cyclohexene-allyl)',\n",
      ")\n",
      "H298 = 50.097 kcal/mol\n",
      "S298 = -1.39 cal/mol*K\n",
      "Polycyclic group was found to be generic \"PolycyclicRing\". Creating new entry for [CH]1C=CCC23CC=CC2C13.\n",
      "Molecule [CH]1C=CC2C3C=CCC23C1 has a single polycyclic group match in thermo estimate.\n"
     ]
    },
    {
     "data": {
      "image/png": "[encoded data removed]",
      "text/plain": [
       "Molecule(SMILES=\"[CH]1C=CC2C3C=CCC23C1\")"
      ]
     },
     "metadata": {},
     "output_type": "display_data"
    },
    {
     "name": "stdout",
     "output_type": "stream",
     "text": [
      "Molecule SMILES: [CH]1C=CC2C3C=CCC23C1\n",
      "Estimated thermo data:\n",
      "ThermoData(\n",
      "    Tdata = ([300, 400, 500, 600, 800, 1000, 1500], 'K'),\n",
      "    Cpdata = ([182.13, 238.153, 284.889, 320.118, 372.585, 406.266, 453.044], 'J/(mol*K)'),\n",
      "    H298 = (210.652, 'kJ/mol'),\n",
      "    S298 = (-5.81576, 'J/(mol*K)'),\n",
      "    comment = 'Thermo group additivity estimation: group(Cs-CsCsCsCs) + other(R) + group(Cs-(Cds-Cds)CsCsH) + other(R) + group(Cs-(Cds-Cds)CsCsH) + other(R) + group(Cs-CsCsHH) + other(R) + group(Cs-(Cds-Cds)CsHH) + other(R) + group(Cs-(Cds-Cds)CsHH) + other(R) + group(Cds-CdsCsH) + other(R) + group(Cds-CdsCsH) + other(R) + group(Cds-CdsCsH) + other(R) + group(Cds-CdsCsH) + other(R) + polycyclic(PolycyclicRing) + radical(cyclohexene-allyl)',\n",
      ")\n",
      "H298 = 50.347 kcal/mol\n",
      "S298 = -1.39 cal/mol*K\n",
      "Polycyclic group was found to be generic \"PolycyclicRing\". Creating new entry for [CH]1C=CC2C3C=CCC23C1.\n",
      "=====================\n",
      "pdt26\n",
      "Species has 1 resonance isomers\n",
      "Molecule C1=CCC2=CC=CCC2=C1 has a single polycyclic group match in thermo estimate.\n"
     ]
    },
    {
     "data": {
      "image/png": "[encoded data removed]",
      "text/plain": [
       "Molecule(SMILES=\"C1=CCC2=CC=CCC2=C1\")"
      ]
     },
     "metadata": {},
     "output_type": "display_data"
    },
    {
     "name": "stdout",
     "output_type": "stream",
     "text": [
      "Molecule SMILES: C1=CCC2=CC=CCC2=C1\n",
      "Estimated thermo data:\n",
      "ThermoData(\n",
      "    Tdata = ([300, 400, 500, 600, 800, 1000, 1500], 'K'),\n",
      "    Cpdata = ([185.602, 240.831, 281.5, 310.62, 352.711, 381.999, 424.258], 'J/(mol*K)'),\n",
      "    H298 = (223.76, 'kJ/mol'),\n",
      "    S298 = (136.649, 'J/(mol*K)'),\n",
      "    comment = 'Thermo group additivity estimation: group(Cs-(Cds-Cds)(Cds-Cds)HH) + other(R) + group(Cs-(Cds-Cds)(Cds-Cds)HH) + other(R) + group(Cds-Cds(Cds-Cds)Cs) + other(R) + group(Cds-Cds(Cds-Cds)Cs) + other(R) + group(Cds-CdsCsH) + other(R) + group(Cds-CdsCsH) + other(R) + group(Cds-Cds(Cds-Cds)H) + other(R) + group(Cds-Cds(Cds-Cds)H) + other(R) + group(Cds-Cds(Cds-Cds)H) + other(R) + group(Cds-Cds(Cds-Cds)H) + other(R) + polycyclic(PolycyclicRing)',\n",
      ")\n",
      "H298 = 53.48 kcal/mol\n",
      "S298 = 32.66 cal/mol*K\n",
      "Polycyclic group was found to be generic \"PolycyclicRing\". Creating new entry for C1=CCC2=CC=CCC2=C1.\n",
      "=====================\n",
      "pdt27\n",
      "Species has 3 resonance isomers\n",
      "Molecule CC1C=C[CH]C2C=CCC=21 has a single polycyclic group match in thermo estimate.\n"
     ]
    },
    {
     "data": {
      "image/png": "[encoded data removed]",
      "text/plain": [
       "Molecule(SMILES=\"CC1C=C[CH]C2C=CCC=21\")"
      ]
     },
     "metadata": {},
     "output_type": "display_data"
    },
    {
     "name": "stdout",
     "output_type": "stream",
     "text": [
      "Molecule SMILES: CC1C=C[CH]C2C=CCC=21\n",
      "Estimated thermo data:\n",
      "ThermoData(\n",
      "    Tdata = ([300, 400, 500, 600, 800, 1000, 1500], 'K'),\n",
      "    Cpdata = ([184.849, 237.986, 280.705, 313.549, 361.79, 395.765, 447.437], 'J/(mol*K)'),\n",
      "    H298 = (233.413, 'kJ/mol'),\n",
      "    S298 = (144.502, 'J/(mol*K)'),\n",
      "    comment = 'Thermo group additivity estimation: group(Cs-(Cds-Cds)(Cds-Cds)CsH) + other(R) + group(Cs-(Cds-Cds)(Cds-Cds)HH) + other(R) + group(Cs-(Cds-Cds)(Cds-Cds)HH) + other(R) + group(Cs-CsHHH) + other(R) + group(Cds-CdsCsCs) + other(R) + group(Cds-Cds(Cds-Cds)Cs) + other(R) + group(Cds-CdsCsH) + other(R) + group(Cds-CdsCsH) + other(R) + group(Cds-CdsCsH) + other(R) + group(Cds-Cds(Cds-Cds)H) + other(R) + polycyclic(PolycyclicRing) + radical(C=CCJC=C)',\n",
      ")\n",
      "H298 = 55.787 kcal/mol\n",
      "S298 = 34.5368305179 cal/mol*K\n",
      "Polycyclic group was found to be generic \"PolycyclicRing\". Creating new entry for CC1C=C[CH]C2C=CCC=21.\n",
      "Molecule CC1C=CC=C2C=CC[C]21 has a single polycyclic group match in thermo estimate.\n"
     ]
    },
    {
     "data": {
      "image/png": "[encoded data removed]",
      "text/plain": [
       "Molecule(SMILES=\"CC1C=CC=C2C=CC[C]21\")"
      ]
     },
     "metadata": {},
     "output_type": "display_data"
    },
    {
     "name": "stdout",
     "output_type": "stream",
     "text": [
      "Molecule SMILES: CC1C=CC=C2C=CC[C]21\n",
      "Estimated thermo data:\n",
      "ThermoData(\n",
      "    Tdata = ([300, 400, 500, 600, 800, 1000, 1500], 'K'),\n",
      "    Cpdata = ([183.845, 238.237, 282.253, 314.344, 362.878, 395.681, 447.06], 'J/(mol*K)'),\n",
      "    H298 = (250.107, 'kJ/mol'),\n",
      "    S298 = (131.532, 'J/(mol*K)'),\n",
      "    comment = 'Thermo group additivity estimation: group(Cs-(Cds-Cds)CsCsH) + other(R) + group(Cs-(Cds-Cds)CsCsH) + other(R) + group(Cs-(Cds-Cds)CsHH) + other(R) + group(Cs-CsHHH) + other(R) + group(Cds-Cds(Cds-Cds)Cs) + other(R) + group(Cds-CdsCsH) + other(R) + group(Cds-CdsCsH) + other(R) + group(Cds-Cds(Cds-Cds)H) + other(R) + group(Cds-Cds(Cds-Cds)H) + other(R) + group(Cds-Cds(Cds-Cds)H) + other(R) + polycyclic(PolycyclicRing) + radical(Allyl_T)',\n",
      ")\n",
      "H298 = 59.777 kcal/mol\n",
      "S298 = 31.4368305179 cal/mol*K\n",
      "Polycyclic group was found to be generic \"PolycyclicRing\". Creating new entry for CC1C=CC=C2C=CC[C]21.\n",
      "Molecule CC1[CH]C=CC2C=CCC=21 has a single polycyclic group match in thermo estimate.\n"
     ]
    },
    {
     "data": {
      "image/png": "[encoded data removed]",
      "text/plain": [
       "Molecule(SMILES=\"CC1[CH]C=CC2C=CCC=21\")"
      ]
     },
     "metadata": {},
     "output_type": "display_data"
    },
    {
     "name": "stdout",
     "output_type": "stream",
     "text": [
      "Molecule SMILES: CC1[CH]C=CC2C=CCC=21\n",
      "Estimated thermo data:\n",
      "ThermoData(\n",
      "    Tdata = ([300, 400, 500, 600, 800, 1000, 1500], 'K'),\n",
      "    Cpdata = ([175.184, 228.154, 271.918, 305.976, 358.234, 393.589, 446.433], 'J/(mol*K)'),\n",
      "    H298 = (273.83, 'kJ/mol'),\n",
      "    S298 = (138.31, 'J/(mol*K)'),\n",
      "    comment = 'Thermo group additivity estimation: group(Cs-(Cds-Cds)CsCsH) + other(R) + group(Cs-(Cds-Cds)CsHH) + other(R) + group(Cs-(Cds-Cds)(Cds-Cds)HH) + other(R) + group(Cs-CsHHH) + other(R) + group(Cds-CdsCsCs) + other(R) + group(Cds-Cds(Cds-Cds)(Cds-Cds)) + other(R) + group(Cds-CdsCsH) + other(R) + group(Cds-CdsCsH) + other(R) + group(Cds-Cds(Cds-Cds)H) + other(R) + group(Cds-Cds(Cds-Cds)H) + other(R) + polycyclic(PolycyclicRing) + radical(Allyl_S)',\n",
      ")\n",
      "H298 = 65.447 kcal/mol\n",
      "S298 = 33.0568305179 cal/mol*K\n",
      "Polycyclic group was found to be generic \"PolycyclicRing\". Creating new entry for CC1[CH]C=CC2C=CCC=21.\n",
      "=====================\n",
      "pdt28\n",
      "Species has 1 resonance isomers\n",
      "Molecule C1C=CC2C=CC[C]2CC=1 has a single polycyclic group match in thermo estimate.\n"
     ]
    },
    {
     "data": {
      "image/png": "[encoded data removed]",
      "text/plain": [
       "Molecule(SMILES=\"C1C=CC2C=CC[C]2CC=1\")"
      ]
     },
     "metadata": {},
     "output_type": "display_data"
    },
    {
     "name": "stdout",
     "output_type": "stream",
     "text": [
      "Molecule SMILES: C1C=CC2C=CC[C]2CC=1\n",
      "Estimated thermo data:\n",
      "ThermoData(\n",
      "    Tdata = ([300, 400, 500, 600, 800, 1000, 1500], 'K'),\n",
      "    Cpdata = ([187.611, 232.128, 270.579, 302.085, 350.41, 384.719, 435.889], 'J/(mol*K)'),\n",
      "    H298 = (333.871, 'kJ/mol'),\n",
      "    S298 = (185.686, 'J/(mol*K)'),\n",
      "    comment = 'Thermo group additivity estimation: group(Cs-CsCsCsH) + other(R) + group(Cs-(Cds-Cds)(Cds-Cds)CsH) + other(R) + group(Cs-(Cds-Cds)CsHH) + other(R) + group(Cs-(Cds-Cds)CsHH) + other(R) + group(Cds-CdsCsH) + other(R) + group(Cds-CdsCsH) + other(R) + group(Cds-CdsCsH) + other(R) + group(Cds-CdsCsH) + other(R) + group(Cds-Cds(Cds-Cds)H) + other(R) + group(Cds-Cds(Cds-Cds)H) + other(R) + polycyclic(PolycyclicRing) + radical(Tertalkyl)',\n",
      ")\n",
      "H298 = 79.797 kcal/mol\n",
      "S298 = 44.38 cal/mol*K\n",
      "Polycyclic group was found to be generic \"PolycyclicRing\". Creating new entry for C1C=CC2C=CC[C]2CC=1.\n",
      "=====================\n",
      "pdt29\n",
      "Species has 4 resonance isomers\n",
      "Molecule [CH]1C=CCC2CC=CC2=C1 has a single polycyclic group match in thermo estimate.\n"
     ]
    },
    {
     "data": {
      "image/png": "[encoded data removed]",
      "text/plain": [
       "Molecule(SMILES=\"[CH]1C=CCC2CC=CC2=C1\")"
      ]
     },
     "metadata": {},
     "output_type": "display_data"
    },
    {
     "name": "stdout",
     "output_type": "stream",
     "text": [
      "Molecule SMILES: [CH]1C=CCC2CC=CC2=C1\n",
      "Estimated thermo data:\n",
      "ThermoData(\n",
      "    Tdata = ([300, 400, 500, 600, 800, 1000, 1500], 'K'),\n",
      "    Cpdata = ([177.694, 233.258, 277.901, 311.624, 361.707, 395.639, 447.604], 'J/(mol*K)'),\n",
      "    H298 = (245.295, 'kJ/mol'),\n",
      "    S298 = (157.82, 'J/(mol*K)'),\n",
      "    comment = 'Thermo group additivity estimation: group(Cs-(Cds-Cds)CsCsH) + other(R) + group(Cs-(Cds-Cds)CsHH) + other(R) + group(Cs-(Cds-Cds)CsHH) + other(R) + group(Cs-(Cds-Cds)(Cds-Cds)HH) + other(R) + group(Cds-Cds(Cds-Cds)Cs) + other(R) + group(Cds-CdsCsH) + other(R) + group(Cds-CdsCsH) + other(R) + group(Cds-CdsCsH) + other(R) + group(Cds-CdsCsH) + other(R) + group(Cds-Cds(Cds-Cds)H) + other(R) + polycyclic(PolycyclicRing) + radical(C=CCJC=C)',\n",
      ")\n",
      "H298 = 58.627 kcal/mol\n",
      "S298 = 37.72 cal/mol*K\n",
      "Polycyclic group was found to be generic \"PolycyclicRing\". Creating new entry for [CH]1C=CCC2CC=CC2=C1.\n",
      "Molecule [CH]1C=C2C=CC=CCC2C1 has a single polycyclic group match in thermo estimate.\n"
     ]
    },
    {
     "data": {
      "image/png": "[encoded data removed]",
      "text/plain": [
       "Molecule(SMILES=\"[CH]1C=C2C=CC=CCC2C1\")"
      ]
     },
     "metadata": {},
     "output_type": "display_data"
    },
    {
     "name": "stdout",
     "output_type": "stream",
     "text": [
      "Molecule SMILES: [CH]1C=C2C=CC=CCC2C1\n",
      "Estimated thermo data:\n",
      "ThermoData(\n",
      "    Tdata = ([300, 400, 500, 600, 800, 1000, 1500], 'K'),\n",
      "    Cpdata = ([186.021, 240.831, 284.303, 316.478, 364.301, 396.811, 444.759], 'J/(mol*K)'),\n",
      "    H298 = (253.831, 'kJ/mol'),\n",
      "    S298 = (142.256, 'J/(mol*K)'),\n",
      "    comment = 'Thermo group additivity estimation: group(Cs-(Cds-Cds)CsCsH) + other(R) + group(Cs-CsCsHH) + other(R) + group(Cs-(Cds-Cds)CsHH) + other(R) + group(Cs-(Cds-Cds)CsHH) + other(R) + group(Cds-Cds(Cds-Cds)Cs) + other(R) + group(Cds-CdsCsH) + other(R) + group(Cds-CdsCsH) + other(R) + group(Cds-Cds(Cds-Cds)H) + other(R) + group(Cds-Cds(Cds-Cds)H) + other(R) + group(Cds-Cds(Cds-Cds)H) + other(R) + polycyclic(PolycyclicRing) + radical(cyclopentene-allyl)',\n",
      ")\n",
      "H298 = 60.667 kcal/mol\n",
      "S298 = 34.0 cal/mol*K\n",
      "Polycyclic group was found to be generic \"PolycyclicRing\". Creating new entry for [CH]1C=C2C=CC=CCC2C1.\n",
      "Molecule [CH]1C=CC=C2C=CCC2C1 has a single polycyclic group match in thermo estimate.\n"
     ]
    },
    {
     "data": {
      "image/png": "[encoded data removed]",
      "text/plain": [
       "Molecule(SMILES=\"[CH]1C=CC=C2C=CCC2C1\")"
      ]
     },
     "metadata": {},
     "output_type": "display_data"
    },
    {
     "name": "stdout",
     "output_type": "stream",
     "text": [
      "Molecule SMILES: [CH]1C=CC=C2C=CCC2C1\n",
      "Estimated thermo data:\n",
      "ThermoData(\n",
      "    Tdata = ([300, 400, 500, 600, 800, 1000, 1500], 'K'),\n",
      "    Cpdata = ([186.021, 240.831, 284.303, 316.478, 364.301, 396.811, 444.759], 'J/(mol*K)'),\n",
      "    H298 = (267.638, 'kJ/mol'),\n",
      "    S298 = (142.256, 'J/(mol*K)'),\n",
      "    comment = 'Thermo group additivity estimation: group(Cs-(Cds-Cds)CsCsH) + other(R) + group(Cs-CsCsHH) + other(R) + group(Cs-(Cds-Cds)CsHH) + other(R) + group(Cs-(Cds-Cds)CsHH) + other(R) + group(Cds-Cds(Cds-Cds)Cs) + other(R) + group(Cds-CdsCsH) + other(R) + group(Cds-CdsCsH) + other(R) + group(Cds-Cds(Cds-Cds)H) + other(R) + group(Cds-Cds(Cds-Cds)H) + other(R) + group(Cds-Cds(Cds-Cds)H) + other(R) + polycyclic(PolycyclicRing) + radical(Allyl_S)',\n",
      ")\n",
      "H298 = 63.967 kcal/mol\n",
      "S298 = 34.0 cal/mol*K\n",
      "Polycyclic group was found to be generic \"PolycyclicRing\". Creating new entry for [CH]1C=CC=C2C=CCC2C1.\n",
      "Molecule C1C=C[C]2C=CCC2CC=1 has a single polycyclic group match in thermo estimate.\n"
     ]
    },
    {
     "data": {
      "image/png": "[encoded data removed]",
      "text/plain": [
       "Molecule(SMILES=\"C1C=C[C]2C=CCC2CC=1\")"
      ]
     },
     "metadata": {},
     "output_type": "display_data"
    },
    {
     "name": "stdout",
     "output_type": "stream",
     "text": [
      "Molecule SMILES: C1C=C[C]2C=CCC2CC=1\n",
      "Estimated thermo data:\n",
      "ThermoData(\n",
      "    Tdata = ([300, 400, 500, 600, 800, 1000, 1500], 'K'),\n",
      "    Cpdata = ([187.611, 232.128, 270.579, 302.085, 350.41, 384.719, 435.889], 'J/(mol*K)'),\n",
      "    H298 = (333.871, 'kJ/mol'),\n",
      "    S298 = (185.686, 'J/(mol*K)'),\n",
      "    comment = 'Thermo group additivity estimation: group(Cs-CsCsCsH) + other(R) + group(Cs-(Cds-Cds)(Cds-Cds)CsH) + other(R) + group(Cs-(Cds-Cds)CsHH) + other(R) + group(Cs-(Cds-Cds)CsHH) + other(R) + group(Cds-CdsCsH) + other(R) + group(Cds-CdsCsH) + other(R) + group(Cds-CdsCsH) + other(R) + group(Cds-CdsCsH) + other(R) + group(Cds-Cds(Cds-Cds)H) + other(R) + group(Cds-Cds(Cds-Cds)H) + other(R) + polycyclic(C1C=CC2C=CC[C]2CC=1) + radical(Tertalkyl)',\n",
      ")\n",
      "H298 = 79.797 kcal/mol\n",
      "S298 = 44.38 cal/mol*K\n",
      "Matched polycyclic group \"C1C=CC2C=CC[C]2CC=1\"\n",
      "=====================\n",
      "pdt30\n",
      "Species has 1 resonance isomers\n",
      "Molecule C1C=CC2=CC=CC2CC=1 has a single polycyclic group match in thermo estimate.\n"
     ]
    },
    {
     "data": {
      "image/png": "[encoded data removed]",
      "text/plain": [
       "Molecule(SMILES=\"C1C=CC2=CC=CC2CC=1\")"
      ]
     },
     "metadata": {},
     "output_type": "display_data"
    },
    {
     "name": "stdout",
     "output_type": "stream",
     "text": [
      "Molecule SMILES: C1C=CC2=CC=CC2CC=1\n",
      "Estimated thermo data:\n",
      "ThermoData(\n",
      "    Tdata = ([300, 400, 500, 600, 800, 1000, 1500], 'K'),\n",
      "    Cpdata = ([190.037, 241.752, 281.541, 310.662, 352.376, 381.288, 424.509], 'J/(mol*K)'),\n",
      "    H298 = (226.354, 'kJ/mol'),\n",
      "    S298 = (125.562, 'J/(mol*K)'),\n",
      "    comment = 'Thermo group additivity estimation: group(Cs-(Cds-Cds)(Cds-Cds)CsH) + other(R) + group(Cs-(Cds-Cds)CsHH) + other(R) + group(Cds-Cds(Cds-Cds)Cs) + other(R) + group(Cds-CdsCsH) + other(R) + group(Cds-CdsCsH) + other(R) + group(Cds-Cds(Cds-Cds)H) + other(R) + group(Cds-Cds(Cds-Cds)H) + other(R) + group(Cds-Cds(Cds-Cds)H) + other(R) + group(Cds-Cds(Cds-Cds)H) + other(R) + group(Cds-Cds(Cds-Cds)H) + other(R) + polycyclic(PolycyclicRing)',\n",
      ")\n",
      "H298 = 54.1 kcal/mol\n",
      "S298 = 30.01 cal/mol*K\n",
      "Polycyclic group was found to be generic \"PolycyclicRing\". Creating new entry for C1C=CC2=CC=CC2CC=1.\n",
      "=====================\n",
      "pdt31\n",
      "Species has 1 resonance isomers\n",
      "Molecule C1=CC=C2C=CCC2C=C1 has a single polycyclic group match in thermo estimate.\n"
     ]
    },
    {
     "data": {
      "image/png": "[encoded data removed]",
      "text/plain": [
       "Molecule(SMILES=\"C1=CC=C2C=CCC2C=C1\")"
      ]
     },
     "metadata": {},
     "output_type": "display_data"
    },
    {
     "name": "stdout",
     "output_type": "stream",
     "text": [
      "Molecule SMILES: C1=CC=C2C=CCC2C=C1\n",
      "Estimated thermo data:\n",
      "ThermoData(\n",
      "    Tdata = ([300, 400, 500, 600, 800, 1000, 1500], 'K'),\n",
      "    Cpdata = ([190.037, 241.752, 281.541, 310.662, 352.376, 381.288, 424.509], 'J/(mol*K)'),\n",
      "    H298 = (226.354, 'kJ/mol'),\n",
      "    S298 = (125.562, 'J/(mol*K)'),\n",
      "    comment = 'Thermo group additivity estimation: group(Cs-(Cds-Cds)(Cds-Cds)CsH) + other(R) + group(Cs-(Cds-Cds)CsHH) + other(R) + group(Cds-Cds(Cds-Cds)Cs) + other(R) + group(Cds-CdsCsH) + other(R) + group(Cds-CdsCsH) + other(R) + group(Cds-Cds(Cds-Cds)H) + other(R) + group(Cds-Cds(Cds-Cds)H) + other(R) + group(Cds-Cds(Cds-Cds)H) + other(R) + group(Cds-Cds(Cds-Cds)H) + other(R) + group(Cds-Cds(Cds-Cds)H) + other(R) + polycyclic(PolycyclicRing)',\n",
      ")\n",
      "H298 = 54.1 kcal/mol\n",
      "S298 = 30.01 cal/mol*K\n",
      "Polycyclic group was found to be generic \"PolycyclicRing\". Creating new entry for C1=CC=C2C=CCC2C=C1.\n",
      "=====================\n",
      "pdt32\n",
      "Species has 4 resonance isomers\n",
      "Molecule CC1C=CC2=C[CH]C=CC21 has a single polycyclic group match in thermo estimate.\n"
     ]
    },
    {
     "data": {
      "image/png": "[encoded data removed]",
      "text/plain": [
       "Molecule(SMILES=\"CC1C=CC2=C[CH]C=CC21\")"
      ]
     },
     "metadata": {},
     "output_type": "display_data"
    },
    {
     "name": "stdout",
     "output_type": "stream",
     "text": [
      "Molecule SMILES: CC1C=CC2=C[CH]C=CC21\n",
      "Estimated thermo data:\n",
      "ThermoData(\n",
      "    Tdata = ([300, 400, 500, 600, 800, 1000, 1500], 'K'),\n",
      "    Cpdata = ([182.841, 236.019, 279.7, 312.838, 361.832, 395.597, 448.023], 'J/(mol*K)'),\n",
      "    H298 = (237.848, 'kJ/mol'),\n",
      "    S298 = (139.398, 'J/(mol*K)'),\n",
      "    comment = 'Thermo group additivity estimation: group(Cs-(Cds-Cds)CsCsH) + other(R) + group(Cs-(Cds-Cds)(Cds-Cds)CsH) + other(R) + group(Cs-(Cds-Cds)(Cds-Cds)HH) + other(R) + group(Cs-CsHHH) + other(R) + group(Cds-Cds(Cds-Cds)Cs) + other(R) + group(Cds-CdsCsH) + other(R) + group(Cds-CdsCsH) + other(R) + group(Cds-CdsCsH) + other(R) + group(Cds-CdsCsH) + other(R) + group(Cds-Cds(Cds-Cds)H) + other(R) + polycyclic(PolycyclicRing) + radical(C=CCJC=C)',\n",
      ")\n",
      "H298 = 56.847 kcal/mol\n",
      "S298 = 33.3168305179 cal/mol*K\n",
      "Polycyclic group was found to be generic \"PolycyclicRing\". Creating new entry for CC1C=CC2=C[CH]C=CC21.\n",
      "Molecule CC1[CH]C=C2C=CC=CC21 has a single polycyclic group match in thermo estimate.\n"
     ]
    },
    {
     "data": {
      "image/png": "[encoded data removed]",
      "text/plain": [
       "Molecule(SMILES=\"CC1[CH]C=C2C=CC=CC21\")"
      ]
     },
     "metadata": {},
     "output_type": "display_data"
    },
    {
     "name": "stdout",
     "output_type": "stream",
     "text": [
      "Molecule SMILES: CC1[CH]C=C2C=CC=CC21\n",
      "Estimated thermo data:\n",
      "ThermoData(\n",
      "    Tdata = ([300, 400, 500, 600, 800, 1000, 1500], 'K'),\n",
      "    Cpdata = ([191.167, 243.592, 285.684, 317.691, 364.426, 396.769, 445.178], 'J/(mol*K)'),\n",
      "    H298 = (245.337, 'kJ/mol'),\n",
      "    S298 = (123.833, 'J/(mol*K)'),\n",
      "    comment = 'Thermo group additivity estimation: group(Cs-CsCsCsH) + other(R) + group(Cs-(Cds-Cds)(Cds-Cds)CsH) + other(R) + group(Cs-(Cds-Cds)CsHH) + other(R) + group(Cs-CsHHH) + other(R) + group(Cds-Cds(Cds-Cds)Cs) + other(R) + group(Cds-CdsCsH) + other(R) + group(Cds-CdsCsH) + other(R) + group(Cds-Cds(Cds-Cds)H) + other(R) + group(Cds-Cds(Cds-Cds)H) + other(R) + group(Cds-Cds(Cds-Cds)H) + other(R) + polycyclic(PolycyclicRing) + radical(cyclopentene-allyl)',\n",
      ")\n",
      "H298 = 58.637 kcal/mol\n",
      "S298 = 29.5968305179 cal/mol*K\n",
      "Polycyclic group was found to be generic \"PolycyclicRing\". Creating new entry for CC1[CH]C=C2C=CC=CC21.\n",
      "Molecule CC1C=CC2=CC=C[CH]C21 has a single polycyclic group match in thermo estimate.\n"
     ]
    },
    {
     "data": {
      "image/png": "[encoded data removed]",
      "text/plain": [
       "Molecule(SMILES=\"CC1C=CC2=CC=C[CH]C21\")"
      ]
     },
     "metadata": {},
     "output_type": "display_data"
    },
    {
     "name": "stdout",
     "output_type": "stream",
     "text": [
      "Molecule SMILES: CC1C=CC2=CC=C[CH]C21\n",
      "Estimated thermo data:\n",
      "ThermoData(\n",
      "    Tdata = ([300, 400, 500, 600, 800, 1000, 1500], 'K'),\n",
      "    Cpdata = ([184.891, 240.58, 285.014, 317.064, 365.096, 397.396, 445.805], 'J/(mol*K)'),\n",
      "    H298 = (259.312, 'kJ/mol'),\n",
      "    S298 = (131.03, 'J/(mol*K)'),\n",
      "    comment = 'Thermo group additivity estimation: group(Cs-(Cds-Cds)CsCsH) + other(R) + group(Cs-(Cds-Cds)CsCsH) + other(R) + group(Cs-(Cds-Cds)CsHH) + other(R) + group(Cs-CsHHH) + other(R) + group(Cds-Cds(Cds-Cds)Cs) + other(R) + group(Cds-CdsCsH) + other(R) + group(Cds-CdsCsH) + other(R) + group(Cds-Cds(Cds-Cds)H) + other(R) + group(Cds-Cds(Cds-Cds)H) + other(R) + group(Cds-Cds(Cds-Cds)H) + other(R) + polycyclic(PolycyclicRing) + radical(Allyl_S)',\n",
      ")\n",
      "H298 = 61.977 kcal/mol\n",
      "S298 = 31.3168305179 cal/mol*K\n",
      "Polycyclic group was found to be generic \"PolycyclicRing\". Creating new entry for CC1C=CC2=CC=C[CH]C21.\n",
      "Molecule CC1C=C[C]2C=CC=CC21 has a single polycyclic group match in thermo estimate.\n"
     ]
    },
    {
     "data": {
      "image/png": "[encoded data removed]",
      "text/plain": [
       "Molecule(SMILES=\"CC1C=C[C]2C=CC=CC21\")"
      ]
     },
     "metadata": {},
     "output_type": "display_data"
    },
    {
     "name": "stdout",
     "output_type": "stream",
     "text": [
      "Molecule SMILES: CC1C=C[C]2C=CC=CC21\n",
      "Estimated thermo data:\n",
      "ThermoData(\n",
      "    Tdata = ([300, 400, 500, 600, 800, 1000, 1500], 'K'),\n",
      "    Cpdata = ([186.481, 231.877, 271.709, 302.671, 351.205, 385.305, 436.935], 'J/(mol*K)'),\n",
      "    H298 = (326.59, 'kJ/mol'),\n",
      "    S298 = (174.46, 'J/(mol*K)'),\n",
      "    comment = 'Thermo group additivity estimation: group(Cs-(Cds-Cds)CsCsH) + other(R) + group(Cs-(Cds-Cds)CsCsH) + other(R) + group(Cs-(Cds-Cds)(Cds-Cds)CsH) + other(R) + group(Cs-CsHHH) + other(R) + group(Cds-CdsCsH) + other(R) + group(Cds-CdsCsH) + other(R) + group(Cds-CdsCsH) + other(R) + group(Cds-CdsCsH) + other(R) + group(Cds-Cds(Cds-Cds)H) + other(R) + group(Cds-Cds(Cds-Cds)H) + other(R) + polycyclic(PolycyclicRing) + radical(Tertalkyl)',\n",
      ")\n",
      "H298 = 78.057 kcal/mol\n",
      "S298 = 41.6968305179 cal/mol*K\n",
      "Polycyclic group was found to be generic \"PolycyclicRing\". Creating new entry for CC1C=C[C]2C=CC=CC21.\n",
      "=====================\n",
      "pdt35\n",
      "Species has 1 resonance isomers\n",
      "Molecule C1C=CC2C=CCC=2CC=1 has a single polycyclic group match in thermo estimate.\n"
     ]
    },
    {
     "data": {
      "image/png": "[encoded data removed]",
      "text/plain": [
       "Molecule(SMILES=\"C1C=CC2C=CCC=2CC=1\")"
      ]
     },
     "metadata": {},
     "output_type": "display_data"
    },
    {
     "name": "stdout",
     "output_type": "stream",
     "text": [
      "Molecule SMILES: C1C=CC2C=CCC=2CC=1\n",
      "Estimated thermo data:\n",
      "ThermoData(\n",
      "    Tdata = ([300, 400, 500, 600, 800, 1000, 1500], 'K'),\n",
      "    Cpdata = ([173.887, 226.438, 267.399, 298.821, 345.891, 378.024, 425.471], 'J/(mol*K)'),\n",
      "    H298 = (241.249, 'kJ/mol'),\n",
      "    S298 = (140.122, 'J/(mol*K)'),\n",
      "    comment = 'Thermo group additivity estimation: group(Cs-(Cds-Cds)(Cds-Cds)HH) + other(R) + group(Cs-(Cds-Cds)(Cds-Cds)HH) + other(R) + group(Cds-CdsCsCs) + other(R) + group(Cds-Cds(Cds-Cds)(Cds-Cds)) + other(R) + group(Cds-CdsCsH) + other(R) + group(Cds-CdsCsH) + other(R) + group(Cds-Cds(Cds-Cds)H) + other(R) + group(Cds-Cds(Cds-Cds)H) + other(R) + group(Cds-Cds(Cds-Cds)H) + other(R) + group(Cds-Cds(Cds-Cds)H) + other(R) + polycyclic(PolycyclicRing)',\n",
      ")\n",
      "H298 = 57.66 kcal/mol\n",
      "S298 = 33.49 cal/mol*K\n",
      "Polycyclic group was found to be generic \"PolycyclicRing\". Creating new entry for C1C=CC2C=CCC=2CC=1.\n",
      "=====================\n",
      "pdt37\n",
      "Species has 3 resonance isomers\n",
      "Molecule [CH]1C=CC2CC=CCC2=C1 has a single polycyclic group match in thermo estimate.\n"
     ]
    },
    {
     "data": {
      "image/png": "[encoded data removed]",
      "text/plain": [
       "Molecule(SMILES=\"[CH]1C=CC2CC=CCC2=C1\")"
      ]
     },
     "metadata": {},
     "output_type": "display_data"
    },
    {
     "name": "stdout",
     "output_type": "stream",
     "text": [
      "Molecule SMILES: [CH]1C=CC2CC=CCC2=C1\n",
      "Estimated thermo data:\n",
      "ThermoData(\n",
      "    Tdata = ([300, 400, 500, 600, 800, 1000, 1500], 'K'),\n",
      "    Cpdata = ([178.113, 229.283, 271.751, 305.599, 356.142, 391.581, 444.592], 'J/(mol*K)'),\n",
      "    H298 = (262.533, 'kJ/mol'),\n",
      "    S298 = (168.49, 'J/(mol*K)'),\n",
      "    comment = 'Thermo group additivity estimation: group(Cs-(Cds-Cds)(Cds-Cds)CsH) + other(R) + group(Cs-(Cds-Cds)CsHH) + other(R) + group(Cs-(Cds-Cds)(Cds-Cds)HH) + other(R) + group(Cs-(Cds-Cds)(Cds-Cds)HH) + other(R) + group(Cds-CdsCsCs) + other(R) + group(Cds-CdsCsH) + other(R) + group(Cds-CdsCsH) + other(R) + group(Cds-CdsCsH) + other(R) + group(Cds-CdsCsH) + other(R) + group(Cds-CdsCsH) + other(R) + polycyclic(PolycyclicRing) + radical(C=CCJC=C)',\n",
      ")\n",
      "H298 = 62.747 kcal/mol\n",
      "S298 = 40.27 cal/mol*K\n",
      "Polycyclic group was found to be generic \"PolycyclicRing\". Creating new entry for [CH]1C=CC2CC=CCC2=C1.\n",
      "Molecule C1C=CC2CC=CC[C]2C=1 has a single polycyclic group match in thermo estimate.\n"
     ]
    },
    {
     "data": {
      "image/png": "[encoded data removed]",
      "text/plain": [
       "Molecule(SMILES=\"C1C=CC2CC=CC[C]2C=1\")"
      ]
     },
     "metadata": {},
     "output_type": "display_data"
    },
    {
     "name": "stdout",
     "output_type": "stream",
     "text": [
      "Molecule SMILES: C1C=CC2CC=CC[C]2C=1\n",
      "Estimated thermo data:\n",
      "ThermoData(\n",
      "    Tdata = ([300, 400, 500, 600, 800, 1000, 1500], 'K'),\n",
      "    Cpdata = ([177.109, 229.534, 273.299, 306.394, 357.23, 391.497, 444.215], 'J/(mol*K)'),\n",
      "    H298 = (279.228, 'kJ/mol'),\n",
      "    S298 = (155.519, 'J/(mol*K)'),\n",
      "    comment = 'Thermo group additivity estimation: group(Cs-(Cds-Cds)CsCsH) + other(R) + group(Cs-(Cds-Cds)CsCsH) + other(R) + group(Cs-(Cds-Cds)CsHH) + other(R) + group(Cs-(Cds-Cds)CsHH) + other(R) + group(Cds-CdsCsH) + other(R) + group(Cds-CdsCsH) + other(R) + group(Cds-CdsCsH) + other(R) + group(Cds-CdsCsH) + other(R) + group(Cds-Cds(Cds-Cds)H) + other(R) + group(Cds-Cds(Cds-Cds)H) + other(R) + polycyclic(PolycyclicRing) + radical(Allyl_T)',\n",
      ")\n",
      "H298 = 66.737 kcal/mol\n",
      "S298 = 37.17 cal/mol*K\n",
      "Polycyclic group was found to be generic \"PolycyclicRing\". Creating new entry for C1C=CC2CC=CC[C]2C=1.\n",
      "Molecule [CH]1C=CC=C2CC=CCC12 has a single polycyclic group match in thermo estimate.\n"
     ]
    },
    {
     "data": {
      "image/png": "[encoded data removed]",
      "text/plain": [
       "Molecule(SMILES=\"[CH]1C=CC=C2CC=CCC12\")"
      ]
     },
     "metadata": {},
     "output_type": "display_data"
    },
    {
     "name": "stdout",
     "output_type": "stream",
     "text": [
      "Molecule SMILES: [CH]1C=CC=C2CC=CCC12\n",
      "Estimated thermo data:\n",
      "ThermoData(\n",
      "    Tdata = ([300, 400, 500, 600, 800, 1000, 1500], 'K'),\n",
      "    Cpdata = ([180.163, 233.844, 277.064, 309.825, 359.406, 393.38, 442.374], 'J/(mol*K)'),\n",
      "    H298 = (283.997, 'kJ/mol'),\n",
      "    S298 = (160.122, 'J/(mol*K)'),\n",
      "    comment = 'Thermo group additivity estimation: group(Cs-(Cds-Cds)CsCsH) + other(R) + group(Cs-(Cds-Cds)CsHH) + other(R) + group(Cs-(Cds-Cds)CsHH) + other(R) + group(Cs-(Cds-Cds)(Cds-Cds)HH) + other(R) + group(Cds-CdsCsCs) + other(R) + group(Cds-CdsCsH) + other(R) + group(Cds-CdsCsH) + other(R) + group(Cds-CdsCsH) + other(R) + group(Cds-Cds(Cds-Cds)H) + other(R) + group(Cds-Cds(Cds-Cds)H) + other(R) + polycyclic([CH]1C=CC2CC=CC=C2C1) + radical(Allyl_S)',\n",
      ")\n",
      "H298 = 67.877 kcal/mol\n",
      "S298 = 38.27 cal/mol*K\n",
      "Matched polycyclic group \"[CH]1C=CC2CC=CC=C2C1\"\n",
      "=====================\n",
      "pdt38\n",
      "Species has 3 resonance isomers\n",
      "Molecule C1=CCc2ccccc2C1 has a single polycyclic group match in thermo estimate.\n"
     ]
    },
    {
     "data": {
      "image/png": "[encoded data removed]",
      "text/plain": [
       "Molecule(SMILES=\"C1=CCc2ccccc2C1\")"
      ]
     },
     "metadata": {},
     "output_type": "display_data"
    },
    {
     "name": "stdout",
     "output_type": "stream",
     "text": [
      "Molecule SMILES: C1=CCc2ccccc2C1\n",
      "Estimated thermo data:\n",
      "ThermoData(\n",
      "    Tdata = ([300, 400, 500, 600, 800, 1000, 1500], 'K'),\n",
      "    Cpdata = ([149.118, 199.242, 242.839, 278.32, 331.875, 369.112, 422.835], 'J/(mol*K)'),\n",
      "    H298 = (137.319, 'kJ/mol'),\n",
      "    S298 = (212.045, 'J/(mol*K)'),\n",
      "    comment = 'Thermo group additivity estimation: group(Cs-(Cds-Cds)CbHH) + other(R) + group(Cs-(Cds-Cds)CbHH) + other(R) + group(Cb-Cs) + other(R) + group(Cb-Cs) + other(R) + group(Cds-CdsCsH) + other(R) + group(Cds-CdsCsH) + other(R) + group(Cb-H) + other(R) + group(Cb-H) + other(R) + group(Cb-H) + other(R) + group(Cb-H) + other(R) + polycyclic(PolycyclicRing)',\n",
      ")\n",
      "H298 = 32.82 kcal/mol\n",
      "S298 = 50.68 cal/mol*K\n",
      "Polycyclic group was found to be generic \"PolycyclicRing\". Creating new entry for C1=CCc2ccccc2C1.\n",
      "Molecule C1=CC=C2CC=CCC2=C1 has a single polycyclic group match in thermo estimate.\n"
     ]
    },
    {
     "data": {
      "image/png": "[encoded data removed]",
      "text/plain": [
       "Molecule(SMILES=\"C1=CC=C2CC=CCC2=C1\")"
      ]
     },
     "metadata": {},
     "output_type": "display_data"
    },
    {
     "name": "stdout",
     "output_type": "stream",
     "text": [
      "Molecule SMILES: C1=CC=C2CC=CCC2=C1\n",
      "Estimated thermo data:\n",
      "ThermoData(\n",
      "    Tdata = ([300, 400, 500, 600, 800, 1000, 1500], 'K'),\n",
      "    Cpdata = ([185.602, 240.831, 281.5, 310.62, 352.711, 381.999, 424.258], 'J/(mol*K)'),\n",
      "    H298 = (223.76, 'kJ/mol'),\n",
      "    S298 = (136.649, 'J/(mol*K)'),\n",
      "    comment = 'Thermo group additivity estimation: group(Cs-(Cds-Cds)(Cds-Cds)HH) + other(R) + group(Cs-(Cds-Cds)(Cds-Cds)HH) + other(R) + group(Cds-Cds(Cds-Cds)Cs) + other(R) + group(Cds-Cds(Cds-Cds)Cs) + other(R) + group(Cds-CdsCsH) + other(R) + group(Cds-CdsCsH) + other(R) + group(Cds-Cds(Cds-Cds)H) + other(R) + group(Cds-Cds(Cds-Cds)H) + other(R) + group(Cds-Cds(Cds-Cds)H) + other(R) + group(Cds-Cds(Cds-Cds)H) + other(R) + polycyclic(PolycyclicRing)',\n",
      ")\n",
      "H298 = 53.48 kcal/mol\n",
      "S298 = 32.66 cal/mol*K\n",
      "Polycyclic group was found to be generic \"PolycyclicRing\". Creating new entry for C1=CC=C2CC=CCC2=C1.\n",
      "Molecule C1C=CC2CC=CCC=2C=1 has a single polycyclic group match in thermo estimate.\n"
     ]
    },
    {
     "data": {
      "image/png": "[encoded data removed]",
      "text/plain": [
       "Molecule(SMILES=\"C1C=CC2CC=CCC=2C=1\")"
      ]
     },
     "metadata": {},
     "output_type": "display_data"
    },
    {
     "name": "stdout",
     "output_type": "stream",
     "text": [
      "Molecule SMILES: C1C=CC2CC=CCC=2C=1\n",
      "Estimated thermo data:\n",
      "ThermoData(\n",
      "    Tdata = ([300, 400, 500, 600, 800, 1000, 1500], 'K'),\n",
      "    Cpdata = ([185.602, 240.831, 281.5, 310.62, 352.711, 381.999, 424.258], 'J/(mol*K)'),\n",
      "    H298 = (223.76, 'kJ/mol'),\n",
      "    S298 = (136.649, 'J/(mol*K)'),\n",
      "    comment = 'Thermo group additivity estimation: group(Cs-(Cds-Cds)(Cds-Cds)HH) + other(R) + group(Cs-(Cds-Cds)(Cds-Cds)HH) + other(R) + group(Cds-Cds(Cds-Cds)Cs) + other(R) + group(Cds-Cds(Cds-Cds)Cs) + other(R) + group(Cds-CdsCsH) + other(R) + group(Cds-CdsCsH) + other(R) + group(Cds-Cds(Cds-Cds)H) + other(R) + group(Cds-Cds(Cds-Cds)H) + other(R) + group(Cds-Cds(Cds-Cds)H) + other(R) + group(Cds-Cds(Cds-Cds)H) + other(R) + polycyclic(PolycyclicRing)',\n",
      ")\n",
      "H298 = 53.48 kcal/mol\n",
      "S298 = 32.66 cal/mol*K\n",
      "Polycyclic group was found to be generic \"PolycyclicRing\". Creating new entry for C1C=CC2CC=CCC=2C=1.\n",
      "=====================\n",
      "INDENE\n",
      "Species has 2 resonance isomers\n",
      "Molecule C1=Cc2ccccc2C1 has a single polycyclic group match in thermo estimate.\n"
     ]
    },
    {
     "data": {
      "image/png": "[encoded data removed]",
      "text/plain": [
       "Molecule(SMILES=\"C1=Cc2ccccc2C1\")"
      ]
     },
     "metadata": {},
     "output_type": "display_data"
    },
    {
     "name": "stdout",
     "output_type": "stream",
     "text": [
      "Molecule SMILES: C1=Cc2ccccc2C1\n",
      "Estimated thermo data:\n",
      "ThermoData(\n",
      "    Tdata = ([300, 400, 500, 600, 800, 1000, 1500], 'K'),\n",
      "    Cpdata = ([119.118, 159.661, 197.401, 230.287, 278.403, 306.813, 353.171], 'J/(mol*K)'),\n",
      "    H298 = (157.235, 'kJ/mol'),\n",
      "    S298 = (334.971, 'J/(mol*K)'),\n",
      "    comment = 'Thermo group additivity estimation: group(Cs-(Cds-Cds)CbHH) + other(R) + group(Cb-Cs) + other(R) + group(Cb-(Cds-Cds)) + other(R) + group(Cds-CdsCsH) + other(R) + group(Cb-H) + other(R) + group(Cds-CdsCbH) + other(R) + group(Cb-H) + other(R) + group(Cb-H) + other(R) + group(Cb-H) + other(R) + polycyclic(indene)',\n",
      ")\n",
      "H298 = 37.58 kcal/mol\n",
      "S298 = 80.06 cal/mol*K\n",
      "Matched polycyclic group \"indene\"\n",
      "Molecule C1=CC=C2CC=CC2=C1 has a single polycyclic group match in thermo estimate.\n"
     ]
    },
    {
     "data": {
      "image/png": "[encoded data removed]",
      "text/plain": [
       "Molecule(SMILES=\"C1=CC=C2CC=CC2=C1\")"
      ]
     },
     "metadata": {},
     "output_type": "display_data"
    },
    {
     "name": "stdout",
     "output_type": "stream",
     "text": [
      "Molecule SMILES: C1=CC=C2CC=CC2=C1\n",
      "Estimated thermo data:\n",
      "ThermoData(\n",
      "    Tdata = ([300, 400, 500, 600, 800, 1000, 1500], 'K'),\n",
      "    Cpdata = ([156.733, 204.347, 240.12, 266.353, 304.47, 329.825, 368.234], 'J/(mol*K)'),\n",
      "    H298 = (245.517, 'kJ/mol'),\n",
      "    S298 = (82.8432, 'J/(mol*K)'),\n",
      "    comment = 'Thermo group additivity estimation: group(Cs-(Cds-Cds)(Cds-Cds)HH) + other(R) + group(Cds-Cds(Cds-Cds)Cs) + other(R) + group(Cds-Cds(Cds-Cds)(Cds-Cds)) + other(R) + group(Cds-CdsCsH) + other(R) + group(Cds-Cds(Cds-Cds)H) + other(R) + group(Cds-Cds(Cds-Cds)H) + other(R) + group(Cds-Cds(Cds-Cds)H) + other(R) + group(Cds-Cds(Cds-Cds)H) + other(R) + group(Cds-Cds(Cds-Cds)H) + other(R) + polycyclic(PolycyclicRing)',\n",
      ")\n",
      "H298 = 58.68 kcal/mol\n",
      "S298 = 19.8 cal/mol*K\n",
      "Polycyclic group was found to be generic \"PolycyclicRing\". Creating new entry for C1=CC=C2CC=CC2=C1.\n",
      "=====================\n",
      "pdt57\n",
      "Species has 1 resonance isomers\n",
      "Molecule C=CC=CC1C2[CH]C=CC21 has a single polycyclic group match in thermo estimate.\n"
     ]
    },
    {
     "data": {
      "image/png": "[encoded data removed]",
      "text/plain": [
       "Molecule(SMILES=\"C=CC=CC1C2[CH]C=CC21\")"
      ]
     },
     "metadata": {},
     "output_type": "display_data"
    },
    {
     "name": "stdout",
     "output_type": "stream",
     "text": [
      "Molecule SMILES: C=CC=CC1C2[CH]C=CC21\n",
      "Estimated thermo data:\n",
      "ThermoData(\n",
      "    Tdata = ([300, 400, 500, 600, 800, 1000, 1500], 'K'),\n",
      "    Cpdata = ([179.661, 233.844, 278.362, 311.457, 361.581, 394.844, 444.55], 'J/(mol*K)'),\n",
      "    H298 = (276.843, 'kJ/mol'),\n",
      "    S298 = (145.687, 'J/(mol*K)'),\n",
      "    comment = 'Thermo group additivity estimation: group(Cs-CsCsCsH) + other(R) + group(Cs-(Cds-Cds)CsCsH) + other(R) + group(Cs-(Cds-Cds)CsCsH) + other(R) + group(Cs-(Cds-Cds)CsHH) + other(R) + group(Cds-CdsCsH) + other(R) + group(Cds-CdsCsH) + other(R) + group(Cds-CdsCsH) + other(R) + group(Cds-Cds(Cds-Cds)H) + other(R) + group(Cds-Cds(Cds-Cds)H) + other(R) + group(Cds-CdsHH) + other(R) + polycyclic(PolycyclicRing) + radical(cyclopentene-allyl)',\n",
      ")\n",
      "H298 = 66.167 kcal/mol\n",
      "S298 = 34.82 cal/mol*K\n",
      "Polycyclic group was found to be generic \"PolycyclicRing\". Creating new entry for C=CC=CC1C2[CH]C=CC21.\n",
      "=====================\n",
      "2HINDENE\n",
      "Species has 1 resonance isomers\n",
      "Molecule C1C=CC2=CCC=C2C=1 has a single polycyclic group match in thermo estimate.\n"
     ]
    },
    {
     "data": {
      "image/png": "[encoded data removed]",
      "text/plain": [
       "Molecule(SMILES=\"C1C=CC2=CCC=C2C=1\")"
      ]
     },
     "metadata": {},
     "output_type": "display_data"
    },
    {
     "name": "stdout",
     "output_type": "stream",
     "text": [
      "Molecule SMILES: C1C=CC2=CCC=C2C=1\n",
      "Estimated thermo data:\n",
      "ThermoData(\n",
      "    Tdata = ([300, 400, 500, 600, 800, 1000, 1500], 'K'),\n",
      "    Cpdata = ([145.017, 189.954, 226.02, 254.555, 297.65, 325.85, 369.447], 'J/(mol*K)'),\n",
      "    H298 = (264.471, 'kJ/mol'),\n",
      "    S298 = (85.0189, 'J/(mol*K)'),\n",
      "    comment = 'Thermo group additivity estimation: group(Cs-(Cds-Cds)(Cds-Cds)HH) + other(R) + group(Cds-Cds(Cds-Cds)(Cds-Cds)) + other(R) + group(Cds-Cds(Cds-Cds)(Cds-Cds)) + other(R) + group(Cds-CdsCsH) + other(R) + group(Cds-CdsCsH) + other(R) + group(Cds-Cds(Cds-Cds)H) + other(R) + group(Cds-Cds(Cds-Cds)H) + other(R) + group(Cds-Cds(Cds-Cds)H) + other(R) + group(Cds-Cds(Cds-Cds)H) + other(R) + polycyclic(PolycyclicRing)',\n",
      ")\n",
      "H298 = 63.21 kcal/mol\n",
      "S298 = 20.32 cal/mol*K\n",
      "Polycyclic group was found to be generic \"PolycyclicRing\". Creating new entry for C1C=CC2=CCC=C2C=1.\n",
      "=====================\n"
     ]
    }
   ],
   "source": [
    "for label, entry in thermoLibrary.entries.iteritems():\n",
    "    molecule = entry.item\n",
    "    libraryThermoData = entry.data\n",
    "    if molecule.getAllPolycyclicVertices():\n",
    "        print label\n",
    "        species = Species(molecule=[molecule])\n",
    "        species.generateResonanceIsomers() \n",
    "        print 'Species has {0} resonance isomers'.format(len(species.molecule))\n",
    "        estimatedThermo = thermoDatabase.getThermoDataFromGroups(species)\n",
    "        \n",
    "        estimatedThermos = [thermoDatabase.estimateThermoViaGroupAdditivity(molecule) for molecule in species.molecule]\n",
    "        for estimatedThermo in estimatedThermos:\n",
    "            index = estimatedThermos.index(estimatedThermo)\n",
    "            tokens = estimatedThermo.comment.split()\n",
    "            polycyclicGroups = []\n",
    "            for token in tokens:\n",
    "                if 'polycyclic' in token:\n",
    "                    splitTokens = re.split(\"\\(|\\)\",token)\n",
    "                    assert len(splitTokens) == 3\n",
    "                    groupLabel = splitTokens[1]\n",
    "                    polycyclicGroups.append(thermoDatabase.groups['polycyclic'].entries[groupLabel])\n",
    "\n",
    "            if len(polycyclicGroups) == 0:\n",
    "                raise Exception('Species {0} detected as polycyclic but estimated thermo contained no polycyclic groups: \\\n",
    "                        you need to create a new polycyclic group'.format(label))\n",
    "\n",
    "            elif len(polycyclicGroups) == 1:\n",
    "                polycyclicGroup = polycyclicGroups[0]\n",
    "                print 'Molecule {0} has a single polycyclic group match in thermo estimate.'.format(species.molecule[index].toSMILES())\n",
    "                # Draw the molecule in ipython notebook\n",
    "                display(species.molecule[index])\n",
    "                print 'Molecule SMILES: {0}'.format(species.molecule[index].toSMILES())\n",
    "                print 'Estimated thermo data:'\n",
    "                print prettify(repr(estimatedThermo))\n",
    "                displayThermo(estimatedThermo)\n",
    "\n",
    "                withoutPolycyclicGroupThermo = removeThermoData(copy.deepcopy(estimatedThermo), polycyclicGroup.data)\n",
    "                newPolycyclicGroupThermo = removeThermoData(copy.deepcopy(libraryThermoData), withoutPolycyclicGroupThermo)\n",
    "\n",
    "\n",
    "                # Check to make sure that the polycyclic group is not generic\n",
    "                # If it is, create a new polycyclicGroup as the child\n",
    "                if polycyclicGroup.label == 'PolycyclicRing':\n",
    "                    print 'Polycyclic group was found to be generic \"PolycyclicRing\". Creating new entry for {0}.'.format(species.molecule[index].toSMILES())\n",
    "                    groups = extractPolycyclicGroups(molecule)\n",
    "                    assert len(groups) == 1\n",
    "                    # Create a new entry in the polycyclic groups with the same name as the thermo library entry\n",
    "                    # Make sure it does not already exist\n",
    "                    if label not in thermoDatabase.groups['polycyclic'].entries:\n",
    "                        entryLabel = species.molecule[index].toSMILES()\n",
    "                    else:\n",
    "                        raise Exception('Found a label collision with a previous SMILES, but the estimate should have matched the group.')\n",
    "                    thermoDatabase.groups['polycyclic'].entries[entryLabel] = Entry(index = len(thermoDatabase.groups['polycyclic'].entries)+1,\n",
    "                                                                              label = entryLabel,\n",
    "                                                                               item = groups[0],\n",
    "                                                                               data = polycyclicGroup.data, # Use dummy thermo here so other estimates can find this group\n",
    "                                                                               parent = polycyclicGroup,\n",
    "                                                                              )\n",
    "\n",
    "                    # Set the new entry as the polycyclicGroup and make it a child of the generic group\n",
    "                    polycyclicGroup = thermoDatabase.groups['polycyclic'].entries[entryLabel] \n",
    "                    thermoDatabase.groups['polycyclic'].entries['PolycyclicRing'].children.append(polycyclicGroup)\n",
    "                    \n",
    "\n",
    "                else:\n",
    "                    print 'Matched polycyclic group \"{0}\"'.format(polycyclicGroup.label)\n",
    "\n",
    "\n",
    "\n",
    "\n",
    "\n",
    "                # Add the new group value to the fitting dictionary\n",
    "                if polycyclicGroup not in fittingDictionary:\n",
    "                    # Add a tuple containing fitted group data, the original library entry, and thermo library\n",
    "                    fittingDictionary[polycyclicGroup]=[(newPolycyclicGroupThermo, entry, thermoLibrary)]\n",
    "                else:\n",
    "                    fittingDictionary[polycyclicGroup].append((newPolycyclicGroupThermo, entry, thermoLibrary))\n",
    "\n",
    "            elif len(polycyclicGroups) > 1:\n",
    "                print 'Species {0} has matched multiple polycyclic groups. \\\n",
    "                        This cannot be fitted with a single molecule\\'s thermo data.'.format(label)\n",
    "                raise Exception\n",
    "        print '====================='"
   ]
  },
  {
   "cell_type": "code",
   "execution_count": 7,
   "metadata": {
    "collapsed": false
   },
   "outputs": [
    {
     "name": "stdout",
     "output_type": "stream",
     "text": [
      "Original thermo data for polycyclic group: CC1C=CC=C2[CH]C=CC21\n",
      "ThermoData(\n",
      "    Tdata = ([300, 400, 500, 600, 800, 1000, 1500], 'K'),\n",
      "    Cpdata = ([0, 0, 0, 0, 0, 0, 0], 'cal/(mol*K)'),\n",
      "    H298 = (0, 'kcal/mol'),\n",
      "    S298 = (0, 'cal/(mol*K)'),\n",
      "    comment = 'polycyclic(PolycyclicRing)',\n",
      ")\n",
      "Averaging thermo data over 1 value(s).\n",
      "Fitted thermo data for polycyclic group: CC1C=CC=C2[CH]C=CC21\n",
      "ThermoData(\n",
      "    Tdata = ([300, 400, 500, 600, 800, 1000, 1500], 'K'),\n",
      "    Cpdata = ([-6.68, -6.81, -6.56, -5.84, -4.8, -3.99, -3.4], 'cal/(mol*K)'),\n",
      "    H298 = (6.863, 'kcal/mol'),\n",
      "    S298 = (57.6932, 'cal/(mol*K)'),\n",
      ")\n",
      "Fitted from species pdt21 from C10H11 library.\n",
      "====================================================================\n",
      "Original thermo data for polycyclic group: C1C=CC2=CCC=C2C=1\n",
      "ThermoData(\n",
      "    Tdata = ([300, 400, 500, 600, 800, 1000, 1500], 'K'),\n",
      "    Cpdata = ([0, 0, 0, 0, 0, 0, 0], 'cal/(mol*K)'),\n",
      "    H298 = (0, 'kcal/mol'),\n",
      "    S298 = (0, 'cal/(mol*K)'),\n",
      "    comment = 'polycyclic(PolycyclicRing)',\n",
      ")\n",
      "Averaging thermo data over 1 value(s).\n",
      "Fitted thermo data for polycyclic group: C1C=CC2=CCC=C2C=1\n",
      "ThermoData(\n",
      "    Tdata = ([300, 400, 500, 600, 800, 1000, 1500], 'K'),\n",
      "    Cpdata = ([-4.49, -4.75, -4.62, -4.45, -4.55, -4.28, -4.48], 'cal/(mol*K)'),\n",
      "    H298 = (-0.61, 'kcal/mol'),\n",
      "    S298 = (58.88, 'cal/(mol*K)'),\n",
      ")\n",
      "Fitted from species 2HINDENE from C10H11 library.\n",
      "====================================================================\n",
      "Original thermo data for polycyclic group: CC1[CH]C=C2C=CC=CC21\n",
      "ThermoData(\n",
      "    Tdata = ([300, 400, 500, 600, 800, 1000, 1500], 'K'),\n",
      "    Cpdata = ([0, 0, 0, 0, 0, 0, 0], 'cal/(mol*K)'),\n",
      "    H298 = (0, 'kcal/mol'),\n",
      "    S298 = (0, 'cal/(mol*K)'),\n",
      "    comment = 'polycyclic(PolycyclicRing)',\n",
      ")\n",
      "Averaging thermo data over 1 value(s).\n",
      "Fitted thermo data for polycyclic group: CC1[CH]C=C2C=CC=CC21\n",
      "ThermoData(\n",
      "    Tdata = ([300, 400, 500, 600, 800, 1000, 1500], 'K'),\n",
      "    Cpdata = ([-8.9, -8.9, -8.26, -7.24, -5.57, -4.36, -2.74], 'cal/(mol*K)'),\n",
      "    H298 = (3.693, 'kcal/mol'),\n",
      "    S298 = (61.9332, 'cal/(mol*K)'),\n",
      ")\n",
      "Fitted from species pdt32 from C10H11 library.\n",
      "====================================================================\n",
      "Original thermo data for polycyclic group: C1=CCC2C=CC=CC2=C1\n",
      "ThermoData(\n",
      "    Tdata = ([300, 400, 500, 600, 800, 1000, 1500], 'K'),\n",
      "    Cpdata = ([0, 0, 0, 0, 0, 0, 0], 'cal/(mol*K)'),\n",
      "    H298 = (0, 'kcal/mol'),\n",
      "    S298 = (0, 'cal/(mol*K)'),\n",
      "    comment = 'polycyclic(PolycyclicRing)',\n",
      ")\n",
      "Averaging thermo data over 1 value(s).\n",
      "Fitted thermo data for polycyclic group: C1=CCC2C=CC=CC2=C1\n",
      "ThermoData(\n",
      "    Tdata = ([300, 400, 500, 600, 800, 1000, 1500], 'K'),\n",
      "    Cpdata = ([-11, -11.28, -10.49, -9.09, -6.7, -5.03, -2.79], 'cal/(mol*K)'),\n",
      "    H298 = (9.09, 'kcal/mol'),\n",
      "    S298 = (57.26, 'cal/(mol*K)'),\n",
      ")\n",
      "Fitted from species pdt11 from C10H11 library.\n",
      "====================================================================\n",
      "Original thermo data for polycyclic group: indene\n",
      "ThermoData(\n",
      "    Tdata = ([300, 400, 500, 600, 800, 1000, 1500], 'K'),\n",
      "    Cpdata = ([-3.88, -4.29, -3.89, -2.96, -1.83, -2.2, -1.31], 'cal/(mol*K)'),\n",
      "    H298 = (2.1, 'kcal/mol'),\n",
      "    S298 = (33.08, 'cal/(mol*K)'),\n",
      "    comment = 'polycyclic(indene)',\n",
      ")\n",
      "Averaging thermo data over 1 value(s).\n",
      "Fitted thermo data for polycyclic group: indene\n",
      "ThermoData(\n",
      "    Tdata = ([300, 400, 500, 600, 800, 1000, 1500], 'K'),\n",
      "    Cpdata = ([-3.07, -2.67, -2.42, -2.22, -2.2, -2.23, -2.04], 'cal/(mol*K)'),\n",
      "    H298 = (5.01, 'kcal/mol'),\n",
      "    S298 = (32.84, 'cal/(mol*K)'),\n",
      ")\n",
      "Fitted from species INDENE from C10H11 library.\n",
      "====================================================================\n",
      "Original thermo data for polycyclic group: C1=CCc2ccccc2C1\n",
      "ThermoData(\n",
      "    Tdata = ([300, 400, 500, 600, 800, 1000, 1500], 'K'),\n",
      "    Cpdata = ([0, 0, 0, 0, 0, 0, 0], 'cal/(mol*K)'),\n",
      "    H298 = (0, 'kcal/mol'),\n",
      "    S298 = (0, 'cal/(mol*K)'),\n",
      "    comment = 'polycyclic(PolycyclicRing)',\n",
      ")\n",
      "Averaging thermo data over 1 value(s).\n",
      "Fitted thermo data for polycyclic group: C1=CCc2ccccc2C1\n",
      "ThermoData(\n",
      "    Tdata = ([300, 400, 500, 600, 800, 1000, 1500], 'K'),\n",
      "    Cpdata = ([-1.68, -1.73, -1.85, -1.91, -2.19, -2.39, -2.51], 'cal/(mol*K)'),\n",
      "    H298 = (2.84, 'kcal/mol'),\n",
      "    S298 = (35.91, 'cal/(mol*K)'),\n",
      ")\n",
      "Fitted from species pdt38 from C10H11 library.\n",
      "====================================================================\n",
      "Original thermo data for polycyclic group: C1=CC=C2C=CCC2C=C1\n",
      "ThermoData(\n",
      "    Tdata = ([300, 400, 500, 600, 800, 1000, 1500], 'K'),\n",
      "    Cpdata = ([0, 0, 0, 0, 0, 0, 0], 'cal/(mol*K)'),\n",
      "    H298 = (0, 'kcal/mol'),\n",
      "    S298 = (0, 'cal/(mol*K)'),\n",
      "    comment = 'polycyclic(PolycyclicRing)',\n",
      ")\n",
      "Averaging thermo data over 1 value(s).\n",
      "Fitted thermo data for polycyclic group: C1=CC=C2C=CCC2C=C1\n",
      "ThermoData(\n",
      "    Tdata = ([300, 400, 500, 600, 800, 1000, 1500], 'K'),\n",
      "    Cpdata = ([-10.94, -11.19, -10.38, -8.99, -6.63, -5, -2.79], 'cal/(mol*K)'),\n",
      "    H298 = (11.73, 'kcal/mol'),\n",
      "    S298 = (57.98, 'cal/(mol*K)'),\n",
      ")\n",
      "Fitted from species pdt31 from C10H11 library.\n",
      "====================================================================\n",
      "Original thermo data for polycyclic group: C1=CCC2=CC=CCC2=C1\n",
      "ThermoData(\n",
      "    Tdata = ([300, 400, 500, 600, 800, 1000, 1500], 'K'),\n",
      "    Cpdata = ([0, 0, 0, 0, 0, 0, 0], 'cal/(mol*K)'),\n",
      "    H298 = (0, 'kcal/mol'),\n",
      "    S298 = (0, 'cal/(mol*K)'),\n",
      "    comment = 'polycyclic(PolycyclicRing)',\n",
      ")\n",
      "Averaging thermo data over 1 value(s).\n",
      "Fitted thermo data for polycyclic group: C1=CCC2=CC=CCC2=C1\n",
      "ThermoData(\n",
      "    Tdata = ([300, 400, 500, 600, 800, 1000, 1500], 'K'),\n",
      "    Cpdata = ([-9.51, -10.83, -10.38, -9.04, -6.78, -5.2, -2.72], 'cal/(mol*K)'),\n",
      "    H298 = (10.33, 'kcal/mol'),\n",
      "    S298 = (53.47, 'cal/(mol*K)'),\n",
      ")\n",
      "Fitted from species pdt26 from C10H11 library.\n",
      "====================================================================\n",
      "Original thermo data for polycyclic group: CC1C=CC2=CC=C[CH]C21\n",
      "ThermoData(\n",
      "    Tdata = ([300, 400, 500, 600, 800, 1000, 1500], 'K'),\n",
      "    Cpdata = ([0, 0, 0, 0, 0, 0, 0], 'cal/(mol*K)'),\n",
      "    H298 = (0, 'kcal/mol'),\n",
      "    S298 = (0, 'cal/(mol*K)'),\n",
      "    comment = 'polycyclic(PolycyclicRing)',\n",
      ")\n",
      "Averaging thermo data over 1 value(s).\n",
      "Fitted thermo data for polycyclic group: CC1C=CC2=CC=C[CH]C21\n",
      "ThermoData(\n",
      "    Tdata = ([300, 400, 500, 600, 800, 1000, 1500], 'K'),\n",
      "    Cpdata = ([-7.4, -8.18, -8.1, -7.09, -5.73, -4.51, -2.89], 'cal/(mol*K)'),\n",
      "    H298 = (0.353, 'kcal/mol'),\n",
      "    S298 = (60.2132, 'cal/(mol*K)'),\n",
      ")\n",
      "Fitted from species pdt32 from C10H11 library.\n",
      "====================================================================\n",
      "Original thermo data for polycyclic group: [CH]1C=CCC2CC=CC2=C1\n",
      "ThermoData(\n",
      "    Tdata = ([300, 400, 500, 600, 800, 1000, 1500], 'K'),\n",
      "    Cpdata = ([0, 0, 0, 0, 0, 0, 0], 'cal/(mol*K)'),\n",
      "    H298 = (0, 'kcal/mol'),\n",
      "    S298 = (0, 'cal/(mol*K)'),\n",
      "    comment = 'polycyclic(PolycyclicRing)',\n",
      ")\n",
      "Averaging thermo data over 1 value(s).\n",
      "Fitted thermo data for polycyclic group: [CH]1C=CCC2CC=CC2=C1\n",
      "ThermoData(\n",
      "    Tdata = ([300, 400, 500, 600, 800, 1000, 1500], 'K'),\n",
      "    Cpdata = ([-6.57, -7.23, -7.07, -6.34, -5.29, -4.34, -3.43], 'cal/(mol*K)'),\n",
      "    H298 = (6.033, 'kcal/mol'),\n",
      "    S298 = (53.24, 'cal/(mol*K)'),\n",
      ")\n",
      "Fitted from species pdt29 from C10H11 library.\n",
      "====================================================================\n",
      "Original thermo data for polycyclic group: [CH]1C=CCC12C=CC=CC2\n",
      "ThermoData(\n",
      "    Tdata = ([300, 400, 500, 600, 800, 1000, 1500], 'K'),\n",
      "    Cpdata = ([0, 0, 0, 0, 0, 0, 0], 'cal/(mol*K)'),\n",
      "    H298 = (0, 'kcal/mol'),\n",
      "    S298 = (0, 'cal/(mol*K)'),\n",
      "    comment = 'polycyclic(PolycyclicRing)',\n",
      ")\n",
      "Averaging thermo data over 1 value(s).\n",
      "Fitted thermo data for polycyclic group: [CH]1C=CCC12C=CC=CC2\n",
      "ThermoData(\n",
      "    Tdata = ([300, 400, 500, 600, 800, 1000, 1500], 'K'),\n",
      "    Cpdata = ([-6.34, -6.73, -6.55, -6.13, -5.34, -4.43, -2.23], 'cal/(mol*K)'),\n",
      "    H298 = (14.573, 'kcal/mol'),\n",
      "    S298 = (57.37, 'cal/(mol*K)'),\n",
      ")\n",
      "Fitted from species pdt17 from C10H11 library.\n",
      "====================================================================\n",
      "Original thermo data for polycyclic group: [CH]1C=CC2CC=CCC2=C1\n",
      "ThermoData(\n",
      "    Tdata = ([300, 400, 500, 600, 800, 1000, 1500], 'K'),\n",
      "    Cpdata = ([0, 0, 0, 0, 0, 0, 0], 'cal/(mol*K)'),\n",
      "    H298 = (0, 'kcal/mol'),\n",
      "    S298 = (0, 'cal/(mol*K)'),\n",
      "    comment = 'polycyclic(PolycyclicRing)',\n",
      ")\n",
      "Averaging thermo data over 1 value(s).\n",
      "Fitted thermo data for polycyclic group: [CH]1C=CC2CC=CCC2=C1\n",
      "ThermoData(\n",
      "    Tdata = ([300, 400, 500, 600, 800, 1000, 1500], 'K'),\n",
      "    Cpdata = ([-6.74, -6.32, -5.65, -4.95, -3.99, -3.38, -2.69], 'cal/(mol*K)'),\n",
      "    H298 = (2.193, 'kcal/mol'),\n",
      "    S298 = (48.91, 'cal/(mol*K)'),\n",
      ")\n",
      "Fitted from species pdt37 from C10H11 library.\n",
      "====================================================================\n",
      "Original thermo data for polycyclic group: [CH]1C=CC2(C=CC=CC2)C1\n",
      "ThermoData(\n",
      "    Tdata = ([300, 400, 500, 600, 800, 1000, 1500], 'K'),\n",
      "    Cpdata = ([0, 0, 0, 0, 0, 0, 0], 'cal/(mol*K)'),\n",
      "    H298 = (0, 'kcal/mol'),\n",
      "    S298 = (0, 'cal/(mol*K)'),\n",
      "    comment = 'polycyclic(PolycyclicRing)',\n",
      ")\n",
      "Averaging thermo data over 1 value(s).\n",
      "Fitted thermo data for polycyclic group: [CH]1C=CC2(C=CC=CC2)C1\n",
      "ThermoData(\n",
      "    Tdata = ([300, 400, 500, 600, 800, 1000, 1500], 'K'),\n",
      "    Cpdata = ([-6.72, -6.82, -6.48, -5.99, -5.19, -4.29, -2.12], 'cal/(mol*K)'),\n",
      "    H298 = (14.743, 'kcal/mol'),\n",
      "    S298 = (57.75, 'cal/(mol*K)'),\n",
      ")\n",
      "Fitted from species pdt17 from C10H11 library.\n",
      "====================================================================\n",
      "Original thermo data for polycyclic group: CC1C=C[CH]C2C=CCC=21\n",
      "ThermoData(\n",
      "    Tdata = ([300, 400, 500, 600, 800, 1000, 1500], 'K'),\n",
      "    Cpdata = ([0, 0, 0, 0, 0, 0, 0], 'cal/(mol*K)'),\n",
      "    H298 = (0, 'kcal/mol'),\n",
      "    S298 = (0, 'cal/(mol*K)'),\n",
      "    comment = 'polycyclic(PolycyclicRing)',\n",
      ")\n",
      "Averaging thermo data over 1 value(s).\n",
      "Fitted thermo data for polycyclic group: CC1C=C[CH]C2C=CCC=21\n",
      "ThermoData(\n",
      "    Tdata = ([300, 400, 500, 600, 800, 1000, 1500], 'K'),\n",
      "    Cpdata = ([-6.88, -7.18, -6.81, -6.07, -4.85, -4.06, -3.25], 'cal/(mol*K)'),\n",
      "    H298 = (6.883, 'kcal/mol'),\n",
      "    S298 = (58.0732, 'cal/(mol*K)'),\n",
      ")\n",
      "Fitted from species pdt27 from C10H11 library.\n",
      "====================================================================\n",
      "Original thermo data for polycyclic group: [CH]1C=CC2C=CCC2C=C1\n",
      "ThermoData(\n",
      "    Tdata = ([300, 400, 500, 600, 800, 1000, 1500], 'K'),\n",
      "    Cpdata = ([0, 0, 0, 0, 0, 0, 0], 'cal/(mol*K)'),\n",
      "    H298 = (0, 'kcal/mol'),\n",
      "    S298 = (0, 'cal/(mol*K)'),\n",
      "    comment = 'polycyclic(PolycyclicRing)',\n",
      ")\n",
      "Averaging thermo data over 2 value(s).\n",
      "Fitted thermo data for polycyclic group: [CH]1C=CC2C=CCC2C=C1\n",
      "ThermoData(\n",
      "    Tdata = ([300, 400, 500, 600, 800, 1000, 1500], 'K'),\n",
      "    Cpdata = ([-6.29, -6.09, -5.725, -4.99, -4.215, -3.465, -2.575], 'cal/(mol*K)', '+|-', [0.236683, 3.31356, 4.67448, 3.55024, 2.89936, 1.36093, 3.60941]),\n",
      "    H298 = (16.293, 'kcal/mol'),\n",
      "    S298 = (53.235, 'cal/(mol*K)'),\n",
      ")\n",
      "Fitted from species pdt8 from C10H11 library.\n",
      "Fitted from species pdt23 from C10H11 library.\n",
      "====================================================================\n",
      "Original thermo data for polycyclic group: [CH]1C=C2C=CC=CCC2C1\n",
      "ThermoData(\n",
      "    Tdata = ([300, 400, 500, 600, 800, 1000, 1500], 'K'),\n",
      "    Cpdata = ([0, 0, 0, 0, 0, 0, 0], 'cal/(mol*K)'),\n",
      "    H298 = (0, 'kcal/mol'),\n",
      "    S298 = (0, 'cal/(mol*K)'),\n",
      "    comment = 'polycyclic(PolycyclicRing)',\n",
      ")\n",
      "Averaging thermo data over 1 value(s).\n",
      "Fitted thermo data for polycyclic group: [CH]1C=C2C=CC=CCC2C1\n",
      "ThermoData(\n",
      "    Tdata = ([300, 400, 500, 600, 800, 1000, 1500], 'K'),\n",
      "    Cpdata = ([-8.56, -9.04, -8.6, -7.5, -5.91, -4.62, -2.75], 'cal/(mol*K)'),\n",
      "    H298 = (3.993, 'kcal/mol'),\n",
      "    S298 = (56.96, 'cal/(mol*K)'),\n",
      ")\n",
      "Fitted from species pdt29 from C10H11 library.\n",
      "====================================================================\n",
      "Original thermo data for polycyclic group: CC1[CH]C=CC2C=CCC=21\n",
      "ThermoData(\n",
      "    Tdata = ([300, 400, 500, 600, 800, 1000, 1500], 'K'),\n",
      "    Cpdata = ([0, 0, 0, 0, 0, 0, 0], 'cal/(mol*K)'),\n",
      "    H298 = (0, 'kcal/mol'),\n",
      "    S298 = (0, 'cal/(mol*K)'),\n",
      "    comment = 'polycyclic(PolycyclicRing)',\n",
      ")\n",
      "Averaging thermo data over 1 value(s).\n",
      "Fitted thermo data for polycyclic group: CC1[CH]C=CC2C=CCC=21\n",
      "ThermoData(\n",
      "    Tdata = ([300, 400, 500, 600, 800, 1000, 1500], 'K'),\n",
      "    Cpdata = ([-4.57, -4.83, -4.71, -4.26, -4, -3.54, -3.01], 'cal/(mol*K)'),\n",
      "    H298 = (-2.777, 'kcal/mol'),\n",
      "    S298 = (59.5532, 'cal/(mol*K)'),\n",
      ")\n",
      "Fitted from species pdt27 from C10H11 library.\n",
      "====================================================================\n",
      "Original thermo data for polycyclic group: CC1[CH]C=CC2=CC=CC21\n",
      "ThermoData(\n",
      "    Tdata = ([300, 400, 500, 600, 800, 1000, 1500], 'K'),\n",
      "    Cpdata = ([0, 0, 0, 0, 0, 0, 0], 'cal/(mol*K)'),\n",
      "    H298 = (0, 'kcal/mol'),\n",
      "    S298 = (0, 'cal/(mol*K)'),\n",
      "    comment = 'polycyclic(PolycyclicRing)',\n",
      ")\n",
      "Averaging thermo data over 1 value(s).\n",
      "Fitted thermo data for polycyclic group: CC1[CH]C=CC2=CC=CC21\n",
      "ThermoData(\n",
      "    Tdata = ([300, 400, 500, 600, 800, 1000, 1500], 'K'),\n",
      "    Cpdata = ([-8.67, -8.62, -7.99, -7, -5.42, -4.27, -2.72], 'cal/(mol*K)'),\n",
      "    H298 = (2.023, 'kcal/mol'),\n",
      "    S298 = (61.7232, 'cal/(mol*K)'),\n",
      ")\n",
      "Fitted from species pdt21 from C10H11 library.\n",
      "====================================================================\n",
      "Original thermo data for polycyclic group: C1=CC=C2CC=CC2=C1\n",
      "ThermoData(\n",
      "    Tdata = ([300, 400, 500, 600, 800, 1000, 1500], 'K'),\n",
      "    Cpdata = ([0, 0, 0, 0, 0, 0, 0], 'cal/(mol*K)'),\n",
      "    H298 = (0, 'kcal/mol'),\n",
      "    S298 = (0, 'cal/(mol*K)'),\n",
      "    comment = 'polycyclic(PolycyclicRing)',\n",
      ")\n",
      "Averaging thermo data over 1 value(s).\n",
      "Fitted thermo data for polycyclic group: C1=CC=C2CC=CC2=C1\n",
      "ThermoData(\n",
      "    Tdata = ([300, 400, 500, 600, 800, 1000, 1500], 'K'),\n",
      "    Cpdata = ([-8.18, -9.06, -8.74, -7.88, -6.6, -5.53, -4.33], 'cal/(mol*K)'),\n",
      "    H298 = (-18.19, 'kcal/mol'),\n",
      "    S298 = (60.02, 'cal/(mol*K)'),\n",
      ")\n",
      "Fitted from species INDENE from C10H11 library.\n",
      "====================================================================\n",
      "Original thermo data for polycyclic group: C1C=CC2=CC=CC2CC=1\n",
      "ThermoData(\n",
      "    Tdata = ([300, 400, 500, 600, 800, 1000, 1500], 'K'),\n",
      "    Cpdata = ([0, 0, 0, 0, 0, 0, 0], 'cal/(mol*K)'),\n",
      "    H298 = (0, 'kcal/mol'),\n",
      "    S298 = (0, 'cal/(mol*K)'),\n",
      "    comment = 'polycyclic(PolycyclicRing)',\n",
      ")\n",
      "Averaging thermo data over 1 value(s).\n",
      "Fitted thermo data for polycyclic group: C1C=CC2=CC=CC2CC=1\n",
      "ThermoData(\n",
      "    Tdata = ([300, 400, 500, 600, 800, 1000, 1500], 'K'),\n",
      "    Cpdata = ([-10.84, -11.12, -10.33, -8.95, -6.62, -4.99, -2.8], 'cal/(mol*K)'),\n",
      "    H298 = (14.29, 'kcal/mol'),\n",
      "    S298 = (58.23, 'cal/(mol*K)'),\n",
      ")\n",
      "Fitted from species pdt30 from C10H11 library.\n",
      "====================================================================\n",
      "Original thermo data for polycyclic group: [CH]1C=CC2CC=CC=C2C1\n",
      "ThermoData(\n",
      "    Tdata = ([300, 400, 500, 600, 800, 1000, 1500], 'K'),\n",
      "    Cpdata = ([0, 0, 0, 0, 0, 0, 0], 'cal/(mol*K)'),\n",
      "    H298 = (0, 'kcal/mol'),\n",
      "    S298 = (0, 'cal/(mol*K)'),\n",
      "    comment = 'polycyclic(PolycyclicRing)',\n",
      ")\n",
      "Averaging thermo data over 2 value(s).\n",
      "Fitted thermo data for polycyclic group: [CH]1C=CC2CC=CC=C2C1\n",
      "ThermoData(\n",
      "    Tdata = ([300, 400, 500, 600, 800, 1000, 1500], 'K'),\n",
      "    Cpdata = ([-7.75, -7.555, -6.895, -5.93, -4.65, -3.69, -2.095], 'cal/(mol*K)', '+|-', [6.15375, 1.71595, 0.295853, 0.355024, 1.4201, 1.4201, 0.769219]),\n",
      "    H298 = (2.378, 'kcal/mol'),\n",
      "    S298 = (52.825, 'cal/(mol*K)'),\n",
      ")\n",
      "Fitted from species pdt19 from C10H11 library.\n",
      "Fitted from species pdt37 from C10H11 library.\n",
      "====================================================================\n",
      "Original thermo data for polycyclic group: [CH]1C=CC2C1C1C=CCC21\n",
      "ThermoData(\n",
      "    Tdata = ([300, 400, 500, 600, 800, 1000, 1500], 'K'),\n",
      "    Cpdata = ([0, 0, 0, 0, 0, 0, 0], 'cal/(mol*K)'),\n",
      "    H298 = (0, 'kcal/mol'),\n",
      "    S298 = (0, 'cal/(mol*K)'),\n",
      "    comment = 'polycyclic(PolycyclicRing)',\n",
      ")\n",
      "Averaging thermo data over 1 value(s).\n",
      "Fitted thermo data for polycyclic group: [CH]1C=CC2C1C1C=CCC21\n",
      "ThermoData(\n",
      "    Tdata = ([300, 400, 500, 600, 800, 1000, 1500], 'K'),\n",
      "    Cpdata = ([-7.96, -7.63, -7.28, -6.59, -6.22, -5.52, -4.52], 'cal/(mol*K)'),\n",
      "    H298 = (37.503, 'kcal/mol'),\n",
      "    S298 = (88.92, 'cal/(mol*K)'),\n",
      ")\n",
      "Fitted from species pdt7 from C10H11 library.\n",
      "====================================================================\n",
      "Original thermo data for polycyclic group: C=CC=CC1C2[CH]C=CC21\n",
      "ThermoData(\n",
      "    Tdata = ([300, 400, 500, 600, 800, 1000, 1500], 'K'),\n",
      "    Cpdata = ([0, 0, 0, 0, 0, 0, 0], 'cal/(mol*K)'),\n",
      "    H298 = (0, 'kcal/mol'),\n",
      "    S298 = (0, 'cal/(mol*K)'),\n",
      "    comment = 'polycyclic(PolycyclicRing)',\n",
      ")\n",
      "Averaging thermo data over 1 value(s).\n",
      "Fitted thermo data for polycyclic group: C=CC=CC1C2[CH]C=CC21\n",
      "ThermoData(\n",
      "    Tdata = ([300, 400, 500, 600, 800, 1000, 1500], 'K'),\n",
      "    Cpdata = ([-3.92, -4.38, -4.56, -4.12, -3.89, -3.32, -2.47], 'cal/(mol*K)'),\n",
      "    H298 = (34.373, 'kcal/mol'),\n",
      "    S298 = (61.17, 'cal/(mol*K)'),\n",
      ")\n",
      "Fitted from species pdt57 from C10H11 library.\n",
      "====================================================================\n",
      "Original thermo data for polycyclic group: C1C=CC2C=CC[C]2CC=1\n",
      "ThermoData(\n",
      "    Tdata = ([300, 400, 500, 600, 800, 1000, 1500], 'K'),\n",
      "    Cpdata = ([0, 0, 0, 0, 0, 0, 0], 'cal/(mol*K)'),\n",
      "    H298 = (0, 'kcal/mol'),\n",
      "    S298 = (0, 'cal/(mol*K)'),\n",
      "    comment = 'polycyclic(PolycyclicRing)',\n",
      ")\n",
      "Averaging thermo data over 2 value(s).\n",
      "Fitted thermo data for polycyclic group: C1C=CC2C=CC[C]2CC=1\n",
      "ThermoData(\n",
      "    Tdata = ([300, 400, 500, 600, 800, 1000, 1500], 'K'),\n",
      "    Cpdata = ([-8.65, -6.76, -5.18, -3.95, -2.495, -1.63, -0.54], 'cal/(mol*K)', '+|-', [3.4319, 2.36683, 1.65678, 1.30176, 1.12424, 1.18341, 1.06507]),\n",
      "    H298 = (-0.252, 'kcal/mol'),\n",
      "    S298 = (47.71, 'cal/(mol*K)'),\n",
      ")\n",
      "Fitted from species pdt28 from C10H11 library.\n",
      "Fitted from species pdt29 from C10H11 library.\n",
      "====================================================================\n",
      "Original thermo data for polycyclic group: [CH]1C=CC2C=CC=CCC12\n",
      "ThermoData(\n",
      "    Tdata = ([300, 400, 500, 600, 800, 1000, 1500], 'K'),\n",
      "    Cpdata = ([0, 0, 0, 0, 0, 0, 0], 'cal/(mol*K)'),\n",
      "    H298 = (0, 'kcal/mol'),\n",
      "    S298 = (0, 'cal/(mol*K)'),\n",
      "    comment = 'polycyclic(PolycyclicRing)',\n",
      ")\n",
      "Averaging thermo data over 1 value(s).\n",
      "Fitted thermo data for polycyclic group: [CH]1C=CC2C=CC=CCC12\n",
      "ThermoData(\n",
      "    Tdata = ([300, 400, 500, 600, 800, 1000, 1500], 'K'),\n",
      "    Cpdata = ([-7.77, -7.09, -6.28, -5.44, -4.3, -3.43, -2.12], 'cal/(mol*K)'),\n",
      "    H298 = (17.653, 'kcal/mol'),\n",
      "    S298 = (56.06, 'cal/(mol*K)'),\n",
      ")\n",
      "Fitted from species pdt23 from C10H11 library.\n",
      "====================================================================\n",
      "Original thermo data for polycyclic group: [CH]1C=CCC23CC=CC2C13\n",
      "ThermoData(\n",
      "    Tdata = ([300, 400, 500, 600, 800, 1000, 1500], 'K'),\n",
      "    Cpdata = ([0, 0, 0, 0, 0, 0, 0], 'cal/(mol*K)'),\n",
      "    H298 = (0, 'kcal/mol'),\n",
      "    S298 = (0, 'cal/(mol*K)'),\n",
      "    comment = 'polycyclic(PolycyclicRing)',\n",
      ")\n",
      "Averaging thermo data over 1 value(s).\n",
      "Fitted thermo data for polycyclic group: [CH]1C=CCC23CC=CC2C13\n",
      "ThermoData(\n",
      "    Tdata = ([300, 400, 500, 600, 800, 1000, 1500], 'K'),\n",
      "    Cpdata = ([-7.63, -8.02, -8.12, -7.83, -7.46, -6.57, -4.59], 'cal/(mol*K)'),\n",
      "    H298 = (31.943, 'kcal/mol'),\n",
      "    S298 = (90.35, 'cal/(mol*K)'),\n",
      ")\n",
      "Fitted from species pdt24 from C10H11 library.\n",
      "====================================================================\n",
      "Original thermo data for polycyclic group: C1C=CC2C=CC=C2C=1\n",
      "ThermoData(\n",
      "    Tdata = ([300, 400, 500, 600, 800, 1000, 1500], 'K'),\n",
      "    Cpdata = ([0, 0, 0, 0, 0, 0, 0], 'cal/(mol*K)'),\n",
      "    H298 = (0, 'kcal/mol'),\n",
      "    S298 = (0, 'cal/(mol*K)'),\n",
      "    comment = 'polycyclic(PolycyclicRing)',\n",
      ")\n",
      "Averaging thermo data over 1 value(s).\n",
      "Fitted thermo data for polycyclic group: C1C=CC2C=CC=C2C=1\n",
      "ThermoData(\n",
      "    Tdata = ([300, 400, 500, 600, 800, 1000, 1500], 'K'),\n",
      "    Cpdata = ([-9.63, -9.81, -9.04, -7.82, -5.95, -4.71, -3.23], 'cal/(mol*K)'),\n",
      "    H298 = (14.05, 'kcal/mol'),\n",
      "    S298 = (60.39, 'cal/(mol*K)'),\n",
      ")\n",
      "Fitted from species pdt22 from C10H11 library.\n",
      "====================================================================\n",
      "Original thermo data for polycyclic group: [CH]1C=CC=CC2C=CCC12\n",
      "ThermoData(\n",
      "    Tdata = ([300, 400, 500, 600, 800, 1000, 1500], 'K'),\n",
      "    Cpdata = ([0, 0, 0, 0, 0, 0, 0], 'cal/(mol*K)'),\n",
      "    H298 = (0, 'kcal/mol'),\n",
      "    S298 = (0, 'cal/(mol*K)'),\n",
      "    comment = 'polycyclic(PolycyclicRing)',\n",
      ")\n",
      "Averaging thermo data over 1 value(s).\n",
      "Fitted thermo data for polycyclic group: [CH]1C=CC=CC2C=CCC12\n",
      "ThermoData(\n",
      "    Tdata = ([300, 400, 500, 600, 800, 1000, 1500], 'K'),\n",
      "    Cpdata = ([-8.3, -7.62, -6.76, -5.85, -4.59, -3.63, -2.2], 'cal/(mol*K)'),\n",
      "    H298 = (9.883, 'kcal/mol'),\n",
      "    S298 = (55.85, 'cal/(mol*K)'),\n",
      ")\n",
      "Fitted from species pdt8 from C10H11 library.\n",
      "====================================================================\n",
      "Original thermo data for polycyclic group: C1C=CC2C=CCC=2CC=1\n",
      "ThermoData(\n",
      "    Tdata = ([300, 400, 500, 600, 800, 1000, 1500], 'K'),\n",
      "    Cpdata = ([0, 0, 0, 0, 0, 0, 0], 'cal/(mol*K)'),\n",
      "    H298 = (0, 'kcal/mol'),\n",
      "    S298 = (0, 'cal/(mol*K)'),\n",
      "    comment = 'polycyclic(PolycyclicRing)',\n",
      ")\n",
      "Averaging thermo data over 1 value(s).\n",
      "Fitted thermo data for polycyclic group: C1C=CC2C=CCC=2CC=1\n",
      "ThermoData(\n",
      "    Tdata = ([300, 400, 500, 600, 800, 1000, 1500], 'K'),\n",
      "    Cpdata = ([-6.52, -7.11, -6.7, -5.92, -4.93, -4.1, -2.95], 'cal/(mol*K)'),\n",
      "    H298 = (8.12, 'kcal/mol'),\n",
      "    S298 = (54.6, 'cal/(mol*K)'),\n",
      ")\n",
      "Fitted from species pdt35 from C10H11 library.\n",
      "====================================================================\n",
      "Original thermo data for polycyclic group: [CH]1C=CC=CC2CC=CC12\n",
      "ThermoData(\n",
      "    Tdata = ([300, 400, 500, 600, 800, 1000, 1500], 'K'),\n",
      "    Cpdata = ([0, 0, 0, 0, 0, 0, 0], 'cal/(mol*K)'),\n",
      "    H298 = (0, 'kcal/mol'),\n",
      "    S298 = (0, 'cal/(mol*K)'),\n",
      "    comment = 'polycyclic(PolycyclicRing)',\n",
      ")\n",
      "Averaging thermo data over 1 value(s).\n",
      "Fitted thermo data for polycyclic group: [CH]1C=CC=CC2CC=CC12\n",
      "ThermoData(\n",
      "    Tdata = ([300, 400, 500, 600, 800, 1000, 1500], 'K'),\n",
      "    Cpdata = ([-6.8, -6.9, -6.6, -5.7, -4.75, -3.78, -2.35], 'cal/(mol*K)'),\n",
      "    H298 = (9.843, 'kcal/mol'),\n",
      "    S298 = (54.13, 'cal/(mol*K)'),\n",
      ")\n",
      "Fitted from species pdt8 from C10H11 library.\n",
      "====================================================================\n",
      "Original thermo data for polycyclic group: [CH]1C=CC2C3C=CCC23C1\n",
      "ThermoData(\n",
      "    Tdata = ([300, 400, 500, 600, 800, 1000, 1500], 'K'),\n",
      "    Cpdata = ([0, 0, 0, 0, 0, 0, 0], 'cal/(mol*K)'),\n",
      "    H298 = (0, 'kcal/mol'),\n",
      "    S298 = (0, 'cal/(mol*K)'),\n",
      "    comment = 'polycyclic(PolycyclicRing)',\n",
      ")\n",
      "Averaging thermo data over 1 value(s).\n",
      "Fitted thermo data for polycyclic group: [CH]1C=CC2C3C=CCC23C1\n",
      "ThermoData(\n",
      "    Tdata = ([300, 400, 500, 600, 800, 1000, 1500], 'K'),\n",
      "    Cpdata = ([-7.63, -8.02, -8.22, -7.83, -7.46, -6.57, -4.59], 'cal/(mol*K)'),\n",
      "    H298 = (31.693, 'kcal/mol'),\n",
      "    S298 = (90.35, 'cal/(mol*K)'),\n",
      ")\n",
      "Fitted from species pdt24 from C10H11 library.\n",
      "====================================================================\n",
      "Original thermo data for polycyclic group: [CH]1C=CC2C=CC=CC2C1\n",
      "ThermoData(\n",
      "    Tdata = ([300, 400, 500, 600, 800, 1000, 1500], 'K'),\n",
      "    Cpdata = ([0, 0, 0, 0, 0, 0, 0], 'cal/(mol*K)'),\n",
      "    H298 = (0, 'kcal/mol'),\n",
      "    S298 = (0, 'cal/(mol*K)'),\n",
      "    comment = 'polycyclic(PolycyclicRing)',\n",
      ")\n",
      "Averaging thermo data over 1 value(s).\n",
      "Fitted thermo data for polycyclic group: [CH]1C=CC2C=CC=CC2C1\n",
      "ThermoData(\n",
      "    Tdata = ([300, 400, 500, 600, 800, 1000, 1500], 'K'),\n",
      "    Cpdata = ([-7.91, -7.26, -6.54, -5.57, -4.35, -3.43, -2.07], 'cal/(mol*K)'),\n",
      "    H298 = (7.733, 'kcal/mol'),\n",
      "    S298 = (54.59, 'cal/(mol*K)'),\n",
      ")\n",
      "Fitted from species pdt10bis from C10H11 library.\n",
      "====================================================================\n",
      "Original thermo data for polycyclic group: C1C=CC2CC=CCC=2C=1\n",
      "ThermoData(\n",
      "    Tdata = ([300, 400, 500, 600, 800, 1000, 1500], 'K'),\n",
      "    Cpdata = ([0, 0, 0, 0, 0, 0, 0], 'cal/(mol*K)'),\n",
      "    H298 = (0, 'kcal/mol'),\n",
      "    S298 = (0, 'cal/(mol*K)'),\n",
      "    comment = 'polycyclic(PolycyclicRing)',\n",
      ")\n",
      "Averaging thermo data over 1 value(s).\n",
      "Fitted thermo data for polycyclic group: C1C=CC2CC=CCC=2C=1\n",
      "ThermoData(\n",
      "    Tdata = ([300, 400, 500, 600, 800, 1000, 1500], 'K'),\n",
      "    Cpdata = ([-10.4, -11.67, -11.09, -9.63, -7.17, -5.47, -2.85], 'cal/(mol*K)'),\n",
      "    H298 = (-17.82, 'kcal/mol'),\n",
      "    S298 = (53.93, 'cal/(mol*K)'),\n",
      ")\n",
      "Fitted from species pdt38 from C10H11 library.\n",
      "====================================================================\n",
      "Original thermo data for polycyclic group: [CH]1C=CCC2=CC=CCC12\n",
      "ThermoData(\n",
      "    Tdata = ([300, 400, 500, 600, 800, 1000, 1500], 'K'),\n",
      "    Cpdata = ([0, 0, 0, 0, 0, 0, 0], 'cal/(mol*K)'),\n",
      "    H298 = (0, 'kcal/mol'),\n",
      "    S298 = (0, 'cal/(mol*K)'),\n",
      "    comment = 'polycyclic(PolycyclicRing)',\n",
      ")\n",
      "Averaging thermo data over 1 value(s).\n",
      "Fitted thermo data for polycyclic group: [CH]1C=CCC2=CC=CCC12\n",
      "ThermoData(\n",
      "    Tdata = ([300, 400, 500, 600, 800, 1000, 1500], 'K'),\n",
      "    Cpdata = ([-6.73, -7.01, -6.62, -5.72, -4.62, -3.7, -2.11], 'cal/(mol*K)'),\n",
      "    H298 = (7.603, 'kcal/mol'),\n",
      "    S298 = (53, 'cal/(mol*K)'),\n",
      ")\n",
      "Fitted from species pdt19 from C10H11 library.\n",
      "====================================================================\n",
      "Original thermo data for polycyclic group: CC1C=CC=C2C=CC[C]21\n",
      "ThermoData(\n",
      "    Tdata = ([300, 400, 500, 600, 800, 1000, 1500], 'K'),\n",
      "    Cpdata = ([0, 0, 0, 0, 0, 0, 0], 'cal/(mol*K)'),\n",
      "    H298 = (0, 'kcal/mol'),\n",
      "    S298 = (0, 'cal/(mol*K)'),\n",
      "    comment = 'polycyclic(PolycyclicRing)',\n",
      ")\n",
      "Averaging thermo data over 1 value(s).\n",
      "Fitted thermo data for polycyclic group: CC1C=CC=C2C=CC[C]21\n",
      "ThermoData(\n",
      "    Tdata = ([300, 400, 500, 600, 800, 1000, 1500], 'K'),\n",
      "    Cpdata = ([-6.64, -7.24, -7.18, -6.26, -5.11, -4.04, -3.16], 'cal/(mol*K)'),\n",
      "    H298 = (2.893, 'kcal/mol'),\n",
      "    S298 = (61.1732, 'cal/(mol*K)'),\n",
      ")\n",
      "Fitted from species pdt27 from C10H11 library.\n",
      "====================================================================\n",
      "Original thermo data for polycyclic group: CC1C=CC2=C[CH]C=CC21\n",
      "ThermoData(\n",
      "    Tdata = ([300, 400, 500, 600, 800, 1000, 1500], 'K'),\n",
      "    Cpdata = ([0, 0, 0, 0, 0, 0, 0], 'cal/(mol*K)'),\n",
      "    H298 = (0, 'kcal/mol'),\n",
      "    S298 = (0, 'cal/(mol*K)'),\n",
      "    comment = 'polycyclic(PolycyclicRing)',\n",
      ")\n",
      "Averaging thermo data over 1 value(s).\n",
      "Fitted thermo data for polycyclic group: CC1C=CC2=C[CH]C=CC21\n",
      "ThermoData(\n",
      "    Tdata = ([300, 400, 500, 600, 800, 1000, 1500], 'K'),\n",
      "    Cpdata = ([-6.91, -7.09, -6.83, -6.08, -4.95, -4.08, -3.42], 'cal/(mol*K)'),\n",
      "    H298 = (5.483, 'kcal/mol'),\n",
      "    S298 = (58.2132, 'cal/(mol*K)'),\n",
      ")\n",
      "Fitted from species pdt32 from C10H11 library.\n",
      "====================================================================\n",
      "Original thermo data for polycyclic group: CC1C=C[C]2C=CC=CC21\n",
      "ThermoData(\n",
      "    Tdata = ([300, 400, 500, 600, 800, 1000, 1500], 'K'),\n",
      "    Cpdata = ([0, 0, 0, 0, 0, 0, 0], 'cal/(mol*K)'),\n",
      "    H298 = (0, 'kcal/mol'),\n",
      "    S298 = (0, 'cal/(mol*K)'),\n",
      "    comment = 'polycyclic(PolycyclicRing)',\n",
      ")\n",
      "Averaging thermo data over 1 value(s).\n",
      "Fitted thermo data for polycyclic group: CC1C=C[C]2C=CC=CC21\n",
      "ThermoData(\n",
      "    Tdata = ([300, 400, 500, 600, 800, 1000, 1500], 'K'),\n",
      "    Cpdata = ([-7.78, -6.1, -4.92, -3.65, -2.41, -1.62, -0.77], 'cal/(mol*K)'),\n",
      "    H298 = (-15.727, 'kcal/mol'),\n",
      "    S298 = (49.8332, 'cal/(mol*K)'),\n",
      ")\n",
      "Fitted from species pdt32 from C10H11 library.\n",
      "====================================================================\n",
      "Original thermo data for polycyclic group: [CH]1C=CC2C1C1CC=CC21\n",
      "ThermoData(\n",
      "    Tdata = ([300, 400, 500, 600, 800, 1000, 1500], 'K'),\n",
      "    Cpdata = ([0, 0, 0, 0, 0, 0, 0], 'cal/(mol*K)'),\n",
      "    H298 = (0, 'kcal/mol'),\n",
      "    S298 = (0, 'cal/(mol*K)'),\n",
      "    comment = 'polycyclic(PolycyclicRing)',\n",
      ")\n",
      "Averaging thermo data over 1 value(s).\n",
      "Fitted thermo data for polycyclic group: [CH]1C=CC2C1C1CC=CC21\n",
      "ThermoData(\n",
      "    Tdata = ([300, 400, 500, 600, 800, 1000, 1500], 'K'),\n",
      "    Cpdata = ([-7.96, -7.63, -7.28, -6.59, -6.22, -5.52, -4.52], 'cal/(mol*K)'),\n",
      "    H298 = (37.503, 'kcal/mol'),\n",
      "    S298 = (88.92, 'cal/(mol*K)'),\n",
      ")\n",
      "Fitted from species pdt7 from C10H11 library.\n",
      "====================================================================\n",
      "Original thermo data for polycyclic group: [CH]1C=CCC2C=CC=CC12\n",
      "ThermoData(\n",
      "    Tdata = ([300, 400, 500, 600, 800, 1000, 1500], 'K'),\n",
      "    Cpdata = ([0, 0, 0, 0, 0, 0, 0], 'cal/(mol*K)'),\n",
      "    H298 = (0, 'kcal/mol'),\n",
      "    S298 = (0, 'cal/(mol*K)'),\n",
      "    comment = 'polycyclic(PolycyclicRing)',\n",
      ")\n",
      "Averaging thermo data over 1 value(s).\n",
      "Fitted thermo data for polycyclic group: [CH]1C=CCC2C=CC=CC12\n",
      "ThermoData(\n",
      "    Tdata = ([300, 400, 500, 600, 800, 1000, 1500], 'K'),\n",
      "    Cpdata = ([-6.41, -6.54, -6.28, -5.42, -4.51, -3.58, -2.22], 'cal/(mol*K)'),\n",
      "    H298 = (7.943, 'kcal/mol'),\n",
      "    S298 = (52.87, 'cal/(mol*K)'),\n",
      ")\n",
      "Fitted from species pdt10bis from C10H11 library.\n",
      "====================================================================\n",
      "Original thermo data for polycyclic group: [CH]1C=CC=C2C=CCC2C1\n",
      "ThermoData(\n",
      "    Tdata = ([300, 400, 500, 600, 800, 1000, 1500], 'K'),\n",
      "    Cpdata = ([0, 0, 0, 0, 0, 0, 0], 'cal/(mol*K)'),\n",
      "    H298 = (0, 'kcal/mol'),\n",
      "    S298 = (0, 'cal/(mol*K)'),\n",
      "    comment = 'polycyclic(PolycyclicRing)',\n",
      ")\n",
      "Averaging thermo data over 1 value(s).\n",
      "Fitted thermo data for polycyclic group: [CH]1C=CC=C2C=CCC2C1\n",
      "ThermoData(\n",
      "    Tdata = ([300, 400, 500, 600, 800, 1000, 1500], 'K'),\n",
      "    Cpdata = ([-8.56, -9.04, -8.6, -7.5, -5.91, -4.62, -2.75], 'cal/(mol*K)'),\n",
      "    H298 = (0.693, 'kcal/mol'),\n",
      "    S298 = (56.96, 'cal/(mol*K)'),\n",
      ")\n",
      "Fitted from species pdt29 from C10H11 library.\n",
      "====================================================================\n",
      "Original thermo data for polycyclic group: C1C=CC2CC=CC[C]2C=1\n",
      "ThermoData(\n",
      "    Tdata = ([300, 400, 500, 600, 800, 1000, 1500], 'K'),\n",
      "    Cpdata = ([0, 0, 0, 0, 0, 0, 0], 'cal/(mol*K)'),\n",
      "    H298 = (0, 'kcal/mol'),\n",
      "    S298 = (0, 'cal/(mol*K)'),\n",
      "    comment = 'polycyclic(PolycyclicRing)',\n",
      ")\n",
      "Averaging thermo data over 1 value(s).\n",
      "Fitted thermo data for polycyclic group: C1C=CC2CC=CC[C]2C=1\n",
      "ThermoData(\n",
      "    Tdata = ([300, 400, 500, 600, 800, 1000, 1500], 'K'),\n",
      "    Cpdata = ([-6.5, -6.38, -6.02, -5.14, -4.25, -3.36, -2.6], 'cal/(mol*K)'),\n",
      "    H298 = (-1.797, 'kcal/mol'),\n",
      "    S298 = (52.01, 'cal/(mol*K)'),\n",
      ")\n",
      "Fitted from species pdt37 from C10H11 library.\n",
      "====================================================================\n",
      "Original thermo data for polycyclic group: CC1C=CC=C2C=C[CH]C21\n",
      "ThermoData(\n",
      "    Tdata = ([300, 400, 500, 600, 800, 1000, 1500], 'K'),\n",
      "    Cpdata = ([0, 0, 0, 0, 0, 0, 0], 'cal/(mol*K)'),\n",
      "    H298 = (0, 'kcal/mol'),\n",
      "    S298 = (0, 'cal/(mol*K)'),\n",
      "    comment = 'polycyclic(PolycyclicRing)',\n",
      ")\n",
      "Averaging thermo data over 1 value(s).\n",
      "Fitted thermo data for polycyclic group: CC1C=CC=C2C=C[CH]C21\n",
      "ThermoData(\n",
      "    Tdata = ([300, 400, 500, 600, 800, 1000, 1500], 'K'),\n",
      "    Cpdata = ([-7.17, -7.9, -7.83, -6.85, -5.58, -4.42, -2.87], 'cal/(mol*K)'),\n",
      "    H298 = (4.683, 'kcal/mol'),\n",
      "    S298 = (60.0032, 'cal/(mol*K)'),\n",
      ")\n",
      "Fitted from species pdt21 from C10H11 library.\n",
      "====================================================================\n",
      "Original thermo data for polycyclic group: CC1C=C[CH]C2=CC=CC21\n",
      "ThermoData(\n",
      "    Tdata = ([300, 400, 500, 600, 800, 1000, 1500], 'K'),\n",
      "    Cpdata = ([0, 0, 0, 0, 0, 0, 0], 'cal/(mol*K)'),\n",
      "    H298 = (0, 'kcal/mol'),\n",
      "    S298 = (0, 'cal/(mol*K)'),\n",
      "    comment = 'polycyclic(PolycyclicRing)',\n",
      ")\n",
      "Averaging thermo data over 1 value(s).\n",
      "Fitted thermo data for polycyclic group: CC1C=C[CH]C2=CC=CC21\n",
      "ThermoData(\n",
      "    Tdata = ([300, 400, 500, 600, 800, 1000, 1500], 'K'),\n",
      "    Cpdata = ([-6.68, -6.81, -6.56, -5.84, -4.8, -3.99, -3.4], 'cal/(mol*K)'),\n",
      "    H298 = (6.863, 'kcal/mol'),\n",
      "    S298 = (57.6932, 'cal/(mol*K)'),\n",
      ")\n",
      "Fitted from species pdt21 from C10H11 library.\n",
      "====================================================================\n",
      "Original thermo data for polycyclic group: C1=CC=C2CC=CCC2=C1\n",
      "ThermoData(\n",
      "    Tdata = ([300, 400, 500, 600, 800, 1000, 1500], 'K'),\n",
      "    Cpdata = ([0, 0, 0, 0, 0, 0, 0], 'cal/(mol*K)'),\n",
      "    H298 = (0, 'kcal/mol'),\n",
      "    S298 = (0, 'cal/(mol*K)'),\n",
      "    comment = 'polycyclic(PolycyclicRing)',\n",
      ")\n",
      "Averaging thermo data over 1 value(s).\n",
      "Fitted thermo data for polycyclic group: C1=CC=C2CC=CCC2=C1\n",
      "ThermoData(\n",
      "    Tdata = ([300, 400, 500, 600, 800, 1000, 1500], 'K'),\n",
      "    Cpdata = ([-10.4, -11.67, -11.09, -9.63, -7.17, -5.47, -2.85], 'cal/(mol*K)'),\n",
      "    H298 = (-17.82, 'kcal/mol'),\n",
      "    S298 = (53.93, 'cal/(mol*K)'),\n",
      ")\n",
      "Fitted from species pdt38 from C10H11 library.\n",
      "====================================================================\n"
     ]
    }
   ],
   "source": [
    "for polycyclicGroup, fittingGroups in fittingDictionary.iteritems():\n",
    "    print 'Original thermo data for polycyclic group: {0}'.format(polycyclicGroup.label)\n",
    "    if polycyclicGroup.data:\n",
    "        print prettify(repr(polycyclicGroup.data))\n",
    "    else:\n",
    "        print 'No data found. Was created as a new group.'\n",
    "    \n",
    "    thermoDataset = [fitTuple[0] for fitTuple in fittingGroups]\n",
    "    labels = [fitTuple[1].label for fitTuple in fittingGroups]\n",
    "    libraryLabels = [fitTuple[2].name for fitTuple in fittingGroups]\n",
    "    # Average the new group values to fit the original polycyclic group\n",
    "    fittedGroupData = averageThermoData([fitTuple[0] for fitTuple in fittingGroups])\n",
    "    #print fittedGroupData\n",
    "    #print fittingGroups\n",
    "    polycyclicGroup.data = fittedGroupData\n",
    "    polycyclicGroup.shortDesc = \"Fitted from thermo library values\"\n",
    "    \n",
    "    comment = ''\n",
    "    for i in range(len(labels)):\n",
    "        comment += \"Fitted from species {0} from {1} library.\\n\".format(labels[i],libraryLabels[i])\n",
    "    polycyclicGroup.longDesc = comment.strip()\n",
    "    \n",
    "    print 'Fitted thermo data for polycyclic group: {0}'.format(polycyclicGroup.label)\n",
    "    print prettify(repr(polycyclicGroup.data))\n",
    "    print polycyclicGroup.longDesc\n",
    "    print '===================================================================='\n",
    "    # At this point, save and overwrite the entire polycyclic thermo library\n",
    "\n",
    "thermoDatabase.groups['polycyclic'].save('new_polycyclic.py')"
   ]
  },
  {
   "cell_type": "code",
   "execution_count": 8,
   "metadata": {
    "collapsed": true
   },
   "outputs": [],
   "source": [
    "def compareThermoData(thermoData1, thermoData2):\n",
    "    delH = thermoData1.H298.value_si - thermoData2.H298.value_si\n",
    "    print 'Difference in H298 = {0} kcal/mol'.format(delH/4184)\n",
    "    delS = thermoData1.S298.value_si - thermoData2.S298.value_si\n",
    "    print 'Difference S298 = {0} cal/mol*K'.format(delS/4.184)\n",
    "    Tdata = [300,500,1000,2000]\n",
    "    for T in Tdata:\n",
    "        delCp = thermoData1.getHeatCapacity(T) - thermoData2.getHeatCapacity(T)\n",
    "        print 'Difference in Cp at {0} = {1} cal/mol*K'.format(T, delCp/4.184)"
   ]
  },
  {
   "cell_type": "code",
   "execution_count": 9,
   "metadata": {
    "collapsed": false
   },
   "outputs": [
    {
     "name": "stdout",
     "output_type": "stream",
     "text": [
      "pdt7\n"
     ]
    },
    {
     "data": {
      "image/png": "[encoded data removed]",
      "text/plain": [
       "Molecule(SMILES=\"[CH]1C=CC2C1C1CC=CC21\")"
      ]
     },
     "metadata": {},
     "output_type": "display_data"
    },
    {
     "name": "stdout",
     "output_type": "stream",
     "text": [
      "Species has 2 resonance isomers\n",
      "Library thermo data for species pdt7 does not match the estimate from group additivity\n",
      "Library thermo data:\n",
      "ThermoData(\n",
      "    Tdata = ([300, 400, 500, 600, 800, 1000, 1500], 'K'),\n",
      "    Cpdata = ([34.78, 48.21, 59.54, 68.55, 81.61, 90.58, 103.73], 'cal/(mol*K)'),\n",
      "    H298 = (85.78, 'kcal/mol'),\n",
      "    S298 = (89.07, 'cal/(mol*K)'),\n",
      "    Cp0 = (33.2579, 'J/(mol*K)'),\n",
      "    CpInf = (507.183, 'J/(mol*K)'),\n",
      ")\n",
      "H298 = 85.78 kcal/mol\n",
      "S298 = 89.07 cal/mol*K\n",
      "Estimated thermo data:\n",
      "ThermoData(\n",
      "    Tdata = ([300, 400, 500, 600, 800, 1000, 1500], 'K'),\n",
      "    Cpdata = ([178.824, 233.635, 279.575, 314.386, 367.481, 402.082, 452.918], 'J/(mol*K)'),\n",
      "    H298 = (201.991, 'kJ/mol'),\n",
      "    S298 = (0.6276, 'J/(mol*K)'),\n",
      "    Cp0 = (33.2579, 'J/(mol*K)'),\n",
      "    CpInf = (507.183, 'J/(mol*K)'),\n",
      "    comment = 'Thermo group additivity estimation: group(Cs-CsCsCsH) + other(R) + group(Cs-CsCsCsH) + other(R) + group(Cs-(Cds-Cds)CsCsH) + other(R) + group(Cs-(Cds-Cds)CsCsH) + other(R) + group(Cs-(Cds-Cds)CsHH) + other(R) + group(Cs-(Cds-Cds)CsHH) + other(R) + group(Cds-CdsCsH) + other(R) + group(Cds-CdsCsH) + other(R) + group(Cds-CdsCsH) + other(R) + group(Cds-CdsCsH) + other(R) + polycyclic(PolycyclicRing) + radical(cyclopentene-allyl)',\n",
      ")\n",
      "H298 = 48.277 kcal/mol\n",
      "S298 = 0.15 cal/mol*K\n",
      "Difference in H298 = 37.503 kcal/mol\n",
      "Difference S298 = 88.92 cal/mol*K\n",
      "Difference in Cp at 300 = -7.96 cal/mol*K\n",
      "Difference in Cp at 500 = -7.28 cal/mol*K\n",
      "Difference in Cp at 1000 = -5.52 cal/mol*K\n",
      "Difference in Cp at 2000 = -3.52 cal/mol*K\n",
      "=======================\n",
      "pdt8\n"
     ]
    },
    {
     "data": {
      "image/png": "[encoded data removed]",
      "text/plain": [
       "Molecule(SMILES=\"[CH]1C=CC=CC2CC=CC12\")"
      ]
     },
     "metadata": {},
     "output_type": "display_data"
    },
    {
     "name": "stdout",
     "output_type": "stream",
     "text": [
      "Species has 3 resonance isomers\n",
      "Library thermo data for species pdt8 does not match the estimate from group additivity\n",
      "Library thermo data:\n",
      "ThermoData(\n",
      "    Tdata = ([300, 400, 500, 600, 800, 1000, 1500], 'K'),\n",
      "    Cpdata = ([35.78, 48.52, 59.38, 68.18, 81.16, 90.2, 103.52], 'cal/(mol*K)'),\n",
      "    H298 = (78.78, 'kcal/mol'),\n",
      "    S298 = (91.18, 'cal/(mol*K)'),\n",
      "    Cp0 = (33.2579, 'J/(mol*K)'),\n",
      "    CpInf = (507.183, 'J/(mol*K)'),\n",
      ")\n",
      "H298 = 78.78 kcal/mol\n",
      "S298 = 91.18 cal/mol*K\n",
      "Estimated thermo data:\n",
      "ThermoData(\n",
      "    Tdata = ([300, 400, 500, 600, 800, 1000, 1500], 'K'),\n",
      "    Cpdata = ([176.105, 227.317, 270.747, 304.888, 356.184, 391.413, 445.178], 'J/(mol*K)'),\n",
      "    H298 = (266.968, 'kJ/mol'),\n",
      "    S298 = (163.385, 'J/(mol*K)'),\n",
      "    Cp0 = (33.2579, 'J/(mol*K)'),\n",
      "    CpInf = (507.183, 'J/(mol*K)'),\n",
      "    comment = 'Thermo group additivity estimation: group(Cs-(Cds-Cds)CsCsH) + other(R) + group(Cs-(Cds-Cds)(Cds-Cds)CsH) + other(R) + group(Cs-(Cds-Cds)CsHH) + other(R) + group(Cs-(Cds-Cds)(Cds-Cds)HH) + other(R) + group(Cds-CdsCsH) + other(R) + group(Cds-CdsCsH) + other(R) + group(Cds-CdsCsH) + other(R) + group(Cds-CdsCsH) + other(R) + group(Cds-CdsCsH) + other(R) + group(Cds-CdsCsH) + other(R) + polycyclic(PolycyclicRing) + radical(C=CCJC=C)',\n",
      ")\n",
      "H298 = 63.807 kcal/mol\n",
      "S298 = 39.05 cal/mol*K\n",
      "Difference in H298 = 14.973 kcal/mol\n",
      "Difference S298 = 52.13 cal/mol*K\n",
      "Difference in Cp at 300 = -6.31 cal/mol*K\n",
      "Difference in Cp at 500 = -5.33 cal/mol*K\n",
      "Difference in Cp at 1000 = -3.35 cal/mol*K\n",
      "Difference in Cp at 2000 = -2.41 cal/mol*K\n",
      "=======================\n",
      "pdt10bis\n"
     ]
    },
    {
     "data": {
      "image/png": "[encoded data removed]",
      "text/plain": [
       "Molecule(SMILES=\"[CH]1C=CCC2C=CC=CC12\")"
      ]
     },
     "metadata": {},
     "output_type": "display_data"
    },
    {
     "name": "stdout",
     "output_type": "stream",
     "text": [
      "Species has 2 resonance isomers\n",
      "Library thermo data for species pdt10bis does not match the estimate from group additivity\n",
      "Library thermo data:\n",
      "ThermoData(\n",
      "    Tdata = ([300, 400, 500, 600, 800, 1000, 1500], 'K'),\n",
      "    Cpdata = ([36.17, 48.88, 59.7, 68.46, 81.4, 90.4, 103.65], 'cal/(mol*K)'),\n",
      "    H298 = (76.28, 'kcal/mol'),\n",
      "    S298 = (89.92, 'cal/(mol*K)'),\n",
      "    Cp0 = (33.2579, 'J/(mol*K)'),\n",
      "    CpInf = (507.183, 'J/(mol*K)'),\n",
      ")\n",
      "H298 = 76.28 kcal/mol\n",
      "S298 = 89.92 cal/mol*K\n",
      "Estimated thermo data:\n",
      "ThermoData(\n",
      "    Tdata = ([300, 400, 500, 600, 800, 1000, 1500], 'K'),\n",
      "    Cpdata = ([178.155, 231.877, 276.06, 309.114, 359.447, 393.212, 442.96], 'J/(mol*K)'),\n",
      "    H298 = (285.922, 'kJ/mol'),\n",
      "    S298 = (155.017, 'J/(mol*K)'),\n",
      "    Cp0 = (33.2579, 'J/(mol*K)'),\n",
      "    CpInf = (507.183, 'J/(mol*K)'),\n",
      "    comment = 'Thermo group additivity estimation: group(Cs-(Cds-Cds)CsCsH) + other(R) + group(Cs-(Cds-Cds)CsCsH) + other(R) + group(Cs-(Cds-Cds)CsHH) + other(R) + group(Cs-(Cds-Cds)CsHH) + other(R) + group(Cds-CdsCsH) + other(R) + group(Cds-CdsCsH) + other(R) + group(Cds-CdsCsH) + other(R) + group(Cds-CdsCsH) + other(R) + group(Cds-Cds(Cds-Cds)H) + other(R) + group(Cds-Cds(Cds-Cds)H) + other(R) + polycyclic(PolycyclicRing) + radical(cyclohexene-allyl)',\n",
      ")\n",
      "H298 = 68.337 kcal/mol\n",
      "S298 = 37.05 cal/mol*K\n",
      "Difference in H298 = 7.943 kcal/mol\n",
      "Difference S298 = 52.87 cal/mol*K\n",
      "Difference in Cp at 300 = -6.41 cal/mol*K\n",
      "Difference in Cp at 500 = -6.28 cal/mol*K\n",
      "Difference in Cp at 1000 = -3.58 cal/mol*K\n",
      "Difference in Cp at 2000 = -0.86 cal/mol*K\n",
      "=======================\n",
      "pdt11\n"
     ]
    },
    {
     "data": {
      "image/png": "[encoded data removed]",
      "text/plain": [
       "Molecule(SMILES=\"C1=CCC2C=CC=CC2=C1\")"
      ]
     },
     "metadata": {},
     "output_type": "display_data"
    },
    {
     "name": "stdout",
     "output_type": "stream",
     "text": [
      "Species has 1 resonance isomers\n",
      "Library thermo data for species pdt11 matches the estimate from group additivity.\n",
      "Library thermo data:\n",
      "ThermoData(\n",
      "    Tdata = ([300, 400, 500, 600, 800, 1000, 1500], 'K'),\n",
      "    Cpdata = ([34.42, 46.5, 56.8, 65.16, 77.52, 86.1, 98.67], 'cal/(mol*K)'),\n",
      "    H298 = (63.19, 'kcal/mol'),\n",
      "    S298 = (87.27, 'cal/(mol*K)'),\n",
      "    Cp0 = (33.2579, 'J/(mol*K)'),\n",
      "    CpInf = (482.239, 'J/(mol*K)'),\n",
      ")\n",
      "H298 = 63.19 kcal/mol\n",
      "S298 = 87.27 cal/mol*K\n",
      "Estimated thermo data:\n",
      "ThermoData(\n",
      "    Tdata = ([300, 400, 500, 600, 800, 1000, 1500], 'K'),\n",
      "    Cpdata = ([144.013, 194.556, 237.651, 272.629, 324.344, 360.242, 412.835], 'J/(mol*K)'),\n",
      "    H298 = (264.387, 'kJ/mol'),\n",
      "    S298 = (365.138, 'J/(mol*K)'),\n",
      "    Cp0 = (33.2579, 'J/(mol*K)'),\n",
      "    CpInf = (482.239, 'J/(mol*K)'),\n",
      "    comment = 'Thermo group additivity estimation: group(Cs-(Cds-Cds)(Cds-Cds)CsH) + other(R) + group(Cs-(Cds-Cds)CsHH) + other(R) + group(Cds-Cds(Cds-Cds)Cs) + other(R) + group(Cds-CdsCsH) + other(R) + group(Cds-CdsCsH) + other(R) + group(Cds-Cds(Cds-Cds)H) + other(R) + group(Cds-Cds(Cds-Cds)H) + other(R) + group(Cds-Cds(Cds-Cds)H) + other(R) + group(Cds-Cds(Cds-Cds)H) + other(R) + group(Cds-Cds(Cds-Cds)H) + other(R) + polycyclic(C1=CCC2C=CC=CC2=C1)',\n",
      ")\n",
      "H298 = 63.19 kcal/mol\n",
      "S298 = 87.27 cal/mol*K\n",
      "=======================\n",
      "pdt17\n"
     ]
    },
    {
     "data": {
      "image/png": "[encoded data removed]",
      "text/plain": [
       "Molecule(SMILES=\"[CH]1C=CCC12C=CC=CC2\")"
      ]
     },
     "metadata": {},
     "output_type": "display_data"
    },
    {
     "name": "stdout",
     "output_type": "stream",
     "text": [
      "Species has 2 resonance isomers\n",
      "Library thermo data for species pdt17 does not match the estimate from group additivity\n",
      "Library thermo data:\n",
      "ThermoData(\n",
      "    Tdata = ([300, 400, 500, 600, 800, 1000, 1500], 'K'),\n",
      "    Cpdata = ([37.03, 49.77, 60.5, 69.12, 81.79, 90.61, 103.67], 'cal/(mol*K)'),\n",
      "    H298 = (80.09, 'kcal/mol'),\n",
      "    S298 = (92.88, 'cal/(mol*K)'),\n",
      "    Cp0 = (33.2579, 'J/(mol*K)'),\n",
      "    CpInf = (507.183, 'J/(mol*K)'),\n",
      ")\n",
      "H298 = 80.09 kcal/mol\n",
      "S298 = 92.88 cal/mol*K\n",
      "Estimated thermo data:\n",
      "ThermoData(\n",
      "    Tdata = ([300, 400, 500, 600, 800, 1000, 1500], 'K'),\n",
      "    Cpdata = ([183.05, 236.773, 280.244, 314.26, 363.924, 397.062, 442.625], 'J/(mol*K)'),\n",
      "    H298 = (273.412, 'kJ/mol'),\n",
      "    S298 = (146.984, 'J/(mol*K)'),\n",
      "    Cp0 = (33.2579, 'J/(mol*K)'),\n",
      "    CpInf = (507.183, 'J/(mol*K)'),\n",
      "    comment = 'Thermo group additivity estimation: group(Cs-(Cds-Cds)(Cds-Cds)CsCs) + other(R) + group(Cs-CsCsHH) + other(R) + group(Cs-(Cds-Cds)CsHH) + other(R) + group(Cs-(Cds-Cds)CsHH) + other(R) + group(Cds-CdsCsH) + other(R) + group(Cds-CdsCsH) + other(R) + group(Cds-CdsCsH) + other(R) + group(Cds-CdsCsH) + other(R) + group(Cds-Cds(Cds-Cds)H) + other(R) + group(Cds-Cds(Cds-Cds)H) + other(R) + polycyclic(PolycyclicRing) + radical(cyclopentene-allyl)',\n",
      ")\n",
      "H298 = 65.347 kcal/mol\n",
      "S298 = 35.13 cal/mol*K\n",
      "Difference in H298 = 14.743 kcal/mol\n",
      "Difference S298 = 57.75 cal/mol*K\n",
      "Difference in Cp at 300 = -6.72 cal/mol*K\n",
      "Difference in Cp at 500 = -6.48 cal/mol*K\n",
      "Difference in Cp at 1000 = -4.29 cal/mol*K\n",
      "Difference in Cp at 2000 = 0.05 cal/mol*K\n",
      "=======================\n",
      "pdt19\n"
     ]
    },
    {
     "data": {
      "image/png": "[encoded data removed]",
      "text/plain": [
       "Molecule(SMILES=\"[CH]1C=CCC2=CC=CCC12\")"
      ]
     },
     "metadata": {},
     "output_type": "display_data"
    },
    {
     "name": "stdout",
     "output_type": "stream",
     "text": [
      "Species has 2 resonance isomers\n",
      "Library thermo data for species pdt19 does not match the estimate from group additivity\n",
      "Library thermo data:\n",
      "ThermoData(\n",
      "    Tdata = ([300, 400, 500, 600, 800, 1000, 1500], 'K'),\n",
      "    Cpdata = ([36.33, 48.88, 59.6, 68.33, 81.28, 90.32, 103.62], 'cal/(mol*K)'),\n",
      "    H298 = (74.88, 'kcal/mol'),\n",
      "    S298 = (91.27, 'cal/(mol*K)'),\n",
      "    Cp0 = (33.2579, 'J/(mol*K)'),\n",
      "    CpInf = (507.183, 'J/(mol*K)'),\n",
      ")\n",
      "H298 = 74.88 kcal/mol\n",
      "S298 = 91.27 cal/mol*K\n",
      "Estimated thermo data:\n",
      "ThermoData(\n",
      "    Tdata = ([300, 400, 500, 600, 800, 1000, 1500], 'K'),\n",
      "    Cpdata = ([186.606, 236.731, 278.11, 310.578, 359.029, 392.836, 442.04], 'J/(mol*K)'),\n",
      "    H298 = (281.11, 'kJ/mol'),\n",
      "    S298 = (152.842, 'J/(mol*K)'),\n",
      "    Cp0 = (33.2579, 'J/(mol*K)'),\n",
      "    CpInf = (507.183, 'J/(mol*K)'),\n",
      "    comment = 'Thermo group additivity estimation: group(Cs-(Cds-Cds)(Cds-Cds)CsH) + other(R) + group(Cs-(Cds-Cds)CsHH) + other(R) + group(Cs-(Cds-Cds)CsHH) + other(R) + group(Cs-(Cds-Cds)CsHH) + other(R) + group(Cds-CdsCsCs) + other(R) + group(Cds-CdsCsH) + other(R) + group(Cds-CdsCsH) + other(R) + group(Cds-CdsCsH) + other(R) + group(Cds-Cds(Cds-Cds)H) + other(R) + group(Cds-Cds(Cds-Cds)H) + other(R) + polycyclic(PolycyclicRing) + radical(cyclohexene-allyl)',\n",
      ")\n",
      "H298 = 67.187 kcal/mol\n",
      "S298 = 36.53 cal/mol*K\n",
      "Difference in H298 = 7.693 kcal/mol\n",
      "Difference S298 = 54.74 cal/mol*K\n",
      "Difference in Cp at 300 = -8.27 cal/mol*K\n",
      "Difference in Cp at 500 = -6.87 cal/mol*K\n",
      "Difference in Cp at 1000 = -3.57 cal/mol*K\n",
      "Difference in Cp at 2000 = -0.49 cal/mol*K\n",
      "=======================\n",
      "pdt21\n"
     ]
    },
    {
     "data": {
      "image/png": "[encoded data removed]",
      "text/plain": [
       "Molecule(SMILES=\"CC1C=CC=C2C=C[CH]C21\")"
      ]
     },
     "metadata": {},
     "output_type": "display_data"
    },
    {
     "name": "stdout",
     "output_type": "stream",
     "text": [
      "Species has 4 resonance isomers\n",
      "Library thermo data for species pdt21 does not match the estimate from group additivity\n",
      "Library thermo data:\n",
      "ThermoData(\n",
      "    Tdata = ([300, 400, 500, 600, 800, 1000, 1500], 'K'),\n",
      "    Cpdata = ([37.02, 49.6, 60.29, 68.93, 81.68, 90.56, 103.68], 'cal/(mol*K)'),\n",
      "    H298 = (63.36, 'kcal/mol'),\n",
      "    S298 = (91.32, 'cal/(mol*K)'),\n",
      "    Cp0 = (33.2579, 'J/(mol*K)'),\n",
      "    CpInf = (503.026, 'J/(mol*K)'),\n",
      ")\n",
      "H298 = 63.36 kcal/mol\n",
      "S298 = 91.32 cal/mol*K\n",
      "Estimated thermo data:\n",
      "ThermoData(\n",
      "    Tdata = ([300, 400, 500, 600, 800, 1000, 1500], 'K'),\n",
      "    Cpdata = ([182.841, 236.019, 279.7, 312.838, 361.832, 395.597, 448.023], 'J/(mol*K)'),\n",
      "    H298 = (236.383, 'kJ/mol'),\n",
      "    S298 = (140.695, 'J/(mol*K)'),\n",
      "    Cp0 = (33.2579, 'J/(mol*K)'),\n",
      "    CpInf = (503.026, 'J/(mol*K)'),\n",
      "    comment = 'Thermo group additivity estimation: group(Cs-(Cds-Cds)CsCsH) + other(R) + group(Cs-(Cds-Cds)(Cds-Cds)CsH) + other(R) + group(Cs-(Cds-Cds)(Cds-Cds)HH) + other(R) + group(Cs-CsHHH) + other(R) + group(Cds-CdsCsCs) + other(R) + group(Cds-CdsCsH) + other(R) + group(Cds-CdsCsH) + other(R) + group(Cds-CdsCsH) + other(R) + group(Cds-Cds(Cds-Cds)H) + other(R) + group(Cds-Cds(Cds-Cds)H) + other(R) + polycyclic(PolycyclicRing) + radical(C=CCJC=C)',\n",
      ")\n",
      "H298 = 56.497 kcal/mol\n",
      "S298 = 33.6268305179 cal/mol*K\n",
      "Difference in H298 = 6.863 kcal/mol\n",
      "Difference S298 = 57.6931694821 cal/mol*K\n",
      "Difference in Cp at 300 = -6.68 cal/mol*K\n",
      "Difference in Cp at 500 = -6.56 cal/mol*K\n",
      "Difference in Cp at 1000 = -3.99 cal/mol*K\n",
      "Difference in Cp at 2000 = -2.81 cal/mol*K\n",
      "=======================\n",
      "pdt22\n"
     ]
    },
    {
     "data": {
      "image/png": "[encoded data removed]",
      "text/plain": [
       "Molecule(SMILES=\"C1C=CC2C=CC=C2C=1\")"
      ]
     },
     "metadata": {},
     "output_type": "display_data"
    },
    {
     "name": "stdout",
     "output_type": "stream",
     "text": [
      "Species has 1 resonance isomers\n",
      "Library thermo data for species pdt22 matches the estimate from group additivity.\n",
      "Library thermo data:\n",
      "ThermoData(\n",
      "    Tdata = ([300, 400, 500, 600, 800, 1000, 1500], 'K'),\n",
      "    Cpdata = ([29.9, 40.53, 49.39, 56.44, 66.66, 73.66, 83.86], 'cal/(mol*K)'),\n",
      "    H298 = (74.42, 'kcal/mol'),\n",
      "    S298 = (81.81, 'cal/(mol*K)'),\n",
      "    Cp0 = (33.2579, 'J/(mol*K)'),\n",
      "    CpInf = (407.409, 'J/(mol*K)'),\n",
      ")\n",
      "H298 = 74.42 kcal/mol\n",
      "S298 = 81.81 cal/mol*K\n",
      "Estimated thermo data:\n",
      "ThermoData(\n",
      "    Tdata = ([300, 400, 500, 600, 800, 1000, 1500], 'K'),\n",
      "    Cpdata = ([125.102, 169.578, 206.648, 236.145, 278.905, 308.193, 350.87], 'J/(mol*K)'),\n",
      "    H298 = (311.373, 'kJ/mol'),\n",
      "    S298 = (342.293, 'J/(mol*K)'),\n",
      "    Cp0 = (33.2579, 'J/(mol*K)'),\n",
      "    CpInf = (407.409, 'J/(mol*K)'),\n",
      "    comment = 'Thermo group additivity estimation: group(Cs-(Cds-Cds)(Cds-Cds)(Cds-Cds)H) + other(R) + group(Cds-Cds(Cds-Cds)Cs) + other(R) + group(Cds-CdsCsH) + other(R) + group(Cds-CdsCsH) + other(R) + group(Cds-Cds(Cds-Cds)H) + other(R) + group(Cds-Cds(Cds-Cds)H) + other(R) + group(Cds-Cds(Cds-Cds)H) + other(R) + group(Cds-Cds(Cds-Cds)H) + other(R) + group(Cds-Cds(Cds-Cds)H) + other(R) + polycyclic(C1C=CC2C=CC=C2C=1)',\n",
      ")\n",
      "H298 = 74.42 kcal/mol\n",
      "S298 = 81.81 cal/mol*K\n",
      "=======================\n",
      "pdt23\n"
     ]
    },
    {
     "data": {
      "image/png": "[encoded data removed]",
      "text/plain": [
       "Molecule(SMILES=\"[CH]1C=CC2C=CC=CCC12\")"
      ]
     },
     "metadata": {},
     "output_type": "display_data"
    },
    {
     "name": "stdout",
     "output_type": "stream",
     "text": [
      "Species has 2 resonance isomers\n",
      "Library thermo data for species pdt23 does not match the estimate from group additivity\n",
      "Library thermo data:\n",
      "ThermoData(\n",
      "    Tdata = ([300, 400, 500, 600, 800, 1000, 1500], 'K'),\n",
      "    Cpdata = ([36.31, 49.05, 59.86, 68.59, 81.45, 90.4, 103.6], 'cal/(mol*K)'),\n",
      "    H298 = (83.25, 'kcal/mol'),\n",
      "    S298 = (91.39, 'cal/(mol*K)'),\n",
      "    Cp0 = (33.2579, 'J/(mol*K)'),\n",
      "    CpInf = (507.183, 'J/(mol*K)'),\n",
      ")\n",
      "H298 = 83.25 kcal/mol\n",
      "S298 = 91.39 cal/mol*K\n",
      "Estimated thermo data:\n",
      "ThermoData(\n",
      "    Tdata = ([300, 400, 500, 600, 800, 1000, 1500], 'K'),\n",
      "    Cpdata = ([148.239, 206.606, 255.057, 293.215, 348.339, 385.765, 440.073], 'J/(mol*K)'),\n",
      "    H298 = (273.403, 'kJ/mol'),\n",
      "    S298 = (347.439, 'J/(mol*K)'),\n",
      "    Cp0 = (33.2579, 'J/(mol*K)'),\n",
      "    CpInf = (507.183, 'J/(mol*K)'),\n",
      "    comment = 'Thermo group additivity estimation: group(Cs-CsCsCsH) + other(R) + group(Cs-(Cds-Cds)(Cds-Cds)CsH) + other(R) + group(Cs-(Cds-Cds)CsHH) + other(R) + group(Cs-(Cds-Cds)CsHH) + other(R) + group(Cds-CdsCsH) + other(R) + group(Cds-CdsCsH) + other(R) + group(Cds-CdsCsH) + other(R) + group(Cds-CdsCsH) + other(R) + group(Cds-Cds(Cds-Cds)H) + other(R) + group(Cds-Cds(Cds-Cds)H) + other(R) + polycyclic(C1C=CC2C=CC[C]2CC=1) + radical(cyclopentene-allyl)',\n",
      ")\n",
      "H298 = 65.345 kcal/mol\n",
      "S298 = 83.04 cal/mol*K\n",
      "Difference in H298 = 17.905 kcal/mol\n",
      "Difference S298 = 8.35 cal/mol*K\n",
      "Difference in Cp at 300 = 0.88 cal/mol*K\n",
      "Difference in Cp at 500 = -1.1 cal/mol*K\n",
      "Difference in Cp at 1000 = -1.8 cal/mol*K\n",
      "Difference in Cp at 2000 = -1.36 cal/mol*K\n",
      "=======================\n",
      "pdt24\n"
     ]
    },
    {
     "data": {
      "image/png": "[encoded data removed]",
      "text/plain": [
       "Molecule(SMILES=\"[CH]1C=CCC23CC=CC2C13\")"
      ]
     },
     "metadata": {},
     "output_type": "display_data"
    },
    {
     "name": "stdout",
     "output_type": "stream",
     "text": [
      "Species has 2 resonance isomers\n",
      "Library thermo data for species pdt24 does not match the estimate from group additivity\n",
      "Library thermo data:\n",
      "ThermoData(\n",
      "    Tdata = ([300, 400, 500, 600, 800, 1000, 1500], 'K'),\n",
      "    Cpdata = ([35.9, 48.9, 59.87, 68.68, 81.59, 90.53, 103.69], 'cal/(mol*K)'),\n",
      "    H298 = (82.04, 'kcal/mol'),\n",
      "    S298 = (88.96, 'cal/(mol*K)'),\n",
      "    Cp0 = (33.2579, 'J/(mol*K)'),\n",
      "    CpInf = (507.183, 'J/(mol*K)'),\n",
      ")\n",
      "H298 = 82.04 kcal/mol\n",
      "S298 = 88.96 cal/mol*K\n",
      "Estimated thermo data:\n",
      "ThermoData(\n",
      "    Tdata = ([300, 400, 500, 600, 800, 1000, 1500], 'K'),\n",
      "    Cpdata = ([150.206, 204.598, 250.914, 287.357, 341.373, 378.778, 433.839], 'J/(mol*K)'),\n",
      "    H298 = (344.301, 'kJ/mol'),\n",
      "    S298 = (372.209, 'J/(mol*K)'),\n",
      "    Cp0 = (33.2579, 'J/(mol*K)'),\n",
      "    CpInf = (507.183, 'J/(mol*K)'),\n",
      "    comment = 'Thermo group additivity estimation: group(Cs-CsCsCsCs) + other(R) + group(Cs-(Cds-Cds)CsCsH) + other(R) + group(Cs-(Cds-Cds)CsCsH) + other(R) + group(Cs-CsCsHH) + other(R) + group(Cs-(Cds-Cds)CsHH) + other(R) + group(Cs-(Cds-Cds)CsHH) + other(R) + group(Cds-CdsCsH) + other(R) + group(Cds-CdsCsH) + other(R) + group(Cds-CdsCsH) + other(R) + group(Cds-CdsCsH) + other(R) + polycyclic([CH]1C=CCC23CC=CC2C13) + radical(cyclohexene-allyl)',\n",
      ")\n",
      "H298 = 82.29 kcal/mol\n",
      "S298 = 88.96 cal/mol*K\n",
      "Difference in H298 = -0.25 kcal/mol\n",
      "Difference S298 = 0.0 cal/mol*K\n",
      "Difference in Cp at 300 = 0.0 cal/mol*K\n",
      "Difference in Cp at 500 = -0.1 cal/mol*K\n",
      "Difference in Cp at 1000 = 0.0 cal/mol*K\n",
      "Difference in Cp at 2000 = 0.0 cal/mol*K\n",
      "=======================\n",
      "pdt26\n"
     ]
    },
    {
     "data": {
      "image/png": "[encoded data removed]",
      "text/plain": [
       "Molecule(SMILES=\"C1=CCC2=CC=CCC2=C1\")"
      ]
     },
     "metadata": {},
     "output_type": "display_data"
    },
    {
     "name": "stdout",
     "output_type": "stream",
     "text": [
      "Species has 1 resonance isomers\n",
      "Library thermo data for species pdt26 matches the estimate from group additivity.\n",
      "Library thermo data:\n",
      "ThermoData(\n",
      "    Tdata = ([300, 400, 500, 600, 800, 1000, 1500], 'K'),\n",
      "    Cpdata = ([34.85, 46.73, 56.9, 65.2, 77.52, 86.1, 98.68], 'cal/(mol*K)'),\n",
      "    H298 = (63.81, 'kcal/mol'),\n",
      "    S298 = (86.13, 'cal/(mol*K)'),\n",
      "    Cp0 = (33.2579, 'J/(mol*K)'),\n",
      "    CpInf = (482.239, 'J/(mol*K)'),\n",
      ")\n",
      "H298 = 63.81 kcal/mol\n",
      "S298 = 86.13 cal/mol*K\n",
      "Estimated thermo data:\n",
      "ThermoData(\n",
      "    Tdata = ([300, 400, 500, 600, 800, 1000, 1500], 'K'),\n",
      "    Cpdata = ([145.812, 195.518, 238.07, 272.797, 324.344, 360.242, 412.877], 'J/(mol*K)'),\n",
      "    H298 = (266.981, 'kJ/mol'),\n",
      "    S298 = (360.368, 'J/(mol*K)'),\n",
      "    Cp0 = (33.2579, 'J/(mol*K)'),\n",
      "    CpInf = (482.239, 'J/(mol*K)'),\n",
      "    comment = 'Thermo group additivity estimation: group(Cs-(Cds-Cds)(Cds-Cds)HH) + other(R) + group(Cs-(Cds-Cds)(Cds-Cds)HH) + other(R) + group(Cds-Cds(Cds-Cds)Cs) + other(R) + group(Cds-Cds(Cds-Cds)Cs) + other(R) + group(Cds-CdsCsH) + other(R) + group(Cds-CdsCsH) + other(R) + group(Cds-Cds(Cds-Cds)H) + other(R) + group(Cds-Cds(Cds-Cds)H) + other(R) + group(Cds-Cds(Cds-Cds)H) + other(R) + group(Cds-Cds(Cds-Cds)H) + other(R) + polycyclic(C1=CCC2=CC=CCC2=C1)',\n",
      ")\n",
      "H298 = 63.81 kcal/mol\n",
      "S298 = 86.13 cal/mol*K\n",
      "=======================\n",
      "pdt27\n"
     ]
    },
    {
     "data": {
      "image/png": "[encoded data removed]",
      "text/plain": [
       "Molecule(SMILES=\"CC1C=CC=C2C=CC[C]21\")"
      ]
     },
     "metadata": {},
     "output_type": "display_data"
    },
    {
     "name": "stdout",
     "output_type": "stream",
     "text": [
      "Species has 3 resonance isomers\n",
      "Library thermo data for species pdt27 does not match the estimate from group additivity\n",
      "Library thermo data:\n",
      "ThermoData(\n",
      "    Tdata = ([300, 400, 500, 600, 800, 1000, 1500], 'K'),\n",
      "    Cpdata = ([37.3, 49.7, 60.28, 68.87, 81.62, 90.53, 103.69], 'cal/(mol*K)'),\n",
      "    H298 = (62.67, 'kcal/mol'),\n",
      "    S298 = (92.61, 'cal/(mol*K)'),\n",
      "    Cp0 = (33.2579, 'J/(mol*K)'),\n",
      "    CpInf = (503.026, 'J/(mol*K)'),\n",
      ")\n",
      "H298 = 62.67 kcal/mol\n",
      "S298 = 92.61 cal/mol*K\n",
      "Estimated thermo data:\n",
      "ThermoData(\n",
      "    Tdata = ([300, 400, 500, 600, 800, 1000, 1500], 'K'),\n",
      "    Cpdata = ([184.849, 237.986, 280.705, 313.549, 361.79, 395.765, 447.437], 'J/(mol*K)'),\n",
      "    H298 = (233.413, 'kJ/mol'),\n",
      "    S298 = (144.502, 'J/(mol*K)'),\n",
      "    Cp0 = (33.2579, 'J/(mol*K)'),\n",
      "    CpInf = (503.026, 'J/(mol*K)'),\n",
      "    comment = 'Thermo group additivity estimation: group(Cs-(Cds-Cds)(Cds-Cds)CsH) + other(R) + group(Cs-(Cds-Cds)(Cds-Cds)HH) + other(R) + group(Cs-(Cds-Cds)(Cds-Cds)HH) + other(R) + group(Cs-CsHHH) + other(R) + group(Cds-CdsCsCs) + other(R) + group(Cds-Cds(Cds-Cds)Cs) + other(R) + group(Cds-CdsCsH) + other(R) + group(Cds-CdsCsH) + other(R) + group(Cds-CdsCsH) + other(R) + group(Cds-Cds(Cds-Cds)H) + other(R) + polycyclic(PolycyclicRing) + radical(C=CCJC=C)',\n",
      ")\n",
      "H298 = 55.787 kcal/mol\n",
      "S298 = 34.5368305179 cal/mol*K\n",
      "Difference in H298 = 6.883 kcal/mol\n",
      "Difference S298 = 58.0731694821 cal/mol*K\n",
      "Difference in Cp at 300 = -6.88 cal/mol*K\n",
      "Difference in Cp at 500 = -6.81 cal/mol*K\n",
      "Difference in Cp at 1000 = -4.06 cal/mol*K\n",
      "Difference in Cp at 2000 = -2.44 cal/mol*K\n",
      "=======================\n",
      "pdt28\n"
     ]
    },
    {
     "data": {
      "image/png": "[encoded data removed]",
      "text/plain": [
       "Molecule(SMILES=\"C1C=CC2C=CC[C]2CC=1\")"
      ]
     },
     "metadata": {},
     "output_type": "display_data"
    },
    {
     "name": "stdout",
     "output_type": "stream",
     "text": [
      "Species has 1 resonance isomers\n",
      "Library thermo data for species pdt28 does not match the estimate from group additivity\n",
      "Library thermo data:\n",
      "ThermoData(\n",
      "    Tdata = ([300, 400, 500, 600, 800, 1000, 1500], 'K'),\n",
      "    Cpdata = ([36.48, 48.92, 59.63, 68.36, 81.35, 90.42, 103.73], 'cal/(mol*K)'),\n",
      "    H298 = (94.43, 'kcal/mol'),\n",
      "    S298 = (93.22, 'cal/(mol*K)'),\n",
      "    Cp0 = (33.2579, 'J/(mol*K)'),\n",
      "    CpInf = (507.183, 'J/(mol*K)'),\n",
      ")\n",
      "H298 = 94.43 kcal/mol\n",
      "S298 = 93.22 cal/mol*K\n",
      "Estimated thermo data:\n",
      "ThermoData(\n",
      "    Tdata = ([300, 400, 500, 600, 800, 1000, 1500], 'K'),\n",
      "    Cpdata = ([151.419, 203.844, 248.906, 285.558, 339.971, 377.899, 433.63], 'J/(mol*K)'),\n",
      "    H298 = (332.816, 'kJ/mol'),\n",
      "    S298 = (385.305, 'J/(mol*K)'),\n",
      "    Cp0 = (33.2579, 'J/(mol*K)'),\n",
      "    CpInf = (507.183, 'J/(mol*K)'),\n",
      "    comment = 'Thermo group additivity estimation: group(Cs-CsCsCsH) + other(R) + group(Cs-(Cds-Cds)(Cds-Cds)CsH) + other(R) + group(Cs-(Cds-Cds)CsHH) + other(R) + group(Cs-(Cds-Cds)CsHH) + other(R) + group(Cds-CdsCsH) + other(R) + group(Cds-CdsCsH) + other(R) + group(Cds-CdsCsH) + other(R) + group(Cds-CdsCsH) + other(R) + group(Cds-Cds(Cds-Cds)H) + other(R) + group(Cds-Cds(Cds-Cds)H) + other(R) + polycyclic(C1C=CC2C=CC[C]2CC=1) + radical(Tertalkyl)',\n",
      ")\n",
      "H298 = 79.545 kcal/mol\n",
      "S298 = 92.09 cal/mol*K\n",
      "Difference in H298 = 14.885 kcal/mol\n",
      "Difference S298 = 1.13 cal/mol*K\n",
      "Difference in Cp at 300 = 0.29 cal/mol*K\n",
      "Difference in Cp at 500 = 0.14 cal/mol*K\n",
      "Difference in Cp at 1000 = 0.1 cal/mol*K\n",
      "Difference in Cp at 2000 = 0.08 cal/mol*K\n",
      "=======================\n",
      "pdt29\n"
     ]
    },
    {
     "data": {
      "image/png": "[encoded data removed]",
      "text/plain": [
       "Molecule(SMILES=\"[CH]1C=CC=C2C=CCC2C1\")"
      ]
     },
     "metadata": {},
     "output_type": "display_data"
    },
    {
     "name": "stdout",
     "output_type": "stream",
     "text": [
      "Species has 4 resonance isomers\n",
      "Library thermo data for species pdt29 does not match the estimate from group additivity\n",
      "Library thermo data:\n",
      "ThermoData(\n",
      "    Tdata = ([300, 400, 500, 600, 800, 1000, 1500], 'K'),\n",
      "    Cpdata = ([35.9, 48.52, 59.35, 68.14, 81.16, 90.22, 103.55], 'cal/(mol*K)'),\n",
      "    H298 = (64.66, 'kcal/mol'),\n",
      "    S298 = (90.96, 'cal/(mol*K)'),\n",
      "    Cp0 = (33.2579, 'J/(mol*K)'),\n",
      "    CpInf = (507.183, 'J/(mol*K)'),\n",
      ")\n",
      "H298 = 64.66 kcal/mol\n",
      "S298 = 90.96 cal/mol*K\n",
      "Estimated thermo data:\n",
      "ThermoData(\n",
      "    Tdata = ([300, 400, 500, 600, 800, 1000, 1500], 'K'),\n",
      "    Cpdata = ([177.694, 233.258, 277.901, 311.624, 361.707, 395.639, 447.604], 'J/(mol*K)'),\n",
      "    H298 = (245.295, 'kJ/mol'),\n",
      "    S298 = (157.82, 'J/(mol*K)'),\n",
      "    Cp0 = (33.2579, 'J/(mol*K)'),\n",
      "    CpInf = (507.183, 'J/(mol*K)'),\n",
      "    comment = 'Thermo group additivity estimation: group(Cs-(Cds-Cds)CsCsH) + other(R) + group(Cs-(Cds-Cds)CsHH) + other(R) + group(Cs-(Cds-Cds)CsHH) + other(R) + group(Cs-(Cds-Cds)(Cds-Cds)HH) + other(R) + group(Cds-Cds(Cds-Cds)Cs) + other(R) + group(Cds-CdsCsH) + other(R) + group(Cds-CdsCsH) + other(R) + group(Cds-CdsCsH) + other(R) + group(Cds-CdsCsH) + other(R) + group(Cds-Cds(Cds-Cds)H) + other(R) + polycyclic(PolycyclicRing) + radical(C=CCJC=C)',\n",
      ")\n",
      "H298 = 58.627 kcal/mol\n",
      "S298 = 37.72 cal/mol*K\n",
      "Difference in H298 = 6.033 kcal/mol\n",
      "Difference S298 = 53.24 cal/mol*K\n",
      "Difference in Cp at 300 = -6.57 cal/mol*K\n",
      "Difference in Cp at 500 = -7.07 cal/mol*K\n",
      "Difference in Cp at 1000 = -4.34 cal/mol*K\n",
      "Difference in Cp at 2000 = -2.52 cal/mol*K\n",
      "=======================\n",
      "pdt30\n"
     ]
    },
    {
     "data": {
      "image/png": "[encoded data removed]",
      "text/plain": [
       "Molecule(SMILES=\"C1C=CC2=CC=CC2CC=1\")"
      ]
     },
     "metadata": {},
     "output_type": "display_data"
    },
    {
     "name": "stdout",
     "output_type": "stream",
     "text": [
      "Species has 1 resonance isomers\n",
      "Library thermo data for species pdt30 matches the estimate from group additivity.\n",
      "Library thermo data:\n",
      "ThermoData(\n",
      "    Tdata = ([300, 400, 500, 600, 800, 1000, 1500], 'K'),\n",
      "    Cpdata = ([34.58, 46.66, 56.96, 65.3, 77.6, 86.14, 98.66], 'cal/(mol*K)'),\n",
      "    H298 = (68.39, 'kcal/mol'),\n",
      "    S298 = (88.24, 'cal/(mol*K)'),\n",
      "    Cp0 = (33.2579, 'J/(mol*K)'),\n",
      "    CpInf = (482.239, 'J/(mol*K)'),\n",
      ")\n",
      "H298 = 68.39 kcal/mol\n",
      "S298 = 88.24 cal/mol*K\n",
      "Estimated thermo data:\n",
      "ThermoData(\n",
      "    Tdata = ([300, 400, 500, 600, 800, 1000, 1500], 'K'),\n",
      "    Cpdata = ([144.683, 195.225, 238.321, 273.215, 324.678, 360.41, 412.793], 'J/(mol*K)'),\n",
      "    H298 = (286.144, 'kJ/mol'),\n",
      "    S298 = (369.196, 'J/(mol*K)'),\n",
      "    Cp0 = (33.2579, 'J/(mol*K)'),\n",
      "    CpInf = (482.239, 'J/(mol*K)'),\n",
      "    comment = 'Thermo group additivity estimation: group(Cs-(Cds-Cds)(Cds-Cds)CsH) + other(R) + group(Cs-(Cds-Cds)CsHH) + other(R) + group(Cds-Cds(Cds-Cds)Cs) + other(R) + group(Cds-CdsCsH) + other(R) + group(Cds-CdsCsH) + other(R) + group(Cds-Cds(Cds-Cds)H) + other(R) + group(Cds-Cds(Cds-Cds)H) + other(R) + group(Cds-Cds(Cds-Cds)H) + other(R) + group(Cds-Cds(Cds-Cds)H) + other(R) + group(Cds-Cds(Cds-Cds)H) + other(R) + polycyclic(C1C=CC2=CC=CC2CC=1)',\n",
      ")\n",
      "H298 = 68.39 kcal/mol\n",
      "S298 = 88.24 cal/mol*K\n",
      "=======================\n",
      "pdt31\n"
     ]
    },
    {
     "data": {
      "image/png": "[encoded data removed]",
      "text/plain": [
       "Molecule(SMILES=\"C1=CC=C2C=CCC2C=C1\")"
      ]
     },
     "metadata": {},
     "output_type": "display_data"
    },
    {
     "name": "stdout",
     "output_type": "stream",
     "text": [
      "Species has 1 resonance isomers\n",
      "Library thermo data for species pdt31 matches the estimate from group additivity.\n",
      "Library thermo data:\n",
      "ThermoData(\n",
      "    Tdata = ([300, 400, 500, 600, 800, 1000, 1500], 'K'),\n",
      "    Cpdata = ([34.48, 46.59, 56.91, 65.26, 77.59, 86.13, 98.67], 'cal/(mol*K)'),\n",
      "    H298 = (65.83, 'kcal/mol'),\n",
      "    S298 = (87.99, 'cal/(mol*K)'),\n",
      "    Cp0 = (33.2579, 'J/(mol*K)'),\n",
      "    CpInf = (482.239, 'J/(mol*K)'),\n",
      ")\n",
      "H298 = 65.83 kcal/mol\n",
      "S298 = 87.99 cal/mol*K\n",
      "Estimated thermo data:\n",
      "ThermoData(\n",
      "    Tdata = ([300, 400, 500, 600, 800, 1000, 1500], 'K'),\n",
      "    Cpdata = ([144.264, 194.933, 238.111, 273.048, 324.637, 360.368, 412.835], 'J/(mol*K)'),\n",
      "    H298 = (275.433, 'kJ/mol'),\n",
      "    S298 = (368.15, 'J/(mol*K)'),\n",
      "    Cp0 = (33.2579, 'J/(mol*K)'),\n",
      "    CpInf = (482.239, 'J/(mol*K)'),\n",
      "    comment = 'Thermo group additivity estimation: group(Cs-(Cds-Cds)(Cds-Cds)CsH) + other(R) + group(Cs-(Cds-Cds)CsHH) + other(R) + group(Cds-Cds(Cds-Cds)Cs) + other(R) + group(Cds-CdsCsH) + other(R) + group(Cds-CdsCsH) + other(R) + group(Cds-Cds(Cds-Cds)H) + other(R) + group(Cds-Cds(Cds-Cds)H) + other(R) + group(Cds-Cds(Cds-Cds)H) + other(R) + group(Cds-Cds(Cds-Cds)H) + other(R) + group(Cds-Cds(Cds-Cds)H) + other(R) + polycyclic(C1=CC=C2C=CCC2C=C1)',\n",
      ")\n",
      "H298 = 65.83 kcal/mol\n",
      "S298 = 87.99 cal/mol*K\n",
      "=======================\n",
      "pdt32\n"
     ]
    },
    {
     "data": {
      "image/png": "[encoded data removed]",
      "text/plain": [
       "Molecule(SMILES=\"CC1C=CC2=CC=C[CH]C21\")"
      ]
     },
     "metadata": {},
     "output_type": "display_data"
    },
    {
     "name": "stdout",
     "output_type": "stream",
     "text": [
      "Species has 4 resonance isomers\n",
      "Library thermo data for species pdt32 does not match the estimate from group additivity\n",
      "Library thermo data:\n",
      "ThermoData(\n",
      "    Tdata = ([300, 400, 500, 600, 800, 1000, 1500], 'K'),\n",
      "    Cpdata = ([36.79, 49.32, 60.02, 68.69, 81.53, 90.47, 103.66], 'cal/(mol*K)'),\n",
      "    H298 = (62.33, 'kcal/mol'),\n",
      "    S298 = (91.53, 'cal/(mol*K)'),\n",
      "    Cp0 = (33.2579, 'J/(mol*K)'),\n",
      "    CpInf = (503.026, 'J/(mol*K)'),\n",
      ")\n",
      "H298 = 62.33 kcal/mol\n",
      "S298 = 91.53 cal/mol*K\n",
      "Estimated thermo data:\n",
      "ThermoData(\n",
      "    Tdata = ([300, 400, 500, 600, 800, 1000, 1500], 'K'),\n",
      "    Cpdata = ([182.841, 236.019, 279.7, 312.838, 361.832, 395.597, 448.023], 'J/(mol*K)'),\n",
      "    H298 = (237.848, 'kJ/mol'),\n",
      "    S298 = (139.398, 'J/(mol*K)'),\n",
      "    Cp0 = (33.2579, 'J/(mol*K)'),\n",
      "    CpInf = (503.026, 'J/(mol*K)'),\n",
      "    comment = 'Thermo group additivity estimation: group(Cs-(Cds-Cds)CsCsH) + other(R) + group(Cs-(Cds-Cds)(Cds-Cds)CsH) + other(R) + group(Cs-(Cds-Cds)(Cds-Cds)HH) + other(R) + group(Cs-CsHHH) + other(R) + group(Cds-Cds(Cds-Cds)Cs) + other(R) + group(Cds-CdsCsH) + other(R) + group(Cds-CdsCsH) + other(R) + group(Cds-CdsCsH) + other(R) + group(Cds-CdsCsH) + other(R) + group(Cds-Cds(Cds-Cds)H) + other(R) + polycyclic(PolycyclicRing) + radical(C=CCJC=C)',\n",
      ")\n",
      "H298 = 56.847 kcal/mol\n",
      "S298 = 33.3168305179 cal/mol*K\n",
      "Difference in H298 = 5.483 kcal/mol\n",
      "Difference S298 = 58.2131694821 cal/mol*K\n",
      "Difference in Cp at 300 = -6.91 cal/mol*K\n",
      "Difference in Cp at 500 = -6.83 cal/mol*K\n",
      "Difference in Cp at 1000 = -4.08 cal/mol*K\n",
      "Difference in Cp at 2000 = -2.76 cal/mol*K\n",
      "=======================\n",
      "pdt35\n"
     ]
    },
    {
     "data": {
      "image/png": "[encoded data removed]",
      "text/plain": [
       "Molecule(SMILES=\"C1C=CC2C=CCC=2CC=1\")"
      ]
     },
     "metadata": {},
     "output_type": "display_data"
    },
    {
     "name": "stdout",
     "output_type": "stream",
     "text": [
      "Species has 1 resonance isomers\n",
      "Library thermo data for species pdt35 matches the estimate from group additivity.\n",
      "Library thermo data:\n",
      "ThermoData(\n",
      "    Tdata = ([300, 400, 500, 600, 800, 1000, 1500], 'K'),\n",
      "    Cpdata = ([35.04, 47.01, 57.21, 65.5, 77.74, 86.25, 98.74], 'cal/(mol*K)'),\n",
      "    H298 = (65.78, 'kcal/mol'),\n",
      "    S298 = (88.09, 'cal/(mol*K)'),\n",
      "    Cp0 = (33.2579, 'J/(mol*K)'),\n",
      "    CpInf = (482.239, 'J/(mol*K)'),\n",
      ")\n",
      "H298 = 65.78 kcal/mol\n",
      "S298 = 88.09 cal/mol*K\n",
      "Estimated thermo data:\n",
      "ThermoData(\n",
      "    Tdata = ([300, 400, 500, 600, 800, 1000, 1500], 'K'),\n",
      "    Cpdata = ([146.607, 196.69, 239.367, 274.052, 325.264, 360.87, 413.128], 'J/(mol*K)'),\n",
      "    H298 = (275.224, 'kJ/mol'),\n",
      "    S298 = (368.569, 'J/(mol*K)'),\n",
      "    Cp0 = (33.2579, 'J/(mol*K)'),\n",
      "    CpInf = (482.239, 'J/(mol*K)'),\n",
      "    comment = 'Thermo group additivity estimation: group(Cs-(Cds-Cds)(Cds-Cds)HH) + other(R) + group(Cs-(Cds-Cds)(Cds-Cds)HH) + other(R) + group(Cds-CdsCsCs) + other(R) + group(Cds-Cds(Cds-Cds)(Cds-Cds)) + other(R) + group(Cds-CdsCsH) + other(R) + group(Cds-CdsCsH) + other(R) + group(Cds-Cds(Cds-Cds)H) + other(R) + group(Cds-Cds(Cds-Cds)H) + other(R) + group(Cds-Cds(Cds-Cds)H) + other(R) + group(Cds-Cds(Cds-Cds)H) + other(R) + polycyclic(C1C=CC2C=CCC=2CC=1)',\n",
      ")\n",
      "H298 = 65.78 kcal/mol\n",
      "S298 = 88.09 cal/mol*K\n",
      "=======================\n",
      "pdt37\n"
     ]
    },
    {
     "data": {
      "image/png": "[encoded data removed]",
      "text/plain": [
       "Molecule(SMILES=\"[CH]1C=CC=C2CC=CCC12\")"
      ]
     },
     "metadata": {},
     "output_type": "display_data"
    },
    {
     "name": "stdout",
     "output_type": "stream",
     "text": [
      "Species has 3 resonance isomers\n",
      "Library thermo data for species pdt37 does not match the estimate from group additivity\n",
      "Library thermo data:\n",
      "ThermoData(\n",
      "    Tdata = ([300, 400, 500, 600, 800, 1000, 1500], 'K'),\n",
      "    Cpdata = ([35.83, 48.48, 59.3, 68.09, 81.13, 90.21, 103.57], 'cal/(mol*K)'),\n",
      "    H298 = (64.94, 'kcal/mol'),\n",
      "    S298 = (89.18, 'cal/(mol*K)'),\n",
      "    Cp0 = (33.2579, 'J/(mol*K)'),\n",
      "    CpInf = (507.183, 'J/(mol*K)'),\n",
      ")\n",
      "H298 = 64.94 kcal/mol\n",
      "S298 = 89.18 cal/mol*K\n",
      "Estimated thermo data:\n",
      "ThermoData(\n",
      "    Tdata = ([300, 400, 500, 600, 800, 1000, 1500], 'K'),\n",
      "    Cpdata = ([178.113, 229.283, 271.751, 305.599, 356.142, 391.581, 444.592], 'J/(mol*K)'),\n",
      "    H298 = (262.533, 'kJ/mol'),\n",
      "    S298 = (168.49, 'J/(mol*K)'),\n",
      "    Cp0 = (33.2579, 'J/(mol*K)'),\n",
      "    CpInf = (507.183, 'J/(mol*K)'),\n",
      "    comment = 'Thermo group additivity estimation: group(Cs-(Cds-Cds)(Cds-Cds)CsH) + other(R) + group(Cs-(Cds-Cds)CsHH) + other(R) + group(Cs-(Cds-Cds)(Cds-Cds)HH) + other(R) + group(Cs-(Cds-Cds)(Cds-Cds)HH) + other(R) + group(Cds-CdsCsCs) + other(R) + group(Cds-CdsCsH) + other(R) + group(Cds-CdsCsH) + other(R) + group(Cds-CdsCsH) + other(R) + group(Cds-CdsCsH) + other(R) + group(Cds-CdsCsH) + other(R) + polycyclic(PolycyclicRing) + radical(C=CCJC=C)',\n",
      ")\n",
      "H298 = 62.747 kcal/mol\n",
      "S298 = 40.27 cal/mol*K\n",
      "Difference in H298 = 2.193 kcal/mol\n",
      "Difference S298 = 48.91 cal/mol*K\n",
      "Difference in Cp at 300 = -6.74 cal/mol*K\n",
      "Difference in Cp at 500 = -5.65 cal/mol*K\n",
      "Difference in Cp at 1000 = -3.38 cal/mol*K\n",
      "Difference in Cp at 2000 = -2.0 cal/mol*K\n",
      "=======================\n",
      "pdt38\n"
     ]
    },
    {
     "data": {
      "image/png": "[encoded data removed]",
      "text/plain": [
       "Molecule(SMILES=\"C1=CC=C2CC=CCC2=C1\")"
      ]
     },
     "metadata": {},
     "output_type": "display_data"
    },
    {
     "name": "stdout",
     "output_type": "stream",
     "text": [
      "Species has 3 resonance isomers\n",
      "Library thermo data for species pdt38 does not match the estimate from group additivity\n",
      "Library thermo data:\n",
      "ThermoData(\n",
      "    Tdata = ([300, 400, 500, 600, 800, 1000, 1500], 'K'),\n",
      "    Cpdata = ([33.96, 45.89, 56.19, 64.61, 77.13, 85.83, 98.55], 'cal/(mol*K)'),\n",
      "    H298 = (35.66, 'kcal/mol'),\n",
      "    S298 = (86.59, 'cal/(mol*K)'),\n",
      "    Cp0 = (33.2579, 'J/(mol*K)'),\n",
      "    CpInf = (482.239, 'J/(mol*K)'),\n",
      ")\n",
      "H298 = 35.66 kcal/mol\n",
      "S298 = 86.59 cal/mol*K\n",
      "Estimated thermo data:\n",
      "ThermoData(\n",
      "    Tdata = ([300, 400, 500, 600, 800, 1000, 1500], 'K'),\n",
      "    Cpdata = ([149.118, 199.242, 242.839, 278.32, 331.875, 369.112, 422.835], 'J/(mol*K)'),\n",
      "    H298 = (137.319, 'kJ/mol'),\n",
      "    S298 = (212.045, 'J/(mol*K)'),\n",
      "    Cp0 = (33.2579, 'J/(mol*K)'),\n",
      "    CpInf = (482.239, 'J/(mol*K)'),\n",
      "    comment = 'Thermo group additivity estimation: group(Cs-(Cds-Cds)CbHH) + other(R) + group(Cs-(Cds-Cds)CbHH) + other(R) + group(Cb-Cs) + other(R) + group(Cb-Cs) + other(R) + group(Cds-CdsCsH) + other(R) + group(Cds-CdsCsH) + other(R) + group(Cb-H) + other(R) + group(Cb-H) + other(R) + group(Cb-H) + other(R) + group(Cb-H) + other(R) + polycyclic(PolycyclicRing)',\n",
      ")\n",
      "H298 = 32.82 kcal/mol\n",
      "S298 = 50.68 cal/mol*K\n",
      "Difference in H298 = 2.84 kcal/mol\n",
      "Difference S298 = 35.91 cal/mol*K\n",
      "Difference in Cp at 300 = -1.68 cal/mol*K\n",
      "Difference in Cp at 500 = -1.85 cal/mol*K\n",
      "Difference in Cp at 1000 = -2.39 cal/mol*K\n",
      "Difference in Cp at 2000 = -2.63 cal/mol*K\n",
      "=======================\n",
      "INDENE\n"
     ]
    },
    {
     "data": {
      "image/png": "[encoded data removed]",
      "text/plain": [
       "Molecule(SMILES=\"C1=CC=C2CC=CC2=C1\")"
      ]
     },
     "metadata": {},
     "output_type": "display_data"
    },
    {
     "name": "stdout",
     "output_type": "stream",
     "text": [
      "Species has 2 resonance isomers\n",
      "Library thermo data for species INDENE matches the estimate from group additivity.\n",
      "Library thermo data:\n",
      "ThermoData(\n",
      "    Tdata = ([300, 400, 500, 600, 800, 1000, 1500], 'K'),\n",
      "    Cpdata = ([29.28, 39.78, 48.65, 55.78, 66.17, 73.3, 83.68], 'cal/(mol*K)'),\n",
      "    H298 = (40.49, 'kcal/mol'),\n",
      "    S298 = (79.82, 'cal/(mol*K)'),\n",
      "    Cp0 = (33.2579, 'J/(mol*K)'),\n",
      "    CpInf = (407.409, 'J/(mol*K)'),\n",
      ")\n",
      "H298 = 40.49 kcal/mol\n",
      "S298 = 79.82 cal/mol*K\n",
      "Estimated thermo data:\n",
      "ThermoData(\n",
      "    Tdata = ([300, 400, 500, 600, 800, 1000, 1500], 'K'),\n",
      "    Cpdata = ([122.508, 166.44, 203.552, 233.384, 276.855, 306.687, 350.117], 'J/(mol*K)'),\n",
      "    H298 = (169.41, 'kJ/mol'),\n",
      "    S298 = (333.967, 'J/(mol*K)'),\n",
      "    Cp0 = (33.2579, 'J/(mol*K)'),\n",
      "    CpInf = (407.409, 'J/(mol*K)'),\n",
      "    comment = 'Thermo group additivity estimation: group(Cs-(Cds-Cds)(Cds-Cds)HH) + other(R) + group(Cds-Cds(Cds-Cds)Cs) + other(R) + group(Cds-Cds(Cds-Cds)(Cds-Cds)) + other(R) + group(Cds-CdsCsH) + other(R) + group(Cds-Cds(Cds-Cds)H) + other(R) + group(Cds-Cds(Cds-Cds)H) + other(R) + group(Cds-Cds(Cds-Cds)H) + other(R) + group(Cds-Cds(Cds-Cds)H) + other(R) + group(Cds-Cds(Cds-Cds)H) + other(R) + polycyclic(C1=CC=C2CC=CC2=C1)',\n",
      ")\n",
      "H298 = 40.49 kcal/mol\n",
      "S298 = 79.82 cal/mol*K\n",
      "=======================\n",
      "pdt57\n"
     ]
    },
    {
     "data": {
      "image/png": "[encoded data removed]",
      "text/plain": [
       "Molecule(SMILES=\"C=CC=CC1C2[CH]C=CC21\")"
      ]
     },
     "metadata": {},
     "output_type": "display_data"
    },
    {
     "name": "stdout",
     "output_type": "stream",
     "text": [
      "Species has 1 resonance isomers\n",
      "Library thermo data for species pdt57 matches the estimate from group additivity.\n",
      "Library thermo data:\n",
      "ThermoData(\n",
      "    Tdata = ([300, 400, 500, 600, 800, 1000, 1500], 'K'),\n",
      "    Cpdata = ([39.02, 51.51, 61.97, 70.32, 82.53, 91.05, 103.78], 'cal/(mol*K)'),\n",
      "    H298 = (100.54, 'kcal/mol'),\n",
      "    S298 = (95.99, 'cal/(mol*K)'),\n",
      "    Cp0 = (33.2579, 'J/(mol*K)'),\n",
      "    CpInf = (498.868, 'J/(mol*K)'),\n",
      ")\n",
      "H298 = 100.54 kcal/mol\n",
      "S298 = 95.99 cal/mol*K\n",
      "Estimated thermo data:\n",
      "ThermoData(\n",
      "    Tdata = ([300, 400, 500, 600, 800, 1000, 1500], 'K'),\n",
      "    Cpdata = ([163.26, 215.518, 259.282, 294.219, 345.306, 380.953, 434.216], 'J/(mol*K)'),\n",
      "    H298 = (420.659, 'kJ/mol'),\n",
      "    S298 = (401.622, 'J/(mol*K)'),\n",
      "    Cp0 = (33.2579, 'J/(mol*K)'),\n",
      "    CpInf = (498.868, 'J/(mol*K)'),\n",
      "    comment = 'Thermo group additivity estimation: group(Cs-CsCsCsH) + other(R) + group(Cs-(Cds-Cds)CsCsH) + other(R) + group(Cs-(Cds-Cds)CsCsH) + other(R) + group(Cs-(Cds-Cds)CsHH) + other(R) + group(Cds-CdsCsH) + other(R) + group(Cds-CdsCsH) + other(R) + group(Cds-CdsCsH) + other(R) + group(Cds-Cds(Cds-Cds)H) + other(R) + group(Cds-Cds(Cds-Cds)H) + other(R) + group(Cds-CdsHH) + other(R) + polycyclic(C=CC=CC1C2[CH]C=CC21) + radical(cyclopentene-allyl)',\n",
      ")\n",
      "H298 = 100.54 kcal/mol\n",
      "S298 = 95.99 cal/mol*K\n",
      "=======================\n",
      "2HINDENE\n"
     ]
    },
    {
     "data": {
      "image/png": "[encoded data removed]",
      "text/plain": [
       "Molecule(SMILES=\"C1C=CC2=CCC=C2C=1\")"
      ]
     },
     "metadata": {},
     "output_type": "display_data"
    },
    {
     "name": "stdout",
     "output_type": "stream",
     "text": [
      "Species has 1 resonance isomers\n",
      "Library thermo data for species 2HINDENE matches the estimate from group additivity.\n",
      "Library thermo data:\n",
      "ThermoData(\n",
      "    Tdata = ([300, 400, 500, 600, 800, 1000, 1500], 'K'),\n",
      "    Cpdata = ([30.17, 40.65, 49.4, 56.39, 66.59, 73.6, 83.82], 'cal/(mol*K)'),\n",
      "    H298 = (62.6, 'kcal/mol'),\n",
      "    S298 = (79.2, 'cal/(mol*K)'),\n",
      "    Cp0 = (33.2579, 'J/(mol*K)'),\n",
      "    CpInf = (407.409, 'J/(mol*K)'),\n",
      ")\n",
      "H298 = 62.6 kcal/mol\n",
      "S298 = 79.2 cal/mol*K\n",
      "Estimated thermo data:\n",
      "ThermoData(\n",
      "    Tdata = ([300, 400, 500, 600, 800, 1000, 1500], 'K'),\n",
      "    Cpdata = ([126.231, 170.08, 206.69, 235.936, 278.613, 307.942, 350.703], 'J/(mol*K)'),\n",
      "    H298 = (261.918, 'kJ/mol'),\n",
      "    S298 = (331.373, 'J/(mol*K)'),\n",
      "    Cp0 = (33.2579, 'J/(mol*K)'),\n",
      "    CpInf = (407.409, 'J/(mol*K)'),\n",
      "    comment = 'Thermo group additivity estimation: group(Cs-(Cds-Cds)(Cds-Cds)HH) + other(R) + group(Cds-Cds(Cds-Cds)(Cds-Cds)) + other(R) + group(Cds-Cds(Cds-Cds)(Cds-Cds)) + other(R) + group(Cds-CdsCsH) + other(R) + group(Cds-CdsCsH) + other(R) + group(Cds-Cds(Cds-Cds)H) + other(R) + group(Cds-Cds(Cds-Cds)H) + other(R) + group(Cds-Cds(Cds-Cds)H) + other(R) + group(Cds-Cds(Cds-Cds)H) + other(R) + polycyclic(C1C=CC2=CCC=C2C=1)',\n",
      ")\n",
      "H298 = 62.6 kcal/mol\n",
      "S298 = 79.2 cal/mol*K\n",
      "=======================\n"
     ]
    }
   ],
   "source": [
    "# Test that the new group additivity values can estimate the old library ones exactly.\n",
    "\n",
    "for label, entry in thermoLibrary.entries.iteritems():\n",
    "    molecule = entry.item\n",
    "    libraryThermoData = entry.data\n",
    "    \n",
    "    if molecule.getAllPolycyclicVertices():\n",
    "        species = Species(molecule=[molecule])\n",
    "        species.generateResonanceIsomers()\n",
    "        print label\n",
    "        display (species.molecule[0])\n",
    "        print 'Species has {0} resonance isomers'.format(len(species.molecule))\n",
    "        thermoDatabase.findCp0andCpInf(species, libraryThermoData)\n",
    "        estimatedThermo = thermoDatabase.getThermoDataFromGroups(species)\n",
    "        if libraryThermoData.isIdenticalTo(estimatedThermo):\n",
    "            print 'Library thermo data for species {0} matches the estimate from group additivity.'.format(label)\n",
    "            print 'Library thermo data:'\n",
    "            print prettify(repr(libraryThermoData))\n",
    "            displayThermo(libraryThermoData)\n",
    "            print 'Estimated thermo data:'\n",
    "            print prettify(repr(estimatedThermo))\n",
    "            displayThermo(estimatedThermo)\n",
    "        else:\n",
    "            print 'Library thermo data for species {0} does not match the estimate from group additivity'.format(label)\n",
    "            print 'Library thermo data:'\n",
    "            print prettify(repr(libraryThermoData))\n",
    "            displayThermo(libraryThermoData)\n",
    "            print 'Estimated thermo data:'\n",
    "            print prettify(repr(estimatedThermo))\n",
    "            displayThermo(estimatedThermo)\n",
    "            compareThermoData(libraryThermoData,estimatedThermo)\n",
    "        print '======================='"
   ]
  },
  {
   "cell_type": "code",
   "execution_count": null,
   "metadata": {
    "collapsed": false
   },
   "outputs": [],
   "source": [
    "# pdt32 debug\n",
    "m = Molecule(SMILES='CC1C=CC2=CC=CCC21')\n",
    "s = Species(molecule=[m])\n",
    "s.generateResonanceIsomers()\n",
    "print s.molecule\n",
    "thermoDatabase.groups['polycyclic'].descendTree(m,{},None)"
   ]
  }
 ],
 "metadata": {
  "kernelspec": {
   "display_name": "Python 2",
   "language": "python",
   "name": "python2"
  },
  "language_info": {
   "codemirror_mode": {
    "name": "ipython",
    "version": 2
   },
   "file_extension": ".py",
   "mimetype": "text/x-python",
   "name": "python",
   "nbconvert_exporter": "python",
   "pygments_lexer": "ipython2",
   "version": "2.7.11"
  }
 },
 "nbformat": 4,
 "nbformat_minor": 0
}
