{
 "cells": [
  {
   "cell_type": "code",
   "execution_count": 1,
   "metadata": {
    "collapsed": false
   },
   "outputs": [],
   "source": [
    "from rmgpy.data.rmg import RMGDatabase\n",
    "from rmgpy.chemkin import saveChemkinFile, saveSpeciesDictionary\n",
    "from rmgpy.rmg.model import Species\n",
    "from rmgpy import settings\n",
    "from convertKineticsLibraryToTrainingReactions import addAtomLabelsForReaction"
   ]
  },
  {
   "cell_type": "markdown",
   "metadata": {},
   "source": [
    "\n",
    "## load lib_rxn"
   ]
  },
  {
   "cell_type": "code",
   "execution_count": 2,
   "metadata": {
    "collapsed": false
   },
   "outputs": [],
   "source": [
    "database = RMGDatabase()\n",
    "database.load(settings['database.directory'], kineticsFamilies='all', reactionLibraries = ['vinylCPD_H'], kineticsDepositories='all')"
   ]
  },
  {
   "cell_type": "markdown",
   "metadata": {},
   "source": [
    "## generate fam_rxn, spec replacement and get reactionDict"
   ]
  },
  {
   "cell_type": "code",
   "execution_count": 3,
   "metadata": {
    "collapsed": false,
    "scrolled": false
   },
   "outputs": [],
   "source": [
    "reactionDict = {}\n",
    "libraryName = 'vinylCPD_H'\n",
    "kineticLibrary = database.kinetics.libraries[libraryName]\n",
    "for index, entry in kineticLibrary.entries.iteritems():\n",
    "    lib_rxn = entry.item\n",
    "    lib_rxn.kinetics = entry.data \n",
    "    lib_rxn.index = entry.index\n",
    "    if lib_rxn.index in [1,2,4]:\n",
    "        # Let's make RMG try to generate this reaction from the families!\n",
    "        fam_rxn_list = []\n",
    "        rxt_mol_mutation_num = 1\n",
    "        pdt_mol_mutation_num = 1\n",
    "        for reactant in lib_rxn.reactants:\n",
    "            rxt_mol_mutation_num *= len(reactant.molecule)\n",
    "\n",
    "        for product in lib_rxn.products:\n",
    "            pdt_mol_mutation_num *= len(product.molecule)\n",
    "\n",
    "        for mutation_i in range(rxt_mol_mutation_num):\n",
    "            rxts_mol = [spc.molecule[mutation_i%(len(spc.molecule))] for spc in lib_rxn.reactants]\n",
    "            for mutation_j in range(pdt_mol_mutation_num):\n",
    "                pdts_mol = [spc.molecule[mutation_j%(len(spc.molecule))] for spc in lib_rxn.products]\n",
    "                fam_rxn_list.extend(database.kinetics.generateReactionsFromFamilies(\n",
    "                        reactants=rxts_mol, products=pdts_mol))\n",
    "        \n",
    "        \n",
    "        if len(fam_rxn_list) == 1:\n",
    "            fam_rxn = fam_rxn_list[0]\n",
    "            \n",
    "            # danger: the fam_rxn may have switched the reactants with products\n",
    "            # fam_rxn is survived from def filterReactions\n",
    "            # so it's matched with lib_rxn only we have to \n",
    "            # determine the direction\n",
    "            lib_reactants = [r for r in lib_rxn.reactants]        \n",
    "            fam_reactants = [r for r in fam_rxn.reactants]\n",
    "            for lib_reactant in lib_reactants:\n",
    "                for fam_reactant in fam_reactants:\n",
    "                    if lib_reactant.isIsomorphic(fam_reactant):\n",
    "                        fam_reactants.remove(fam_reactant)\n",
    "                        break\n",
    "            \n",
    "            lib_products = [r for r in lib_rxn.products]        \n",
    "            fam_products = [r for r in fam_rxn.products]\n",
    "            for lib_product in lib_products:\n",
    "                for fam_product in fam_products:\n",
    "                    if lib_product.isIsomorphic(fam_product):\n",
    "                        fam_products.remove(fam_product)\n",
    "                        break\n",
    "\n",
    "            forward = not (len(fam_reactants) != 0 or len(fam_products) != 0)\n",
    "            # find the labeled atoms using family and reactants & products from fam_rxn           \n",
    "            addAtomLabelsForReaction(fam_rxn, database)\n",
    "            # species replacement so that labeledAtoms is retored\n",
    "            if forward:\n",
    "                lib_rxn.reactants = fam_rxn.reactants\n",
    "                lib_rxn.products = fam_rxn.products\n",
    "            else:\n",
    "                lib_rxn.reactants = fam_rxn.products\n",
    "                lib_rxn.products = fam_rxn.reactants\n",
    "            if fam_rxn.family in reactionDict:\n",
    "                reactionDict[fam_rxn.family].append(lib_rxn)\n",
    "            else:\n",
    "                reactionDict[fam_rxn.family] = [lib_rxn]\n",
    "\n",
    "#     elif len(rmgReactionList) == 0:\n",
    "#         print reaction\n",
    "#         print 'reactants'\n",
    "#         for reactant in reaction.reactants:\n",
    "#             print reactant.molecule[0].toSMILES()\n",
    "#         print 'products'\n",
    "#         for product in reaction.products:\n",
    "#             print product.molecule[0].toSMILES()\n",
    "#         print \"Sad :( There are no matches.  This is a magic reaction or has chemistry that should be made into a new reaction family\"\n",
    "#     else:\n",
    "#         if rmgReactionList[0].family not in ['Intra_R_Add_Exocyclic','intra_H_migration']:\n",
    "#             print reaction\n",
    "#             for rxn in rmgReactionList:\n",
    "#                 print rxn.family\n",
    "#             print \"There are multiple RMG matches for this reaction. You have to manually create this training reaction\""
   ]
  },
  {
   "cell_type": "code",
   "execution_count": 4,
   "metadata": {
    "collapsed": false,
    "scrolled": false
   },
   "outputs": [
    {
     "name": "stdout",
     "output_type": "stream",
     "text": [
      "R_Addition_MultipleBond\n",
      "1\n",
      " +  <=> \n",
      "1     C u0 p0 c0 {2,S} {3,S} {4,S} {7,S}\n",
      "2     C u0 p0 c0 {1,S} {5,D} {9,S}\n",
      "3     C u0 p0 c0 {1,S} {6,D} {10,S}\n",
      "4  *2 C u0 p0 c0 {1,S} {8,D} {13,S}\n",
      "5     C u0 p0 c0 {2,D} {6,S} {11,S}\n",
      "6     C u0 p0 c0 {3,D} {5,S} {12,S}\n",
      "7     H u0 p0 c0 {1,S}\n",
      "8  *1 C u0 p0 c0 {4,D} {14,S} {15,S}\n",
      "9     H u0 p0 c0 {2,S}\n",
      "10    H u0 p0 c0 {3,S}\n",
      "11    H u0 p0 c0 {5,S}\n",
      "12    H u0 p0 c0 {6,S}\n",
      "13    H u0 p0 c0 {4,S}\n",
      "14    H u0 p0 c0 {8,S}\n",
      "15    H u0 p0 c0 {8,S}\n",
      "\n",
      "R_Addition_MultipleBond\n",
      "2\n",
      " +  <=> \n",
      "1     C u0 p0 c0 {2,S} {3,S} {4,S} {7,S}\n",
      "2     C u0 p0 c0 {1,S} {5,D} {9,S}\n",
      "3     C u0 p0 c0 {1,S} {6,D} {10,S}\n",
      "4  *1 C u0 p0 c0 {1,S} {8,D} {13,S}\n",
      "5     C u0 p0 c0 {2,D} {6,S} {11,S}\n",
      "6     C u0 p0 c0 {3,D} {5,S} {12,S}\n",
      "7     H u0 p0 c0 {1,S}\n",
      "8  *2 C u0 p0 c0 {4,D} {14,S} {15,S}\n",
      "9     H u0 p0 c0 {2,S}\n",
      "10    H u0 p0 c0 {3,S}\n",
      "11    H u0 p0 c0 {5,S}\n",
      "12    H u0 p0 c0 {6,S}\n",
      "13    H u0 p0 c0 {4,S}\n",
      "14    H u0 p0 c0 {8,S}\n",
      "15    H u0 p0 c0 {8,S}\n",
      "\n",
      "R_Addition_MultipleBond\n",
      "4\n",
      " +  <=> \n",
      "1     C u0 p0 c0 {2,S} {3,S} {4,S} {7,S}\n",
      "2  *2 C u0 p0 c0 {1,S} {5,D} {9,S}\n",
      "3     C u0 p0 c0 {1,S} {6,D} {10,S}\n",
      "4     C u0 p0 c0 {1,S} {8,D} {13,S}\n",
      "5  *1 C u0 p0 c0 {2,D} {6,S} {11,S}\n",
      "6     C u0 p0 c0 {3,D} {5,S} {12,S}\n",
      "7     H u0 p0 c0 {1,S}\n",
      "8     C u0 p0 c0 {4,D} {14,S} {15,S}\n",
      "9     H u0 p0 c0 {2,S}\n",
      "10    H u0 p0 c0 {3,S}\n",
      "11    H u0 p0 c0 {5,S}\n",
      "12    H u0 p0 c0 {6,S}\n",
      "13    H u0 p0 c0 {4,S}\n",
      "14    H u0 p0 c0 {8,S}\n",
      "15    H u0 p0 c0 {8,S}\n",
      "\n"
     ]
    }
   ],
   "source": [
    "for fam in reactionDict:\n",
    "    for rxn in reactionDict[fam]:\n",
    "        print fam\n",
    "        print rxn.index\n",
    "        print rxn\n",
    "        print rxn.reactants[0].toAdjacencyList()"
   ]
  },
  {
   "cell_type": "markdown",
   "metadata": {},
   "source": [
    "## get speciesDict\n",
    "\n",
    "### load existing species as an intial speciesDict"
   ]
  },
  {
   "cell_type": "code",
   "execution_count": null,
   "metadata": {
    "collapsed": false
   },
   "outputs": [],
   "source": [
    "import os\n",
    "from rmgpy.data.base import Database\n",
    "\n",
    "training_path = os.path.join(settings['database.directory'], \\\n",
    "                             'kinetics', 'families', 'R_Addition_MultipleBond', 'training')\n",
    "\n",
    "dictionary_file = os.path.join(training_path, 'dictionary.txt')\n",
    "\n",
    "# Load the existing set of the species of the training reactions\n",
    "speciesDict = Database().getSpecies(dictionary_file)\n",
    "print speciesDict.keys()"
   ]
  },
  {
   "cell_type": "markdown",
   "metadata": {},
   "source": [
    "### for one family check uniqueness of each species in the lib_rxns"
   ]
  },
  {
   "cell_type": "code",
   "execution_count": null,
   "metadata": {
    "collapsed": false,
    "scrolled": false
   },
   "outputs": [],
   "source": [
    "familyName = 'R_Addition_MultipleBond'\n",
    "reactions = reactionDict[familyName]\n",
    "\n",
    "for rxn in reactions:\n",
    "    if rxn.index in [1,2]:\n",
    "        print 'before'\n",
    "        print rxn.reactants[0].toAdjacencyList()\n",
    "        for spec in (rxn.reactants + rxn.products):\n",
    "            if spec.molecule[0].getFormula() == 'C7H8':\n",
    "                print spec.toAdjacencyList()\n",
    "                for ex_spec_label in speciesDict:\n",
    "                    ex_spec = speciesDict[ex_spec_label]\n",
    "                    if ex_spec.molecule[0].getFormula() != spec.molecule[0].getFormula():\n",
    "                        continue\n",
    "                    else:\n",
    "                        spec_labeledAtoms = spec.molecule[0].getLabeledAtoms()\n",
    "                        print '#' + str(rxn.index)\n",
    "                        print spec.toAdjacencyList()\n",
    "                        print spec_labeledAtoms\n",
    "                        ex_spec_labeledAtoms = ex_spec.molecule[0].getLabeledAtoms()\n",
    "                        print '# the other'\n",
    "                        print ex_spec.toAdjacencyList()\n",
    "                        print ex_spec_labeledAtoms\n",
    "                        initialMap = {}\n",
    "                        try:\n",
    "                            for atomLabel in spec_labeledAtoms:\n",
    "                                initialMap[spec_labeledAtoms[atomLabel]] = ex_spec_labeledAtoms[atomLabel]\n",
    "                        except KeyError:\n",
    "                            # atom labels did not match, therefore not a match\n",
    "                            continue\n",
    "                        # loop each molecule\n",
    "                        if spec.molecule[0].isIsomorphic(ex_spec.molecule[0],initialMap):\n",
    "                            print 'wrong should not be isomorphic!'\n",
    "                            spec.label = ex_spec.label\n",
    "#                             if spec.molecule[0].getFormula() == 'C7H8':\n",
    "#                                 print spec\n",
    "#                                 print rxn.index\n",
    "#                                 print spec_labeledAtoms\n",
    "#                                 print spec.molecule[0].toAdjacencyList()\n",
    "                            break\n",
    "                else:# no isomorphic existing species found\n",
    "                    spec_formula = spec.molecule[0].getFormula()\n",
    "                    if spec_formula not in speciesDict:\n",
    "                        spec.label = spec_formula\n",
    "                    else:\n",
    "                        index = 2\n",
    "                        while (spec_formula + '-{}'.format(index)) in speciesDict:\n",
    "                            index += 1\n",
    "                        spec.label = spec_formula + '-{}'.format(index)\n",
    "                    speciesDict[spec.label] = spec"
   ]
  },
  {
   "cell_type": "code",
   "execution_count": null,
   "metadata": {
    "collapsed": false
   },
   "outputs": [],
   "source": [
    "print speciesDict['C7H8'].toAdjacencyList()"
   ]
  },
  {
   "cell_type": "code",
   "execution_count": null,
   "metadata": {
    "collapsed": false
   },
   "outputs": [],
   "source": [
    "speciesDict['C7H8'].molecule[0].getLabeledAtoms()"
   ]
  },
  {
   "cell_type": "code",
   "execution_count": null,
   "metadata": {
    "collapsed": true
   },
   "outputs": [],
   "source": [
    "a=[1,2]"
   ]
  },
  {
   "cell_type": "code",
   "execution_count": null,
   "metadata": {
    "collapsed": false
   },
   "outputs": [],
   "source": [
    "a"
   ]
  },
  {
   "cell_type": "code",
   "execution_count": null,
   "metadata": {
    "collapsed": false
   },
   "outputs": [],
   "source": [
    "list(reversed(a))"
   ]
  },
  {
   "cell_type": "code",
   "execution_count": null,
   "metadata": {
    "collapsed": true
   },
   "outputs": [],
   "source": []
  }
 ],
 "metadata": {
  "kernelspec": {
   "display_name": "Python 2",
   "language": "python",
   "name": "python2"
  },
  "language_info": {
   "codemirror_mode": {
    "name": "ipython",
    "version": 2
   },
   "file_extension": ".py",
   "mimetype": "text/x-python",
   "name": "python",
   "nbconvert_exporter": "python",
   "pygments_lexer": "ipython2",
   "version": "2.7.10"
  }
 },
 "nbformat": 4,
 "nbformat_minor": 0
}
