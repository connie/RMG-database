{
 "cells": [
  {
   "cell_type": "code",
   "execution_count": 1,
   "metadata": {
    "collapsed": false
   },
   "outputs": [],
   "source": [
    "from rmgpy.data.rmg import RMGDatabase\n",
    "from rmgpy.chemkin import saveChemkinFile, saveSpeciesDictionary\n",
    "from rmgpy.rmg.model import Species\n",
    "from rmgpy import settings\n",
    "from convertKineticsLibraryToTrainingReactions import addAtomLabelsForReaction"
   ]
  },
  {
   "cell_type": "markdown",
   "metadata": {},
   "source": [
    "\n",
    "## load lib_rxn"
   ]
  },
  {
   "cell_type": "code",
   "execution_count": 2,
   "metadata": {
    "collapsed": false
   },
   "outputs": [],
   "source": [
    "database = RMGDatabase()\n",
    "libraries = ['vinylCPD_H', 'C3', 'C10H11', 'Fulvene_H', 'naphthalene_H']\n",
    "database.load(settings['database.directory'], kineticsFamilies='all', reactionLibraries = libraries, kineticsDepositories='all')"
   ]
  },
  {
   "cell_type": "markdown",
   "metadata": {},
   "source": [
    "## generate fam_rxn, spec replacement and get reactionDict"
   ]
  },
  {
   "cell_type": "code",
   "execution_count": 3,
   "metadata": {
    "collapsed": false,
    "scrolled": false
   },
   "outputs": [],
   "source": [
    "reactionDict = {}\n",
    "for libraryName in libraries:\n",
    "    kineticLibrary = database.kinetics.libraries[libraryName]\n",
    "    for index, entry in kineticLibrary.entries.iteritems():\n",
    "        lib_rxn = entry.item\n",
    "        lib_rxn.kinetics = entry.data \n",
    "        lib_rxn.index = entry.index\n",
    "        # Let's make RMG try to generate this reaction from the families!\n",
    "        fam_rxn_list = []\n",
    "        rxt_mol_mutation_num = 1\n",
    "        pdt_mol_mutation_num = 1\n",
    "        for reactant in lib_rxn.reactants:\n",
    "            rxt_mol_mutation_num *= len(reactant.molecule)\n",
    "\n",
    "        for product in lib_rxn.products:\n",
    "            pdt_mol_mutation_num *= len(product.molecule)\n",
    "\n",
    "        for mutation_i in range(rxt_mol_mutation_num):\n",
    "            rxts_mol = [spc.molecule[mutation_i%(len(spc.molecule))] for spc in lib_rxn.reactants]\n",
    "            pdts_mol = [spc.molecule[0] for spc in lib_rxn.products]\n",
    "            fam_rxn_list.extend(database.kinetics.generateReactionsFromFamilies(\n",
    "                            reactants=rxts_mol, products=pdts_mol))\n",
    "\n",
    "\n",
    "        if len(fam_rxn_list) == 1:\n",
    "            fam_rxn = fam_rxn_list[0]\n",
    "\n",
    "            # danger: the fam_rxn may have switched the reactants with products\n",
    "            # fam_rxn is survived from def filterReactions\n",
    "            # so it's matched with lib_rxn only we have to \n",
    "            # determine the direction\n",
    "            lib_reactants = [r for r in lib_rxn.reactants]        \n",
    "            fam_reactants = [r for r in fam_rxn.reactants]\n",
    "            for lib_reactant in lib_reactants:\n",
    "                for fam_reactant in fam_reactants:\n",
    "                    if lib_reactant.isIsomorphic(fam_reactant):\n",
    "                        fam_reactants.remove(fam_reactant)\n",
    "                        break\n",
    "\n",
    "            lib_products = [r for r in lib_rxn.products]        \n",
    "            fam_products = [r for r in fam_rxn.products]\n",
    "            for lib_product in lib_products:\n",
    "                for fam_product in fam_products:\n",
    "                    if lib_product.isIsomorphic(fam_product):\n",
    "                        fam_products.remove(fam_product)\n",
    "                        break\n",
    "\n",
    "            forward = not (len(fam_reactants) != 0 or len(fam_products) != 0)\n",
    "            # find the labeled atoms using family and reactants & products from fam_rxn           \n",
    "            addAtomLabelsForReaction(fam_rxn, database)\n",
    "            # species replacement so that labeledAtoms is retored\n",
    "            if forward:\n",
    "                lib_rxn.reactants = fam_rxn.reactants\n",
    "                lib_rxn.products = fam_rxn.products\n",
    "            else:\n",
    "                lib_rxn.reactants = fam_rxn.products\n",
    "                lib_rxn.products = fam_rxn.reactants\n",
    "            if fam_rxn.family in reactionDict:\n",
    "                reactionDict[fam_rxn.family].append(lib_rxn)\n",
    "            else:\n",
    "                reactionDict[fam_rxn.family] = [lib_rxn]\n",
    "\n",
    "    #     elif len(rmgReactionList) == 0:\n",
    "    #         print reaction\n",
    "    #         print 'reactants'\n",
    "    #         for reactant in reaction.reactants:\n",
    "    #             print reactant.molecule[0].toSMILES()\n",
    "    #         print 'products'\n",
    "    #         for product in reaction.products:\n",
    "    #             print product.molecule[0].toSMILES()\n",
    "    #         print \"Sad :( There are no matches.  This is a magic reaction or has chemistry that should be made into a new reaction family\"\n",
    "    #     else:\n",
    "    #         if rmgReactionList[0].family not in ['Intra_R_Add_Exocyclic','intra_H_migration']:\n",
    "    #             print reaction\n",
    "    #             for rxn in rmgReactionList:\n",
    "    #                 print rxn.family\n",
    "    #             print \"There are multiple RMG matches for this reaction. You have to manually create this training reaction\""
   ]
  },
  {
   "cell_type": "code",
   "execution_count": null,
   "metadata": {
    "collapsed": true
   },
   "outputs": [],
   "source": [
    "for familyName in reactionDict:\n",
    "    print 'Adding training reactions for family: ' + familyName\n",
    "    kineticFamily = database.kinetics.families[familyName]\n",
    "    trainingDatabase = None\n",
    "    for depository in kineticFamily.depositories:\n",
    "            if depository.label.endswith('training'):\n",
    "                trainingDatabase = depository\n",
    "                break\n",
    "    reactions = reactionDict[familyName]\n",
    "    print 'reactions.py previously has {} rxns. Now adding {} new rxns'.\\\n",
    "    format(len(trainingDatabase.entries.values()), len(reactions))\n",
    "    kineticFamily.saveTrainingReaction(reactions)"
   ]
  },
  {
   "cell_type": "code",
   "execution_count": 4,
   "metadata": {
    "collapsed": false
   },
   "outputs": [
    {
     "name": "stdout",
     "output_type": "stream",
     "text": [
      "Adding training reactions for family: R_Addition_MultipleBond\n",
      "reactions.py previously has 9 rxns. Now adding 38 new rxns\n",
      "Adding training reactions for family: Intra_R_Add_Exocyclic\n",
      "reactions.py previously has 0 rxns. Now adding 2 new rxns\n",
      "Adding training reactions for family: Intra_R_Add_Endocyclic\n",
      "reactions.py previously has 0 rxns. Now adding 12 new rxns\n",
      "Adding training reactions for family: intra_H_migration\n",
      "reactions.py previously has 4 rxns. Now adding 11 new rxns\n",
      "Adding training reactions for family: R_Recombination\n",
      "reactions.py previously has 9 rxns. Now adding 1 new rxns\n",
      "Adding training reactions for family: H_shift_cyclopentadiene\n",
      "reactions.py previously has 0 rxns. Now adding 2 new rxns\n"
     ]
    }
   ],
   "source": [
    "for familyName in reactionDict:\n",
    "    print 'Adding training reactions for family: ' + familyName\n",
    "    kineticFamily = database.kinetics.families[familyName]\n",
    "    trainingDatabase = None\n",
    "    for depository in kineticFamily.depositories:\n",
    "            if depository.label.endswith('training'):\n",
    "                trainingDatabase = depository\n",
    "                break\n",
    "    reactions = reactionDict[familyName]\n",
    "    print 'reactions.py previously has {} rxns. Now adding {} new rxns'.\\\n",
    "    format(len(trainingDatabase.entries.values()), len(reactions))\n",
    "    kineticFamily.saveTrainingReaction(reactions)"
   ]
  },
  {
   "cell_type": "markdown",
   "metadata": {},
   "source": [
    "# How saveTrainingReaction works\n",
    "## get speciesDict\n",
    "\n",
    "### load existing species as an intial speciesDict"
   ]
  },
  {
   "cell_type": "code",
   "execution_count": null,
   "metadata": {
    "collapsed": false
   },
   "outputs": [],
   "source": [
    "import os\n",
    "from rmgpy.data.base import Database\n",
    "\n",
    "training_path = os.path.join(settings['database.directory'], \\\n",
    "                             'kinetics', 'families', 'R_Addition_MultipleBond', 'training')\n",
    "\n",
    "dictionary_file = os.path.join(training_path, 'dictionary.txt')\n",
    "\n",
    "# Load the existing set of the species of the training reactions\n",
    "speciesDict = Database().getSpecies(dictionary_file)"
   ]
  },
  {
   "cell_type": "markdown",
   "metadata": {},
   "source": [
    "### for one family check uniqueness of each species in the lib_rxns"
   ]
  },
  {
   "cell_type": "code",
   "execution_count": null,
   "metadata": {
    "collapsed": false,
    "scrolled": false
   },
   "outputs": [],
   "source": [
    "familyName = 'R_Addition_MultipleBond'\n",
    "print 'Adding training reactions for family: ' + familyName\n",
    "kineticFamily = database.kinetics.families[familyName]\n",
    "reactions = reactionDict[familyName]\n",
    "\n",
    "for rxn in reactions:\n",
    "    for spec in (rxn.reactants + rxn.products):\n",
    "        for ex_spec_label in speciesDict:\n",
    "            ex_spec = speciesDict[ex_spec_label]\n",
    "            if ex_spec.molecule[0].getFormula() != spec.molecule[0].getFormula():\n",
    "                continue\n",
    "            else:\n",
    "                spec_labeledAtoms = spec.molecule[0].getLabeledAtoms()\n",
    "                ex_spec_labeledAtoms = ex_spec.molecule[0].getLabeledAtoms()\n",
    "                initialMap = {}\n",
    "                try:\n",
    "                    for atomLabel in spec_labeledAtoms:\n",
    "                        initialMap[spec_labeledAtoms[atomLabel]] = ex_spec_labeledAtoms[atomLabel]\n",
    "                except KeyError:\n",
    "                    # atom labels did not match, therefore not a match\n",
    "                    continue\n",
    "                if spec.molecule[0].isIsomorphic(ex_spec.molecule[0],initialMap):\n",
    "                    spec.label = ex_spec.label\n",
    "                    break\n",
    "        else:# no isomorphic existing species found\n",
    "            spec_formula = spec.molecule[0].getFormula()\n",
    "            if spec_formula not in speciesDict:\n",
    "                spec.label = spec_formula\n",
    "            else:\n",
    "                index = 2\n",
    "                while (spec_formula + '-{}'.format(index)) in speciesDict:\n",
    "                    index += 1\n",
    "                spec.label = spec_formula + '-{}'.format(index)\n",
    "            speciesDict[spec.label] = spec"
   ]
  },
  {
   "cell_type": "markdown",
   "metadata": {},
   "source": [
    "## save to files\n",
    "\n",
    "Save reactionDict to reactions.py and speciesDict to dictionary.txt"
   ]
  },
  {
   "cell_type": "code",
   "execution_count": null,
   "metadata": {
    "collapsed": false
   },
   "outputs": [],
   "source": [
    "# try to append \n",
    "training_file = open(os.path.join(settings['database.directory'], 'kinetics', 'families', \\\n",
    "            kineticFamily.label, 'training', 'reactions_test.py'), 'a')\n",
    "\n",
    "training_file.write(\"\\n\\n\")"
   ]
  },
  {
   "cell_type": "code",
   "execution_count": null,
   "metadata": {
    "collapsed": true
   },
   "outputs": [],
   "source": [
    "# find the largest reaction index\n",
    "for depository in kineticFamily.depositories:\n",
    "    if depository.label.endswith('training'):\n",
    "        break\n",
    "else:\n",
    "    logging.info('Could not find training depository in family {0}.'.format(kineticFamily.label))\n",
    "    logging.info('Starting a new one')\n",
    "    depository = KineticsDepository()\n",
    "    kineticFamily.depositories.append(depository)\n",
    "\n",
    "trainingDatabase = depository\n",
    "indices = [entry.index for entry in trainingDatabase.entries.values()]\n",
    "if indices:\n",
    "    maxIndex = max(indices)\n",
    "else:\n",
    "    maxIndex = 0"
   ]
  },
  {
   "cell_type": "code",
   "execution_count": null,
   "metadata": {
    "collapsed": false
   },
   "outputs": [],
   "source": [
    "# save reactions.py\n",
    "from rmgpy.data.base import Entry\n",
    "for i, reaction in enumerate(reactions):    \n",
    "    entry = Entry(\n",
    "        index = maxIndex+i+1,\n",
    "        label = str(reaction),\n",
    "        item = reaction,\n",
    "        data = reaction.kinetics,\n",
    "        reference = None,\n",
    "        referenceType = '',\n",
    "        shortDesc = unicode(''),\n",
    "        longDesc = unicode(''),\n",
    "        rank = 3,\n",
    "        )\n",
    "    print reaction\n",
    "    kineticFamily.saveEntry(training_file, entry)\n",
    "\n",
    "training_file.close()"
   ]
  },
  {
   "cell_type": "code",
   "execution_count": null,
   "metadata": {
    "collapsed": true
   },
   "outputs": [],
   "source": [
    "# save dictionary.txt\n",
    "directory_test_file = os.path.join(training_path, 'directory_test.txt')\n",
    "with open(directory_test_file, 'w') as f:\n",
    "    for label in speciesDict.keys():\n",
    "        f.write(speciesDict[label].molecule[0].toAdjacencyList(label=label, removeH=False))\n",
    "        f.write('\\n')\n",
    "f.close()"
   ]
  },
  {
   "cell_type": "code",
   "execution_count": null,
   "metadata": {
    "collapsed": true
   },
   "outputs": [],
   "source": []
  }
 ],
 "metadata": {
  "kernelspec": {
   "display_name": "Python 2",
   "language": "python",
   "name": "python2"
  },
  "language_info": {
   "codemirror_mode": {
    "name": "ipython",
    "version": 2
   },
   "file_extension": ".py",
   "mimetype": "text/x-python",
   "name": "python",
   "nbconvert_exporter": "python",
   "pygments_lexer": "ipython2",
   "version": "2.7.10"
  }
 },
 "nbformat": 4,
 "nbformat_minor": 0
}
