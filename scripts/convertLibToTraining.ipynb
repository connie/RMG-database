{
 "cells": [
  {
   "cell_type": "code",
   "execution_count": 1,
   "metadata": {
    "collapsed": true
   },
   "outputs": [],
   "source": [
    "from rmgpy.data.rmg import RMGDatabase\n",
    "from rmgpy.chemkin import saveChemkinFile, saveSpeciesDictionary\n",
    "from rmgpy.rmg.model import Species"
   ]
  },
  {
   "cell_type": "code",
   "execution_count": 2,
   "metadata": {
    "collapsed": false
   },
   "outputs": [],
   "source": [
    "database = RMGDatabase()\n",
    "database.load('/home/kehang/Code/ipso_training/RMG-database/input', kineticsFamilies='all', kineticsDepositories='all')"
   ]
  },
  {
   "cell_type": "code",
   "execution_count": 6,
   "metadata": {
    "collapsed": false,
    "scrolled": false
   },
   "outputs": [
    {
     "name": "stdout",
     "output_type": "stream",
     "text": [
      "vinylCPD + H <=> addC\n",
      "R_Addition_MultipleBond\n",
      "R_Addition_MultipleBond\n",
      "There are multiple RMG matches for this reaction. You have to manually create this training reaction\n",
      "addC <=> product16\n",
      "Intra_R_Add_Endocyclic\n",
      "Intra_R_Add_Endocyclic\n",
      "Intra_R_Add_Endocyclic\n",
      "Intra_R_Add_Endocyclic\n",
      "There are multiple RMG matches for this reaction. You have to manually create this training reaction\n",
      "addC <=> product6\n",
      "Intra_RH_Add_Endocyclic\n",
      "Intra_R_Add_Endocyclic\n",
      "Intra_RH_Add_Exocyclic\n",
      "There are multiple RMG matches for this reaction. You have to manually create this training reaction\n",
      "product2 <=> BENZENE + CH3\n",
      "R_Addition_MultipleBond\n",
      "R_Addition_MultipleBond\n",
      "There are multiple RMG matches for this reaction. You have to manually create this training reaction\n",
      "product2 <=> TOLUENE + H\n",
      "R_Addition_MultipleBond\n",
      "R_Addition_MultipleBond\n",
      "There are multiple RMG matches for this reaction. You have to manually create this training reaction\n",
      "product10 <=> product11\n",
      "Intra_R_Add_Endocyclic\n",
      "Intra_R_Add_Endocyclic\n",
      "Intra_R_Add_Endocyclic\n",
      "Intra_R_Add_Endocyclic\n",
      "Intra_R_Add_Endocyclic\n",
      "Intra_R_Add_Endocyclic\n",
      "There are multiple RMG matches for this reaction. You have to manually create this training reaction\n",
      "product11 <=> product12\n",
      "Intra_R_Add_Endocyclic\n",
      "Intra_R_Add_Endocyclic\n",
      "Intra_RH_Add_Endocyclic\n",
      "Intra_RH_Add_Endocyclic\n",
      "There are multiple RMG matches for this reaction. You have to manually create this training reaction\n",
      "product4 <=> product16\n",
      "Intra_R_Add_Endocyclic\n",
      "Intra_R_Add_Endocyclic\n",
      "There are multiple RMG matches for this reaction. You have to manually create this training reaction\n",
      "product7 <=> product18\n",
      "reactants\n",
      "CC[C]1C=CC=C1\n",
      "products\n",
      "[CH2]C1(C)C=CC=C1\n",
      "Sad :( There are no matches.  This is a magic reaction or has chemistry that should be made into a new reaction family\n",
      "product20 <=> TOLUENE + H\n",
      "R_Addition_MultipleBond\n",
      "R_Addition_MultipleBond\n",
      "R_Addition_MultipleBond\n",
      "R_Addition_MultipleBond\n",
      "There are multiple RMG matches for this reaction. You have to manually create this training reaction\n",
      "product23 <=> product24\n",
      "Intra_R_Add_Endocyclic\n",
      "Intra_R_Add_Endocyclic\n",
      "Intra_R_Add_Endocyclic\n",
      "Intra_R_Add_Exocyclic\n",
      "Intra_RH_Add_Endocyclic\n",
      "Intra_R_Add_Endocyclic\n",
      "Intra_R_Add_Exocyclic\n",
      "Intra_RH_Add_Endocyclic\n",
      "Intra_R_Add_Endocyclic\n",
      "Intra_R_Add_Exocyclic\n",
      "Intra_RH_Add_Endocyclic\n",
      "Intra_R_Add_Endocyclic\n",
      "There are multiple RMG matches for this reaction. You have to manually create this training reaction\n",
      "product22 <=> product25\n",
      "Intra_R_Add_Endocyclic\n",
      "Intra_R_Add_Endocyclic\n",
      "There are multiple RMG matches for this reaction. You have to manually create this training reaction\n",
      "product25 <=> product26\n",
      "Intra_R_Add_Endocyclic\n",
      "Intra_R_Add_Endocyclic\n",
      "Intra_R_Add_Endocyclic\n",
      "Intra_R_Add_Endocyclic\n",
      "Intra_R_Add_Endocyclic\n",
      "Intra_R_Add_Endocyclic\n",
      "There are multiple RMG matches for this reaction. You have to manually create this training reaction\n",
      "product26 <=> product11\n",
      "Intra_R_Add_Endocyclic\n",
      "Intra_R_Add_Endocyclic\n",
      "Intra_R_Add_Endocyclic\n",
      "Intra_RH_Add_Endocyclic\n",
      "Intra_RH_Add_Endocyclic\n",
      "Intra_RH_Add_Endocyclic\n",
      "Intra_RH_Add_Endocyclic\n",
      "Intra_RH_Add_Endocyclic\n",
      "Intra_RH_Add_Endocyclic\n",
      "There are multiple RMG matches for this reaction. You have to manually create this training reaction\n",
      "FULVENE + CH3 <=> product32\n",
      "R_Addition_MultipleBond\n",
      "R_Addition_MultipleBond\n",
      "R_Addition_MultipleBond\n",
      "There are multiple RMG matches for this reaction. You have to manually create this training reaction\n",
      "FULVENE + CH3 <=> product31\n",
      "R_Addition_MultipleBond\n",
      "R_Addition_MultipleBond\n",
      "There are multiple RMG matches for this reaction. You have to manually create this training reaction\n",
      "product31 <=> product32\n",
      "reactants\n",
      "C=C1[CH]C(C)C=C1\n",
      "products\n",
      "C=C1C=C[CH]C1C\n",
      "Sad :( There are no matches.  This is a magic reaction or has chemistry that should be made into a new reaction family\n",
      "FA + H <=> vinylCPDyl\n",
      "R_Addition_MultipleBond\n",
      "R_Addition_MultipleBond\n",
      "R_Addition_MultipleBond\n",
      "R_Addition_MultipleBond\n",
      "There are multiple RMG matches for this reaction. You have to manually create this training reaction\n"
     ]
    }
   ],
   "source": [
    "reactionDict = {}\n",
    "libraryName = 'vinylCPD_H'\n",
    "kineticLibrary = database.kinetics.libraries[libraryName]\n",
    "for index, entry in kineticLibrary.entries.iteritems():\n",
    "    reaction = entry.item\n",
    "    reaction.kinetics = entry.data    \n",
    "    # Let's make RMG try to generate this reaction from the families!\n",
    "    rmgReactionList = []\n",
    "    rxt_mol_mutation_num = 1\n",
    "    pdt_mol_mutation_num = 1\n",
    "    for reactant in reaction.reactants:\n",
    "        rxt_mol_mutation_num *= len(reactant.molecule)\n",
    "    for product in reaction.products:\n",
    "        pdt_mol_mutation_num *= len(product.molecule)\n",
    "    \n",
    "    for mutation_i in range(rxt_mol_mutation_num):\n",
    "        rxts_mol = [spc.molecule[mutation_i%(len(spc.molecule))] for spc in reaction.reactants]\n",
    "        for mutation_j in range(pdt_mol_mutation_num):\n",
    "            pdts_mol = [spc.molecule[mutation_j%(len(spc.molecule))] for spc in reaction.products]\n",
    "            rmgReactionList.extend(database.kinetics.generateReactionsFromFamilies(\n",
    "                    reactants=rxts_mol, products=pdts_mol))\n",
    "    \n",
    "    if len(rmgReactionList) == 1:\n",
    "        rmgReaction = rmgReactionList[0]\n",
    "        if rmgReaction.family in reactionDict:\n",
    "            reactionDict[rmgReaction.family].append(reaction)\n",
    "        else:\n",
    "            reactionDict[rmgReaction.family] = [reaction]\n",
    "    elif len(rmgReactionList) == 0:\n",
    "        print reaction\n",
    "        print 'reactants'\n",
    "        for reactant in reaction.reactants:\n",
    "            print reactant.molecule[0].toSMILES()\n",
    "        print 'products'\n",
    "        for product in reaction.products:\n",
    "            print product.molecule[0].toSMILES()\n",
    "        print \"Sad :( There are no matches.  This is a magic reaction or has chemistry that should be made into a new reaction family\"\n",
    "    else:\n",
    "        if rmgReactionList[0].family not in ['Intra_R_Add_Exocyclic','intra_H_migration']:\n",
    "            print reaction\n",
    "            for rxn in rmgReactionList:\n",
    "                print rxn.family\n",
    "            print \"There are multiple RMG matches for this reaction. You have to manually create this training reaction\""
   ]
  },
  {
   "cell_type": "code",
   "execution_count": 8,
   "metadata": {
    "collapsed": false
   },
   "outputs": [
    {
     "name": "stdout",
     "output_type": "stream",
     "text": [
      "Adding training reactions for family: R_Addition_MultipleBond\n",
      "vinylCPD + H <=> addA\n"
     ]
    }
   ],
   "source": [
    "for familyName in reactionDict:\n",
    "    print 'Adding training reactions for family: ' + familyName\n",
    "    kineticFamily = database.kinetics.families[familyName]\n",
    "    reactions = reactionDict[familyName]\n",
    "    # save training reactions of one family\n",
    "    kineticFamily.saveTrainingReaction(reactions)\n",
    "    print str(reactions[0])\n",
    "    break"
   ]
  },
  {
   "cell_type": "code",
   "execution_count": null,
   "metadata": {
    "collapsed": true
   },
   "outputs": [],
   "source": []
  }
 ],
 "metadata": {
  "kernelspec": {
   "display_name": "Python 2",
   "language": "python",
   "name": "python2"
  },
  "language_info": {
   "codemirror_mode": {
    "name": "ipython",
    "version": 2
   },
   "file_extension": ".py",
   "mimetype": "text/x-python",
   "name": "python",
   "nbconvert_exporter": "python",
   "pygments_lexer": "ipython2",
   "version": "2.7.10"
  }
 },
 "nbformat": 4,
 "nbformat_minor": 0
}
